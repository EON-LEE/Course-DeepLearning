{
  "nbformat": 4,
  "nbformat_minor": 0,
  "metadata": {
    "colab": {
      "name": "Week13.ipynb",
      "provenance": [],
      "authorship_tag": "ABX9TyOOyZ2UznqUw0QVNCxaRA4y",
      "include_colab_link": true
    },
    "kernelspec": {
      "name": "python3",
      "display_name": "Python 3"
    },
    "language_info": {
      "name": "python"
    }
  },
  "cells": [
    {
      "cell_type": "markdown",
      "metadata": {
        "id": "view-in-github",
        "colab_type": "text"
      },
      "source": [
        "<a href=\"https://colab.research.google.com/github/EON-LEE/Course-DeepLearning/blob/main/Week13.ipynb\" target=\"_parent\"><img src=\"https://colab.research.google.com/assets/colab-badge.svg\" alt=\"Open In Colab\"/></a>"
      ]
    },
    {
      "cell_type": "markdown",
      "source": [
        "딥러닝 13주차 강의"
      ],
      "metadata": {
        "id": "D_YbjaDoaWA7"
      }
    },
    {
      "cell_type": "markdown",
      "source": [
        "# Mnist Classification Using CNN"
      ],
      "metadata": {
        "id": "Nt-oF_9Gkwd5"
      }
    },
    {
      "cell_type": "markdown",
      "source": [
        "## Import"
      ],
      "metadata": {
        "id": "imBOWrALiBx8"
      }
    },
    {
      "cell_type": "code",
      "execution_count": 14,
      "metadata": {
        "id": "uLAd84xWaSU-"
      },
      "outputs": [],
      "source": [
        "# tensorflow 모듈 import \n",
        "import tensorflow as tf\n",
        "# 샘플 이미지 출력\n",
        "import matplotlib.pylab as plt"
      ]
    },
    {
      "cell_type": "markdown",
      "source": [
        "## Dataset Load"
      ],
      "metadata": {
        "id": "5wAl_rGwiBWd"
      }
    },
    {
      "cell_type": "code",
      "source": [
        "\n",
        "# MNIST 손글씨 이미지 데이터 로드\n",
        "mnist = tf.keras.datasets.mnist\n",
        "(x_train, y_train), (x_valid, y_valid) = mnist.load_data()\n",
        "\n",
        "print(x_train.shape, y_train.shape)\n",
        "print(x_valid.shape, y_valid.shape)"
      ],
      "metadata": {
        "colab": {
          "base_uri": "https://localhost:8080/"
        },
        "id": "FcaINblniAy8",
        "outputId": "2da3a98f-74f9-47d2-cb1d-ed2c411ace7c"
      },
      "execution_count": 4,
      "outputs": [
        {
          "output_type": "stream",
          "name": "stdout",
          "text": [
            "(60000, 28, 28) (60000,)\n",
            "(10000, 28, 28) (10000,)\n"
          ]
        }
      ]
    },
    {
      "cell_type": "markdown",
      "source": [
        "## Preprocessing"
      ],
      "metadata": {
        "id": "6VW0iDnOki7j"
      }
    },
    {
      "cell_type": "code",
      "source": [
        "# 정규화(Normalization)\n",
        "x_train = x_train / 255.0\n",
        "x_valid = x_valid / 255.0\n",
        "\n",
        "print(x_train.min(), x_train.max())\n",
        "print(x_valid.min(), x_valid.max())"
      ],
      "metadata": {
        "colab": {
          "base_uri": "https://localhost:8080/"
        },
        "id": "rX2SiLliiI2-",
        "outputId": "a5d53637-bac2-4ce8-8335-fb130812a091"
      },
      "execution_count": 5,
      "outputs": [
        {
          "output_type": "stream",
          "name": "stdout",
          "text": [
            "0.0 1.0\n",
            "0.0 1.0\n"
          ]
        }
      ]
    },
    {
      "cell_type": "code",
      "source": [
        "# 채널 추가\n",
        "print(x_train.shape, x_valid.shape)\n",
        "\n",
        "x_train_in = x_train[..., tf.newaxis]\n",
        "x_valid_in = x_valid[..., tf.newaxis]\n",
        "\n",
        "print(x_train_in.shape, x_valid_in.shape)"
      ],
      "metadata": {
        "colab": {
          "base_uri": "https://localhost:8080/"
        },
        "id": "TbUoQCHDlOJR",
        "outputId": "6d75b357-cfbf-429a-bab2-c405a2cf4d20"
      },
      "execution_count": 9,
      "outputs": [
        {
          "output_type": "stream",
          "name": "stdout",
          "text": [
            "(60000, 28, 28) (10000, 28, 28)\n",
            "(60000, 28, 28, 1) (10000, 28, 28, 1)\n"
          ]
        }
      ]
    },
    {
      "cell_type": "markdown",
      "source": [
        "## Build Model"
      ],
      "metadata": {
        "id": "RqgyEJx-kmLK"
      }
    },
    {
      "cell_type": "code",
      "source": [
        "# Sequential API를 사용하여 샘플 모델 생성\n",
        "model = tf.keras.Sequential([\n",
        "    # Convolution 적용 (32 filters)\n",
        "    tf.keras.layers.Conv2D(32, (3, 3), activation='relu', \n",
        "                           input_shape=(28, 28, 1), name='conv'),\n",
        "    # Max Pooling 적용\n",
        "    tf.keras.layers.MaxPooling2D((2, 2), name='pool'),\n",
        "    # Classifier 출력층 \n",
        "    tf.keras.layers.Flatten(),\n",
        "    tf.keras.layers.Dense(10, activation='softmax'),\n",
        "])"
      ],
      "metadata": {
        "id": "_VA_-bnykrFj"
      },
      "execution_count": 6,
      "outputs": []
    },
    {
      "cell_type": "code",
      "source": [
        "# 모델 컴파일\n",
        "model.compile(optimizer='adam', loss='sparse_categorical_crossentropy', metrics=['accuracy'])"
      ],
      "metadata": {
        "id": "KeAV1EVPk9y6"
      },
      "execution_count": 7,
      "outputs": []
    },
    {
      "cell_type": "markdown",
      "source": [
        "## Training"
      ],
      "metadata": {
        "id": "jvmwu9GUktHR"
      }
    },
    {
      "cell_type": "code",
      "source": [
        "# 모델 훈련\n",
        "history = model.fit(x_train_in, y_train, \n",
        "                    validation_data=(x_valid_in, y_valid), \n",
        "                    epochs=10)"
      ],
      "metadata": {
        "colab": {
          "base_uri": "https://localhost:8080/"
        },
        "id": "gYlm8o6rk8g5",
        "outputId": "30e5f11b-323a-41c4-b7f5-f4f87baa3d89"
      },
      "execution_count": 10,
      "outputs": [
        {
          "output_type": "stream",
          "name": "stdout",
          "text": [
            "Epoch 1/10\n",
            "1875/1875 [==============================] - 20s 10ms/step - loss: 0.2150 - accuracy: 0.9384 - val_loss: 0.0868 - val_accuracy: 0.9743\n",
            "Epoch 2/10\n",
            "1875/1875 [==============================] - 19s 10ms/step - loss: 0.0809 - accuracy: 0.9760 - val_loss: 0.0629 - val_accuracy: 0.9800\n",
            "Epoch 3/10\n",
            "1875/1875 [==============================] - 19s 10ms/step - loss: 0.0616 - accuracy: 0.9818 - val_loss: 0.0582 - val_accuracy: 0.9803\n",
            "Epoch 4/10\n",
            "1875/1875 [==============================] - 19s 10ms/step - loss: 0.0512 - accuracy: 0.9850 - val_loss: 0.0555 - val_accuracy: 0.9821\n",
            "Epoch 5/10\n",
            "1875/1875 [==============================] - 19s 10ms/step - loss: 0.0436 - accuracy: 0.9871 - val_loss: 0.0541 - val_accuracy: 0.9821\n",
            "Epoch 6/10\n",
            "1875/1875 [==============================] - 19s 10ms/step - loss: 0.0368 - accuracy: 0.9890 - val_loss: 0.0527 - val_accuracy: 0.9831\n",
            "Epoch 7/10\n",
            "1875/1875 [==============================] - 19s 10ms/step - loss: 0.0318 - accuracy: 0.9902 - val_loss: 0.0552 - val_accuracy: 0.9818\n",
            "Epoch 8/10\n",
            "1875/1875 [==============================] - 19s 10ms/step - loss: 0.0276 - accuracy: 0.9914 - val_loss: 0.0523 - val_accuracy: 0.9834\n",
            "Epoch 9/10\n",
            "1875/1875 [==============================] - 19s 10ms/step - loss: 0.0230 - accuracy: 0.9929 - val_loss: 0.0567 - val_accuracy: 0.9835\n",
            "Epoch 10/10\n",
            "1875/1875 [==============================] - 19s 10ms/step - loss: 0.0200 - accuracy: 0.9941 - val_loss: 0.0563 - val_accuracy: 0.9834\n"
          ]
        }
      ]
    },
    {
      "cell_type": "markdown",
      "source": [
        "## Evaluation"
      ],
      "metadata": {
        "id": "mjJ7qnzelBny"
      }
    },
    {
      "cell_type": "code",
      "source": [
        "model.evaluate(x_valid_in, y_valid)"
      ],
      "metadata": {
        "colab": {
          "base_uri": "https://localhost:8080/"
        },
        "id": "xTXOX9IslDJ5",
        "outputId": "3a5d5bfe-d13b-4ea5-ef9d-cdeda89a0a7a"
      },
      "execution_count": 11,
      "outputs": [
        {
          "output_type": "stream",
          "name": "stdout",
          "text": [
            "313/313 [==============================] - 1s 4ms/step - loss: 0.0563 - accuracy: 0.9834\n"
          ]
        },
        {
          "output_type": "execute_result",
          "data": {
            "text/plain": [
              "[0.0563371442258358, 0.9833999872207642]"
            ]
          },
          "metadata": {},
          "execution_count": 11
        }
      ]
    },
    {
      "cell_type": "code",
      "source": [
        "def plot_loss_acc(history, epoch):\n",
        "\n",
        "    loss, val_loss = history.history['loss'], history.history['val_loss']\n",
        "    acc, val_acc = history.history['accuracy'], history.history['val_accuracy']\n",
        "\n",
        "    fig, axes = plt.subplots(1, 2, figsize=(12, 4))\n",
        "\n",
        "    axes[0].plot(range(1, epoch + 1), loss, label='Training')\n",
        "    axes[0].plot(range(1, epoch + 1), val_loss, label='Validation')\n",
        "    axes[0].legend(loc='best')\n",
        "    axes[0].set_title('Loss')\n",
        "\n",
        "    axes[1].plot(range(1, epoch + 1), acc, label='Training')\n",
        "    axes[1].plot(range(1, epoch + 1), val_acc, label='Validation')\n",
        "    axes[1].legend(loc='best')\n",
        "    axes[1].set_title('Accuracy')\n",
        "\n",
        "    plt.show()\n",
        "\n",
        "plot_loss_acc(history, 10)"
      ],
      "metadata": {
        "colab": {
          "base_uri": "https://localhost:8080/",
          "height": 281
        },
        "id": "flf9q47jlEtz",
        "outputId": "d4802dc3-50b9-4994-f0ad-2fa9c225fb50"
      },
      "execution_count": 15,
      "outputs": [
        {
          "output_type": "display_data",
          "data": {
            "text/plain": [
              "<Figure size 864x288 with 2 Axes>"
            ],
            "image/png": "[encoded data removed]"
          },
          "metadata": {
            "needs_background": "light"
          }
        }
      ]
    },
    {
      "cell_type": "markdown",
      "source": [
        "## Debug - Layer 시각화"
      ],
      "metadata": {
        "id": "-m7_b3CjlWQZ"
      }
    },
    {
      "cell_type": "code",
      "source": [
        "# 모델 구조 \n",
        "model.summary()"
      ],
      "metadata": {
        "colab": {
          "base_uri": "https://localhost:8080/"
        },
        "id": "WIJQT4LmlVss",
        "outputId": "547b9b9a-cb54-4554-d752-c22c8d42f984"
      },
      "execution_count": 16,
      "outputs": [
        {
          "output_type": "stream",
          "name": "stdout",
          "text": [
            "Model: \"sequential\"\n",
            "_________________________________________________________________\n",
            " Layer (type)                Output Shape              Param #   \n",
            "=================================================================\n",
            " conv (Conv2D)               (None, 26, 26, 32)        320       \n",
            "                                                                 \n",
            " pool (MaxPooling2D)         (None, 13, 13, 32)        0         \n",
            "                                                                 \n",
            " flatten (Flatten)           (None, 5408)              0         \n",
            "                                                                 \n",
            " dense (Dense)               (None, 10)                54090     \n",
            "                                                                 \n",
            "=================================================================\n",
            "Total params: 54,410\n",
            "Trainable params: 54,410\n",
            "Non-trainable params: 0\n",
            "_________________________________________________________________\n"
          ]
        }
      ]
    },
    {
      "cell_type": "code",
      "source": [
        "# 입력 텐서 형태 \n",
        "model.input"
      ],
      "metadata": {
        "colab": {
          "base_uri": "https://localhost:8080/"
        },
        "id": "HqEWAuzhorA2",
        "outputId": "f160698a-018a-4dc9-aad9-1f3378f59bef"
      },
      "execution_count": 17,
      "outputs": [
        {
          "output_type": "execute_result",
          "data": {
            "text/plain": [
              "<KerasTensor: shape=(None, 28, 28, 1) dtype=float32 (created by layer 'conv_input')>"
            ]
          },
          "metadata": {},
          "execution_count": 17
        }
      ]
    },
    {
      "cell_type": "code",
      "source": [
        "# 출력 텐서 형태 \n",
        "model.output"
      ],
      "metadata": {
        "colab": {
          "base_uri": "https://localhost:8080/"
        },
        "id": "k2_wstJ6os-Y",
        "outputId": "ab5ee528-764a-4e1f-9aa5-3cd402365438"
      },
      "execution_count": 18,
      "outputs": [
        {
          "output_type": "execute_result",
          "data": {
            "text/plain": [
              "<KerasTensor: shape=(None, 10) dtype=float32 (created by layer 'dense')>"
            ]
          },
          "metadata": {},
          "execution_count": 18
        }
      ]
    },
    {
      "cell_type": "code",
      "source": [
        "# 레이어 \n",
        "model.layers"
      ],
      "metadata": {
        "colab": {
          "base_uri": "https://localhost:8080/"
        },
        "id": "aX6GydQbo6Fk",
        "outputId": "ae0edfca-2141-4f16-880c-57cd9df61f84"
      },
      "execution_count": 19,
      "outputs": [
        {
          "output_type": "execute_result",
          "data": {
            "text/plain": [
              "[<keras.layers.convolutional.Conv2D at 0x7f186a6b69d0>,\n",
              " <keras.layers.pooling.MaxPooling2D at 0x7f1869861590>,\n",
              " <keras.layers.core.flatten.Flatten at 0x7f1869861fd0>,\n",
              " <keras.layers.core.dense.Dense at 0x7f1869d08790>]"
            ]
          },
          "metadata": {},
          "execution_count": 19
        }
      ]
    },
    {
      "cell_type": "code",
      "source": [
        "# 첫번째 레이어 선택\n",
        "model.layers[0]"
      ],
      "metadata": {
        "colab": {
          "base_uri": "https://localhost:8080/"
        },
        "id": "0sDmbyb4o8Bd",
        "outputId": "acd49ff3-a603-46bd-9abb-c1cb74f61993"
      },
      "execution_count": 20,
      "outputs": [
        {
          "output_type": "execute_result",
          "data": {
            "text/plain": [
              "<keras.layers.convolutional.Conv2D at 0x7f186a6b69d0>"
            ]
          },
          "metadata": {},
          "execution_count": 20
        }
      ]
    },
    {
      "cell_type": "code",
      "source": [
        "# 첫번째 레이어 입력\n",
        "model.layers[0].input"
      ],
      "metadata": {
        "colab": {
          "base_uri": "https://localhost:8080/"
        },
        "id": "3bUHHT6lo95D",
        "outputId": "1821e627-9e2e-4993-e20c-eb0a71278405"
      },
      "execution_count": 21,
      "outputs": [
        {
          "output_type": "execute_result",
          "data": {
            "text/plain": [
              "<KerasTensor: shape=(None, 28, 28, 1) dtype=float32 (created by layer 'conv_input')>"
            ]
          },
          "metadata": {},
          "execution_count": 21
        }
      ]
    },
    {
      "cell_type": "code",
      "source": [
        "# 첫번째 레이어 출력\n",
        "model.layers[0].output"
      ],
      "metadata": {
        "colab": {
          "base_uri": "https://localhost:8080/"
        },
        "id": "MON9J4F4o_Tk",
        "outputId": "cb167fdd-a364-4065-a7df-915773a8cab2"
      },
      "execution_count": 22,
      "outputs": [
        {
          "output_type": "execute_result",
          "data": {
            "text/plain": [
              "<KerasTensor: shape=(None, 26, 26, 32) dtype=float32 (created by layer 'conv')>"
            ]
          },
          "metadata": {},
          "execution_count": 22
        }
      ]
    },
    {
      "cell_type": "code",
      "source": [
        "# 첫번째 레이어 가중치\n",
        "model.layers[0].weights"
      ],
      "metadata": {
        "colab": {
          "base_uri": "https://localhost:8080/"
        },
        "id": "GHrCqaPIpA13",
        "outputId": "eeb16def-a1e8-49de-e2e2-d3141090e419"
      },
      "execution_count": 23,
      "outputs": [
        {
          "output_type": "execute_result",
          "data": {
            "text/plain": [
              "[<tf.Variable 'conv/kernel:0' shape=(3, 3, 1, 32) dtype=float32, numpy=\n",
              " array([[[[ 0.07029902,  0.27966362, -0.692573  , -0.75230676,\n",
              "           -1.0953985 , -0.47225645, -0.10007493, -0.06998134,\n",
              "           -0.5259011 , -0.4136013 , -0.05983668,  0.3498379 ,\n",
              "            0.3780798 , -0.45326456,  0.30585763, -0.85591435,\n",
              "            0.2233776 ,  0.29182342, -0.75104445,  0.44896963,\n",
              "            0.35156786, -0.72721905,  0.27262494, -1.3453225 ,\n",
              "           -0.00895126,  0.09847702,  0.06215843,  0.2300827 ,\n",
              "           -0.5777116 , -0.30639017,  0.25923008, -0.42104217]],\n",
              " \n",
              "         [[ 0.39762378,  0.38155663, -0.599769  , -0.63635004,\n",
              "           -0.03303982,  0.11878478,  0.18175119,  0.87108415,\n",
              "           -0.07818958, -0.14991911, -0.59687185,  0.5712462 ,\n",
              "            0.2201214 ,  0.33401814,  0.40945426, -0.19882874,\n",
              "           -0.38216954,  0.10323902, -1.3589977 , -0.06657505,\n",
              "            0.20912096,  0.16655917,  0.26562756, -0.64606386,\n",
              "            0.20250268,  0.12897353,  0.09005042, -0.12276229,\n",
              "           -0.18812045, -0.00852915, -0.49527615, -0.43923518]],\n",
              " \n",
              "         [[-0.23114896, -0.18022506, -0.6461472 , -0.67381465,\n",
              "            0.12730202,  0.23567155,  0.16096595,  0.8837284 ,\n",
              "            0.1782805 ,  0.09839681, -0.02990932,  0.33592153,\n",
              "           -0.37772998,  0.36794996,  0.49841744,  0.4013582 ,\n",
              "           -0.97740364, -0.26150474, -0.3890368 , -0.7350567 ,\n",
              "           -0.50483334,  0.14282663,  0.13226219, -0.93459815,\n",
              "            0.03480728, -0.24145234,  0.11227733,  0.17502554,\n",
              "            0.15811546, -0.16913831, -0.34094822, -0.0577176 ]]],\n",
              " \n",
              " \n",
              "        [[[-0.2555264 , -0.21521577, -0.9769286 ,  0.157747  ,\n",
              "           -0.61778593, -0.25117967, -0.05433797, -1.1190453 ,\n",
              "            0.15553027,  0.08850946,  0.04409241,  0.174696  ,\n",
              "           -0.11315549, -0.7764071 ,  0.21730658, -0.5012835 ,\n",
              "            0.6292573 ,  0.11353878, -0.7538252 ,  0.21585147,\n",
              "            0.5244885 , -0.73669034, -0.27393866,  0.34935728,\n",
              "           -0.19400033,  0.24824715,  0.07067983, -0.3344857 ,\n",
              "            0.4820394 , -0.01709857,  0.34077105, -0.18409158]],\n",
              " \n",
              "         [[ 0.22137555,  0.05609616, -0.0366014 ,  0.24486797,\n",
              "            0.11661316,  0.2739499 ,  0.45713162, -0.3425829 ,\n",
              "            0.43125257,  0.32805693,  0.19682728,  0.4784242 ,\n",
              "            0.24532898,  0.1987055 ,  0.10217271, -0.02468738,\n",
              "            0.3108347 , -0.08640444,  0.11022573,  0.35547546,\n",
              "           -0.20669161,  0.20291498, -0.14564255,  0.00589398,\n",
              "           -0.10500328,  0.15498154,  0.22389773,  0.09920593,\n",
              "            0.5671411 ,  0.41138795,  0.21581058,  0.32807112]],\n",
              " \n",
              "         [[-0.16932927, -0.00851689,  0.28109306,  0.09506741,\n",
              "            0.3041518 ,  0.10708253, -0.48173717,  0.4670249 ,\n",
              "           -0.01416117,  0.1444027 ,  0.31345204, -0.5283782 ,\n",
              "           -0.02823754,  0.3633867 , -0.10371084,  0.5154854 ,\n",
              "           -0.70022774,  0.08574658,  0.45561916, -0.08010828,\n",
              "           -0.68872523,  0.37654936, -0.36785284, -0.9599344 ,\n",
              "            0.16155593, -0.13473383,  0.3815928 ,  0.02248242,\n",
              "            0.2602201 ,  0.099183  ,  0.06251958,  0.41067392]]],\n",
              " \n",
              " \n",
              "        [[[-0.12516373, -0.33884272,  0.3781956 ,  0.5768577 ,\n",
              "           -0.9016766 ,  0.3412468 ,  0.2181622 , -0.5732163 ,\n",
              "            0.1955932 ,  0.07115892, -0.00361648, -1.3084525 ,\n",
              "           -0.39678574, -0.33112565, -0.60697484, -0.3766329 ,\n",
              "            0.37879652, -0.21724507, -0.92832565, -0.4195268 ,\n",
              "            0.38251793, -0.46135277,  0.04138867,  0.83568513,\n",
              "            0.40874335, -0.551097  , -0.54493636,  0.08169521,\n",
              "           -0.06980856, -0.24778467, -0.1325787 ,  0.30785796]],\n",
              " \n",
              "         [[ 0.21654718,  0.11046458,  0.48749128,  0.34682098,\n",
              "           -0.04523768,  0.25736597,  0.3792171 , -0.8952844 ,\n",
              "           -0.12757204,  0.09279224,  0.30570298, -0.957623  ,\n",
              "            0.1057368 ,  0.34796044, -0.67811793,  0.12337848,\n",
              "            0.594988  ,  0.20512792,  0.12793127,  0.35315815,\n",
              "           -0.13723905,  0.11693181,  0.25166896,  0.577358  ,\n",
              "           -0.3000546 ,  0.21324886, -0.5158345 ,  0.27777117,\n",
              "           -0.3101325 ,  0.26154432,  0.29121795,  0.15809128]],\n",
              " \n",
              "         [[ 0.17714159,  0.27887353,  0.25852203,  0.14993523,\n",
              "            0.4294922 , -0.43318424, -0.704635  , -0.74998343,\n",
              "           -0.427807  , -0.52287304, -0.21607082, -1.193286  ,\n",
              "            0.37754533, -0.07091504, -0.3991328 ,  0.27712998,\n",
              "            0.06333834,  0.28869846,  0.6306143 ,  0.23040088,\n",
              "           -0.2240339 ,  0.17665014,  0.30722234, -0.0797102 ,\n",
              "            0.02516034,  0.22351152,  0.06382086, -0.19924337,\n",
              "           -0.55699724, -0.4724308 , -0.156939  , -0.18182738]]]],\n",
              "       dtype=float32)>,\n",
              " <tf.Variable 'conv/bias:0' shape=(32,) dtype=float32, numpy=\n",
              " array([-0.27616537, -0.2560358 , -0.03862736, -0.04321793, -0.0264694 ,\n",
              "        -0.281566  , -0.2443934 , -0.00567455, -0.12905031, -0.15911123,\n",
              "        -0.0946444 , -0.00753897, -0.29910558, -0.08103938, -0.066444  ,\n",
              "        -0.04489027, -0.23004912, -0.33473462,  0.20174421, -0.401819  ,\n",
              "        -0.18915138, -0.09404989, -0.2654902 ,  0.05073175, -0.18144773,\n",
              "        -0.22430721, -0.19804108, -0.18749698, -0.00868021, -0.00262578,\n",
              "        -0.25883505, -0.19102839], dtype=float32)>]"
            ]
          },
          "metadata": {},
          "execution_count": 23
        }
      ]
    },
    {
      "cell_type": "code",
      "source": [
        "# 샘플 이미지의 레이어별 출력을 리스트에 추가 (첫번째, 두번째 레이어)\n",
        "activator = tf.keras.Model(inputs=model.input, \n",
        "                           outputs=[layer.output for layer in model.layers[:2]] ) \n",
        "activations = activator.predict(x_train_in[0][tf.newaxis, ...]) \n",
        "\n",
        "len(activations)"
      ],
      "metadata": {
        "id": "YzoOVKbqpJ19"
      },
      "execution_count": null,
      "outputs": []
    }
  ]
}