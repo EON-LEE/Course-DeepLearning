{
  "cells": [
    {
      "cell_type": "markdown",
      "metadata": {
        "colab_type": "text",
        "id": "view-in-github"
      },
      "source": [
        "<a href=\"https://colab.research.google.com/github/EON-LEE/Course-DeepLearning/blob/main/Week14.ipynb\" target=\"_parent\"><img src=\"https://colab.research.google.com/assets/colab-badge.svg\" alt=\"Open In Colab\"/></a>"
      ]
    },
    {
      "cell_type": "markdown",
      "metadata": {
        "id": "xGSDJPFZyq7q"
      },
      "source": [
        "# 딥러닝 14주차 강의"
      ]
    },
    {
      "cell_type": "markdown",
      "metadata": {},
      "source": [
        "## 환경설정"
      ]
    },
    {
      "cell_type": "code",
      "execution_count": null,
      "metadata": {},
      "outputs": [],
      "source": [
        "import tensorflow as tf\n",
        "import subprocess\n",
        "import sys\n",
        "\n",
        "# 현재 텐서플로우 버전 확인\n",
        "current_version = tf.__version__\n",
        "desired_version = \"2.18.0\"  # 원하는 버전 지정\n",
        "\n",
        "print(f\"현재 TensorFlow 버전: {current_version}\")\n",
        "print(f\"원하는 TensorFlow 버전: {desired_version}\")\n",
        "\n",
        "# 버전 비교 및 설치\n",
        "if current_version != desired_version:\n",
        "    print(f\"TensorFlow {desired_version}으로 설치를 시작합니다...\")\n",
        "    subprocess.check_call([sys.executable, \"-m\", \"pip\", \"install\", f\"tensorflow=={desired_version}\"])\n",
        "    print(f\"TensorFlow {desired_version} 설치 완료. 코드를 다시 실행하세요.\")\n",
        "else:\n",
        "    print(\"이미 원하는 버전이 설치되어 있습니다.\")"
      ]
    },
    {
      "cell_type": "markdown",
      "metadata": {
        "id": "MusV5YYT6kQF"
      },
      "source": [
        "# 순환 신경망으로 IMDB 리뷰 분류하기"
      ]
    },
    {
      "cell_type": "code",
      "execution_count": 1,
      "metadata": {
        "id": "Ng2PuPGGyF_l"
      },
      "outputs": [],
      "source": [
        "# 실행마다 동일한 결과를 얻기 위해 케라스에 랜덤 시드를 사용하고 텐서플로 연산을 결정적으로 만듭니다. \n",
        "import tensorflow as tf\n",
        "\n",
        "tf.keras.utils.set_random_seed(42)\n",
        "tf.config.experimental.enable_op_determinism()"
      ]
    },
    {
      "cell_type": "markdown",
      "metadata": {
        "id": "S1A-DDIQ6kQQ"
      },
      "source": [
        "## IMDB 리뷰 데이터셋"
      ]
    },
    {
      "cell_type": "markdown",
      "metadata": {
        "id": "f0Nk3gby_-Kv"
      },
      "source": [
        "## Data Load"
      ]
    },
    {
      "cell_type": "code",
      "execution_count": 2,
      "metadata": {
        "colab": {
          "base_uri": "https://localhost:8080/"
        },
        "id": "sZoZm1ZO6kQR",
        "outputId": "e9d3682a-b8a5-4f0f-bcb2-04af80181565"
      },
      "outputs": [
        {
          "name": "stdout",
          "output_type": "stream",
          "text": [
            "Downloading data from https://storage.googleapis.com/tensorflow/tf-keras-datasets/imdb.npz\n",
            "17465344/17464789 [==============================] - 0s 0us/step\n",
            "17473536/17464789 [==============================] - 0s 0us/step\n"
          ]
        }
      ],
      "source": [
        "from tensorflow.keras.datasets import imdb\n",
        "\n",
        "(train_input, train_target), (test_input, test_target) = imdb.load_data(\n",
        "    num_words=500)"
      ]
    },
    {
      "cell_type": "code",
      "execution_count": 3,
      "metadata": {
        "colab": {
          "base_uri": "https://localhost:8080/"
        },
        "id": "SEDs4NzU_rd7",
        "outputId": "a431c5be-7458-4e26-81d0-9d84d8556018"
      },
      "outputs": [
        {
          "name": "stdout",
          "output_type": "stream",
          "text": [
            "훈련용 리뷰 개수 : 25000\n",
            "테스트용 리뷰 개수 : 25000\n",
            "카테고리 : 2\n"
          ]
        }
      ],
      "source": [
        "print('훈련용 리뷰 개수 : {}'.format(len(train_input)))\n",
        "print('테스트용 리뷰 개수 : {}'.format(len(test_input)))\n",
        "num_classes = len(set(train_target))\n",
        "print('카테고리 : {}'.format(num_classes))"
      ]
    },
    {
      "cell_type": "code",
      "execution_count": 4,
      "metadata": {
        "colab": {
          "base_uri": "https://localhost:8080/"
        },
        "id": "RrkPOrly_y7m",
        "outputId": "5d3982c4-87a5-4d84-d31f-6b2a0385c617"
      },
      "outputs": [
        {
          "name": "stdout",
          "output_type": "stream",
          "text": [
            "첫번째 훈련용 리뷰 : [1, 14, 22, 16, 43, 2, 2, 2, 2, 65, 458, 2, 66, 2, 4, 173, 36, 256, 5, 25, 100, 43, 2, 112, 50, 2, 2, 9, 35, 480, 284, 5, 150, 4, 172, 112, 167, 2, 336, 385, 39, 4, 172, 2, 2, 17, 2, 38, 13, 447, 4, 192, 50, 16, 6, 147, 2, 19, 14, 22, 4, 2, 2, 469, 4, 22, 71, 87, 12, 16, 43, 2, 38, 76, 15, 13, 2, 4, 22, 17, 2, 17, 12, 16, 2, 18, 2, 5, 62, 386, 12, 8, 316, 8, 106, 5, 4, 2, 2, 16, 480, 66, 2, 33, 4, 130, 12, 16, 38, 2, 5, 25, 124, 51, 36, 135, 48, 25, 2, 33, 6, 22, 12, 215, 28, 77, 52, 5, 14, 407, 16, 82, 2, 8, 4, 107, 117, 2, 15, 256, 4, 2, 7, 2, 5, 2, 36, 71, 43, 2, 476, 26, 400, 317, 46, 7, 4, 2, 2, 13, 104, 88, 4, 381, 15, 297, 98, 32, 2, 56, 26, 141, 6, 194, 2, 18, 4, 226, 22, 21, 134, 476, 26, 480, 5, 144, 30, 2, 18, 51, 36, 28, 224, 92, 25, 104, 4, 226, 65, 16, 38, 2, 88, 12, 16, 283, 5, 16, 2, 113, 103, 32, 15, 16, 2, 19, 178, 32]\n",
            "첫번째 훈련용 리뷰의 레이블 : 1\n"
          ]
        }
      ],
      "source": [
        "print('첫번째 훈련용 리뷰 :',train_input[0])\n",
        "print('첫번째 훈련용 리뷰의 레이블 :',train_target[0])"
      ]
    },
    {
      "cell_type": "code",
      "execution_count": 5,
      "metadata": {
        "colab": {
          "base_uri": "https://localhost:8080/"
        },
        "id": "4jMLURzw6kQS",
        "outputId": "0784ea04-94ea-4c7d-c3c2-ee5a74714c9d"
      },
      "outputs": [
        {
          "name": "stdout",
          "output_type": "stream",
          "text": [
            "218\n"
          ]
        }
      ],
      "source": [
        "print(len(train_input[0]))"
      ]
    },
    {
      "cell_type": "code",
      "execution_count": 6,
      "metadata": {
        "colab": {
          "base_uri": "https://localhost:8080/"
        },
        "id": "xdO834PL6kQT",
        "outputId": "a37bab7f-a314-4cbb-be0b-4f6ff6c9188b"
      },
      "outputs": [
        {
          "name": "stdout",
          "output_type": "stream",
          "text": [
            "189\n"
          ]
        }
      ],
      "source": [
        "print(len(train_input[1]))"
      ]
    },
    {
      "cell_type": "code",
      "execution_count": 7,
      "metadata": {
        "colab": {
          "base_uri": "https://localhost:8080/"
        },
        "id": "QNuzGQ2c6kQT",
        "outputId": "0ecdd1b2-6a06-4664-ccbf-f2d1ca213ae0"
      },
      "outputs": [
        {
          "name": "stdout",
          "output_type": "stream",
          "text": [
            "[1, 14, 22, 16, 43, 2, 2, 2, 2, 65, 458, 2, 66, 2, 4, 173, 36, 256, 5, 25, 100, 43, 2, 112, 50, 2, 2, 9, 35, 480, 284, 5, 150, 4, 172, 112, 167, 2, 336, 385, 39, 4, 172, 2, 2, 17, 2, 38, 13, 447, 4, 192, 50, 16, 6, 147, 2, 19, 14, 22, 4, 2, 2, 469, 4, 22, 71, 87, 12, 16, 43, 2, 38, 76, 15, 13, 2, 4, 22, 17, 2, 17, 12, 16, 2, 18, 2, 5, 62, 386, 12, 8, 316, 8, 106, 5, 4, 2, 2, 16, 480, 66, 2, 33, 4, 130, 12, 16, 38, 2, 5, 25, 124, 51, 36, 135, 48, 25, 2, 33, 6, 22, 12, 215, 28, 77, 52, 5, 14, 407, 16, 82, 2, 8, 4, 107, 117, 2, 15, 256, 4, 2, 7, 2, 5, 2, 36, 71, 43, 2, 476, 26, 400, 317, 46, 7, 4, 2, 2, 13, 104, 88, 4, 381, 15, 297, 98, 32, 2, 56, 26, 141, 6, 194, 2, 18, 4, 226, 22, 21, 134, 476, 26, 480, 5, 144, 30, 2, 18, 51, 36, 28, 224, 92, 25, 104, 4, 226, 65, 16, 38, 2, 88, 12, 16, 283, 5, 16, 2, 113, 103, 32, 15, 16, 2, 19, 178, 32]\n"
          ]
        }
      ],
      "source": [
        "print(train_input[0])"
      ]
    },
    {
      "cell_type": "code",
      "execution_count": 8,
      "metadata": {
        "colab": {
          "base_uri": "https://localhost:8080/"
        },
        "id": "In8Qzltz6kQT",
        "outputId": "aedb4585-57a1-4a72-e198-54d1c0f53e21"
      },
      "outputs": [
        {
          "name": "stdout",
          "output_type": "stream",
          "text": [
            "[1 0 0 1 0 0 1 0 1 0 1 0 0 0 0 0 1 1 0 1]\n"
          ]
        }
      ],
      "source": [
        "print(train_target[:20])"
      ]
    },
    {
      "cell_type": "code",
      "execution_count": 9,
      "metadata": {
        "id": "0-zjNgBw6kQU"
      },
      "outputs": [],
      "source": [
        "from sklearn.model_selection import train_test_split\n",
        "\n",
        "train_input, val_input, train_target, val_target = train_test_split(\n",
        "    train_input, train_target, test_size=0.2, random_state=42)"
      ]
    },
    {
      "cell_type": "code",
      "execution_count": 10,
      "metadata": {
        "id": "sRVvgntx6kQU"
      },
      "outputs": [],
      "source": [
        "import numpy as np\n",
        "\n",
        "lengths = np.array([len(x) for x in train_input])"
      ]
    },
    {
      "cell_type": "code",
      "execution_count": 11,
      "metadata": {
        "colab": {
          "base_uri": "https://localhost:8080/",
          "height": 302
        },
        "id": "dHrKA2arAcMy",
        "outputId": "ac9d0151-e91a-4aed-90ac-ded2498d79d0"
      },
      "outputs": [
        {
          "name": "stdout",
          "output_type": "stream",
          "text": [
            "리뷰의 최대 길이 : 1854\n",
            "리뷰의 평균 길이 : 239.00925\n"
          ]
        },
        {
          "data": {
            "image/png": "[encoded data removed]",
            "text/plain": [
              "<Figure size 432x288 with 2 Axes>"
            ]
          },
          "metadata": {
            "needs_background": "light"
          },
          "output_type": "display_data"
        }
      ],
      "source": [
        "import matplotlib.pyplot as plt\n",
        "import numpy as np\n",
        "\n",
        "reviews_length = [len(review) for review in train_input]\n",
        "\n",
        "print('리뷰의 최대 길이 : {}'.format(np.max(reviews_length)))\n",
        "print('리뷰의 평균 길이 : {}'.format(np.mean(reviews_length)))\n",
        "\n",
        "plt.subplot(1,2,1)\n",
        "plt.boxplot(reviews_length)\n",
        "plt.subplot(1,2,2)\n",
        "plt.hist(lengths, bins=50)\n",
        "plt.show()"
      ]
    },
    {
      "cell_type": "markdown",
      "metadata": {
        "id": "rIT7zFIiABbV"
      },
      "source": [
        "## Preprocessing"
      ]
    },
    {
      "cell_type": "code",
      "execution_count": 12,
      "metadata": {
        "id": "fbLSFToP6kQV"
      },
      "outputs": [],
      "source": [
        "from tensorflow.keras.preprocessing.sequence import pad_sequences\n",
        "\n",
        "train_seq = pad_sequences(train_input, maxlen=100)"
      ]
    },
    {
      "cell_type": "code",
      "execution_count": 13,
      "metadata": {
        "colab": {
          "base_uri": "https://localhost:8080/"
        },
        "id": "vTSA4EOkDcPu",
        "outputId": "60a333c3-15bb-4c6a-ddba-3331a4f9312d"
      },
      "outputs": [
        {
          "data": {
            "text/plain": [
              "(20000,)"
            ]
          },
          "execution_count": 13,
          "metadata": {},
          "output_type": "execute_result"
        }
      ],
      "source": [
        "train_input.shape"
      ]
    },
    {
      "cell_type": "code",
      "execution_count": 14,
      "metadata": {
        "colab": {
          "base_uri": "https://localhost:8080/"
        },
        "id": "3c86x0Yj6kQV",
        "outputId": "6c6a3ed0-e6a4-42f7-e691-10d9daf16369"
      },
      "outputs": [
        {
          "name": "stdout",
          "output_type": "stream",
          "text": [
            "(20000, 100)\n"
          ]
        }
      ],
      "source": [
        "print(train_seq.shape)"
      ]
    },
    {
      "cell_type": "code",
      "execution_count": 15,
      "metadata": {
        "colab": {
          "base_uri": "https://localhost:8080/"
        },
        "id": "JuP0QJaU6kQW",
        "outputId": "c1817408-e51a-4986-f28e-687f81e6ae3f"
      },
      "outputs": [
        {
          "name": "stdout",
          "output_type": "stream",
          "text": [
            "[ 10   4  20   9   2 364 352   5  45   6   2   2  33 269   8   2 142   2\n",
            "   5   2  17  73  17 204   5   2  19  55   2   2  92  66 104  14  20  93\n",
            "  76   2 151  33   4  58  12 188   2 151  12 215  69 224 142  73 237   6\n",
            "   2   7   2   2 188   2 103  14  31  10  10 451   7   2   5   2  80  91\n",
            "   2  30   2  34  14  20 151  50  26 131  49   2  84  46  50  37  80  79\n",
            "   6   2  46   7  14  20  10  10 470 158]\n"
          ]
        }
      ],
      "source": [
        "print(train_seq[0])"
      ]
    },
    {
      "cell_type": "code",
      "execution_count": 16,
      "metadata": {
        "colab": {
          "base_uri": "https://localhost:8080/"
        },
        "id": "6t8kaDji6kQW",
        "outputId": "d819321a-83ac-43f4-daff-d62b1434cfa4"
      },
      "outputs": [
        {
          "name": "stdout",
          "output_type": "stream",
          "text": [
            "[6, 2, 46, 7, 14, 20, 10, 10, 470, 158]\n"
          ]
        }
      ],
      "source": [
        "print(train_input[0][-10:])"
      ]
    },
    {
      "cell_type": "code",
      "execution_count": 17,
      "metadata": {
        "colab": {
          "base_uri": "https://localhost:8080/"
        },
        "id": "Emmoztwa6kQX",
        "outputId": "df446887-d626-49e6-c250-41d969d5c9bf",
        "scrolled": true
      },
      "outputs": [
        {
          "name": "stdout",
          "output_type": "stream",
          "text": [
            "[  0   0   0   0   1   2 195  19  49   2   2 190   4   2 352   2 183  10\n",
            "  10  13  82  79   4   2  36  71 269   8   2  25  19  49   7   4   2   2\n",
            "   2   2   2  10  10  48  25  40   2  11   2   2  40   2   2   5   4   2\n",
            "   2  95  14 238  56 129   2  10  10  21   2  94 364 352   2   2  11 190\n",
            "  24 484   2   7  94 205 405  10  10  87   2  34  49   2   7   2   2   2\n",
            "   2   2 290   2  46  48  64  18   4   2]\n"
          ]
        }
      ],
      "source": [
        "print(train_seq[5])"
      ]
    },
    {
      "cell_type": "code",
      "execution_count": 18,
      "metadata": {
        "id": "ZeFmsjOd6kQX"
      },
      "outputs": [],
      "source": [
        "val_seq = pad_sequences(val_input, maxlen=100)"
      ]
    },
    {
      "cell_type": "markdown",
      "metadata": {
        "id": "9xab0nu_6kQX"
      },
      "source": [
        "## Build RNN Model"
      ]
    },
    {
      "cell_type": "code",
      "execution_count": 19,
      "metadata": {
        "id": "45BtHGKX6kQX"
      },
      "outputs": [],
      "source": [
        "from tensorflow import keras\n",
        "\n",
        "model = keras.Sequential()\n",
        "\n",
        "model.add(keras.layers.SimpleRNN(8, input_shape=(100, 500)))\n",
        "model.add(keras.layers.Dense(1, activation='sigmoid'))"
      ]
    },
    {
      "cell_type": "code",
      "execution_count": 20,
      "metadata": {
        "colab": {
          "base_uri": "https://localhost:8080/"
        },
        "id": "CFnllOkEaK8V",
        "outputId": "6d76f0f6-092b-4bcf-8f84-d761671f8c1a"
      },
      "outputs": [
        {
          "name": "stdout",
          "output_type": "stream",
          "text": [
            "Model: \"sequential\"\n",
            "_________________________________________________________________\n",
            " Layer (type)                Output Shape              Param #   \n",
            "=================================================================\n",
            " simple_rnn (SimpleRNN)      (None, 8)                 4072      \n",
            "                                                                 \n",
            " dense (Dense)               (None, 1)                 9         \n",
            "                                                                 \n",
            "=================================================================\n",
            "Total params: 4,081\n",
            "Trainable params: 4,081\n",
            "Non-trainable params: 0\n",
            "_________________________________________________________________\n"
          ]
        }
      ],
      "source": [
        "model.summary()"
      ]
    },
    {
      "cell_type": "code",
      "execution_count": 21,
      "metadata": {
        "colab": {
          "base_uri": "https://localhost:8080/",
          "height": 312
        },
        "id": "93aHYBzPaVTV",
        "outputId": "c0dd332f-57a9-4687-c7f6-d28cfd093cbb"
      },
      "outputs": [
        {
          "data": {
            "image/png": "[encoded data removed]",
            "text/plain": [
              "<IPython.core.display.Image object>"
            ]
          },
          "execution_count": 21,
          "metadata": {},
          "output_type": "execute_result"
        }
      ],
      "source": [
        "tf.keras.utils.plot_model(model,  show_shapes=True)"
      ]
    },
    {
      "cell_type": "code",
      "execution_count": null,
      "metadata": {
        "id": "oXIWyOuw6kQY"
      },
      "outputs": [],
      "source": [
        "# 2025/05/05 - 메모리 이슈로 수정\n",
        "\n",
        "# train_oh = keras.utils.to_categorical(train_seq)\n",
        "train_oh = tf.one_hot(train_seq, depth=500)"
      ]
    },
    {
      "cell_type": "code",
      "execution_count": null,
      "metadata": {
        "colab": {
          "base_uri": "https://localhost:8080/"
        },
        "id": "VD94WiRT6kQY",
        "outputId": "d2074cc9-cdb3-4c73-e9ca-1318fdd34034"
      },
      "outputs": [
        {
          "name": "stdout",
          "output_type": "stream",
          "text": [
            "(20000, 100, 500)\n"
          ]
        }
      ],
      "source": [
        "print(train_oh.shape)"
      ]
    },
    {
      "cell_type": "code",
      "execution_count": null,
      "metadata": {
        "colab": {
          "base_uri": "https://localhost:8080/"
        },
        "id": "VIVSHwJg6kQY",
        "outputId": "972653fa-6acd-405d-d1ee-2422708f9863"
      },
      "outputs": [
        {
          "name": "stdout",
          "output_type": "stream",
          "text": [
            "[0. 0. 0. 0. 0. 0. 0. 0. 0. 0. 1. 0.]\n"
          ]
        }
      ],
      "source": [
        "print(train_oh[0][0][:12])"
      ]
    },
    {
      "cell_type": "code",
      "execution_count": null,
      "metadata": {
        "colab": {
          "base_uri": "https://localhost:8080/"
        },
        "id": "CP3ivii46kQZ",
        "outputId": "6a669f1a-41fe-486a-e0e1-bd812d2b7aeb"
      },
      "outputs": [
        {
          "name": "stdout",
          "output_type": "stream",
          "text": [
            "1.0\n"
          ]
        }
      ],
      "source": [
        "print(np.sum(train_oh[0][0]))"
      ]
    },
    {
      "cell_type": "code",
      "execution_count": null,
      "metadata": {
        "id": "vgijH6m26kQZ"
      },
      "outputs": [],
      "source": [
        "# 2025/05/05 - 메모리 이슈로 수정\n",
        "\n",
        "# val_oh = keras.utils.to_categorical(val_seq)\n",
        "val_oh = tf.one_hot(val_seq, depth=500)"
      ]
    },
    {
      "cell_type": "markdown",
      "metadata": {
        "id": "S22Hc-7L6kQZ"
      },
      "source": [
        "## Training"
      ]
    },
    {
      "cell_type": "code",
      "execution_count": null,
      "metadata": {
        "colab": {
          "base_uri": "https://localhost:8080/"
        },
        "id": "YcwM299t6kQZ",
        "outputId": "257518bf-52ab-49d8-aa91-3c2e606ffd74"
      },
      "outputs": [
        {
          "name": "stderr",
          "output_type": "stream",
          "text": [
            "2022-05-19 01:29:41.697697: W tensorflow/core/framework/cpu_allocator_impl.cc:82] Allocation of 4000000000 exceeds 10% of free system memory.\n",
            "2022-05-19 01:29:45.305189: W tensorflow/core/framework/cpu_allocator_impl.cc:82] Allocation of 4000000000 exceeds 10% of free system memory.\n"
          ]
        },
        {
          "name": "stdout",
          "output_type": "stream",
          "text": [
            "Epoch 1/100\n",
            "313/313 [==============================] - 16s 49ms/step - loss: 0.6989 - accuracy: 0.5041 - val_loss: 0.6978 - val_accuracy: 0.5038\n",
            "Epoch 2/100\n",
            "313/313 [==============================] - 13s 40ms/step - loss: 0.6946 - accuracy: 0.5102 - val_loss: 0.6949 - val_accuracy: 0.5102\n",
            "Epoch 3/100\n",
            "313/313 [==============================] - 12s 39ms/step - loss: 0.6920 - accuracy: 0.5200 - val_loss: 0.6930 - val_accuracy: 0.5146\n",
            "Epoch 4/100\n",
            "313/313 [==============================] - 12s 39ms/step - loss: 0.6901 - accuracy: 0.5302 - val_loss: 0.6916 - val_accuracy: 0.5230\n",
            "Epoch 5/100\n",
            "313/313 [==============================] - 13s 41ms/step - loss: 0.6883 - accuracy: 0.5408 - val_loss: 0.6905 - val_accuracy: 0.5270\n",
            "Epoch 6/100\n",
            "313/313 [==============================] - 12s 40ms/step - loss: 0.6866 - accuracy: 0.5472 - val_loss: 0.6894 - val_accuracy: 0.5356\n",
            "Epoch 7/100\n",
            "313/313 [==============================] - 13s 41ms/step - loss: 0.6845 - accuracy: 0.5563 - val_loss: 0.6880 - val_accuracy: 0.5416\n",
            "Epoch 8/100\n",
            "313/313 [==============================] - 12s 39ms/step - loss: 0.6819 - accuracy: 0.5659 - val_loss: 0.6856 - val_accuracy: 0.5482\n",
            "Epoch 9/100\n",
            "313/313 [==============================] - 12s 39ms/step - loss: 0.6777 - accuracy: 0.5828 - val_loss: 0.6807 - val_accuracy: 0.5726\n",
            "Epoch 10/100\n",
            "313/313 [==============================] - 12s 39ms/step - loss: 0.6614 - accuracy: 0.6260 - val_loss: 0.6585 - val_accuracy: 0.6240\n",
            "Epoch 11/100\n",
            "313/313 [==============================] - 12s 39ms/step - loss: 0.6407 - accuracy: 0.6652 - val_loss: 0.6422 - val_accuracy: 0.6584\n",
            "Epoch 12/100\n",
            "313/313 [==============================] - 12s 39ms/step - loss: 0.6274 - accuracy: 0.6837 - val_loss: 0.6299 - val_accuracy: 0.6698\n",
            "Epoch 13/100\n",
            "313/313 [==============================] - 12s 39ms/step - loss: 0.6138 - accuracy: 0.6988 - val_loss: 0.6193 - val_accuracy: 0.6858\n",
            "Epoch 14/100\n",
            "313/313 [==============================] - 12s 39ms/step - loss: 0.6008 - accuracy: 0.7104 - val_loss: 0.6199 - val_accuracy: 0.6698\n",
            "Epoch 15/100\n",
            "313/313 [==============================] - 12s 39ms/step - loss: 0.5892 - accuracy: 0.7188 - val_loss: 0.5971 - val_accuracy: 0.7026\n",
            "Epoch 16/100\n",
            "313/313 [==============================] - 12s 40ms/step - loss: 0.5765 - accuracy: 0.7301 - val_loss: 0.5867 - val_accuracy: 0.7096\n",
            "Epoch 17/100\n",
            "313/313 [==============================] - 13s 40ms/step - loss: 0.5657 - accuracy: 0.7352 - val_loss: 0.5760 - val_accuracy: 0.7204\n",
            "Epoch 18/100\n",
            "313/313 [==============================] - 13s 41ms/step - loss: 0.5549 - accuracy: 0.7454 - val_loss: 0.5649 - val_accuracy: 0.7332\n",
            "Epoch 19/100\n",
            "313/313 [==============================] - 12s 39ms/step - loss: 0.5454 - accuracy: 0.7501 - val_loss: 0.5567 - val_accuracy: 0.7356\n",
            "Epoch 20/100\n",
            "313/313 [==============================] - 13s 41ms/step - loss: 0.5353 - accuracy: 0.7552 - val_loss: 0.5473 - val_accuracy: 0.7416\n",
            "Epoch 21/100\n",
            "313/313 [==============================] - 12s 39ms/step - loss: 0.5259 - accuracy: 0.7626 - val_loss: 0.5372 - val_accuracy: 0.7474\n",
            "Epoch 22/100\n",
            "313/313 [==============================] - 13s 40ms/step - loss: 0.5169 - accuracy: 0.7656 - val_loss: 0.5294 - val_accuracy: 0.7516\n",
            "Epoch 23/100\n",
            "313/313 [==============================] - 12s 39ms/step - loss: 0.5095 - accuracy: 0.7691 - val_loss: 0.5308 - val_accuracy: 0.7488\n",
            "Epoch 24/100\n",
            "313/313 [==============================] - 12s 39ms/step - loss: 0.4996 - accuracy: 0.7755 - val_loss: 0.5206 - val_accuracy: 0.7546\n",
            "Epoch 25/100\n",
            "313/313 [==============================] - 12s 39ms/step - loss: 0.4941 - accuracy: 0.7775 - val_loss: 0.5161 - val_accuracy: 0.7592\n",
            "Epoch 26/100\n",
            "313/313 [==============================] - 13s 41ms/step - loss: 0.4870 - accuracy: 0.7818 - val_loss: 0.5096 - val_accuracy: 0.7598\n",
            "Epoch 27/100\n",
            "313/313 [==============================] - 12s 39ms/step - loss: 0.4817 - accuracy: 0.7847 - val_loss: 0.5041 - val_accuracy: 0.7640\n",
            "Epoch 28/100\n",
            "313/313 [==============================] - 13s 40ms/step - loss: 0.4763 - accuracy: 0.7866 - val_loss: 0.5090 - val_accuracy: 0.7576\n",
            "Epoch 29/100\n",
            "313/313 [==============================] - 13s 40ms/step - loss: 0.4734 - accuracy: 0.7883 - val_loss: 0.5006 - val_accuracy: 0.7636\n",
            "Epoch 30/100\n",
            "313/313 [==============================] - 12s 40ms/step - loss: 0.4681 - accuracy: 0.7911 - val_loss: 0.4994 - val_accuracy: 0.7678\n",
            "Epoch 31/100\n",
            "313/313 [==============================] - 12s 39ms/step - loss: 0.4650 - accuracy: 0.7930 - val_loss: 0.4977 - val_accuracy: 0.7674\n",
            "Epoch 32/100\n",
            "313/313 [==============================] - 13s 41ms/step - loss: 0.4609 - accuracy: 0.7953 - val_loss: 0.4926 - val_accuracy: 0.7698\n",
            "Epoch 33/100\n",
            "313/313 [==============================] - 12s 39ms/step - loss: 0.4565 - accuracy: 0.7997 - val_loss: 0.4908 - val_accuracy: 0.7704\n",
            "Epoch 34/100\n",
            "313/313 [==============================] - 12s 39ms/step - loss: 0.4547 - accuracy: 0.7986 - val_loss: 0.4929 - val_accuracy: 0.7648\n",
            "Epoch 35/100\n",
            "313/313 [==============================] - 12s 39ms/step - loss: 0.4521 - accuracy: 0.8000 - val_loss: 0.4871 - val_accuracy: 0.7722\n",
            "Epoch 36/100\n",
            "313/313 [==============================] - 12s 39ms/step - loss: 0.4489 - accuracy: 0.8030 - val_loss: 0.4852 - val_accuracy: 0.7744\n",
            "Epoch 37/100\n",
            "313/313 [==============================] - 12s 39ms/step - loss: 0.4465 - accuracy: 0.8054 - val_loss: 0.4874 - val_accuracy: 0.7670\n",
            "Epoch 38/100\n",
            "313/313 [==============================] - 12s 39ms/step - loss: 0.4450 - accuracy: 0.8039 - val_loss: 0.4829 - val_accuracy: 0.7734\n",
            "Epoch 39/100\n",
            "313/313 [==============================] - 12s 39ms/step - loss: 0.4428 - accuracy: 0.8058 - val_loss: 0.4822 - val_accuracy: 0.7760\n",
            "Epoch 40/100\n",
            "313/313 [==============================] - 13s 41ms/step - loss: 0.4399 - accuracy: 0.8077 - val_loss: 0.5047 - val_accuracy: 0.7638\n",
            "Epoch 41/100\n",
            "313/313 [==============================] - 12s 39ms/step - loss: 0.4381 - accuracy: 0.8098 - val_loss: 0.4798 - val_accuracy: 0.7796\n",
            "Epoch 42/100\n",
            "313/313 [==============================] - 13s 40ms/step - loss: 0.4368 - accuracy: 0.8094 - val_loss: 0.4810 - val_accuracy: 0.7766\n",
            "Epoch 43/100\n",
            "313/313 [==============================] - 13s 40ms/step - loss: 0.4352 - accuracy: 0.8105 - val_loss: 0.4810 - val_accuracy: 0.7800\n",
            "Epoch 44/100\n",
            "313/313 [==============================] - 12s 40ms/step - loss: 0.4330 - accuracy: 0.8107 - val_loss: 0.4757 - val_accuracy: 0.7778\n",
            "Epoch 45/100\n",
            "313/313 [==============================] - 13s 41ms/step - loss: 0.4315 - accuracy: 0.8122 - val_loss: 0.4832 - val_accuracy: 0.7786\n",
            "Epoch 46/100\n",
            "313/313 [==============================] - 12s 39ms/step - loss: 0.4293 - accuracy: 0.8141 - val_loss: 0.4741 - val_accuracy: 0.7786\n",
            "Epoch 47/100\n",
            "313/313 [==============================] - 12s 40ms/step - loss: 0.4285 - accuracy: 0.8131 - val_loss: 0.4734 - val_accuracy: 0.7760\n",
            "Epoch 48/100\n",
            "313/313 [==============================] - 13s 40ms/step - loss: 0.4266 - accuracy: 0.8152 - val_loss: 0.4728 - val_accuracy: 0.7776\n",
            "Epoch 49/100\n",
            "313/313 [==============================] - 12s 39ms/step - loss: 0.4253 - accuracy: 0.8148 - val_loss: 0.4699 - val_accuracy: 0.7792\n",
            "Epoch 50/100\n",
            "313/313 [==============================] - 12s 39ms/step - loss: 0.4235 - accuracy: 0.8175 - val_loss: 0.4681 - val_accuracy: 0.7824\n",
            "Epoch 51/100\n",
            "313/313 [==============================] - 13s 40ms/step - loss: 0.4223 - accuracy: 0.8170 - val_loss: 0.4685 - val_accuracy: 0.7824\n",
            "Epoch 52/100\n",
            "313/313 [==============================] - 12s 39ms/step - loss: 0.4206 - accuracy: 0.8194 - val_loss: 0.4667 - val_accuracy: 0.7812\n",
            "Epoch 53/100\n",
            "313/313 [==============================] - 12s 39ms/step - loss: 0.4196 - accuracy: 0.8188 - val_loss: 0.4767 - val_accuracy: 0.7806\n",
            "Epoch 54/100\n",
            "313/313 [==============================] - 12s 40ms/step - loss: 0.4186 - accuracy: 0.8191 - val_loss: 0.4655 - val_accuracy: 0.7836\n",
            "Epoch 55/100\n",
            "313/313 [==============================] - 13s 40ms/step - loss: 0.4174 - accuracy: 0.8205 - val_loss: 0.4640 - val_accuracy: 0.7828\n",
            "Epoch 56/100\n",
            "313/313 [==============================] - 12s 39ms/step - loss: 0.4162 - accuracy: 0.8209 - val_loss: 0.4626 - val_accuracy: 0.7852\n",
            "Epoch 57/100\n",
            "313/313 [==============================] - 12s 39ms/step - loss: 0.4148 - accuracy: 0.8205 - val_loss: 0.4615 - val_accuracy: 0.7860\n",
            "Epoch 58/100\n",
            "313/313 [==============================] - 13s 40ms/step - loss: 0.4133 - accuracy: 0.8212 - val_loss: 0.4629 - val_accuracy: 0.7842\n",
            "Epoch 59/100\n",
            "313/313 [==============================] - 12s 39ms/step - loss: 0.4121 - accuracy: 0.8220 - val_loss: 0.4652 - val_accuracy: 0.7830\n",
            "Epoch 60/100\n",
            "313/313 [==============================] - 13s 40ms/step - loss: 0.4113 - accuracy: 0.8225 - val_loss: 0.4619 - val_accuracy: 0.7872\n"
          ]
        }
      ],
      "source": [
        "rmsprop = keras.optimizers.RMSprop(learning_rate=1e-4)\n",
        "model.compile(optimizer=rmsprop, loss='binary_crossentropy', \n",
        "              metrics=['accuracy'])\n",
        "\n",
        "checkpoint_cb = keras.callbacks.ModelCheckpoint('best-simplernn-model.h5', \n",
        "                                                save_best_only=True)\n",
        "early_stopping_cb = keras.callbacks.EarlyStopping(patience=3,\n",
        "                                                  restore_best_weights=True)\n",
        "\n",
        "history = model.fit(train_oh, train_target, epochs=100, batch_size=64,\n",
        "                    validation_data=(val_oh, val_target),\n",
        "                    callbacks=[checkpoint_cb, early_stopping_cb])"
      ]
    },
    {
      "cell_type": "code",
      "execution_count": null,
      "metadata": {
        "colab": {
          "base_uri": "https://localhost:8080/",
          "height": 279
        },
        "id": "YS_5tIG26kQa",
        "outputId": "7affeec2-15fb-4217-daa5-2c8ef2f8a74b"
      },
      "outputs": [
        {
          "data": {
            "image/png": "[encoded data removed]",
            "text/plain": [
              "<Figure size 432x288 with 1 Axes>"
            ]
          },
          "metadata": {
            "needs_background": "light"
          },
          "output_type": "display_data"
        }
      ],
      "source": [
        "plt.plot(history.history['loss'])\n",
        "plt.plot(history.history['val_loss'])\n",
        "plt.xlabel('epoch')\n",
        "plt.ylabel('loss')\n",
        "plt.legend(['train', 'val'])\n",
        "plt.show()"
      ]
    }
  ],
  "metadata": {
    "accelerator": "GPU",
    "colab": {
      "include_colab_link": true,
      "name": "9-2.ipynb",
      "provenance": []
    },
    "gpuClass": "standard",
    "kernelspec": {
      "display_name": "Python 3",
      "name": "python3"
    },
    "language_info": {
      "name": "python"
    }
  },
  "nbformat": 4,
  "nbformat_minor": 0
}
