{
  "cells": [
    {
      "cell_type": "markdown",
      "metadata": {
        "colab_type": "text",
        "id": "view-in-github"
      },
      "source": [
        "<a href=\"https://colab.research.google.com/github/EON-LEE/Course-DeepLearning/blob/main/Week8.ipynb\" target=\"_parent\"><img src=\"https://colab.research.google.com/assets/colab-badge.svg\" alt=\"Open In Colab\"/></a>"
      ]
    },
    {
      "cell_type": "markdown",
      "metadata": {
        "id": "Tkup8dI6yKHC"
      },
      "source": [
        "# 딥러닝 강의 8주차"
      ]
    },
    {
      "cell_type": "markdown",
      "metadata": {},
      "source": [
        "## 환경 설정"
      ]
    },
    {
      "cell_type": "code",
      "execution_count": null,
      "metadata": {},
      "outputs": [],
      "source": [
        "import tensorflow as tf\n",
        "import subprocess\n",
        "import sys\n",
        "\n",
        "# 현재 텐서플로우 버전 확인\n",
        "current_version = tf.__version__\n",
        "desired_version = \"2.18.0\"  # 원하는 버전 지정\n",
        "\n",
        "print(f\"현재 TensorFlow 버전: {current_version}\")\n",
        "print(f\"원하는 TensorFlow 버전: {desired_version}\")\n",
        "\n",
        "# 버전 비교 및 설치\n",
        "if current_version != desired_version:\n",
        "    print(f\"TensorFlow {desired_version}으로 설치를 시작합니다...\")\n",
        "    subprocess.check_call([sys.executable, \"-m\", \"pip\", \"install\", f\"tensorflow=={desired_version}\"])\n",
        "    print(f\"TensorFlow {desired_version} 설치 완료. 코드를 다시 실행하세요.\")\n",
        "else:\n",
        "    print(\"이미 원하는 버전이 설치되어 있습니다.\")"
      ]
    },
    {
      "cell_type": "markdown",
      "metadata": {
        "id": "T9LdTO_3Ire2"
      },
      "source": [
        "## Tensorflow 기초"
      ]
    },
    {
      "cell_type": "markdown",
      "metadata": {
        "id": "XKbUaN2uJeX7"
      },
      "source": [
        "### 0. Tensorflow setting"
      ]
    },
    {
      "cell_type": "code",
      "execution_count": 61,
      "metadata": {
        "id": "HvCanA10JgyV"
      },
      "outputs": [],
      "source": [
        "import tensorflow as tf"
      ]
    },
    {
      "cell_type": "code",
      "execution_count": 62,
      "metadata": {
        "colab": {
          "base_uri": "https://localhost:8080/",
          "height": 35
        },
        "id": "3_HXh0qhFUzh",
        "outputId": "c29b2582-335f-40aa-8ec4-e02540c12491"
      },
      "outputs": [
        {
          "data": {
            "application/vnd.google.colaboratory.intrinsic+json": {
              "type": "string"
            },
            "text/plain": [
              "'2.8.2'"
            ]
          },
          "execution_count": 62,
          "metadata": {},
          "output_type": "execute_result"
        }
      ],
      "source": [
        "tf.__version__"
      ]
    },
    {
      "cell_type": "markdown",
      "metadata": {
        "id": "lwly08sIvVHB"
      },
      "source": [
        "Tensorflow GPU 버전 확인"
      ]
    },
    {
      "cell_type": "code",
      "execution_count": 63,
      "metadata": {
        "colab": {
          "base_uri": "https://localhost:8080/"
        },
        "id": "0EQ_25wwvUAS",
        "outputId": "fcd4a567-553f-4d21-d8d9-25498427f883"
      },
      "outputs": [
        {
          "name": "stdout",
          "output_type": "stream",
          "text": [
            "Found GPU at: /device:GPU:0\n"
          ]
        }
      ],
      "source": [
        "%tensorflow_version 2.x\n",
        "import tensorflow as tf\n",
        "device_name = tf.test.gpu_device_name()\n",
        "if device_name != '/device:GPU:0':\n",
        "  raise SystemError('GPU device not found')\n",
        "print('Found GPU at: {}'.format(device_name))"
      ]
    },
    {
      "cell_type": "markdown",
      "metadata": {},
      "source": []
    },
    {
      "cell_type": "markdown",
      "metadata": {
        "id": "nvXaC3PgJZNs"
      },
      "source": [
        "### 1. eager execution"
      ]
    },
    {
      "cell_type": "code",
      "execution_count": 64,
      "metadata": {
        "colab": {
          "base_uri": "https://localhost:8080/"
        },
        "id": "KfhTPjBUJYvW",
        "outputId": "18ce674f-e6e7-40d3-ae01-0703dd699863"
      },
      "outputs": [
        {
          "name": "stdout",
          "output_type": "stream",
          "text": [
            "True\n"
          ]
        }
      ],
      "source": [
        "print(tf.executing_eagerly())"
      ]
    },
    {
      "cell_type": "code",
      "execution_count": 65,
      "metadata": {
        "colab": {
          "base_uri": "https://localhost:8080/"
        },
        "id": "IVHg5P2WK2gj",
        "outputId": "69b27759-af45-4eba-bce6-544eafe2dbba"
      },
      "outputs": [
        {
          "name": "stdout",
          "output_type": "stream",
          "text": [
            "tf.Tensor(3, shape=(), dtype=int32)\n"
          ]
        }
      ],
      "source": [
        "a = 1\n",
        "b = 2\n",
        "c = tf.math.add(a, b)\n",
        "print(c)"
      ]
    },
    {
      "cell_type": "code",
      "execution_count": 66,
      "metadata": {
        "colab": {
          "base_uri": "https://localhost:8080/"
        },
        "id": "71sr0gYFLlq4",
        "outputId": "a65736a3-07ca-48ac-8d50-45c9f9e20f11"
      },
      "outputs": [
        {
          "data": {
            "text/plain": [
              "3"
            ]
          },
          "execution_count": 66,
          "metadata": {},
          "output_type": "execute_result"
        }
      ],
      "source": [
        "c.numpy()"
      ]
    },
    {
      "cell_type": "markdown",
      "metadata": {
        "id": "qdoEegtBLnWI"
      },
      "source": [
        "### 2. Scalar"
      ]
    },
    {
      "cell_type": "code",
      "execution_count": 67,
      "metadata": {
        "id": "DyhfQWh2LvfQ"
      },
      "outputs": [],
      "source": [
        "import tensorflow as tf"
      ]
    },
    {
      "cell_type": "code",
      "execution_count": 68,
      "metadata": {
        "colab": {
          "base_uri": "https://localhost:8080/"
        },
        "id": "U55VQUccLmyj",
        "outputId": "94bc4041-1cd8-4b06-c6a9-d40a5d8a1270"
      },
      "outputs": [
        {
          "name": "stdout",
          "output_type": "stream",
          "text": [
            "a: tf.Tensor(1, shape=(), dtype=int32)\n",
            "b: tf.Tensor(2, shape=(), dtype=int32)\n"
          ]
        }
      ],
      "source": [
        "# 스칼라 정의하기\n",
        "a = tf.constant(1)\n",
        "b = tf.constant(2)\n",
        "print(\"a:\", a)\n",
        "print(\"b:\", b)"
      ]
    },
    {
      "cell_type": "code",
      "execution_count": 69,
      "metadata": {
        "colab": {
          "base_uri": "https://localhost:8080/"
        },
        "id": "uGsMhMZmNBGn",
        "outputId": "a448aa56-3d95-4b5d-e0f8-7d39f08c7515"
      },
      "outputs": [
        {
          "name": "stdout",
          "output_type": "stream",
          "text": [
            "tf.Tensor(0, shape=(), dtype=int32)\n"
          ]
        }
      ],
      "source": [
        "# 랭크 확인하기\n",
        "print(tf.rank(a))"
      ]
    },
    {
      "cell_type": "code",
      "execution_count": 70,
      "metadata": {
        "colab": {
          "base_uri": "https://localhost:8080/"
        },
        "id": "ZcJeuLfBNEqN",
        "outputId": "1985bf44-dd2b-4ee3-f163-d78eb0a7c97e"
      },
      "outputs": [
        {
          "name": "stdout",
          "output_type": "stream",
          "text": [
            "<dtype: 'float32'>\n",
            "<dtype: 'float32'>\n"
          ]
        }
      ],
      "source": [
        "# 자료형 변환\n",
        "a = tf.cast(a, tf.float32)\n",
        "b = tf.cast(b, tf.float32)\n",
        "print(a.dtype)\n",
        "print(b.dtype)"
      ]
    },
    {
      "cell_type": "code",
      "execution_count": 71,
      "metadata": {
        "colab": {
          "base_uri": "https://localhost:8080/"
        },
        "id": "tE0glFAXPmbb",
        "outputId": "c6799d92-fcfe-4e3f-89d2-fc9b6c7930db"
      },
      "outputs": [
        {
          "name": "stdout",
          "output_type": "stream",
          "text": [
            "result: tf.Tensor(3.0, shape=(), dtype=float32)\n",
            "rank: tf.Tensor(0, shape=(), dtype=int32)\n"
          ]
        }
      ],
      "source": [
        "# 덧셈\n",
        "c = tf.math.add(a, b)\n",
        "print(\"result:\", c)\n",
        "print(\"rank:\", tf.rank(c))"
      ]
    },
    {
      "cell_type": "code",
      "execution_count": 72,
      "metadata": {
        "colab": {
          "base_uri": "https://localhost:8080/"
        },
        "id": "GwpSnp6aPogD",
        "outputId": "5d52f57a-f06e-4ade-ba17-7e36c2d5660b"
      },
      "outputs": [
        {
          "name": "stdout",
          "output_type": "stream",
          "text": [
            "tf.Tensor(-1.0, shape=(), dtype=float32)\n"
          ]
        }
      ],
      "source": [
        "# 뺄셈\n",
        "print( tf.math.subtract(a, b) )"
      ]
    },
    {
      "cell_type": "code",
      "execution_count": 73,
      "metadata": {
        "colab": {
          "base_uri": "https://localhost:8080/"
        },
        "id": "JdoYuy7cPqGD",
        "outputId": "c846d249-cde5-4d55-ef8f-01d6980665a3"
      },
      "outputs": [
        {
          "name": "stdout",
          "output_type": "stream",
          "text": [
            "tf.Tensor(2.0, shape=(), dtype=float32)\n"
          ]
        }
      ],
      "source": [
        "# 곱셈\n",
        "print( tf.math.multiply(a, b) )"
      ]
    },
    {
      "cell_type": "code",
      "execution_count": 74,
      "metadata": {
        "colab": {
          "base_uri": "https://localhost:8080/"
        },
        "id": "29ouJqFOPsux",
        "outputId": "6371e24c-25ef-4261-f09e-337b633d94f4"
      },
      "outputs": [
        {
          "name": "stdout",
          "output_type": "stream",
          "text": [
            "tf.Tensor(0.5, shape=(), dtype=float32)\n"
          ]
        }
      ],
      "source": [
        "# 나눗셈\n",
        "print( tf.math.divide(a, b) )"
      ]
    },
    {
      "cell_type": "code",
      "execution_count": 75,
      "metadata": {
        "colab": {
          "base_uri": "https://localhost:8080/"
        },
        "id": "hwYTZLEYPxMs",
        "outputId": "f14a9fb1-ea7a-4715-b1ae-b96ebd3d823b"
      },
      "outputs": [
        {
          "name": "stdout",
          "output_type": "stream",
          "text": [
            "tf.Tensor(1.0, shape=(), dtype=float32)\n"
          ]
        }
      ],
      "source": [
        "# 나눗셈 (나머지)\n",
        "print( tf.math.mod(a, b) )"
      ]
    },
    {
      "cell_type": "code",
      "execution_count": 76,
      "metadata": {
        "colab": {
          "base_uri": "https://localhost:8080/"
        },
        "id": "PjkRwA7rP2Lf",
        "outputId": "04c3a1a3-3ddc-470e-a4eb-3b354b8d2c90"
      },
      "outputs": [
        {
          "name": "stdout",
          "output_type": "stream",
          "text": [
            "tf.Tensor(0.0, shape=(), dtype=float32)\n"
          ]
        }
      ],
      "source": [
        "# 나눗셈 (몫)\n",
        "print( tf.math.floordiv(a, b) )"
      ]
    },
    {
      "cell_type": "markdown",
      "metadata": {
        "id": "BfHr1DOxQcN7"
      },
      "source": [
        "### 3. Vector"
      ]
    },
    {
      "cell_type": "code",
      "execution_count": 77,
      "metadata": {
        "colab": {
          "base_uri": "https://localhost:8080/"
        },
        "id": "3u9dLQlrQgB3",
        "outputId": "1f76ce79-bdf0-4a42-9b29-e8c96fa3b429"
      },
      "outputs": [
        {
          "name": "stdout",
          "output_type": "stream",
          "text": [
            "vec1: tf.Tensor([10. 20. 30.], shape=(3,), dtype=float32)\n",
            "vec2: tf.Tensor([10. 10. 10.], shape=(3,), dtype=float32)\n"
          ]
        }
      ],
      "source": [
        "# 라이브러리 불러오기\n",
        "import tensorflow as tf\n",
        "import numpy as np\n",
        "\n",
        "# 1차원 배열 정의 \n",
        "py_list = [10., 20., 30.] # 파이썬 리스트 활용\n",
        "num_arr = np.array([10., 10., 10.]) # 넘파이 배열 활용\n",
        "\n",
        "# 텐서 변환\n",
        "vec1 = tf.constant(py_list, dtype=tf.float32)\n",
        "vec2 = tf.constant(num_arr, dtype=tf.float32)\n",
        "\n",
        "# 텐서 출력\n",
        "print(\"vec1:\", vec1)\n",
        "print(\"vec2:\", vec2)"
      ]
    },
    {
      "cell_type": "code",
      "execution_count": 78,
      "metadata": {
        "colab": {
          "base_uri": "https://localhost:8080/"
        },
        "id": "uXUqjmGeS7lq",
        "outputId": "03970ab4-421f-4843-8dca-090e4d84f3a3"
      },
      "outputs": [
        {
          "name": "stdout",
          "output_type": "stream",
          "text": [
            "tf.Tensor(1, shape=(), dtype=int32)\n",
            "tf.Tensor(1, shape=(), dtype=int32)\n"
          ]
        }
      ],
      "source": [
        "# 랭크 확인\n",
        "print(tf.rank(vec1))\n",
        "print(tf.rank(vec2))"
      ]
    },
    {
      "cell_type": "code",
      "execution_count": 79,
      "metadata": {
        "colab": {
          "base_uri": "https://localhost:8080/"
        },
        "id": "YpB0r3noS9aR",
        "outputId": "5ebdec61-ee85-47f0-899f-3db6db3ce385"
      },
      "outputs": [
        {
          "name": "stdout",
          "output_type": "stream",
          "text": [
            "result: tf.Tensor([20. 30. 40.], shape=(3,), dtype=float32)\n",
            "rank: tf.Tensor(1, shape=(), dtype=int32)\n"
          ]
        }
      ],
      "source": [
        "# 덧셈 함수\n",
        "add1 = tf.math.add(vec1, vec2)\n",
        "print(\"result:\", add1)\n",
        "print(\"rank:\", tf.rank(add1))"
      ]
    },
    {
      "cell_type": "code",
      "execution_count": 80,
      "metadata": {
        "colab": {
          "base_uri": "https://localhost:8080/"
        },
        "id": "tZIz8XTmTAMx",
        "outputId": "3d55e964-055c-44aa-9b02-1c087d642f53"
      },
      "outputs": [
        {
          "name": "stdout",
          "output_type": "stream",
          "text": [
            "result: tf.Tensor([20. 30. 40.], shape=(3,), dtype=float32)\n",
            "rank: tf.Tensor(1, shape=(), dtype=int32)\n"
          ]
        }
      ],
      "source": [
        "# 덧셈 연산자\n",
        "add2 = vec1 + vec2\n",
        "print(\"result:\", add2)\n",
        "print(\"rank:\", tf.rank(add2))"
      ]
    },
    {
      "cell_type": "code",
      "execution_count": 81,
      "metadata": {
        "colab": {
          "base_uri": "https://localhost:8080/"
        },
        "id": "5uXxHbKhTDuv",
        "outputId": "b8a5b9b7-9a06-4456-841b-35b54857c127"
      },
      "outputs": [
        {
          "name": "stdout",
          "output_type": "stream",
          "text": [
            "tf.Tensor([ 0. 10. 20.], shape=(3,), dtype=float32)\n",
            "tf.Tensor([100. 200. 300.], shape=(3,), dtype=float32)\n",
            "tf.Tensor([1. 2. 3.], shape=(3,), dtype=float32)\n",
            "tf.Tensor([0. 0. 0.], shape=(3,), dtype=float32)\n",
            "tf.Tensor([1. 2. 3.], shape=(3,), dtype=float32)\n"
          ]
        }
      ],
      "source": [
        "# tf.math 모듈 함수\n",
        "print(tf.math.subtract(vec1, vec2))\n",
        "print(tf.math.multiply(vec1, vec2))\n",
        "print(tf.math.divide(vec1, vec2))\n",
        "print(tf.math.mod(vec1, vec2))\n",
        "print(tf.math.floordiv(vec1, vec2))"
      ]
    },
    {
      "cell_type": "code",
      "execution_count": 82,
      "metadata": {
        "colab": {
          "base_uri": "https://localhost:8080/"
        },
        "id": "e3rImd7FTIuO",
        "outputId": "ee834f6a-f646-48f2-a6a8-a55341db5157"
      },
      "outputs": [
        {
          "name": "stdout",
          "output_type": "stream",
          "text": [
            "tf.Tensor([ 0. 10. 20.], shape=(3,), dtype=float32)\n",
            "tf.Tensor([100. 200. 300.], shape=(3,), dtype=float32)\n",
            "tf.Tensor([1. 2. 3.], shape=(3,), dtype=float32)\n",
            "tf.Tensor([0. 0. 0.], shape=(3,), dtype=float32)\n",
            "tf.Tensor([1. 2. 3.], shape=(3,), dtype=float32)\n"
          ]
        }
      ],
      "source": [
        "# 파이썬 연산자\n",
        "print(vec1 - vec2)\n",
        "print(vec1 * vec2)\n",
        "print(vec1 / vec2)\n",
        "print(vec1 % vec2)\n",
        "print(vec1 // vec2)"
      ]
    },
    {
      "cell_type": "code",
      "execution_count": 83,
      "metadata": {
        "colab": {
          "base_uri": "https://localhost:8080/"
        },
        "id": "7WYGUpNHTcYh",
        "outputId": "b04cd7d9-9602-4c6f-e795-8a7f7606d59c"
      },
      "outputs": [
        {
          "name": "stdout",
          "output_type": "stream",
          "text": [
            "tf.Tensor(60.0, shape=(), dtype=float32)\n",
            "tf.Tensor(30.0, shape=(), dtype=float32)\n"
          ]
        }
      ],
      "source": [
        "# 합계 구하기\n",
        "print ( tf.reduce_sum(vec1) )\n",
        "print ( tf.reduce_sum(vec2) )"
      ]
    },
    {
      "cell_type": "code",
      "execution_count": 84,
      "metadata": {
        "colab": {
          "base_uri": "https://localhost:8080/"
        },
        "id": "7W6Ev8zOTeyU",
        "outputId": "f77f8419-767d-48c9-9daf-981bfeae3bb0"
      },
      "outputs": [
        {
          "name": "stdout",
          "output_type": "stream",
          "text": [
            "tf.Tensor([100. 400. 900.], shape=(3,), dtype=float32)\n"
          ]
        }
      ],
      "source": [
        "# 거듭제곱\n",
        "print( tf.math.square(vec1) )"
      ]
    },
    {
      "cell_type": "code",
      "execution_count": 85,
      "metadata": {
        "colab": {
          "base_uri": "https://localhost:8080/"
        },
        "id": "pACFmtvyTgmK",
        "outputId": "9fc1f35e-e96f-4cb9-da65-d11f06b0cae8"
      },
      "outputs": [
        {
          "name": "stdout",
          "output_type": "stream",
          "text": [
            "tf.Tensor([ 99.99999 400.      899.99994], shape=(3,), dtype=float32)\n"
          ]
        }
      ],
      "source": [
        "# 거듭제곱 (파이썬 연산자)\n",
        "print(vec1**2)"
      ]
    },
    {
      "cell_type": "code",
      "execution_count": 86,
      "metadata": {
        "colab": {
          "base_uri": "https://localhost:8080/"
        },
        "id": "xUzxpEq6Tqcp",
        "outputId": "f1e052ae-83d2-4848-c636-c27b9e43ec1f"
      },
      "outputs": [
        {
          "name": "stdout",
          "output_type": "stream",
          "text": [
            "tf.Tensor([3.1622777 3.1622777 3.1622777], shape=(3,), dtype=float32)\n"
          ]
        }
      ],
      "source": [
        "# 제곱근\n",
        "print( tf.math.sqrt(vec2) )"
      ]
    },
    {
      "cell_type": "code",
      "execution_count": 87,
      "metadata": {
        "colab": {
          "base_uri": "https://localhost:8080/"
        },
        "id": "78mPwGyxTsit",
        "outputId": "e46a7bae-8c64-4429-95c7-b71741bdab53"
      },
      "outputs": [
        {
          "name": "stdout",
          "output_type": "stream",
          "text": [
            "tf.Tensor([3.1622777 3.1622777 3.1622777], shape=(3,), dtype=float32)\n"
          ]
        }
      ],
      "source": [
        "# 제곱근 (파이썬 연산자)\n",
        "print( vec2**0.5 )"
      ]
    },
    {
      "cell_type": "markdown",
      "metadata": {
        "id": "Gm8lGPNhVDzS"
      },
      "source": [
        "### 4. Matrix"
      ]
    },
    {
      "cell_type": "code",
      "execution_count": 89,
      "metadata": {
        "colab": {
          "base_uri": "https://localhost:8080/"
        },
        "id": "nRocrzoVVHT0",
        "outputId": "7a19058e-4fc1-4a48-b0fc-a3bc56ffe76d"
      },
      "outputs": [
        {
          "name": "stdout",
          "output_type": "stream",
          "text": [
            "rank: tf.Tensor(2, shape=(), dtype=int32)\n",
            "mat1: tf.Tensor(\n",
            "[[10 20]\n",
            " [30 40]], shape=(2, 2), dtype=int32)\n"
          ]
        }
      ],
      "source": [
        "# 2차원 배열 정의\n",
        "list_of_list = [[10, 20], [30, 40]] \n",
        "\n",
        "# 텐서 변환 - constant 함수에 2차원 배열 입력\n",
        "mat1 = tf.constant(list_of_list)\n",
        "\n",
        "# 랭크 확인\n",
        "print(\"rank:\", tf.rank(mat1))\n",
        "\n",
        "# 텐서 출력\n",
        "print(\"mat1:\", mat1)"
      ]
    },
    {
      "cell_type": "code",
      "execution_count": 122,
      "metadata": {
        "colab": {
          "base_uri": "https://localhost:8080/"
        },
        "id": "gxkeqLVpVdgl",
        "outputId": "06bcd31e-6b6d-47ee-bfd8-519aa17cf1f6"
      },
      "outputs": [
        {
          "name": "stdout",
          "output_type": "stream",
          "text": [
            "rank: tf.Tensor(2, shape=(), dtype=int32)\n",
            "mat2: tf.Tensor(\n",
            "[[ 1  0]\n",
            " [-1  2]], shape=(2, 2), dtype=int32)\n"
          ]
        }
      ],
      "source": [
        "# 1차원 벡터 정의\n",
        "vec1 = tf.constant([1, 0])\n",
        "vec2 = tf.constant([-1, 2])\n",
        "\n",
        "# 텐서 변환 - stack 함수로 1차원 배열을 위아래로 쌓기\n",
        "mat2 = tf.stack([vec1, vec2])\n",
        "\n",
        "# 랭크 확인\n",
        "print(\"rank:\", tf.rank(mat2))\n",
        "\n",
        "# 텐서 출력하기\n",
        "print(\"mat2:\", mat2)"
      ]
    },
    {
      "cell_type": "code",
      "execution_count": 93,
      "metadata": {
        "colab": {
          "base_uri": "https://localhost:8080/"
        },
        "id": "_3fiQJpMVsGr",
        "outputId": "de0e4dab-b451-4007-d9b5-9f8a0a5a8280"
      },
      "outputs": [
        {
          "name": "stdout",
          "output_type": "stream",
          "text": [
            "result: tf.Tensor(\n",
            "[[-10  40]\n",
            " [-10  80]], shape=(2, 2), dtype=int32)\n",
            "rank: tf.Tensor(2, shape=(), dtype=int32)\n"
          ]
        }
      ],
      "source": [
        "# 행렬곱 연산\n",
        "mat_mul = tf.matmul(mat1, mat2)\n",
        "print(\"result:\", mat_mul)\n",
        "print(\"rank:\", tf.rank(mat_mul))"
      ]
    },
    {
      "cell_type": "code",
      "execution_count": 91,
      "metadata": {
        "colab": {
          "base_uri": "https://localhost:8080/"
        },
        "id": "7X2TDxSSViO1",
        "outputId": "5eb2c034-5424-4a03-9360-683c4ca576ed"
      },
      "outputs": [
        {
          "name": "stdout",
          "output_type": "stream",
          "text": [
            "result: tf.Tensor(\n",
            "[[ 10   0]\n",
            " [-30  80]], shape=(2, 2), dtype=int32)\n",
            "rank: tf.Tensor(2, shape=(), dtype=int32)\n"
          ]
        }
      ],
      "source": [
        "# element-by-element 연산\n",
        "element_mul = tf.math.multiply(mat1, mat2)\n",
        "print(\"result:\", element_mul)\n",
        "print(\"rank:\", tf.rank(element_mul))"
      ]
    },
    {
      "cell_type": "code",
      "execution_count": 94,
      "metadata": {
        "colab": {
          "base_uri": "https://localhost:8080/"
        },
        "id": "WMgtRl-oVu91",
        "outputId": "62eb78fe-0d1e-4320-de21-33116fbaba11"
      },
      "outputs": [
        {
          "name": "stdout",
          "output_type": "stream",
          "text": [
            "result: tf.Tensor(\n",
            "[[11 20]\n",
            " [29 42]], shape=(2, 2), dtype=int32)\n",
            "rank: tf.Tensor(2, shape=(), dtype=int32)\n"
          ]
        }
      ],
      "source": [
        "# 덧셈 연산\n",
        "add1 = tf.math.add(mat1, mat2)\n",
        "print(\"result:\", add1)\n",
        "print(\"rank:\", tf.rank(add1))"
      ]
    },
    {
      "cell_type": "code",
      "execution_count": 95,
      "metadata": {
        "colab": {
          "base_uri": "https://localhost:8080/"
        },
        "id": "rRNO_tWxWGus",
        "outputId": "a545b4c8-5bf5-40e6-81c4-15c8be764326"
      },
      "outputs": [
        {
          "name": "stdout",
          "output_type": "stream",
          "text": [
            "result: tf.Tensor(\n",
            "[[11 20]\n",
            " [29 42]], shape=(2, 2), dtype=int32)\n",
            "rank: tf.Tensor(2, shape=(), dtype=int32)\n"
          ]
        }
      ],
      "source": [
        "# 덧셈 연산자\n",
        "add2 = mat1 + mat2\n",
        "print(\"result:\", add2)\n",
        "print(\"rank:\", tf.rank(add2))"
      ]
    },
    {
      "cell_type": "code",
      "execution_count": 96,
      "metadata": {
        "colab": {
          "base_uri": "https://localhost:8080/"
        },
        "id": "IqsX4N02WH6a",
        "outputId": "42ff2bda-b956-4914-d102-7a13860a1442"
      },
      "outputs": [
        {
          "name": "stdout",
          "output_type": "stream",
          "text": [
            "<class 'numpy.ndarray'>\n",
            "[[-10  40]\n",
            " [-10  80]]\n"
          ]
        }
      ],
      "source": [
        "# 텐서를 넘파이로 변환\n",
        "np_arr = mat_mul.numpy()\n",
        "print(type(np_arr))\n",
        "print(np_arr)"
      ]
    },
    {
      "cell_type": "markdown",
      "metadata": {
        "id": "01iRZX8LWK-O"
      },
      "source": [
        "### 5. Tensor"
      ]
    },
    {
      "cell_type": "code",
      "execution_count": 97,
      "metadata": {
        "colab": {
          "base_uri": "https://localhost:8080/"
        },
        "id": "r9HLTHmDWH4N",
        "outputId": "d6bd1c54-10ca-4182-91c1-4020e978b518"
      },
      "outputs": [
        {
          "name": "stdout",
          "output_type": "stream",
          "text": [
            "rank: tf.Tensor(3, shape=(), dtype=int32)\n",
            "tensor1: tf.Tensor(\n",
            "[[[ 1  2  3  4]\n",
            "  [ 5  6  7  8]]\n",
            "\n",
            " [[ 9 10 11 12]\n",
            "  [13 14 15 16]]\n",
            "\n",
            " [[17 18 19 20]\n",
            "  [21 22 23 24]]], shape=(3, 2, 4), dtype=int32)\n"
          ]
        }
      ],
      "source": [
        "# 2차원 배열 정의\n",
        "mat1 = [[1, 2, 3, 4], \n",
        "        [5, 6, 7, 8]]\n",
        " \n",
        "mat2 = [[9, 10, 11, 12],\n",
        "        [13, 14, 15, 16]]   \n",
        "\n",
        "mat3 = [[17, 18, 19, 20],\n",
        "        [21, 22, 23, 24]]    \n",
        "\n",
        "# 텐서 변환 - constant 함수에 3차원 배열 입력\n",
        "tensor1 = tf.constant([mat1, mat2, mat3])\n",
        "\n",
        "# 랭크 확인\n",
        "print(\"rank:\", tf.rank(tensor1))\n",
        "\n",
        "# 텐서 출력\n",
        "print(\"tensor1:\", tensor1)"
      ]
    },
    {
      "cell_type": "code",
      "execution_count": 98,
      "metadata": {
        "colab": {
          "base_uri": "https://localhost:8080/"
        },
        "id": "v11v80Q7WYAY",
        "outputId": "0478ec85-e2cb-4485-c114-3261316ef14c"
      },
      "outputs": [
        {
          "name": "stdout",
          "output_type": "stream",
          "text": [
            "rank: tf.Tensor(3, shape=(), dtype=int32)\n",
            "tensor2: tf.Tensor(\n",
            "[[[ 1  2  3  4]\n",
            "  [ 5  6  7  8]]\n",
            "\n",
            " [[ 9 10 11 12]\n",
            "  [13 14 15 16]]\n",
            "\n",
            " [[17 18 19 20]\n",
            "  [21 22 23 24]]], shape=(3, 2, 4), dtype=int32)\n"
          ]
        }
      ],
      "source": [
        "# 텐서 변환 - stack 함수로 2차원 배열을 위아래로 쌓기\n",
        "tensor2 = tf.stack([mat1, mat2, mat3])\n",
        "\n",
        "# 랭크 확인\n",
        "print(\"rank:\", tf.rank(tensor2))\n",
        "\n",
        "# 텐서 출력\n",
        "print(\"tensor2:\", tensor2)"
      ]
    },
    {
      "cell_type": "code",
      "execution_count": 99,
      "metadata": {
        "colab": {
          "base_uri": "https://localhost:8080/"
        },
        "id": "vV8B2RvcWaAW",
        "outputId": "5af27bc1-c021-42ff-9aca-b39e61021575"
      },
      "outputs": [
        {
          "name": "stdout",
          "output_type": "stream",
          "text": [
            "rank: tf.Tensor(3, shape=(), dtype=int32)\n",
            "tensor3: tf.Tensor(\n",
            "[[[ 1  2  3  4]\n",
            "  [ 5  6  7  8]]\n",
            "\n",
            " [[ 9 10 11 12]\n",
            "  [13 14 15 16]]\n",
            "\n",
            " [[17 18 19 20]\n",
            "  [21 22 23 24]]], shape=(3, 2, 4), dtype=int32)\n"
          ]
        }
      ],
      "source": [
        "# 1차원 배열 정의\n",
        "vec1 = [1, 2, 3, 4] \n",
        "vec2 = [5, 6, 7, 8] \n",
        "vec3 = [9, 10, 11, 12]  \n",
        "vec4 = [13, 14, 15, 16] \n",
        "vec5 = [17, 18, 19, 20] \n",
        "vec6 = [21, 22, 23, 24] \n",
        "\n",
        "# 1차원 배열을 원소로 갖는 2차원 배열 정의\n",
        "arr = [[vec1, vec2],\n",
        "        [vec3, vec4],\n",
        "        [vec5, vec6]]\n",
        "\n",
        "# 텐서 변환\n",
        "tensor3 = tf.constant(arr)\n",
        "\n",
        "# 랭크 확인\n",
        "print(\"rank:\", tf.rank(tensor3))\n",
        "\n",
        "# 텐서 출력\n",
        "print(\"tensor3:\", tensor3)"
      ]
    },
    {
      "cell_type": "code",
      "execution_count": 100,
      "metadata": {
        "colab": {
          "base_uri": "https://localhost:8080/"
        },
        "id": "11At4Px2Wcew",
        "outputId": "c652e81a-957d-4aeb-cdd3-f4d3f1b11c09"
      },
      "outputs": [
        {
          "name": "stdout",
          "output_type": "stream",
          "text": [
            "rank: tf.Tensor(4, shape=(), dtype=int32)\n",
            "tensor4: tf.Tensor(\n",
            "[[[[ 1  2  3  4]\n",
            "   [ 5  6  7  8]]\n",
            "\n",
            "  [[ 9 10 11 12]\n",
            "   [13 14 15 16]]\n",
            "\n",
            "  [[17 18 19 20]\n",
            "   [21 22 23 24]]]\n",
            "\n",
            "\n",
            " [[[ 1  2  3  4]\n",
            "   [ 5  6  7  8]]\n",
            "\n",
            "  [[ 9 10 11 12]\n",
            "   [13 14 15 16]]\n",
            "\n",
            "  [[17 18 19 20]\n",
            "   [21 22 23 24]]]], shape=(2, 3, 2, 4), dtype=int32)\n"
          ]
        }
      ],
      "source": [
        "# 랭크-4 텐서 만들기\n",
        "tensor4 = tf.stack([tensor1, tensor2])\n",
        "\n",
        "# 랭크 확인\n",
        "print(\"rank:\", tf.rank(tensor4))\n",
        "\n",
        "# 텐서 출력\n",
        "print(\"tensor4:\", tensor4)"
      ]
    },
    {
      "cell_type": "markdown",
      "metadata": {
        "id": "J0Wp89G7WioC"
      },
      "source": [
        "### 6. Indexing"
      ]
    },
    {
      "cell_type": "code",
      "execution_count": 101,
      "metadata": {
        "colab": {
          "base_uri": "https://localhost:8080/"
        },
        "id": "pyFe3s8IWhi1",
        "outputId": "4a9a22af-1f65-403c-e8b2-d3ad8001653d"
      },
      "outputs": [
        {
          "name": "stdout",
          "output_type": "stream",
          "text": [
            "tf.Tensor([10 20 30 40 50], shape=(5,), dtype=int32)\n"
          ]
        }
      ],
      "source": [
        "# 벡터 정의하기\n",
        "vec = tf.constant([10, 20, 30, 40, 50])\n",
        "print(vec)"
      ]
    },
    {
      "cell_type": "code",
      "execution_count": 102,
      "metadata": {
        "colab": {
          "base_uri": "https://localhost:8080/"
        },
        "id": "gsnqjzbebRbt",
        "outputId": "8125a53f-fd54-449b-9300-e09da9d237bc"
      },
      "outputs": [
        {
          "name": "stdout",
          "output_type": "stream",
          "text": [
            "tf.Tensor(10, shape=(), dtype=int32)\n"
          ]
        }
      ],
      "source": [
        "print(vec[0])"
      ]
    },
    {
      "cell_type": "code",
      "execution_count": 103,
      "metadata": {
        "colab": {
          "base_uri": "https://localhost:8080/"
        },
        "id": "A7wd7z4CbTUa",
        "outputId": "eb6edc99-ac93-457b-e05a-2641bb93ea1f"
      },
      "outputs": [
        {
          "name": "stdout",
          "output_type": "stream",
          "text": [
            "tf.Tensor(50, shape=(), dtype=int32)\n"
          ]
        }
      ],
      "source": [
        "print(vec[-1])"
      ]
    },
    {
      "cell_type": "code",
      "execution_count": 104,
      "metadata": {
        "colab": {
          "base_uri": "https://localhost:8080/"
        },
        "id": "zYidZrfYbUyc",
        "outputId": "fd4fde22-8169-46d8-8623-a84114685f9d"
      },
      "outputs": [
        {
          "name": "stdout",
          "output_type": "stream",
          "text": [
            "tf.Tensor([10 20 30], shape=(3,), dtype=int32)\n"
          ]
        }
      ],
      "source": [
        "print(vec[:3])"
      ]
    },
    {
      "cell_type": "code",
      "execution_count": 105,
      "metadata": {
        "colab": {
          "base_uri": "https://localhost:8080/"
        },
        "id": "A2mxvUyHbbqV",
        "outputId": "4a90dff1-d1f8-4f2d-8eef-614e2ed3f02b"
      },
      "outputs": [
        {
          "name": "stdout",
          "output_type": "stream",
          "text": [
            "tf.Tensor(\n",
            "[[10 20 30]\n",
            " [40 50 60]], shape=(2, 3), dtype=int32)\n"
          ]
        }
      ],
      "source": [
        "# 행렬 정의하기\n",
        "mat = tf.constant([[10, 20, 30], \n",
        "                    [40, 50, 60]])\n",
        "\n",
        "print(mat)"
      ]
    },
    {
      "cell_type": "code",
      "execution_count": 106,
      "metadata": {
        "colab": {
          "base_uri": "https://localhost:8080/"
        },
        "id": "GMb9e7I6be-g",
        "outputId": "eb01f65f-2259-4ade-ebeb-57fda5b14403"
      },
      "outputs": [
        {
          "name": "stdout",
          "output_type": "stream",
          "text": [
            "tf.Tensor(30, shape=(), dtype=int32)\n"
          ]
        }
      ],
      "source": [
        "print(mat[0, 2])"
      ]
    },
    {
      "cell_type": "code",
      "execution_count": 107,
      "metadata": {
        "colab": {
          "base_uri": "https://localhost:8080/"
        },
        "id": "AVSOS2Hlbmwa",
        "outputId": "6d7b2fe3-f6a6-4f53-bfeb-a43c86e7b0e9"
      },
      "outputs": [
        {
          "name": "stdout",
          "output_type": "stream",
          "text": [
            "tf.Tensor([10 20 30], shape=(3,), dtype=int32)\n"
          ]
        }
      ],
      "source": [
        "print(mat[0, :])"
      ]
    },
    {
      "cell_type": "code",
      "execution_count": 108,
      "metadata": {
        "colab": {
          "base_uri": "https://localhost:8080/"
        },
        "id": "5RHfeHqkbori",
        "outputId": "16ef4ed9-1729-45ae-d6d5-9a0a050deabd"
      },
      "outputs": [
        {
          "name": "stdout",
          "output_type": "stream",
          "text": [
            "tf.Tensor([20 50], shape=(2,), dtype=int32)\n"
          ]
        }
      ],
      "source": [
        "print(mat[:, 1])"
      ]
    },
    {
      "cell_type": "code",
      "execution_count": 109,
      "metadata": {
        "colab": {
          "base_uri": "https://localhost:8080/"
        },
        "id": "MU1XNYINbxLU",
        "outputId": "3f45bd09-0224-4309-d894-75d4aa72cae0"
      },
      "outputs": [
        {
          "name": "stdout",
          "output_type": "stream",
          "text": [
            "tf.Tensor(\n",
            "[[10 20 30]\n",
            " [40 50 60]], shape=(2, 3), dtype=int32)\n"
          ]
        }
      ],
      "source": [
        "print(mat[:, :])"
      ]
    },
    {
      "cell_type": "code",
      "execution_count": 110,
      "metadata": {
        "colab": {
          "base_uri": "https://localhost:8080/"
        },
        "id": "ABwU0UdMbzlo",
        "outputId": "73146f8a-bef9-439e-ae4f-0258d3f5bcdd"
      },
      "outputs": [
        {
          "name": "stdout",
          "output_type": "stream",
          "text": [
            "tf.Tensor(\n",
            "[[[ 10  20  30]\n",
            "  [ 40  50  60]]\n",
            "\n",
            " [[-10 -20 -30]\n",
            "  [-40 -50 -60]]], shape=(2, 2, 3), dtype=int32)\n"
          ]
        }
      ],
      "source": [
        "# 랭크-3 텐서 정의하기\n",
        "tensor = tf.constant([\n",
        "    [[10, 20, 30], \n",
        "     [40, 50, 60]],\n",
        "    [[-10, -20, -30], \n",
        "     [-40, -50, -60]],   \n",
        "])\n",
        "print(tensor)"
      ]
    },
    {
      "cell_type": "code",
      "execution_count": 111,
      "metadata": {
        "colab": {
          "base_uri": "https://localhost:8080/"
        },
        "id": "KlfQ3IV8b33r",
        "outputId": "18a3cdc9-377c-44c2-e0ed-55200adf9153"
      },
      "outputs": [
        {
          "name": "stdout",
          "output_type": "stream",
          "text": [
            "tf.Tensor(\n",
            "[[10 20 30]\n",
            " [40 50 60]], shape=(2, 3), dtype=int32)\n"
          ]
        }
      ],
      "source": [
        "print(tensor[0, :, :])"
      ]
    },
    {
      "cell_type": "code",
      "execution_count": 112,
      "metadata": {
        "colab": {
          "base_uri": "https://localhost:8080/"
        },
        "id": "e1DTTrFMcKhm",
        "outputId": "c80b540b-9d63-458d-87da-e9abeb649851"
      },
      "outputs": [
        {
          "name": "stdout",
          "output_type": "stream",
          "text": [
            "tf.Tensor(\n",
            "[[[ 10  20]]\n",
            "\n",
            " [[-10 -20]]], shape=(2, 1, 2), dtype=int32)\n"
          ]
        }
      ],
      "source": [
        "print(tensor[:, :1, :2])"
      ]
    },
    {
      "cell_type": "code",
      "execution_count": 113,
      "metadata": {
        "colab": {
          "base_uri": "https://localhost:8080/"
        },
        "id": "YG_z3g2mcRSB",
        "outputId": "c9698d85-b51c-424e-ac0a-65fb9cda9c1f"
      },
      "outputs": [
        {
          "name": "stdout",
          "output_type": "stream",
          "text": [
            "tf.Tensor(\n",
            "[[[ 10  20]\n",
            "  [ 40  50]]\n",
            "\n",
            " [[-10 -20]\n",
            "  [-40 -50]]], shape=(2, 2, 2), dtype=int32)\n"
          ]
        }
      ],
      "source": [
        "print(tensor[:, :2, :2])"
      ]
    },
    {
      "cell_type": "markdown",
      "metadata": {
        "id": "gxedE4LgcU1H"
      },
      "source": [
        "### 7. Reshape"
      ]
    },
    {
      "cell_type": "code",
      "execution_count": 114,
      "metadata": {
        "colab": {
          "base_uri": "https://localhost:8080/"
        },
        "id": "ggUunuoucXRY",
        "outputId": "f913739b-ebb7-4bab-aefc-0e65487c6375"
      },
      "outputs": [
        {
          "name": "stdout",
          "output_type": "stream",
          "text": [
            "tf.Tensor([ 0  1  2  3  4  5  6  7  8  9 10 11 12 13 14 15 16 17 18 19 20 21 22 23], shape=(24,), dtype=int32)\n"
          ]
        }
      ],
      "source": [
        "# 랭크-1 텐서 정의하기\n",
        "tensor = tf.constant(range(0, 24))\n",
        "print(tensor)"
      ]
    },
    {
      "cell_type": "code",
      "execution_count": 115,
      "metadata": {
        "colab": {
          "base_uri": "https://localhost:8080/"
        },
        "id": "1og-R8ZhdMon",
        "outputId": "1cc07878-0323-4f48-ff40-e0d555e10bf2"
      },
      "outputs": [
        {
          "name": "stdout",
          "output_type": "stream",
          "text": [
            "tf.Tensor(\n",
            "[[ 0  1  2  3  4  5  6  7]\n",
            " [ 8  9 10 11 12 13 14 15]\n",
            " [16 17 18 19 20 21 22 23]], shape=(3, 8), dtype=int32)\n"
          ]
        }
      ],
      "source": [
        "tensor1 = tf.reshape(tensor, [3, 8])\n",
        "print(tensor1)"
      ]
    },
    {
      "cell_type": "code",
      "execution_count": 116,
      "metadata": {
        "colab": {
          "base_uri": "https://localhost:8080/"
        },
        "id": "L02lh-WbdPKH",
        "outputId": "9a2e2fdd-9277-4c53-d468-45c0acd89d93"
      },
      "outputs": [
        {
          "name": "stdout",
          "output_type": "stream",
          "text": [
            "tf.Tensor(\n",
            "[[ 0  1  2  3]\n",
            " [ 4  5  6  7]\n",
            " [ 8  9 10 11]\n",
            " [12 13 14 15]\n",
            " [16 17 18 19]\n",
            " [20 21 22 23]], shape=(6, 4), dtype=int32)\n"
          ]
        }
      ],
      "source": [
        "tensor2 = tf.reshape(tensor1, [-1, 4])\n",
        "print(tensor2)"
      ]
    },
    {
      "cell_type": "code",
      "execution_count": 117,
      "metadata": {
        "colab": {
          "base_uri": "https://localhost:8080/"
        },
        "id": "jNaVPy5KdTTE",
        "outputId": "94b77901-fa67-402d-d03a-e8c311d1ecb1"
      },
      "outputs": [
        {
          "name": "stdout",
          "output_type": "stream",
          "text": [
            "tf.Tensor([ 0  1  2  3  4  5  6  7  8  9 10 11 12 13 14 15 16 17 18 19 20 21 22 23], shape=(24,), dtype=int32)\n"
          ]
        }
      ],
      "source": [
        "tensor3 = tf.reshape(tensor2, [-1])\n",
        "print(tensor3)"
      ]
    },
    {
      "cell_type": "code",
      "execution_count": 118,
      "metadata": {
        "colab": {
          "base_uri": "https://localhost:8080/"
        },
        "id": "0GvE3jP9dWPJ",
        "outputId": "3368f951-be12-4642-cd5e-4b969a760fc6"
      },
      "outputs": [
        {
          "name": "stdout",
          "output_type": "stream",
          "text": [
            "tf.Tensor(\n",
            "[[[ 0  1  2  3]\n",
            "  [ 4  5  6  7]\n",
            "  [ 8  9 10 11]]\n",
            "\n",
            " [[12 13 14 15]\n",
            "  [16 17 18 19]\n",
            "  [20 21 22 23]]], shape=(2, 3, 4), dtype=int32)\n"
          ]
        }
      ],
      "source": [
        "tensor4 = tf.reshape(tensor3, [-1, 3, 4])\n",
        "print(tensor4)"
      ]
    },
    {
      "cell_type": "code",
      "execution_count": 119,
      "metadata": {
        "colab": {
          "base_uri": "https://localhost:8080/"
        },
        "id": "SnU5cOugdZ42",
        "outputId": "afb77b9e-d7d9-4d0c-9aad-a8e5dc4f4e09"
      },
      "outputs": [
        {
          "name": "stdout",
          "output_type": "stream",
          "text": [
            "tf.Tensor(\n",
            "[[[ 0  1  2  3]\n",
            "  [ 4  5  6  7]]\n",
            "\n",
            " [[ 8  9 10 11]\n",
            "  [12 13 14 15]]\n",
            "\n",
            " [[16 17 18 19]\n",
            "  [20 21 22 23]]], shape=(3, 2, 4), dtype=int32)\n"
          ]
        }
      ],
      "source": [
        "tensor5 = tf.reshape(tensor4, [3, 2, 4])\n",
        "print(tensor5)"
      ]
    },
    {
      "cell_type": "code",
      "execution_count": 120,
      "metadata": {
        "colab": {
          "base_uri": "https://localhost:8080/"
        },
        "id": "K6GSfM9Nddmb",
        "outputId": "d6f7d012-bafb-4d62-a16e-6b5c2c134906"
      },
      "outputs": [
        {
          "name": "stdout",
          "output_type": "stream",
          "text": [
            "tf.Tensor(\n",
            "[[[[ 0  1]\n",
            "   [ 2  3]]\n",
            "\n",
            "  [[ 4  5]\n",
            "   [ 6  7]]]\n",
            "\n",
            "\n",
            " [[[ 8  9]\n",
            "   [10 11]]\n",
            "\n",
            "  [[12 13]\n",
            "   [14 15]]]\n",
            "\n",
            "\n",
            " [[[16 17]\n",
            "   [18 19]]\n",
            "\n",
            "  [[20 21]\n",
            "   [22 23]]]], shape=(3, 2, 2, 2), dtype=int32)\n"
          ]
        }
      ],
      "source": [
        "tensor6 = tf.reshape(tensor5, [3, 2, 2, 2])\n",
        "print(tensor6)"
      ]
    }
  ],
  "metadata": {
    "accelerator": "GPU",
    "colab": {
      "authorship_tag": "ABX9TyNlhHd8xXgN/8MF3t3gmrIR",
      "collapsed_sections": [],
      "include_colab_link": true,
      "name": "Week8.ipynb",
      "provenance": []
    },
    "gpuClass": "standard",
    "kernelspec": {
      "display_name": "Python 3",
      "name": "python3"
    },
    "language_info": {
      "name": "python"
    }
  },
  "nbformat": 4,
  "nbformat_minor": 0
}
