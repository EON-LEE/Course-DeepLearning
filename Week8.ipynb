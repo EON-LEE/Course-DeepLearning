{
  "nbformat": 4,
  "nbformat_minor": 0,
  "metadata": {
    "colab": {
      "name": "Week8.ipynb",
      "provenance": [],
      "collapsed_sections": [],
      "authorship_tag": "ABX9TyNl1YjBwnRENhgrP9JkH+9Q",
      "include_colab_link": true
    },
    "kernelspec": {
      "name": "python3",
      "display_name": "Python 3"
    },
    "language_info": {
      "name": "python"
    },
    "accelerator": "GPU",
    "gpuClass": "standard"
  },
  "cells": [
    {
      "cell_type": "markdown",
      "metadata": {
        "id": "view-in-github",
        "colab_type": "text"
      },
      "source": [
        "<a href=\"https://colab.research.google.com/github/EON-LEE/Course-DeepLearning/blob/main/Week8.ipynb\" target=\"_parent\"><img src=\"https://colab.research.google.com/assets/colab-badge.svg\" alt=\"Open In Colab\"/></a>"
      ]
    },
    {
      "cell_type": "markdown",
      "source": [
        "# 딥러닝 강의 8주차"
      ],
      "metadata": {
        "id": "Tkup8dI6yKHC"
      }
    },
    {
      "cell_type": "markdown",
      "source": [
        "## Tensorflow 기초"
      ],
      "metadata": {
        "id": "T9LdTO_3Ire2"
      }
    },
    {
      "cell_type": "markdown",
      "source": [
        "### 0. Tensorflow setting"
      ],
      "metadata": {
        "id": "XKbUaN2uJeX7"
      }
    },
    {
      "cell_type": "code",
      "source": [
        "import tensorflow as tf"
      ],
      "metadata": {
        "id": "HvCanA10JgyV"
      },
      "execution_count": 1,
      "outputs": []
    },
    {
      "cell_type": "code",
      "source": [
        "tf.__version__"
      ],
      "metadata": {
        "id": "3_HXh0qhFUzh",
        "outputId": "15277223-a025-48e9-ff41-abd550e73695",
        "colab": {
          "base_uri": "https://localhost:8080/",
          "height": 35
        }
      },
      "execution_count": 2,
      "outputs": [
        {
          "output_type": "execute_result",
          "data": {
            "text/plain": [
              "'2.8.2'"
            ],
            "application/vnd.google.colaboratory.intrinsic+json": {
              "type": "string"
            }
          },
          "metadata": {},
          "execution_count": 2
        }
      ]
    },
    {
      "cell_type": "markdown",
      "source": [
        "Tensorflow GPU 버전 확인"
      ],
      "metadata": {
        "id": "lwly08sIvVHB"
      }
    },
    {
      "cell_type": "code",
      "source": [
        "%tensorflow_version 2.x\n",
        "import tensorflow as tf\n",
        "device_name = tf.test.gpu_device_name()\n",
        "if device_name != '/device:GPU:0':\n",
        "  raise SystemError('GPU device not found')\n",
        "print('Found GPU at: {}'.format(device_name))"
      ],
      "metadata": {
        "colab": {
          "base_uri": "https://localhost:8080/"
        },
        "id": "0EQ_25wwvUAS",
        "outputId": "0be68ad5-c19e-451b-cdda-63468971ff4c"
      },
      "execution_count": 2,
      "outputs": [
        {
          "output_type": "stream",
          "name": "stdout",
          "text": [
            "Found GPU at: /device:GPU:0\n"
          ]
        }
      ]
    },
    {
      "cell_type": "markdown",
      "source": [
        "### 1. eager execution"
      ],
      "metadata": {
        "id": "nvXaC3PgJZNs"
      }
    },
    {
      "cell_type": "code",
      "source": [
        "print(tf.executing_eagerly())"
      ],
      "metadata": {
        "colab": {
          "base_uri": "https://localhost:8080/"
        },
        "id": "KfhTPjBUJYvW",
        "outputId": "299d7bcc-10fa-4c58-cc93-781bf3e50422"
      },
      "execution_count": null,
      "outputs": [
        {
          "output_type": "stream",
          "name": "stdout",
          "text": [
            "True\n"
          ]
        }
      ]
    },
    {
      "cell_type": "code",
      "source": [
        "a = 1\n",
        "b = 2\n",
        "c = tf.math.add(a, b)\n",
        "print(c)"
      ],
      "metadata": {
        "colab": {
          "base_uri": "https://localhost:8080/"
        },
        "id": "IVHg5P2WK2gj",
        "outputId": "1883f9f2-7dda-4b77-95c7-cbb28ed8d1bc"
      },
      "execution_count": null,
      "outputs": [
        {
          "output_type": "stream",
          "name": "stdout",
          "text": [
            "tf.Tensor(3, shape=(), dtype=int32)\n"
          ]
        }
      ]
    },
    {
      "cell_type": "code",
      "source": [
        "c.numpy()"
      ],
      "metadata": {
        "colab": {
          "base_uri": "https://localhost:8080/"
        },
        "id": "71sr0gYFLlq4",
        "outputId": "b2c829ab-fad6-4769-cda2-d5466c6498f8"
      },
      "execution_count": null,
      "outputs": [
        {
          "output_type": "execute_result",
          "data": {
            "text/plain": [
              "3"
            ]
          },
          "metadata": {},
          "execution_count": 5
        }
      ]
    },
    {
      "cell_type": "markdown",
      "source": [
        "### 2. Scalar"
      ],
      "metadata": {
        "id": "qdoEegtBLnWI"
      }
    },
    {
      "cell_type": "code",
      "source": [
        "import tensorflow as tf"
      ],
      "metadata": {
        "id": "DyhfQWh2LvfQ"
      },
      "execution_count": null,
      "outputs": []
    },
    {
      "cell_type": "code",
      "source": [
        "# 스칼라 정의하기\n",
        "a = tf.constant(1)\n",
        "b = tf.constant(2)\n",
        "print(\"a:\", a)\n",
        "print(\"b:\", b)"
      ],
      "metadata": {
        "colab": {
          "base_uri": "https://localhost:8080/"
        },
        "id": "U55VQUccLmyj",
        "outputId": "ce96a1d3-4203-4571-d74d-5cba38539118"
      },
      "execution_count": null,
      "outputs": [
        {
          "output_type": "stream",
          "name": "stdout",
          "text": [
            "a: tf.Tensor(1, shape=(), dtype=int32)\n",
            "b: tf.Tensor(2, shape=(), dtype=int32)\n"
          ]
        }
      ]
    },
    {
      "cell_type": "code",
      "source": [
        "# 랭크 확인하기\n",
        "print(tf.rank(a))"
      ],
      "metadata": {
        "colab": {
          "base_uri": "https://localhost:8080/"
        },
        "id": "uGsMhMZmNBGn",
        "outputId": "1add977a-c470-48c5-8b09-b017f4abe101"
      },
      "execution_count": null,
      "outputs": [
        {
          "output_type": "stream",
          "name": "stdout",
          "text": [
            "tf.Tensor(0, shape=(), dtype=int32)\n"
          ]
        }
      ]
    },
    {
      "cell_type": "code",
      "source": [
        "# 자료형 변환\n",
        "a = tf.cast(a, tf.float32)\n",
        "b = tf.cast(b, tf.float32)\n",
        "print(a.dtype)\n",
        "print(b.dtype)"
      ],
      "metadata": {
        "colab": {
          "base_uri": "https://localhost:8080/"
        },
        "id": "ZcJeuLfBNEqN",
        "outputId": "7c00c980-c913-42e8-993f-70893be502e9"
      },
      "execution_count": null,
      "outputs": [
        {
          "output_type": "stream",
          "name": "stdout",
          "text": [
            "<dtype: 'float32'>\n",
            "<dtype: 'float32'>\n"
          ]
        }
      ]
    },
    {
      "cell_type": "code",
      "source": [
        "# 덧셈\n",
        "c = tf.math.add(a, b)\n",
        "print(\"result:\", c)\n",
        "print(\"rank:\", tf.rank(c))"
      ],
      "metadata": {
        "colab": {
          "base_uri": "https://localhost:8080/"
        },
        "id": "tE0glFAXPmbb",
        "outputId": "c1b6af1a-3a17-426a-f1f1-ff45f6a813b7"
      },
      "execution_count": null,
      "outputs": [
        {
          "output_type": "stream",
          "name": "stdout",
          "text": [
            "result: tf.Tensor(3.0, shape=(), dtype=float32)\n",
            "rank: tf.Tensor(0, shape=(), dtype=int32)\n"
          ]
        }
      ]
    },
    {
      "cell_type": "code",
      "source": [
        "# 뺄셈\n",
        "print( tf.math.subtract(a, b) )"
      ],
      "metadata": {
        "colab": {
          "base_uri": "https://localhost:8080/"
        },
        "id": "GwpSnp6aPogD",
        "outputId": "c1266820-ba44-4577-e5e8-1eaab8c73970"
      },
      "execution_count": null,
      "outputs": [
        {
          "output_type": "stream",
          "name": "stdout",
          "text": [
            "tf.Tensor(-1.0, shape=(), dtype=float32)\n"
          ]
        }
      ]
    },
    {
      "cell_type": "code",
      "source": [
        "# 곱셈\n",
        "print( tf.math.multiply(a, b) )"
      ],
      "metadata": {
        "colab": {
          "base_uri": "https://localhost:8080/"
        },
        "id": "JdoYuy7cPqGD",
        "outputId": "88bb4a8e-e51d-46ea-f73a-940e15114998"
      },
      "execution_count": null,
      "outputs": [
        {
          "output_type": "stream",
          "name": "stdout",
          "text": [
            "tf.Tensor(2.0, shape=(), dtype=float32)\n"
          ]
        }
      ]
    },
    {
      "cell_type": "code",
      "source": [
        "# 나눗셈\n",
        "print( tf.math.divide(a, b) )"
      ],
      "metadata": {
        "colab": {
          "base_uri": "https://localhost:8080/"
        },
        "id": "29ouJqFOPsux",
        "outputId": "09cda90e-656a-4703-8366-853bf29ebcf3"
      },
      "execution_count": null,
      "outputs": [
        {
          "output_type": "stream",
          "name": "stdout",
          "text": [
            "tf.Tensor(0.5, shape=(), dtype=float32)\n"
          ]
        }
      ]
    },
    {
      "cell_type": "code",
      "source": [
        "# 나눗셈 (나머지)\n",
        "print( tf.math.mod(a, b) )"
      ],
      "metadata": {
        "colab": {
          "base_uri": "https://localhost:8080/"
        },
        "id": "hwYTZLEYPxMs",
        "outputId": "c063a4cf-756c-4a9d-a519-de4829037ecf"
      },
      "execution_count": null,
      "outputs": [
        {
          "output_type": "stream",
          "name": "stdout",
          "text": [
            "tf.Tensor(1.0, shape=(), dtype=float32)\n"
          ]
        }
      ]
    },
    {
      "cell_type": "code",
      "source": [
        "# 나눗셈 (몫)\n",
        "print( tf.math.floordiv(a, b) )"
      ],
      "metadata": {
        "colab": {
          "base_uri": "https://localhost:8080/"
        },
        "id": "PjkRwA7rP2Lf",
        "outputId": "5220d6f1-2850-4e58-f374-efab7f043b56"
      },
      "execution_count": null,
      "outputs": [
        {
          "output_type": "stream",
          "name": "stdout",
          "text": [
            "tf.Tensor(0.0, shape=(), dtype=float32)\n"
          ]
        }
      ]
    },
    {
      "cell_type": "markdown",
      "source": [
        "### 3. Vector"
      ],
      "metadata": {
        "id": "BfHr1DOxQcN7"
      }
    },
    {
      "cell_type": "code",
      "source": [
        "# 라이브러리 불러오기\n",
        "import tensorflow as tf\n",
        "import numpy as np\n",
        "\n",
        "# 1차원 배열 정의 \n",
        "py_list = [10., 20., 30.] # 파이썬 리스트 활용\n",
        "num_arr = np.array([10., 10., 10.]) # 넘파이 배열 활용\n",
        "\n",
        "# 텐서 변환\n",
        "vec1 = tf.constant(py_list, dtype=tf.float32)\n",
        "vec2 = tf.constant(num_arr, dtype=tf.float32)\n",
        "\n",
        "# 텐서 출력\n",
        "print(\"vec1:\", vec1)\n",
        "print(\"vec2:\", vec2)"
      ],
      "metadata": {
        "colab": {
          "base_uri": "https://localhost:8080/"
        },
        "id": "3u9dLQlrQgB3",
        "outputId": "567efe7e-0911-4133-dbff-ea540732550d"
      },
      "execution_count": null,
      "outputs": [
        {
          "output_type": "stream",
          "name": "stdout",
          "text": [
            "vec1: tf.Tensor([10. 20. 30.], shape=(3,), dtype=float32)\n",
            "vec2: tf.Tensor([10. 10. 10.], shape=(3,), dtype=float32)\n"
          ]
        }
      ]
    },
    {
      "cell_type": "code",
      "source": [
        "# 랭크 확인\n",
        "print(tf.rank(vec1))\n",
        "print(tf.rank(vec2))"
      ],
      "metadata": {
        "colab": {
          "base_uri": "https://localhost:8080/"
        },
        "id": "uXUqjmGeS7lq",
        "outputId": "d51ca003-56d4-4653-9000-8583ef9fde59"
      },
      "execution_count": null,
      "outputs": [
        {
          "output_type": "stream",
          "name": "stdout",
          "text": [
            "tf.Tensor(1, shape=(), dtype=int32)\n",
            "tf.Tensor(1, shape=(), dtype=int32)\n"
          ]
        }
      ]
    },
    {
      "cell_type": "code",
      "source": [
        "# 덧셈 함수\n",
        "add1 = tf.math.add(vec1, vec2)\n",
        "print(\"result:\", add1)\n",
        "print(\"rank:\", tf.rank(add1))"
      ],
      "metadata": {
        "colab": {
          "base_uri": "https://localhost:8080/"
        },
        "id": "YpB0r3noS9aR",
        "outputId": "91a370ea-868e-4484-80f7-9364b72c05d1"
      },
      "execution_count": null,
      "outputs": [
        {
          "output_type": "stream",
          "name": "stdout",
          "text": [
            "result: tf.Tensor([20. 30. 40.], shape=(3,), dtype=float32)\n",
            "rank: tf.Tensor(1, shape=(), dtype=int32)\n"
          ]
        }
      ]
    },
    {
      "cell_type": "code",
      "source": [
        "# 덧셈 연산자\n",
        "add2 = vec1 + vec2\n",
        "print(\"result:\", add2)\n",
        "print(\"rank:\", tf.rank(add2))"
      ],
      "metadata": {
        "colab": {
          "base_uri": "https://localhost:8080/"
        },
        "id": "tZIz8XTmTAMx",
        "outputId": "4d8072fd-39c5-42d4-f299-023b0edfb095"
      },
      "execution_count": null,
      "outputs": [
        {
          "output_type": "stream",
          "name": "stdout",
          "text": [
            "result: tf.Tensor([20. 30. 40.], shape=(3,), dtype=float32)\n",
            "rank: tf.Tensor(1, shape=(), dtype=int32)\n"
          ]
        }
      ]
    },
    {
      "cell_type": "code",
      "source": [
        "# tf.math 모듈 함수\n",
        "print(tf.math.subtract(vec1, vec2))\n",
        "print(tf.math.multiply(vec1, vec2))\n",
        "print(tf.math.divide(vec1, vec2))\n",
        "print(tf.math.mod(vec1, vec2))\n",
        "print(tf.math.floordiv(vec1, vec2))"
      ],
      "metadata": {
        "colab": {
          "base_uri": "https://localhost:8080/"
        },
        "id": "5uXxHbKhTDuv",
        "outputId": "ab27c372-75e8-4ad9-feb3-68c1419bd9c7"
      },
      "execution_count": null,
      "outputs": [
        {
          "output_type": "stream",
          "name": "stdout",
          "text": [
            "tf.Tensor([ 0. 10. 20.], shape=(3,), dtype=float32)\n",
            "tf.Tensor([100. 200. 300.], shape=(3,), dtype=float32)\n",
            "tf.Tensor([1. 2. 3.], shape=(3,), dtype=float32)\n",
            "tf.Tensor([0. 0. 0.], shape=(3,), dtype=float32)\n",
            "tf.Tensor([1. 2. 3.], shape=(3,), dtype=float32)\n"
          ]
        }
      ]
    },
    {
      "cell_type": "code",
      "source": [
        "# 파이썬 연산자\n",
        "print(vec1 - vec2)\n",
        "print(vec1 * vec2)\n",
        "print(vec1 / vec2)\n",
        "print(vec1 % vec2)\n",
        "print(vec1 // vec2)"
      ],
      "metadata": {
        "colab": {
          "base_uri": "https://localhost:8080/"
        },
        "id": "e3rImd7FTIuO",
        "outputId": "0c22bc39-5699-44d1-8d94-9c818f0fc509"
      },
      "execution_count": null,
      "outputs": [
        {
          "output_type": "stream",
          "name": "stdout",
          "text": [
            "tf.Tensor([ 0. 10. 20.], shape=(3,), dtype=float32)\n",
            "tf.Tensor([100. 200. 300.], shape=(3,), dtype=float32)\n",
            "tf.Tensor([1. 2. 3.], shape=(3,), dtype=float32)\n",
            "tf.Tensor([0. 0. 0.], shape=(3,), dtype=float32)\n",
            "tf.Tensor([1. 2. 3.], shape=(3,), dtype=float32)\n"
          ]
        }
      ]
    },
    {
      "cell_type": "code",
      "source": [
        "# 합계 구하기\n",
        "print ( tf.reduce_sum(vec1) )\n",
        "print ( tf.reduce_sum(vec2) )"
      ],
      "metadata": {
        "colab": {
          "base_uri": "https://localhost:8080/"
        },
        "id": "7WYGUpNHTcYh",
        "outputId": "24b75344-5d2d-40a5-c89d-1048897798a2"
      },
      "execution_count": null,
      "outputs": [
        {
          "output_type": "stream",
          "name": "stdout",
          "text": [
            "tf.Tensor(60.0, shape=(), dtype=float32)\n",
            "tf.Tensor(30.0, shape=(), dtype=float32)\n"
          ]
        }
      ]
    },
    {
      "cell_type": "code",
      "source": [
        "# 거듭제곱\n",
        "print( tf.math.square(vec1) )"
      ],
      "metadata": {
        "colab": {
          "base_uri": "https://localhost:8080/"
        },
        "id": "7W6Ev8zOTeyU",
        "outputId": "42d37dab-a317-4ae7-b0ea-b30f156632ab"
      },
      "execution_count": null,
      "outputs": [
        {
          "output_type": "stream",
          "name": "stdout",
          "text": [
            "tf.Tensor([100. 400. 900.], shape=(3,), dtype=float32)\n"
          ]
        }
      ]
    },
    {
      "cell_type": "code",
      "source": [
        "# 거듭제곱 (파이썬 연산자)\n",
        "print(vec1**2)"
      ],
      "metadata": {
        "colab": {
          "base_uri": "https://localhost:8080/"
        },
        "id": "pACFmtvyTgmK",
        "outputId": "fb321b0a-f17b-4fad-e31f-f36d2ccc883a"
      },
      "execution_count": null,
      "outputs": [
        {
          "output_type": "stream",
          "name": "stdout",
          "text": [
            "tf.Tensor([ 99.99999 400.      899.99994], shape=(3,), dtype=float32)\n"
          ]
        }
      ]
    },
    {
      "cell_type": "code",
      "source": [
        "# 제곱근\n",
        "print( tf.math.sqrt(vec2) )"
      ],
      "metadata": {
        "id": "xUzxpEq6Tqcp"
      },
      "execution_count": null,
      "outputs": []
    },
    {
      "cell_type": "code",
      "source": [
        "# 제곱근 (파이썬 연산자)\n",
        "print( vec2**0.5 )"
      ],
      "metadata": {
        "colab": {
          "base_uri": "https://localhost:8080/"
        },
        "id": "78mPwGyxTsit",
        "outputId": "752bd6c5-16a6-4c07-ef64-9bfeb0b20254"
      },
      "execution_count": null,
      "outputs": [
        {
          "output_type": "stream",
          "name": "stdout",
          "text": [
            "tf.Tensor([3.1622777 3.1622777 3.1622777], shape=(3,), dtype=float32)\n"
          ]
        }
      ]
    },
    {
      "cell_type": "code",
      "source": [
        "# 브로드캐스팅 연산 \n",
        "print (vec1 + 1)"
      ],
      "metadata": {
        "colab": {
          "base_uri": "https://localhost:8080/"
        },
        "id": "B6HeIAlPUW9H",
        "outputId": "42a225d2-0188-4a3c-ac61-999bb19aac29"
      },
      "execution_count": null,
      "outputs": [
        {
          "output_type": "stream",
          "name": "stdout",
          "text": [
            "tf.Tensor([11. 21. 31.], shape=(3,), dtype=float32)\n"
          ]
        }
      ]
    },
    {
      "cell_type": "markdown",
      "source": [
        "### 4. Matrix"
      ],
      "metadata": {
        "id": "Gm8lGPNhVDzS"
      }
    },
    {
      "cell_type": "code",
      "source": [
        "# 2차원 배열 정의\n",
        "list_of_list = [[10, 20], [30, 40]] \n",
        "\n",
        "# 텐서 변환 - constant 함수에 2차원 배열 입력\n",
        "mat1 = tf.constant(list_of_list)\n",
        "\n",
        "# 랭크 확인\n",
        "print(\"rank:\", tf.rank(mat1))\n",
        "\n",
        "# 텐서 출력\n",
        "print(\"mat1:\", mat1)"
      ],
      "metadata": {
        "colab": {
          "base_uri": "https://localhost:8080/"
        },
        "id": "nRocrzoVVHT0",
        "outputId": "e1e1a440-db31-4651-b383-504378a91b96"
      },
      "execution_count": null,
      "outputs": [
        {
          "output_type": "stream",
          "name": "stdout",
          "text": [
            "rank: tf.Tensor(2, shape=(), dtype=int32)\n",
            "mat1: tf.Tensor(\n",
            "[[10 20]\n",
            " [30 40]], shape=(2, 2), dtype=int32)\n"
          ]
        }
      ]
    },
    {
      "cell_type": "code",
      "source": [
        "# 1차원 벡터 정의\n",
        "vec1 = tf.constant([1, 0])\n",
        "vec2 = tf.constant([-1, 2])\n",
        "                   \n",
        "# 텐서 변환 - stack 함수로 1차원 배열을 위아래로 쌓기\n",
        "mat2 = tf.stack([vec1, vec2])\n",
        "\n",
        "# 랭크 확인\n",
        "print(\"rank:\", tf.rank(mat2))\n",
        "\n",
        "# 텐서 출력하기\n",
        "print(\"mat2:\", mat2)"
      ],
      "metadata": {
        "colab": {
          "base_uri": "https://localhost:8080/"
        },
        "id": "gxkeqLVpVdgl",
        "outputId": "25c9f4e8-0dd0-4326-db6d-8acb29aade6d"
      },
      "execution_count": null,
      "outputs": [
        {
          "output_type": "stream",
          "name": "stdout",
          "text": [
            "rank: tf.Tensor(2, shape=(), dtype=int32)\n",
            "mat2: tf.Tensor(\n",
            "[[ 1  0]\n",
            " [-1  2]], shape=(2, 2), dtype=int32)\n"
          ]
        }
      ]
    },
    {
      "cell_type": "code",
      "source": [
        "# element-by-element 연산\n",
        "element_mul = tf.math.multiply(mat1, mat2)\n",
        "print(\"result:\", element_mul)\n",
        "print(\"rank:\", tf.rank(element_mul))"
      ],
      "metadata": {
        "colab": {
          "base_uri": "https://localhost:8080/"
        },
        "id": "7X2TDxSSViO1",
        "outputId": "62cd0d6c-888a-4570-f248-b97b63ebfc22"
      },
      "execution_count": null,
      "outputs": [
        {
          "output_type": "stream",
          "name": "stdout",
          "text": [
            "result: tf.Tensor(\n",
            "[[ 10   0]\n",
            " [-30  80]], shape=(2, 2), dtype=int32)\n",
            "rank: tf.Tensor(2, shape=(), dtype=int32)\n"
          ]
        }
      ]
    },
    {
      "cell_type": "code",
      "source": [
        "# 브로드캐스팅 연산\n",
        "element_bc = tf.math.multiply(mat1, 3)\n",
        "print(\"result:\", element_bc)\n",
        "print(\"rank:\", tf.rank(element_bc))"
      ],
      "metadata": {
        "colab": {
          "base_uri": "https://localhost:8080/"
        },
        "id": "yKx9ciTvVoii",
        "outputId": "8d2c2895-4498-487d-e7cf-f1197cd07040"
      },
      "execution_count": null,
      "outputs": [
        {
          "output_type": "stream",
          "name": "stdout",
          "text": [
            "result: tf.Tensor(\n",
            "[[ 30  60]\n",
            " [ 90 120]], shape=(2, 2), dtype=int32)\n",
            "rank: tf.Tensor(2, shape=(), dtype=int32)\n"
          ]
        }
      ]
    },
    {
      "cell_type": "code",
      "source": [
        "# 행렬곱 연산\n",
        "mat_mul = tf.matmul(mat1, mat2)\n",
        "print(\"result:\", mat_mul)\n",
        "print(\"rank:\", tf.rank(mat_mul))"
      ],
      "metadata": {
        "colab": {
          "base_uri": "https://localhost:8080/"
        },
        "id": "_3fiQJpMVsGr",
        "outputId": "74b9a9f1-217a-4870-9de6-582c02771118"
      },
      "execution_count": null,
      "outputs": [
        {
          "output_type": "stream",
          "name": "stdout",
          "text": [
            "result: tf.Tensor(\n",
            "[[-10  40]\n",
            " [-10  80]], shape=(2, 2), dtype=int32)\n",
            "rank: tf.Tensor(2, shape=(), dtype=int32)\n"
          ]
        }
      ]
    },
    {
      "cell_type": "code",
      "source": [
        "# 덧셈 연산\n",
        "add1 = tf.math.add(mat1, mat2)\n",
        "print(\"result:\", add1)\n",
        "print(\"rank:\", tf.rank(add1))"
      ],
      "metadata": {
        "colab": {
          "base_uri": "https://localhost:8080/"
        },
        "id": "WMgtRl-oVu91",
        "outputId": "1019079a-6618-41ca-842f-149dafaa36df"
      },
      "execution_count": null,
      "outputs": [
        {
          "output_type": "stream",
          "name": "stdout",
          "text": [
            "result: tf.Tensor(\n",
            "[[11 20]\n",
            " [29 42]], shape=(2, 2), dtype=int32)\n",
            "rank: tf.Tensor(2, shape=(), dtype=int32)\n"
          ]
        }
      ]
    },
    {
      "cell_type": "code",
      "source": [
        "# 덧셈 연산자\n",
        "add2 = mat1 + mat2\n",
        "print(\"result:\", add2)\n",
        "print(\"rank:\", tf.rank(add2))"
      ],
      "metadata": {
        "colab": {
          "base_uri": "https://localhost:8080/"
        },
        "id": "rRNO_tWxWGus",
        "outputId": "7680858d-91b1-45fe-aa83-a82fca406d9f"
      },
      "execution_count": null,
      "outputs": [
        {
          "output_type": "stream",
          "name": "stdout",
          "text": [
            "result: tf.Tensor(\n",
            "[[11 20]\n",
            " [29 42]], shape=(2, 2), dtype=int32)\n",
            "rank: tf.Tensor(2, shape=(), dtype=int32)\n"
          ]
        }
      ]
    },
    {
      "cell_type": "code",
      "source": [
        "# 텐서를 넘파이로 변환\n",
        "np_arr = mat_mul.numpy()\n",
        "print(type(np_arr))\n",
        "print(np_arr)"
      ],
      "metadata": {
        "colab": {
          "base_uri": "https://localhost:8080/"
        },
        "id": "IqsX4N02WH6a",
        "outputId": "51386c1d-1fa9-49c6-d467-de717752b412"
      },
      "execution_count": null,
      "outputs": [
        {
          "output_type": "stream",
          "name": "stdout",
          "text": [
            "<class 'numpy.ndarray'>\n",
            "[[-10  40]\n",
            " [-10  80]]\n"
          ]
        }
      ]
    },
    {
      "cell_type": "markdown",
      "source": [
        "### 5. Tensor"
      ],
      "metadata": {
        "id": "01iRZX8LWK-O"
      }
    },
    {
      "cell_type": "code",
      "source": [
        "# 2차원 배열 정의\n",
        "mat1 = [[1, 2, 3, 4], \n",
        "        [5, 6, 7, 8]]\n",
        " \n",
        "mat2 = [[9, 10, 11, 12],\n",
        "        [13, 14, 15, 16]]   \n",
        "\n",
        "mat3 = [[17, 18, 19, 20],\n",
        "        [21, 22, 23, 24]]    \n",
        "\n",
        "# 텐서 변환 - constant 함수에 3차원 배열 입력\n",
        "tensor1 = tf.constant([mat1, mat2, mat3])\n",
        "\n",
        "# 랭크 확인\n",
        "print(\"rank:\", tf.rank(tensor1))\n",
        "\n",
        "# 텐서 출력\n",
        "print(\"tensor1:\", tensor1)"
      ],
      "metadata": {
        "colab": {
          "base_uri": "https://localhost:8080/"
        },
        "id": "r9HLTHmDWH4N",
        "outputId": "050653e2-7a3b-4212-be21-ad21c12bb212"
      },
      "execution_count": null,
      "outputs": [
        {
          "output_type": "stream",
          "name": "stdout",
          "text": [
            "rank: tf.Tensor(3, shape=(), dtype=int32)\n",
            "tensor1: tf.Tensor(\n",
            "[[[ 1  2  3  4]\n",
            "  [ 5  6  7  8]]\n",
            "\n",
            " [[ 9 10 11 12]\n",
            "  [13 14 15 16]]\n",
            "\n",
            " [[17 18 19 20]\n",
            "  [21 22 23 24]]], shape=(3, 2, 4), dtype=int32)\n"
          ]
        }
      ]
    },
    {
      "cell_type": "code",
      "source": [
        "# 텐서 변환 - stack 함수로 2차원 배열을 위아래로 쌓기\n",
        "tensor2 = tf.stack([mat1, mat2, mat3])\n",
        "\n",
        "# 랭크 확인\n",
        "print(\"rank:\", tf.rank(tensor2))\n",
        "\n",
        "# 텐서 출력\n",
        "print(\"tensor2:\", tensor2)"
      ],
      "metadata": {
        "colab": {
          "base_uri": "https://localhost:8080/"
        },
        "id": "v11v80Q7WYAY",
        "outputId": "2821aa2d-cc40-4eba-c09c-8bd022f6a589"
      },
      "execution_count": null,
      "outputs": [
        {
          "output_type": "stream",
          "name": "stdout",
          "text": [
            "rank: tf.Tensor(3, shape=(), dtype=int32)\n",
            "tensor2: tf.Tensor(\n",
            "[[[ 1  2  3  4]\n",
            "  [ 5  6  7  8]]\n",
            "\n",
            " [[ 9 10 11 12]\n",
            "  [13 14 15 16]]\n",
            "\n",
            " [[17 18 19 20]\n",
            "  [21 22 23 24]]], shape=(3, 2, 4), dtype=int32)\n"
          ]
        }
      ]
    },
    {
      "cell_type": "code",
      "source": [
        "# 1차원 배열 정의\n",
        "vec1 = [1, 2, 3, 4] \n",
        "vec2 = [5, 6, 7, 8] \n",
        "vec3 = [9, 10, 11, 12]  \n",
        "vec4 = [13, 14, 15, 16] \n",
        "vec5 = [17, 18, 19, 20] \n",
        "vec6 = [21, 22, 23, 24] \n",
        "\n",
        "# 1차원 배열을 원소로 갖는 2차원 배열 정의\n",
        "arr = [[vec1, vec2],\n",
        "        [vec3, vec4],\n",
        "        [vec5, vec6]]\n",
        "\n",
        "# 텐서 변환\n",
        "tensor3 = tf.constant(arr)\n",
        "\n",
        "# 랭크 확인\n",
        "print(\"rank:\", tf.rank(tensor3))\n",
        "\n",
        "# 텐서 출력\n",
        "print(\"tensor3:\", tensor3)"
      ],
      "metadata": {
        "colab": {
          "base_uri": "https://localhost:8080/"
        },
        "id": "vV8B2RvcWaAW",
        "outputId": "595c3814-2fd5-4cc0-d2b1-282522bacc91"
      },
      "execution_count": null,
      "outputs": [
        {
          "output_type": "stream",
          "name": "stdout",
          "text": [
            "rank: tf.Tensor(3, shape=(), dtype=int32)\n",
            "tensor3: tf.Tensor(\n",
            "[[[ 1  2  3  4]\n",
            "  [ 5  6  7  8]]\n",
            "\n",
            " [[ 9 10 11 12]\n",
            "  [13 14 15 16]]\n",
            "\n",
            " [[17 18 19 20]\n",
            "  [21 22 23 24]]], shape=(3, 2, 4), dtype=int32)\n"
          ]
        }
      ]
    },
    {
      "cell_type": "code",
      "source": [
        "# 랭크-4 텐서 만들기\n",
        "tensor4 = tf.stack([tensor1, tensor2])\n",
        "\n",
        "# 랭크 확인\n",
        "print(\"rank:\", tf.rank(tensor4))\n",
        "\n",
        "# 텐서 출력\n",
        "print(\"tensor4:\", tensor4)"
      ],
      "metadata": {
        "colab": {
          "base_uri": "https://localhost:8080/"
        },
        "id": "11At4Px2Wcew",
        "outputId": "d8f7be92-7777-426c-ff99-97501ed4d365"
      },
      "execution_count": null,
      "outputs": [
        {
          "output_type": "stream",
          "name": "stdout",
          "text": [
            "rank: tf.Tensor(4, shape=(), dtype=int32)\n",
            "tensor4: tf.Tensor(\n",
            "[[[[ 1  2  3  4]\n",
            "   [ 5  6  7  8]]\n",
            "\n",
            "  [[ 9 10 11 12]\n",
            "   [13 14 15 16]]\n",
            "\n",
            "  [[17 18 19 20]\n",
            "   [21 22 23 24]]]\n",
            "\n",
            "\n",
            " [[[ 1  2  3  4]\n",
            "   [ 5  6  7  8]]\n",
            "\n",
            "  [[ 9 10 11 12]\n",
            "   [13 14 15 16]]\n",
            "\n",
            "  [[17 18 19 20]\n",
            "   [21 22 23 24]]]], shape=(2, 3, 2, 4), dtype=int32)\n"
          ]
        }
      ]
    },
    {
      "cell_type": "markdown",
      "source": [
        "### 6. Indexing"
      ],
      "metadata": {
        "id": "J0Wp89G7WioC"
      }
    },
    {
      "cell_type": "code",
      "source": [
        "# 벡터 정의하기\n",
        "vec = tf.constant([10, 20, 30, 40, 50])\n",
        "print(vec)"
      ],
      "metadata": {
        "colab": {
          "base_uri": "https://localhost:8080/"
        },
        "id": "pyFe3s8IWhi1",
        "outputId": "5886ccf4-c1cd-4de0-efb2-a77b4c097b17"
      },
      "execution_count": null,
      "outputs": [
        {
          "output_type": "stream",
          "name": "stdout",
          "text": [
            "tf.Tensor([10 20 30 40 50], shape=(5,), dtype=int32)\n"
          ]
        }
      ]
    },
    {
      "cell_type": "code",
      "source": [
        "print(vec[0])"
      ],
      "metadata": {
        "colab": {
          "base_uri": "https://localhost:8080/"
        },
        "id": "gsnqjzbebRbt",
        "outputId": "e4a5ca6f-d021-4301-958b-fc94bfa0363f"
      },
      "execution_count": null,
      "outputs": [
        {
          "output_type": "stream",
          "name": "stdout",
          "text": [
            "tf.Tensor(10, shape=(), dtype=int32)\n"
          ]
        }
      ]
    },
    {
      "cell_type": "code",
      "source": [
        "print(vec[-1])"
      ],
      "metadata": {
        "colab": {
          "base_uri": "https://localhost:8080/"
        },
        "id": "A7wd7z4CbTUa",
        "outputId": "6d1d6422-fc63-4a67-c9c3-42ac0eb762fc"
      },
      "execution_count": null,
      "outputs": [
        {
          "output_type": "stream",
          "name": "stdout",
          "text": [
            "tf.Tensor(50, shape=(), dtype=int32)\n"
          ]
        }
      ]
    },
    {
      "cell_type": "code",
      "source": [
        "print(vec[:3])"
      ],
      "metadata": {
        "colab": {
          "base_uri": "https://localhost:8080/"
        },
        "id": "zYidZrfYbUyc",
        "outputId": "e8db183c-b172-4e90-a0da-14db36f12e85"
      },
      "execution_count": null,
      "outputs": [
        {
          "output_type": "stream",
          "name": "stdout",
          "text": [
            "tf.Tensor([10 20 30], shape=(3,), dtype=int32)\n"
          ]
        }
      ]
    },
    {
      "cell_type": "code",
      "source": [
        "# 행렬 정의하기\n",
        "mat = tf.constant([[10, 20, 30], \n",
        "                    [40, 50, 60]])\n",
        "\n",
        "print(mat)"
      ],
      "metadata": {
        "colab": {
          "base_uri": "https://localhost:8080/"
        },
        "id": "A2mxvUyHbbqV",
        "outputId": "15866632-34eb-4ccd-bfe7-cd6472f395b0"
      },
      "execution_count": null,
      "outputs": [
        {
          "output_type": "stream",
          "name": "stdout",
          "text": [
            "tf.Tensor(\n",
            "[[10 20 30]\n",
            " [40 50 60]], shape=(2, 3), dtype=int32)\n"
          ]
        }
      ]
    },
    {
      "cell_type": "code",
      "source": [
        "print(mat[0, 2])"
      ],
      "metadata": {
        "colab": {
          "base_uri": "https://localhost:8080/"
        },
        "id": "GMb9e7I6be-g",
        "outputId": "7ac07645-dd6d-4545-e922-019a5be58fde"
      },
      "execution_count": null,
      "outputs": [
        {
          "output_type": "stream",
          "name": "stdout",
          "text": [
            "tf.Tensor(30, shape=(), dtype=int32)\n"
          ]
        }
      ]
    },
    {
      "cell_type": "code",
      "source": [
        "print(mat[0, :])"
      ],
      "metadata": {
        "colab": {
          "base_uri": "https://localhost:8080/"
        },
        "id": "AVSOS2Hlbmwa",
        "outputId": "8b35cc56-17a3-4a41-8ceb-29f269d37cac"
      },
      "execution_count": null,
      "outputs": [
        {
          "output_type": "stream",
          "name": "stdout",
          "text": [
            "tf.Tensor([10 20 30], shape=(3,), dtype=int32)\n"
          ]
        }
      ]
    },
    {
      "cell_type": "code",
      "source": [
        "print(mat[:, 1])"
      ],
      "metadata": {
        "colab": {
          "base_uri": "https://localhost:8080/"
        },
        "id": "5RHfeHqkbori",
        "outputId": "9f9d98fc-e3fd-4240-8d70-dc4b99df51b0"
      },
      "execution_count": null,
      "outputs": [
        {
          "output_type": "stream",
          "name": "stdout",
          "text": [
            "tf.Tensor([20 50], shape=(2,), dtype=int32)\n"
          ]
        }
      ]
    },
    {
      "cell_type": "code",
      "source": [
        "print(mat[:, :])"
      ],
      "metadata": {
        "colab": {
          "base_uri": "https://localhost:8080/"
        },
        "id": "MU1XNYINbxLU",
        "outputId": "595f7110-3a07-4a72-ebff-2c9fbdde9770"
      },
      "execution_count": null,
      "outputs": [
        {
          "output_type": "stream",
          "name": "stdout",
          "text": [
            "tf.Tensor(\n",
            "[[10 20 30]\n",
            " [40 50 60]], shape=(2, 3), dtype=int32)\n"
          ]
        }
      ]
    },
    {
      "cell_type": "code",
      "source": [
        "# 랭크-3 텐서 정의하기\n",
        "tensor = tf.constant([\n",
        "    [[10, 20, 30], \n",
        "     [40, 50, 60]],\n",
        "    [[-10, -20, -30], \n",
        "     [-40, -50, -60]],   \n",
        "])\n",
        "print(tensor)"
      ],
      "metadata": {
        "colab": {
          "base_uri": "https://localhost:8080/"
        },
        "id": "ABwU0UdMbzlo",
        "outputId": "2fc51193-517a-4d5f-9f18-60fda0236f30"
      },
      "execution_count": null,
      "outputs": [
        {
          "output_type": "stream",
          "name": "stdout",
          "text": [
            "tf.Tensor(\n",
            "[[[ 10  20  30]\n",
            "  [ 40  50  60]]\n",
            "\n",
            " [[-10 -20 -30]\n",
            "  [-40 -50 -60]]], shape=(2, 2, 3), dtype=int32)\n"
          ]
        }
      ]
    },
    {
      "cell_type": "code",
      "source": [
        "print(tensor[0, :, :])"
      ],
      "metadata": {
        "colab": {
          "base_uri": "https://localhost:8080/"
        },
        "id": "KlfQ3IV8b33r",
        "outputId": "25a0f54d-42d5-4d66-b624-0e2487bed0bc"
      },
      "execution_count": null,
      "outputs": [
        {
          "output_type": "stream",
          "name": "stdout",
          "text": [
            "tf.Tensor(\n",
            "[[10 20 30]\n",
            " [40 50 60]], shape=(2, 3), dtype=int32)\n"
          ]
        }
      ]
    },
    {
      "cell_type": "code",
      "source": [
        "print(tensor[:, :1, :2])"
      ],
      "metadata": {
        "colab": {
          "base_uri": "https://localhost:8080/"
        },
        "id": "e1DTTrFMcKhm",
        "outputId": "4cd9d0d8-7157-48b8-c8b7-a73d133fc715"
      },
      "execution_count": null,
      "outputs": [
        {
          "output_type": "stream",
          "name": "stdout",
          "text": [
            "tf.Tensor(\n",
            "[[[ 10  20]]\n",
            "\n",
            " [[-10 -20]]], shape=(2, 1, 2), dtype=int32)\n"
          ]
        }
      ]
    },
    {
      "cell_type": "code",
      "source": [
        "print(tensor[:, :2, :2])"
      ],
      "metadata": {
        "colab": {
          "base_uri": "https://localhost:8080/"
        },
        "id": "YG_z3g2mcRSB",
        "outputId": "46ac777e-622d-4e8a-935c-9cd92063e3c0"
      },
      "execution_count": null,
      "outputs": [
        {
          "output_type": "stream",
          "name": "stdout",
          "text": [
            "tf.Tensor(\n",
            "[[[ 10  20]\n",
            "  [ 40  50]]\n",
            "\n",
            " [[-10 -20]\n",
            "  [-40 -50]]], shape=(2, 2, 2), dtype=int32)\n"
          ]
        }
      ]
    },
    {
      "cell_type": "markdown",
      "source": [
        "### 7. Reshape"
      ],
      "metadata": {
        "id": "gxedE4LgcU1H"
      }
    },
    {
      "cell_type": "code",
      "source": [
        "# 랭크-1 텐서 정의하기\n",
        "tensor = tf.constant(range(0, 24))\n",
        "print(tensor)"
      ],
      "metadata": {
        "colab": {
          "base_uri": "https://localhost:8080/"
        },
        "id": "ggUunuoucXRY",
        "outputId": "9b6709de-6022-4a82-bf36-88cc5bf82f86"
      },
      "execution_count": null,
      "outputs": [
        {
          "output_type": "stream",
          "name": "stdout",
          "text": [
            "tf.Tensor([ 0  1  2  3  4  5  6  7  8  9 10 11 12 13 14 15 16 17 18 19 20 21 22 23], shape=(24,), dtype=int32)\n"
          ]
        }
      ]
    },
    {
      "cell_type": "code",
      "source": [
        "tensor1 = tf.reshape(tensor, [3, 8])\n",
        "print(tensor1)"
      ],
      "metadata": {
        "colab": {
          "base_uri": "https://localhost:8080/"
        },
        "id": "1og-R8ZhdMon",
        "outputId": "25619a24-73dc-4767-bd56-4f176796b380"
      },
      "execution_count": null,
      "outputs": [
        {
          "output_type": "stream",
          "name": "stdout",
          "text": [
            "tf.Tensor(\n",
            "[[ 0  1  2  3  4  5  6  7]\n",
            " [ 8  9 10 11 12 13 14 15]\n",
            " [16 17 18 19 20 21 22 23]], shape=(3, 8), dtype=int32)\n"
          ]
        }
      ]
    },
    {
      "cell_type": "code",
      "source": [
        "tensor2 = tf.reshape(tensor1, [-1, 4])\n",
        "print(tensor2)"
      ],
      "metadata": {
        "colab": {
          "base_uri": "https://localhost:8080/"
        },
        "id": "L02lh-WbdPKH",
        "outputId": "f970cd12-e600-4251-e9c1-d63dc1370657"
      },
      "execution_count": null,
      "outputs": [
        {
          "output_type": "stream",
          "name": "stdout",
          "text": [
            "tf.Tensor(\n",
            "[[ 0  1  2  3]\n",
            " [ 4  5  6  7]\n",
            " [ 8  9 10 11]\n",
            " [12 13 14 15]\n",
            " [16 17 18 19]\n",
            " [20 21 22 23]], shape=(6, 4), dtype=int32)\n"
          ]
        }
      ]
    },
    {
      "cell_type": "code",
      "source": [
        "tensor3 = tf.reshape(tensor2, [-1])\n",
        "print(tensor3)"
      ],
      "metadata": {
        "colab": {
          "base_uri": "https://localhost:8080/"
        },
        "id": "jNaVPy5KdTTE",
        "outputId": "5db9e441-114e-4a4c-9bea-a6bcf2e6bd50"
      },
      "execution_count": null,
      "outputs": [
        {
          "output_type": "stream",
          "name": "stdout",
          "text": [
            "tf.Tensor([ 0  1  2  3  4  5  6  7  8  9 10 11 12 13 14 15 16 17 18 19 20 21 22 23], shape=(24,), dtype=int32)\n"
          ]
        }
      ]
    },
    {
      "cell_type": "code",
      "source": [
        "tensor4 = tf.reshape(tensor3, [-1, 3, 4])\n",
        "print(tensor4)"
      ],
      "metadata": {
        "colab": {
          "base_uri": "https://localhost:8080/"
        },
        "id": "0GvE3jP9dWPJ",
        "outputId": "51aa89e6-b15d-4f31-e0a0-77fe693ea910"
      },
      "execution_count": null,
      "outputs": [
        {
          "output_type": "stream",
          "name": "stdout",
          "text": [
            "tf.Tensor(\n",
            "[[[ 0  1  2  3]\n",
            "  [ 4  5  6  7]\n",
            "  [ 8  9 10 11]]\n",
            "\n",
            " [[12 13 14 15]\n",
            "  [16 17 18 19]\n",
            "  [20 21 22 23]]], shape=(2, 3, 4), dtype=int32)\n"
          ]
        }
      ]
    },
    {
      "cell_type": "code",
      "source": [
        "tensor5 = tf.reshape(tensor4, [3, 2, 4])\n",
        "print(tensor5)"
      ],
      "metadata": {
        "colab": {
          "base_uri": "https://localhost:8080/"
        },
        "id": "SnU5cOugdZ42",
        "outputId": "e2fe6f61-9db4-4181-ea9f-8c95a7fddc85"
      },
      "execution_count": null,
      "outputs": [
        {
          "output_type": "stream",
          "name": "stdout",
          "text": [
            "tf.Tensor(\n",
            "[[[ 0  1  2  3]\n",
            "  [ 4  5  6  7]]\n",
            "\n",
            " [[ 8  9 10 11]\n",
            "  [12 13 14 15]]\n",
            "\n",
            " [[16 17 18 19]\n",
            "  [20 21 22 23]]], shape=(3, 2, 4), dtype=int32)\n"
          ]
        }
      ]
    },
    {
      "cell_type": "code",
      "source": [
        "tensor6 = tf.reshape(tensor5, [3, 2, 2, 2])\n",
        "print(tensor6)"
      ],
      "metadata": {
        "colab": {
          "base_uri": "https://localhost:8080/"
        },
        "id": "K6GSfM9Nddmb",
        "outputId": "d8e9941b-9778-464b-cc42-3a85ccdd29e3"
      },
      "execution_count": null,
      "outputs": [
        {
          "output_type": "stream",
          "name": "stdout",
          "text": [
            "tf.Tensor(\n",
            "[[[[ 0  1]\n",
            "   [ 2  3]]\n",
            "\n",
            "  [[ 4  5]\n",
            "   [ 6  7]]]\n",
            "\n",
            "\n",
            " [[[ 8  9]\n",
            "   [10 11]]\n",
            "\n",
            "  [[12 13]\n",
            "   [14 15]]]\n",
            "\n",
            "\n",
            " [[[16 17]\n",
            "   [18 19]]\n",
            "\n",
            "  [[20 21]\n",
            "   [22 23]]]], shape=(3, 2, 2, 2), dtype=int32)\n"
          ]
        }
      ]
    }
  ]
}