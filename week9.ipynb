{
  "nbformat": 4,
  "nbformat_minor": 0,
  "metadata": {
    "colab": {
      "name": "week9.ipynb",
      "provenance": [],
      "collapsed_sections": [],
      "toc_visible": true,
      "authorship_tag": "ABX9TyPEFvnU3EkINzqSLeTw7hFS",
      "include_colab_link": true
    },
    "kernelspec": {
      "name": "python3",
      "display_name": "Python 3"
    },
    "language_info": {
      "name": "python"
    },
    "accelerator": "GPU"
  },
  "cells": [
    {
      "cell_type": "markdown",
      "metadata": {
        "id": "view-in-github",
        "colab_type": "text"
      },
      "source": [
        "<a href=\"https://colab.research.google.com/github/EON-LEE/Course-DeepLearning/blob/main/week9.ipynb\" target=\"_parent\"><img src=\"https://colab.research.google.com/assets/colab-badge.svg\" alt=\"Open In Colab\"/></a>"
      ]
    },
    {
      "cell_type": "markdown",
      "source": [
        "# 딥러닝 강의 9주차"
      ],
      "metadata": {
        "id": "Nfss5hh_d6J6"
      }
    },
    {
      "cell_type": "markdown",
      "source": [
        "## Simple Linear Regressing with Neural Networks"
      ],
      "metadata": {
        "id": "vsv-dyQkhIsW"
      }
    },
    {
      "cell_type": "markdown",
      "source": [
        "### 데이터셋 만들기"
      ],
      "metadata": {
        "id": "sh4yxSsIhQGh"
      }
    },
    {
      "cell_type": "code",
      "execution_count": 1,
      "metadata": {
        "colab": {
          "base_uri": "https://localhost:8080/"
        },
        "id": "ByxVXwoTdpKw",
        "outputId": "61e5276f-5f96-4c9e-8f0d-b9b22eee070d"
      },
      "outputs": [
        {
          "output_type": "stream",
          "name": "stdout",
          "text": [
            "[1 2 3 4 5]\n",
            "[ 5  8 11 14 17]\n"
          ]
        }
      ],
      "source": [
        "import numpy as np\n",
        "\n",
        "# 샘플 데이터셋 생성\n",
        "x = np.arange(1, 6)\n",
        "\n",
        "# y = 3x + 2\n",
        "y = 3 * x + 2\n",
        "print(x)\n",
        "print(y)"
      ]
    },
    {
      "cell_type": "code",
      "source": [
        "import matplotlib.pyplot as plt\n",
        "\n",
        "# 시각화\n",
        "plt.plot(x, y)\n",
        "plt.title('y = 3x + 2')\n",
        "plt.show()"
      ],
      "metadata": {
        "colab": {
          "base_uri": "https://localhost:8080/",
          "height": 281
        },
        "id": "AIoIg7evhXXc",
        "outputId": "97c2dd19-9498-4a9b-a228-6df92494f112"
      },
      "execution_count": 2,
      "outputs": [
        {
          "output_type": "display_data",
          "data": {
            "text/plain": [
              "<Figure size 432x288 with 1 Axes>"
            ],
            "image/png": "[encoded data removed]"
          },
          "metadata": {
            "needs_background": "light"
          }
        }
      ]
    },
    {
      "cell_type": "markdown",
      "source": [
        "### 모델구조"
      ],
      "metadata": {
        "id": "C7YvdBbzhbDk"
      }
    },
    {
      "cell_type": "code",
      "source": [
        "import tensorflow as tf"
      ],
      "metadata": {
        "id": "nHXZfWc4hfxe"
      },
      "execution_count": 3,
      "outputs": []
    },
    {
      "cell_type": "code",
      "source": [
        "# 리스트형\n",
        "model = tf.keras.Sequential([\n",
        "    tf.keras.layers.Dense(10), \n",
        "    tf.keras.layers.Dense(5), \n",
        "    tf.keras.layers.Dense(1), \n",
        "])"
      ],
      "metadata": {
        "id": "qHpvlqsIibPc"
      },
      "execution_count": 4,
      "outputs": []
    },
    {
      "cell_type": "code",
      "source": [
        "# add 함수로 레이어 추가\n",
        "model = tf.keras.Sequential()\n",
        "model.add(tf.keras.layers.Dense(10))\n",
        "model.add(tf.keras.layers.Dense(5))\n",
        "model.add(tf.keras.layers.Dense(1))"
      ],
      "metadata": {
        "id": "Ip9zZy8EicB7"
      },
      "execution_count": 5,
      "outputs": []
    },
    {
      "cell_type": "code",
      "source": [
        "import tensorflow as tf"
      ],
      "metadata": {
        "id": "sK4qnBhvj2J8"
      },
      "execution_count": 6,
      "outputs": []
    },
    {
      "cell_type": "code",
      "source": [
        "model = tf.keras.Sequential([\n",
        "    # 입력 데이터의 shape = (150, 4) 인 경우 input_shape 지정 \n",
        "    tf.keras.layers.Dense(10, input_shape=[4]), \n",
        "    tf.keras.layers.Dense(5), \n",
        "    tf.keras.layers.Dense(1), \n",
        "])"
      ],
      "metadata": {
        "id": "YFMFkls-j3nd"
      },
      "execution_count": 7,
      "outputs": []
    },
    {
      "cell_type": "markdown",
      "source": [
        "### 선형회귀모형 생성"
      ],
      "metadata": {
        "id": "jE0p0Jp0j8Wu"
      }
    },
    {
      "cell_type": "code",
      "source": [
        "# 단순선형회귀 모델 생성\n",
        "model = tf.keras.Sequential([\n",
        "    tf.keras.layers.Dense(1, input_shape=[1])                    \n",
        "])"
      ],
      "metadata": {
        "id": "tZF2-IvQj-aC"
      },
      "execution_count": 8,
      "outputs": []
    },
    {
      "cell_type": "code",
      "source": [
        "# 모델 요약\n",
        "model.summary()"
      ],
      "metadata": {
        "colab": {
          "base_uri": "https://localhost:8080/"
        },
        "id": "EecQLCw1kG5x",
        "outputId": "520764b3-be70-4a03-edee-fe14d1dde3c2"
      },
      "execution_count": 9,
      "outputs": [
        {
          "output_type": "stream",
          "name": "stdout",
          "text": [
            "Model: \"sequential_3\"\n",
            "_________________________________________________________________\n",
            " Layer (type)                Output Shape              Param #   \n",
            "=================================================================\n",
            " dense_9 (Dense)             (None, 1)                 2         \n",
            "                                                                 \n",
            "=================================================================\n",
            "Total params: 2\n",
            "Trainable params: 2\n",
            "Non-trainable params: 0\n",
            "_________________________________________________________________\n"
          ]
        }
      ]
    },
    {
      "cell_type": "code",
      "source": [
        "tf.keras.utils.plot_model(model, show_shapes=True)"
      ],
      "metadata": {
        "colab": {
          "base_uri": "https://localhost:8080/",
          "height": 201
        },
        "id": "GR7ehG_BkIDP",
        "outputId": "ec4105f2-3164-46ba-8e97-df8f28082ed1"
      },
      "execution_count": 10,
      "outputs": [
        {
          "output_type": "execute_result",
          "data": {
            "text/plain": [
              "<IPython.core.display.Image object>"
            ],
            "image/png": "[encoded data removed]"
          },
          "metadata": {},
          "execution_count": 10
        }
      ]
    },
    {
      "cell_type": "code",
      "source": [
        "# 클래스 인스턴스 지정\n",
        "model.compile(optimizer=tf.keras.optimizers.SGD(learning_rate=0.005), \n",
        "              loss=tf.keras.losses.MeanAbsoluteError(), \n",
        "              metrics=[tf.keras.metrics.MeanAbsoluteError(), \n",
        "                       tf.keras.metrics.MeanSquaredError()\n",
        "                       ])"
      ],
      "metadata": {
        "id": "fbTtPteVkjK9"
      },
      "execution_count": 11,
      "outputs": []
    },
    {
      "cell_type": "code",
      "source": [
        "# 컴파일\n",
        "model.compile(optimizer='sgd', loss='mse', metrics=['mae'])\n",
        "\n"
      ],
      "metadata": {
        "id": "kkDsIAZ-kpPk"
      },
      "execution_count": 12,
      "outputs": []
    },
    {
      "cell_type": "code",
      "source": [
        "\n",
        "# 훈련\n",
        "history = model.fit(x, y, epochs=100)"
      ],
      "metadata": {
        "colab": {
          "base_uri": "https://localhost:8080/"
        },
        "id": "QypX1QWaRQ83",
        "outputId": "44244162-b9e0-46cc-a770-e74a939397f5"
      },
      "execution_count": 13,
      "outputs": [
        {
          "output_type": "stream",
          "name": "stdout",
          "text": [
            "Epoch 1/100\n",
            "1/1 [==============================] - 3s 3s/step - loss: 133.3827 - mae: 10.7817\n",
            "Epoch 2/100\n",
            "1/1 [==============================] - 0s 14ms/step - loss: 77.8200 - mae: 8.2741\n",
            "Epoch 3/100\n",
            "1/1 [==============================] - 0s 14ms/step - loss: 45.4402 - mae: 6.3597\n",
            "Epoch 4/100\n",
            "1/1 [==============================] - 0s 23ms/step - loss: 26.5702 - mae: 4.8981\n",
            "Epoch 5/100\n",
            "1/1 [==============================] - 0s 25ms/step - loss: 15.5731 - mae: 3.7822\n",
            "Epoch 6/100\n",
            "1/1 [==============================] - 0s 11ms/step - loss: 9.1639 - mae: 2.9303\n",
            "Epoch 7/100\n",
            "1/1 [==============================] - 0s 13ms/step - loss: 5.4284 - mae: 2.2797\n",
            "Epoch 8/100\n",
            "1/1 [==============================] - 0s 12ms/step - loss: 3.2509 - mae: 1.7830\n",
            "Epoch 9/100\n",
            "1/1 [==============================] - 0s 28ms/step - loss: 1.9814 - mae: 1.4036\n",
            "Epoch 10/100\n",
            "1/1 [==============================] - 0s 20ms/step - loss: 1.2410 - mae: 1.1139\n",
            "Epoch 11/100\n",
            "1/1 [==============================] - 0s 8ms/step - loss: 0.8089 - mae: 0.8925\n",
            "Epoch 12/100\n",
            "1/1 [==============================] - 0s 14ms/step - loss: 0.5566 - mae: 0.7235\n",
            "Epoch 13/100\n",
            "1/1 [==============================] - 0s 9ms/step - loss: 0.4090 - mae: 0.5942\n",
            "Epoch 14/100\n",
            "1/1 [==============================] - 0s 8ms/step - loss: 0.3223 - mae: 0.4954\n",
            "Epoch 15/100\n",
            "1/1 [==============================] - 0s 9ms/step - loss: 0.2713 - mae: 0.4263\n",
            "Epoch 16/100\n",
            "1/1 [==============================] - 0s 11ms/step - loss: 0.2410 - mae: 0.4048\n",
            "Epoch 17/100\n",
            "1/1 [==============================] - 0s 11ms/step - loss: 0.2228 - mae: 0.3881\n",
            "Epoch 18/100\n",
            "1/1 [==============================] - 0s 11ms/step - loss: 0.2116 - mae: 0.3751\n",
            "Epoch 19/100\n",
            "1/1 [==============================] - 0s 12ms/step - loss: 0.2045 - mae: 0.3669\n",
            "Epoch 20/100\n",
            "1/1 [==============================] - 0s 19ms/step - loss: 0.1999 - mae: 0.3688\n",
            "Epoch 21/100\n",
            "1/1 [==============================] - 0s 16ms/step - loss: 0.1966 - mae: 0.3700\n",
            "Epoch 22/100\n",
            "1/1 [==============================] - 0s 13ms/step - loss: 0.1942 - mae: 0.3706\n",
            "Epoch 23/100\n",
            "1/1 [==============================] - 0s 10ms/step - loss: 0.1922 - mae: 0.3708\n",
            "Epoch 24/100\n",
            "1/1 [==============================] - 0s 10ms/step - loss: 0.1905 - mae: 0.3706\n",
            "Epoch 25/100\n",
            "1/1 [==============================] - 0s 9ms/step - loss: 0.1890 - mae: 0.3702\n",
            "Epoch 26/100\n",
            "1/1 [==============================] - 0s 10ms/step - loss: 0.1876 - mae: 0.3695\n",
            "Epoch 27/100\n",
            "1/1 [==============================] - 0s 14ms/step - loss: 0.1863 - mae: 0.3688\n",
            "Epoch 28/100\n",
            "1/1 [==============================] - 0s 14ms/step - loss: 0.1850 - mae: 0.3679\n",
            "Epoch 29/100\n",
            "1/1 [==============================] - 0s 16ms/step - loss: 0.1837 - mae: 0.3669\n",
            "Epoch 30/100\n",
            "1/1 [==============================] - 0s 9ms/step - loss: 0.1825 - mae: 0.3659\n",
            "Epoch 31/100\n",
            "1/1 [==============================] - 0s 20ms/step - loss: 0.1812 - mae: 0.3648\n",
            "Epoch 32/100\n",
            "1/1 [==============================] - 0s 17ms/step - loss: 0.1800 - mae: 0.3637\n",
            "Epoch 33/100\n",
            "1/1 [==============================] - 0s 21ms/step - loss: 0.1788 - mae: 0.3626\n",
            "Epoch 34/100\n",
            "1/1 [==============================] - 0s 11ms/step - loss: 0.1776 - mae: 0.3614\n",
            "Epoch 35/100\n",
            "1/1 [==============================] - 0s 9ms/step - loss: 0.1764 - mae: 0.3603\n",
            "Epoch 36/100\n",
            "1/1 [==============================] - 0s 10ms/step - loss: 0.1752 - mae: 0.3591\n",
            "Epoch 37/100\n",
            "1/1 [==============================] - 0s 12ms/step - loss: 0.1740 - mae: 0.3579\n",
            "Epoch 38/100\n",
            "1/1 [==============================] - 0s 11ms/step - loss: 0.1728 - mae: 0.3567\n",
            "Epoch 39/100\n",
            "1/1 [==============================] - 0s 12ms/step - loss: 0.1716 - mae: 0.3555\n",
            "Epoch 40/100\n",
            "1/1 [==============================] - 0s 19ms/step - loss: 0.1705 - mae: 0.3544\n",
            "Epoch 41/100\n",
            "1/1 [==============================] - 0s 11ms/step - loss: 0.1693 - mae: 0.3532\n",
            "Epoch 42/100\n",
            "1/1 [==============================] - 0s 10ms/step - loss: 0.1682 - mae: 0.3520\n",
            "Epoch 43/100\n",
            "1/1 [==============================] - 0s 19ms/step - loss: 0.1671 - mae: 0.3508\n",
            "Epoch 44/100\n",
            "1/1 [==============================] - 0s 10ms/step - loss: 0.1659 - mae: 0.3496\n",
            "Epoch 45/100\n",
            "1/1 [==============================] - 0s 14ms/step - loss: 0.1648 - mae: 0.3484\n",
            "Epoch 46/100\n",
            "1/1 [==============================] - 0s 10ms/step - loss: 0.1637 - mae: 0.3473\n",
            "Epoch 47/100\n",
            "1/1 [==============================] - 0s 10ms/step - loss: 0.1626 - mae: 0.3461\n",
            "Epoch 48/100\n",
            "1/1 [==============================] - 0s 9ms/step - loss: 0.1615 - mae: 0.3449\n",
            "Epoch 49/100\n",
            "1/1 [==============================] - 0s 9ms/step - loss: 0.1604 - mae: 0.3438\n",
            "Epoch 50/100\n",
            "1/1 [==============================] - 0s 12ms/step - loss: 0.1593 - mae: 0.3426\n",
            "Epoch 51/100\n",
            "1/1 [==============================] - 0s 12ms/step - loss: 0.1582 - mae: 0.3414\n",
            "Epoch 52/100\n",
            "1/1 [==============================] - 0s 10ms/step - loss: 0.1572 - mae: 0.3403\n",
            "Epoch 53/100\n",
            "1/1 [==============================] - 0s 9ms/step - loss: 0.1561 - mae: 0.3391\n",
            "Epoch 54/100\n",
            "1/1 [==============================] - 0s 10ms/step - loss: 0.1551 - mae: 0.3380\n",
            "Epoch 55/100\n",
            "1/1 [==============================] - 0s 10ms/step - loss: 0.1540 - mae: 0.3368\n",
            "Epoch 56/100\n",
            "1/1 [==============================] - 0s 11ms/step - loss: 0.1530 - mae: 0.3357\n",
            "Epoch 57/100\n",
            "1/1 [==============================] - 0s 10ms/step - loss: 0.1519 - mae: 0.3346\n",
            "Epoch 58/100\n",
            "1/1 [==============================] - 0s 10ms/step - loss: 0.1509 - mae: 0.3334\n",
            "Epoch 59/100\n",
            "1/1 [==============================] - 0s 10ms/step - loss: 0.1499 - mae: 0.3323\n",
            "Epoch 60/100\n",
            "1/1 [==============================] - 0s 8ms/step - loss: 0.1489 - mae: 0.3312\n",
            "Epoch 61/100\n",
            "1/1 [==============================] - 0s 10ms/step - loss: 0.1479 - mae: 0.3301\n",
            "Epoch 62/100\n",
            "1/1 [==============================] - 0s 10ms/step - loss: 0.1469 - mae: 0.3290\n",
            "Epoch 63/100\n",
            "1/1 [==============================] - 0s 11ms/step - loss: 0.1459 - mae: 0.3278\n",
            "Epoch 64/100\n",
            "1/1 [==============================] - 0s 10ms/step - loss: 0.1449 - mae: 0.3267\n",
            "Epoch 65/100\n",
            "1/1 [==============================] - 0s 12ms/step - loss: 0.1439 - mae: 0.3256\n",
            "Epoch 66/100\n",
            "1/1 [==============================] - 0s 11ms/step - loss: 0.1430 - mae: 0.3245\n",
            "Epoch 67/100\n",
            "1/1 [==============================] - 0s 10ms/step - loss: 0.1420 - mae: 0.3234\n",
            "Epoch 68/100\n",
            "1/1 [==============================] - 0s 17ms/step - loss: 0.1410 - mae: 0.3223\n",
            "Epoch 69/100\n",
            "1/1 [==============================] - 0s 12ms/step - loss: 0.1401 - mae: 0.3213\n",
            "Epoch 70/100\n",
            "1/1 [==============================] - 0s 10ms/step - loss: 0.1391 - mae: 0.3202\n",
            "Epoch 71/100\n",
            "1/1 [==============================] - 0s 11ms/step - loss: 0.1382 - mae: 0.3191\n",
            "Epoch 72/100\n",
            "1/1 [==============================] - 0s 13ms/step - loss: 0.1373 - mae: 0.3180\n",
            "Epoch 73/100\n",
            "1/1 [==============================] - 0s 22ms/step - loss: 0.1363 - mae: 0.3169\n",
            "Epoch 74/100\n",
            "1/1 [==============================] - 0s 28ms/step - loss: 0.1354 - mae: 0.3159\n",
            "Epoch 75/100\n",
            "1/1 [==============================] - 0s 12ms/step - loss: 0.1345 - mae: 0.3148\n",
            "Epoch 76/100\n",
            "1/1 [==============================] - 0s 12ms/step - loss: 0.1336 - mae: 0.3137\n",
            "Epoch 77/100\n",
            "1/1 [==============================] - 0s 11ms/step - loss: 0.1327 - mae: 0.3127\n",
            "Epoch 78/100\n",
            "1/1 [==============================] - 0s 10ms/step - loss: 0.1318 - mae: 0.3116\n",
            "Epoch 79/100\n",
            "1/1 [==============================] - 0s 21ms/step - loss: 0.1309 - mae: 0.3106\n",
            "Epoch 80/100\n",
            "1/1 [==============================] - 0s 8ms/step - loss: 0.1300 - mae: 0.3095\n",
            "Epoch 81/100\n",
            "1/1 [==============================] - 0s 10ms/step - loss: 0.1291 - mae: 0.3085\n",
            "Epoch 82/100\n",
            "1/1 [==============================] - 0s 9ms/step - loss: 0.1283 - mae: 0.3074\n",
            "Epoch 83/100\n",
            "1/1 [==============================] - 0s 9ms/step - loss: 0.1274 - mae: 0.3064\n",
            "Epoch 84/100\n",
            "1/1 [==============================] - 0s 8ms/step - loss: 0.1266 - mae: 0.3053\n",
            "Epoch 85/100\n",
            "1/1 [==============================] - 0s 9ms/step - loss: 0.1257 - mae: 0.3043\n",
            "Epoch 86/100\n",
            "1/1 [==============================] - 0s 9ms/step - loss: 0.1248 - mae: 0.3033\n",
            "Epoch 87/100\n",
            "1/1 [==============================] - 0s 14ms/step - loss: 0.1240 - mae: 0.3023\n",
            "Epoch 88/100\n",
            "1/1 [==============================] - 0s 9ms/step - loss: 0.1232 - mae: 0.3012\n",
            "Epoch 89/100\n",
            "1/1 [==============================] - 0s 28ms/step - loss: 0.1223 - mae: 0.3002\n",
            "Epoch 90/100\n",
            "1/1 [==============================] - 0s 17ms/step - loss: 0.1215 - mae: 0.2992\n",
            "Epoch 91/100\n",
            "1/1 [==============================] - 0s 14ms/step - loss: 0.1207 - mae: 0.2982\n",
            "Epoch 92/100\n",
            "1/1 [==============================] - 0s 13ms/step - loss: 0.1199 - mae: 0.2972\n",
            "Epoch 93/100\n",
            "1/1 [==============================] - 0s 12ms/step - loss: 0.1191 - mae: 0.2962\n",
            "Epoch 94/100\n",
            "1/1 [==============================] - 0s 9ms/step - loss: 0.1183 - mae: 0.2952\n",
            "Epoch 95/100\n",
            "1/1 [==============================] - 0s 11ms/step - loss: 0.1175 - mae: 0.2942\n",
            "Epoch 96/100\n",
            "1/1 [==============================] - 0s 10ms/step - loss: 0.1167 - mae: 0.2932\n",
            "Epoch 97/100\n",
            "1/1 [==============================] - 0s 10ms/step - loss: 0.1159 - mae: 0.2922\n",
            "Epoch 98/100\n",
            "1/1 [==============================] - 0s 16ms/step - loss: 0.1151 - mae: 0.2912\n",
            "Epoch 99/100\n",
            "1/1 [==============================] - 0s 7ms/step - loss: 0.1143 - mae: 0.2902\n",
            "Epoch 100/100\n",
            "1/1 [==============================] - 0s 9ms/step - loss: 0.1136 - mae: 0.2892\n"
          ]
        }
      ]
    },
    {
      "cell_type": "code",
      "source": [
        "import matplotlib.pyplot as plt\n",
        "\n",
        "# 20 에포크까지 Loss 수렴에 대한 시각화\n",
        "plt.plot(history.history['loss'], label='loss')\n",
        "plt.plot(history.history['mae'], label='mae')\n",
        "plt.xlim(-1, 20)\n",
        "plt.title('Loss')\n",
        "plt.legend()\n",
        "plt.show()"
      ],
      "metadata": {
        "colab": {
          "base_uri": "https://localhost:8080/",
          "height": 281
        },
        "id": "cQmJC12Tk3zw",
        "outputId": "e56f3070-796a-440e-cac4-996e7d897ebb"
      },
      "execution_count": 14,
      "outputs": [
        {
          "output_type": "display_data",
          "data": {
            "text/plain": [
              "<Figure size 432x288 with 1 Axes>"
            ],
            "image/png": "[encoded data removed]"
          },
          "metadata": {
            "needs_background": "light"
          }
        }
      ]
    },
    {
      "cell_type": "code",
      "source": [
        "# 검증\n",
        "model.evaluate(x, y)"
      ],
      "metadata": {
        "colab": {
          "base_uri": "https://localhost:8080/"
        },
        "id": "Ew7xdeXFk5a3",
        "outputId": "f92d8a77-b871-453e-d70b-8a3c2051c286"
      },
      "execution_count": 15,
      "outputs": [
        {
          "output_type": "stream",
          "name": "stdout",
          "text": [
            "1/1 [==============================] - 0s 289ms/step - loss: 0.1128 - mae: 0.2883\n"
          ]
        },
        {
          "output_type": "execute_result",
          "data": {
            "text/plain": [
              "[0.11278615146875381, 0.28825607895851135]"
            ]
          },
          "metadata": {},
          "execution_count": 15
        }
      ]
    },
    {
      "cell_type": "code",
      "source": [
        "# 예측\n",
        "model.predict([10])\n",
        "\n",
        "# 3 * 10 + 2 = 32"
      ],
      "metadata": {
        "colab": {
          "base_uri": "https://localhost:8080/"
        },
        "id": "AI_C6Rx2k7hz",
        "outputId": "42770df3-86c9-4a79-c7e7-16b78bde9dc8"
      },
      "execution_count": 16,
      "outputs": [
        {
          "output_type": "execute_result",
          "data": {
            "text/plain": [
              "array([[33.393177]], dtype=float32)"
            ]
          },
          "metadata": {},
          "execution_count": 16
        }
      ]
    },
    {
      "cell_type": "markdown",
      "source": [
        "## mnist classification with Neural Networks"
      ],
      "metadata": {
        "id": "JPfrgd_MlRbW"
      }
    },
    {
      "cell_type": "markdown",
      "source": [
        "### 데이터셋 만들기"
      ],
      "metadata": {
        "id": "oZjtyPRulalr"
      }
    },
    {
      "cell_type": "code",
      "source": [
        "import tensorflow as tf\n",
        "\n",
        "# 케라스의 내장 데이터셋에서 mnist 데이터셋을 로드\n",
        "mnist = tf.keras.datasets.mnist"
      ],
      "metadata": {
        "id": "gsuk46tPlWNi"
      },
      "execution_count": 17,
      "outputs": []
    },
    {
      "cell_type": "code",
      "source": [
        "# load_data()로 데이터셋을 로드 합니다.\n",
        "(x_train, y_train), (x_test, y_test) = mnist.load_data()"
      ],
      "metadata": {
        "colab": {
          "base_uri": "https://localhost:8080/"
        },
        "id": "bH0Ct_fFlZHc",
        "outputId": "cb803570-72be-4bc2-9da4-8adbfb08235b"
      },
      "execution_count": 18,
      "outputs": [
        {
          "output_type": "stream",
          "name": "stdout",
          "text": [
            "Downloading data from https://storage.googleapis.com/tensorflow/tf-keras-datasets/mnist.npz\n",
            "11493376/11490434 [==============================] - 0s 0us/step\n",
            "11501568/11490434 [==============================] - 0s 0us/step\n"
          ]
        }
      ]
    },
    {
      "cell_type": "code",
      "source": [
        "# 로드된 데이터셋 확인\n",
        "print('train set: ', x_train.shape, y_train.shape)\n",
        "print('test  set: ', x_test.shape, y_test.shape)"
      ],
      "metadata": {
        "colab": {
          "base_uri": "https://localhost:8080/"
        },
        "id": "gIoxclHTl_Wy",
        "outputId": "6611df96-2097-4384-c754-92bdc1110ddc"
      },
      "execution_count": 19,
      "outputs": [
        {
          "output_type": "stream",
          "name": "stdout",
          "text": [
            "train set:  (60000, 28, 28) (60000,)\n",
            "test  set:  (10000, 28, 28) (10000,)\n"
          ]
        }
      ]
    },
    {
      "cell_type": "code",
      "source": [
        "# 데이터 시각화\n",
        "import matplotlib.pyplot as plt\n",
        "\n",
        "# canvas 생성\n",
        "fig, axes = plt.subplots(3, 5)\n",
        "fig.set_size_inches(8, 5)\n",
        "\n",
        "for i in range(15):\n",
        "    ax = axes[i//5, i%5]\n",
        "    # imshow로 이미지 시각화\n",
        "    ax.imshow(x_train[i], cmap='gray')\n",
        "    ax.axis('off')\n",
        "    ax.set_title(str(y_train[i]))\n",
        "\n",
        "plt.tight_layout()\n",
        "plt.show()"
      ],
      "metadata": {
        "colab": {
          "base_uri": "https://localhost:8080/",
          "height": 371
        },
        "id": "mLwUfsBKoYwG",
        "outputId": "81e2af28-14cf-4b24-8594-e7886c82291b"
      },
      "execution_count": 20,
      "outputs": [
        {
          "output_type": "display_data",
          "data": {
            "text/plain": [
              "<Figure size 576x360 with 15 Axes>"
            ],
            "image/png": "[encoded data removed]"
          },
          "metadata": {
            "needs_background": "light"
          }
        }
      ]
    },
    {
      "cell_type": "markdown",
      "source": [
        "### 데이터 전처리"
      ],
      "metadata": {
        "id": "eCpmX2_ppL8e"
      }
    },
    {
      "cell_type": "code",
      "source": [
        "# x_train 배열의 데이터 확인\n",
        "x_train[0, 10:15, 10:15]"
      ],
      "metadata": {
        "colab": {
          "base_uri": "https://localhost:8080/"
        },
        "id": "XAf_aNUPoajR",
        "outputId": "035f1019-00ce-46e8-e366-d1906a2bd20e"
      },
      "execution_count": 21,
      "outputs": [
        {
          "output_type": "execute_result",
          "data": {
            "text/plain": [
              "array([[  1, 154, 253,  90,   0],\n",
              "       [  0, 139, 253, 190,   2],\n",
              "       [  0,  11, 190, 253,  70],\n",
              "       [  0,   0,  35, 241, 225],\n",
              "       [  0,   0,   0,  81, 240]], dtype=uint8)"
            ]
          },
          "metadata": {},
          "execution_count": 21
        }
      ]
    },
    {
      "cell_type": "code",
      "source": [
        "# 픽셀 값의 최소/최대 값 확인\n",
        "print(f'정규화 전] 최소값: {x_train.min()}, 최대값: {x_train.max()}')\n",
        "\n",
        "# 데이터 정규화\n",
        "x_train = x_train / x_train.max()\n",
        "\n",
        "# 정규화 후 최소/최대 값 확인\n",
        "print(f'정규화 후] 최소값: {x_train.min()}, 최대값: {x_train.max()}')"
      ],
      "metadata": {
        "colab": {
          "base_uri": "https://localhost:8080/"
        },
        "id": "ye_caP3Ipo0r",
        "outputId": "bdff472c-6110-42f3-ae5d-779ef4d3bb8f"
      },
      "execution_count": 22,
      "outputs": [
        {
          "output_type": "stream",
          "name": "stdout",
          "text": [
            "정규화 전] 최소값: 0, 최대값: 255\n",
            "정규화 후] 최소값: 0.0, 최대값: 1.0\n"
          ]
        }
      ]
    },
    {
      "cell_type": "code",
      "source": [
        "# x_train 배열의 데이터 확인\n",
        "x_train[0, 10:15, 10:15]"
      ],
      "metadata": {
        "colab": {
          "base_uri": "https://localhost:8080/"
        },
        "id": "OpCg6Ga3ptG8",
        "outputId": "6794472a-045f-4fd4-c4ad-ee5019a97e09"
      },
      "execution_count": 23,
      "outputs": [
        {
          "output_type": "execute_result",
          "data": {
            "text/plain": [
              "array([[0.00392157, 0.60392157, 0.99215686, 0.35294118, 0.        ],\n",
              "       [0.        , 0.54509804, 0.99215686, 0.74509804, 0.00784314],\n",
              "       [0.        , 0.04313725, 0.74509804, 0.99215686, 0.2745098 ],\n",
              "       [0.        , 0.        , 0.1372549 , 0.94509804, 0.88235294],\n",
              "       [0.        , 0.        , 0.        , 0.31764706, 0.94117647]])"
            ]
          },
          "metadata": {},
          "execution_count": 23
        }
      ]
    },
    {
      "cell_type": "code",
      "source": [
        "# test 셋에도 정규화 동일 적용\n",
        "x_test = x_test / x_test.max()"
      ],
      "metadata": {
        "id": "K-6OfGpypwWK"
      },
      "execution_count": 24,
      "outputs": []
    },
    {
      "cell_type": "markdown",
      "source": [
        "### Input 의 2가지 방법"
      ],
      "metadata": {
        "id": "LyfO2eQosJvo"
      }
    },
    {
      "cell_type": "code",
      "source": [
        "print(f'변경전 shape: {x_train.shape}')\n",
        "print(f'1D으로 shape 변경 후: {x_train.reshape(60000, -1).shape}')"
      ],
      "metadata": {
        "colab": {
          "base_uri": "https://localhost:8080/"
        },
        "id": "N7-gI308sEcH",
        "outputId": "59d2c8c8-94a7-46c4-9989-636b11c09eb8"
      },
      "execution_count": 25,
      "outputs": [
        {
          "output_type": "stream",
          "name": "stdout",
          "text": [
            "변경전 shape: (60000, 28, 28)\n",
            "1D으로 shape 변경 후: (60000, 784)\n"
          ]
        }
      ]
    },
    {
      "cell_type": "code",
      "source": [
        "print(f'변경전 shape: {x_train.shape}')\n",
        "\n",
        "# Flatten 레이어 적용 후 shape 확인\n",
        "print(f'Flatten 적용 후: {tf.keras.layers.Flatten()(x_train).shape}')"
      ],
      "metadata": {
        "colab": {
          "base_uri": "https://localhost:8080/"
        },
        "id": "d26obdJEsHaq",
        "outputId": "7b9edeee-fee2-4df6-f22c-d7942ac55a05"
      },
      "execution_count": 26,
      "outputs": [
        {
          "output_type": "stream",
          "name": "stdout",
          "text": [
            "변경전 shape: (60000, 28, 28)\n",
            "Flatten 적용 후: (60000, 784)\n"
          ]
        }
      ]
    },
    {
      "cell_type": "markdown",
      "source": [
        "### 모델 설계"
      ],
      "metadata": {
        "id": "6IFTXoIus9d-"
      }
    },
    {
      "cell_type": "markdown",
      "source": [
        "#### 출력 층이 1개 node 인 경우"
      ],
      "metadata": {
        "id": "eedSLczzQQmM"
      }
    },
    {
      "cell_type": "code",
      "source": [
        "# # 출력층 노드 = 1인 경우, sigmoid\n",
        "model = tf.keras.Sequential([\n",
        "    tf.keras.layers.Flatten(input_shape=(28, 28)), \n",
        "    tf.keras.layers.Dense(256, activation='relu'), \n",
        "    tf.keras.layers.Dense(64, activation='relu'), \n",
        "    tf.keras.layers.Dense(32, activation='relu'), \n",
        "    # 노드=10개 (클래스 개수와 동일)\n",
        "    tf.keras.layers.Dense(1, activation='sigmoid'), \n",
        "])"
      ],
      "metadata": {
        "id": "FPPoKwois96n"
      },
      "execution_count": 27,
      "outputs": []
    },
    {
      "cell_type": "code",
      "source": [
        "\n",
        "# tf.keras.layers.Dense(1, activation='sigmoid')\n",
        "\n",
        "# # 출력층 노드 = 2개 이상인 경우, softmax\n",
        "# tf.keras.layers.Dense(10, activation='softmax')"
      ],
      "metadata": {
        "id": "JlQnavm7QKkl"
      },
      "execution_count": 28,
      "outputs": []
    },
    {
      "cell_type": "code",
      "source": [
        "# 이진 분류 (출력 노드 개수 = 1, sigmoid 인 경우)\n",
        "model.compile(loss='binary_crossentropy')"
      ],
      "metadata": {
        "id": "51no7G8EQMFu"
      },
      "execution_count": 29,
      "outputs": []
    },
    {
      "cell_type": "markdown",
      "source": [
        "#### 출력 층이 10개 node인 경우"
      ],
      "metadata": {
        "id": "PQ_UX_foQX1H"
      }
    },
    {
      "cell_type": "code",
      "source": [
        "# # 출력층 노드 = 1인 경우, sigmoid\n",
        "model = tf.keras.Sequential([\n",
        "    tf.keras.layers.Flatten(input_shape=(28, 28)), \n",
        "    tf.keras.layers.Dense(256, activation='relu'), \n",
        "    tf.keras.layers.Dense(64, activation='relu'), \n",
        "    tf.keras.layers.Dense(32, activation='relu'), \n",
        "    # 노드=10개 (클래스 개수와 동일)\n",
        "    tf.keras.layers.Dense(10, activation='softmax'), \n",
        "])"
      ],
      "metadata": {
        "id": "Fr8mBd6BQYe6"
      },
      "execution_count": 30,
      "outputs": []
    },
    {
      "cell_type": "code",
      "source": [
        "# y가 원 핫 벡터인 경우\n",
        "# [0., 0., 0., 0., 0., 1., 0., 0., 0., 0.]\n",
        "model.compile(loss='categorical_crossentropy')\n",
        "\n",
        "# # y가 원 핫 벡터가 아닌경우\n",
        "# # [5]\n",
        "# model.compile(loss='sparse_categorical_crossentropy')"
      ],
      "metadata": {
        "id": "DWuZvOZcQf3-"
      },
      "execution_count": 31,
      "outputs": []
    },
    {
      "cell_type": "markdown",
      "source": [
        "#### 옵티마이져"
      ],
      "metadata": {
        "id": "qLx94T0pQogb"
      }
    },
    {
      "cell_type": "code",
      "source": [
        "# 클래스 인스턴스로 지정\n",
        "adam = tf.keras.optimizers.Adam(lr=0.001)\n",
        "model.compile(optimizer=adam)\n",
        "\n",
        "# 문자열로 지정\n",
        "# model.compile(optimizer='adam')"
      ],
      "metadata": {
        "colab": {
          "base_uri": "https://localhost:8080/"
        },
        "id": "AmxZy6MAQqek",
        "outputId": "dc0ebcd5-bfc7-41aa-ab58-bbd984e74515"
      },
      "execution_count": 32,
      "outputs": [
        {
          "output_type": "stream",
          "name": "stderr",
          "text": [
            "/usr/local/lib/python3.7/dist-packages/keras/optimizer_v2/adam.py:105: UserWarning: The `lr` argument is deprecated, use `learning_rate` instead.\n",
            "  super(Adam, self).__init__(name, **kwargs)\n"
          ]
        }
      ]
    },
    {
      "cell_type": "markdown",
      "source": [
        "#### 평가 지표"
      ],
      "metadata": {
        "id": "d2HNPBv7RE0N"
      }
    },
    {
      "cell_type": "code",
      "source": [
        "# 클래스 인스턴스로 지정\n",
        "acc = tf.keras.metrics.SparseCategoricalAccuracy()\n",
        "\n",
        "model.compile(optimizer='adam', \n",
        "              loss='sparse_categorical_crossentropy', \n",
        "              metrics=[acc])"
      ],
      "metadata": {
        "id": "lRCSbyPMRGF6"
      },
      "execution_count": 33,
      "outputs": []
    },
    {
      "cell_type": "markdown",
      "source": [
        "### 훈련"
      ],
      "metadata": {
        "id": "gDmCV1V7RLOY"
      }
    },
    {
      "cell_type": "code",
      "source": [
        "# 훈련\n",
        "model.fit(x_train, y_train, \n",
        "          epochs=10, \n",
        "          )"
      ],
      "metadata": {
        "colab": {
          "base_uri": "https://localhost:8080/"
        },
        "id": "0HhDI8oyRM5s",
        "outputId": "ba066edc-def8-4434-df19-19534bb01963"
      },
      "execution_count": 34,
      "outputs": [
        {
          "output_type": "stream",
          "name": "stdout",
          "text": [
            "Epoch 1/10\n",
            "1875/1875 [==============================] - 7s 3ms/step - loss: 0.2346 - sparse_categorical_accuracy: 0.9297\n",
            "Epoch 2/10\n",
            "1875/1875 [==============================] - 4s 2ms/step - loss: 0.0950 - sparse_categorical_accuracy: 0.9714\n",
            "Epoch 3/10\n",
            "1875/1875 [==============================] - 4s 2ms/step - loss: 0.0644 - sparse_categorical_accuracy: 0.9796\n",
            "Epoch 4/10\n",
            "1875/1875 [==============================] - 4s 2ms/step - loss: 0.0491 - sparse_categorical_accuracy: 0.9841\n",
            "Epoch 5/10\n",
            "1875/1875 [==============================] - 4s 2ms/step - loss: 0.0389 - sparse_categorical_accuracy: 0.9875\n",
            "Epoch 6/10\n",
            "1875/1875 [==============================] - 4s 2ms/step - loss: 0.0315 - sparse_categorical_accuracy: 0.9900\n",
            "Epoch 7/10\n",
            "1875/1875 [==============================] - 4s 2ms/step - loss: 0.0260 - sparse_categorical_accuracy: 0.9913\n",
            "Epoch 8/10\n",
            "1875/1875 [==============================] - 4s 2ms/step - loss: 0.0237 - sparse_categorical_accuracy: 0.9925\n",
            "Epoch 9/10\n",
            "1875/1875 [==============================] - 4s 2ms/step - loss: 0.0193 - sparse_categorical_accuracy: 0.9935\n",
            "Epoch 10/10\n",
            "1875/1875 [==============================] - 4s 2ms/step - loss: 0.0199 - sparse_categorical_accuracy: 0.9932\n"
          ]
        },
        {
          "output_type": "execute_result",
          "data": {
            "text/plain": [
              "<keras.callbacks.History at 0x7f133c081450>"
            ]
          },
          "metadata": {},
          "execution_count": 34
        }
      ]
    },
    {
      "cell_type": "markdown",
      "source": [
        "### 테스트"
      ],
      "metadata": {
        "id": "AbEHTn83RffW"
      }
    },
    {
      "cell_type": "code",
      "source": [
        "# 검증\n",
        "test_loss, test_acc = model.evaluate(x_test,  y_test)\n",
        "\n",
        "print('검증셋 정확도:', test_acc)"
      ],
      "metadata": {
        "colab": {
          "base_uri": "https://localhost:8080/"
        },
        "id": "S_en5rjiRg3c",
        "outputId": "4c766838-eb79-4831-a22d-659c2f0b1ae6"
      },
      "execution_count": 35,
      "outputs": [
        {
          "output_type": "stream",
          "name": "stdout",
          "text": [
            "313/313 [==============================] - 1s 2ms/step - loss: 0.0949 - sparse_categorical_accuracy: 0.9801\n",
            "검증셋 정확도: 0.9800999760627747\n"
          ]
        }
      ]
    },
    {
      "cell_type": "markdown",
      "source": [
        "### 예측"
      ],
      "metadata": {
        "id": "dU8I2VpARi14"
      }
    },
    {
      "cell_type": "code",
      "source": [
        "# 예측\n",
        "predictions = model.predict(x_test)"
      ],
      "metadata": {
        "id": "kK0gP8VWRkJ0"
      },
      "execution_count": 36,
      "outputs": []
    },
    {
      "cell_type": "code",
      "source": [
        "# 예측 결과 출력\n",
        "predictions[0]"
      ],
      "metadata": {
        "colab": {
          "base_uri": "https://localhost:8080/"
        },
        "id": "jwMRowrsRlp_",
        "outputId": "b4a41f97-b4c8-4f93-e66b-49870684fe57"
      },
      "execution_count": 37,
      "outputs": [
        {
          "output_type": "execute_result",
          "data": {
            "text/plain": [
              "array([6.6109500e-11, 4.5045180e-08, 1.5575512e-12, 2.6090829e-09,\n",
              "       5.8862548e-10, 1.0383090e-12, 3.6692031e-11, 1.0000000e+00,\n",
              "       4.2710337e-09, 5.3373032e-08], dtype=float32)"
            ]
          },
          "metadata": {},
          "execution_count": 37
        }
      ]
    },
    {
      "cell_type": "code",
      "source": [
        "import numpy as np\n",
        "\n",
        "# 0번 index에 대한 예측 클래스 출력\n",
        "print(np.argmax(predictions[0]))"
      ],
      "metadata": {
        "colab": {
          "base_uri": "https://localhost:8080/"
        },
        "id": "hskhHpOcRnQF",
        "outputId": "21a38d36-35f4-468a-d87e-c76c19124e08"
      },
      "execution_count": 38,
      "outputs": [
        {
          "output_type": "stream",
          "name": "stdout",
          "text": [
            "7\n"
          ]
        }
      ]
    },
    {
      "cell_type": "code",
      "source": [
        "import numpy as np\n",
        "\n",
        "# 0번 index에 대한 예측 클래스 출력\n",
        "print(np.argmax(predictions[0]))\n",
        "\n",
        "# 첫 10개 index에 대한 예측 클래스 출력\n",
        "print(np.argmax(predictions[:10], axis=1))"
      ],
      "metadata": {
        "colab": {
          "base_uri": "https://localhost:8080/"
        },
        "id": "gOTH2fxvRpaC",
        "outputId": "29478ef0-5a85-40da-a75b-752bf2a55321"
      },
      "execution_count": 39,
      "outputs": [
        {
          "output_type": "stream",
          "name": "stdout",
          "text": [
            "7\n",
            "[7 2 1 0 4 1 4 9 5 9]\n"
          ]
        }
      ]
    },
    {
      "cell_type": "code",
      "source": [
        "# 데이터 시각화\n",
        "import matplotlib.pyplot as plt\n",
        "\n",
        "def get_one_result(idx):\n",
        "    img, y_true, y_pred, confidence = x_test[idx], y_test[idx], np.argmax(predictions[idx]), 100*np.max(predictions[idx])\n",
        "    return img, y_true, y_pred, confidence\n",
        "    \n",
        "# canvas 생성\n",
        "fig, axes = plt.subplots(3, 5)\n",
        "fig.set_size_inches(12, 10)\n",
        "\n",
        "for i in range(15):\n",
        "    ax = axes[i//5, i%5]\n",
        "\n",
        "    img, y_true, y_pred, confidence = get_one_result(i)\n",
        "\n",
        "    # imshow로 이미지 시각화\n",
        "    ax.imshow(img, cmap='gray')\n",
        "    ax.set_xticks([])\n",
        "    ax.set_yticks([])\n",
        "    ax.set_title(f'True: {y_true}')\n",
        "    ax.set_xlabel(f'Prediction: {y_pred}\\nConfidence: ({confidence:.2f} %)')\n",
        "\n",
        "plt.tight_layout()\n",
        "plt.show()"
      ],
      "metadata": {
        "colab": {
          "base_uri": "https://localhost:8080/",
          "height": 696
        },
        "id": "wLy2fpVIRrrA",
        "outputId": "c84b3168-d776-468e-ac65-7dc4d09677f0"
      },
      "execution_count": 40,
      "outputs": [
        {
          "output_type": "display_data",
          "data": {
            "text/plain": [
              "<Figure size 864x720 with 15 Axes>"
            ],
            "image/png": "[encoded data removed]"
          },
          "metadata": {}
        }
      ]
    },
    {
      "cell_type": "markdown",
      "source": [
        "## Deep Learning Optimization Techniques"
      ],
      "metadata": {
        "id": "ugpAzNWDRxnB"
      }
    },
    {
      "cell_type": "code",
      "source": [
        "import tensorflow as tf\n",
        "\n",
        "# 케라스의 내장 데이터셋에서 mnist 데이터셋을 로드\n",
        "mnist = tf.keras.datasets.mnist\n",
        "\n",
        "# load_data()로 데이터셋을 로드 합니다.\n",
        "(x_train, y_train), (x_test, y_test) = mnist.load_data()\n",
        "\n",
        "# 로드된 데이터셋 확인\n",
        "print('train set: ', x_train.shape, y_train.shape)\n",
        "print('test  set: ', x_test.shape, y_test.shape)\n",
        "\n",
        "# 데이터 정규화\n",
        "x_train = x_train / x_train.max() # max: 255\n",
        "x_test = x_test / x_test.max() # max: 255"
      ],
      "metadata": {
        "colab": {
          "base_uri": "https://localhost:8080/"
        },
        "id": "J-s678gsR9yN",
        "outputId": "d70324d0-00d2-4458-b514-f61ef4ea31f7"
      },
      "execution_count": 41,
      "outputs": [
        {
          "output_type": "stream",
          "name": "stdout",
          "text": [
            "train set:  (60000, 28, 28) (60000,)\n",
            "test  set:  (10000, 28, 28) (10000,)\n"
          ]
        }
      ]
    },
    {
      "cell_type": "markdown",
      "source": [
        "#### weight initialization"
      ],
      "metadata": {
        "id": "xm2k8u3CfG3L"
      }
    },
    {
      "cell_type": "code",
      "source": [
        "\n",
        "dense = tf.keras.layers.Dense(256, activation='relu')\n",
        "dense.get_config()['kernel_initializer']"
      ],
      "metadata": {
        "colab": {
          "base_uri": "https://localhost:8080/"
        },
        "id": "DecYLfNFe_Td",
        "outputId": "bbd01e78-cd9f-4827-c5e4-92256a7f4d0e"
      },
      "execution_count": 42,
      "outputs": [
        {
          "output_type": "execute_result",
          "data": {
            "text/plain": [
              "{'class_name': 'GlorotUniform', 'config': {'seed': None}}"
            ]
          },
          "metadata": {},
          "execution_count": 42
        }
      ]
    },
    {
      "cell_type": "code",
      "source": [
        "\n",
        "# he normal 초기화\n",
        "dense = tf.keras.layers.Dense(256, kernel_initializer='he_normal', activation='relu')\n",
        "dense.get_config()['kernel_initializer']"
      ],
      "metadata": {
        "colab": {
          "base_uri": "https://localhost:8080/"
        },
        "id": "cmhOFl_4fC6f",
        "outputId": "25345146-5034-4cd3-c7b5-20b6482f861f"
      },
      "execution_count": 43,
      "outputs": [
        {
          "output_type": "execute_result",
          "data": {
            "text/plain": [
              "{'class_name': 'HeNormal', 'config': {'seed': None}}"
            ]
          },
          "metadata": {},
          "execution_count": 43
        }
      ]
    },
    {
      "cell_type": "markdown",
      "source": [
        "#### Regularization"
      ],
      "metadata": {
        "id": "rXBBabo7hh5J"
      }
    },
    {
      "cell_type": "code",
      "source": [
        "# 기본 값\n",
        "dense = tf.keras.layers.Dense(256, activation='relu')\n",
        "dense.get_config()"
      ],
      "metadata": {
        "colab": {
          "base_uri": "https://localhost:8080/"
        },
        "id": "32A0OFUlhkoU",
        "outputId": "0ac23189-fca7-4fbb-8a7e-f9fcba5931f6"
      },
      "execution_count": 44,
      "outputs": [
        {
          "output_type": "execute_result",
          "data": {
            "text/plain": [
              "{'activation': 'relu',\n",
              " 'activity_regularizer': None,\n",
              " 'bias_constraint': None,\n",
              " 'bias_initializer': {'class_name': 'Zeros', 'config': {}},\n",
              " 'bias_regularizer': None,\n",
              " 'dtype': 'float32',\n",
              " 'kernel_constraint': None,\n",
              " 'kernel_initializer': {'class_name': 'GlorotUniform',\n",
              "  'config': {'seed': None}},\n",
              " 'kernel_regularizer': None,\n",
              " 'name': 'dense_20',\n",
              " 'trainable': True,\n",
              " 'units': 256,\n",
              " 'use_bias': True}"
            ]
          },
          "metadata": {},
          "execution_count": 44
        }
      ]
    },
    {
      "cell_type": "code",
      "source": [
        "# 클래스 인스턴스 적용, alpha 값 변경\n",
        "regularizer = tf.keras.regularizers.l1(l1=0.1)\n",
        "dense = tf.keras.layers.Dense(256, kernel_regularizer=regularizer, activation='relu')\n",
        "print(dense.get_config()['kernel_regularizer'])"
      ],
      "metadata": {
        "colab": {
          "base_uri": "https://localhost:8080/"
        },
        "id": "4QGC37akhncm",
        "outputId": "6d0328c1-08b0-4153-827c-f6c30cf079a1"
      },
      "execution_count": 45,
      "outputs": [
        {
          "output_type": "stream",
          "name": "stdout",
          "text": [
            "{'class_name': 'L1', 'config': {'l1': 0.10000000149011612}}\n"
          ]
        }
      ]
    },
    {
      "cell_type": "code",
      "source": [
        "# 클래스 인스턴스 적용, alpha 값 변경\n",
        "regularizer = tf.keras.regularizers.l2(l2=0.1)\n",
        "dense = tf.keras.layers.Dense(256, kernel_regularizer=regularizer, activation='relu')\n",
        "print(dense.get_config()['kernel_regularizer'])"
      ],
      "metadata": {
        "colab": {
          "base_uri": "https://localhost:8080/"
        },
        "id": "Pyf-R1AZhqAs",
        "outputId": "35b4a8ee-ed43-4aec-97b1-736bd9b1a9ba"
      },
      "execution_count": 46,
      "outputs": [
        {
          "output_type": "stream",
          "name": "stdout",
          "text": [
            "{'class_name': 'L2', 'config': {'l2': 0.10000000149011612}}\n"
          ]
        }
      ]
    },
    {
      "cell_type": "markdown",
      "source": [
        "### batch normalization"
      ],
      "metadata": {
        "id": "rJaB1kZ_h2Nt"
      }
    },
    {
      "cell_type": "code",
      "source": [
        "# Model A: Dense + ReLU\n",
        "model_a = tf.keras.Sequential([\n",
        "    tf.keras.layers.Flatten(input_shape=(28, 28)),\n",
        "    tf.keras.layers.Dense(64, activation='relu'),\n",
        "    tf.keras.layers.Dense(32, activation='relu'),\n",
        "    tf.keras.layers.Dense(10, activation='softmax'),\n",
        "])\n",
        "model_a.summary()"
      ],
      "metadata": {
        "colab": {
          "base_uri": "https://localhost:8080/"
        },
        "id": "yz7T0dTvh1Lt",
        "outputId": "74c7ea7e-6a27-433c-bdf5-ecbe797650fe"
      },
      "execution_count": 47,
      "outputs": [
        {
          "output_type": "stream",
          "name": "stdout",
          "text": [
            "Model: \"sequential_6\"\n",
            "_________________________________________________________________\n",
            " Layer (type)                Output Shape              Param #   \n",
            "=================================================================\n",
            " flatten_3 (Flatten)         (None, 784)               0         \n",
            "                                                                 \n",
            " dense_23 (Dense)            (None, 64)                50240     \n",
            "                                                                 \n",
            " dense_24 (Dense)            (None, 32)                2080      \n",
            "                                                                 \n",
            " dense_25 (Dense)            (None, 10)                330       \n",
            "                                                                 \n",
            "=================================================================\n",
            "Total params: 52,650\n",
            "Trainable params: 52,650\n",
            "Non-trainable params: 0\n",
            "_________________________________________________________________\n"
          ]
        }
      ]
    },
    {
      "cell_type": "code",
      "source": [
        "# Model B: Dense + BatchNorm + ReLU\n",
        "model_b = tf.keras.Sequential([\n",
        "    tf.keras.layers.Flatten(input_shape=(28, 28)),\n",
        "    tf.keras.layers.Dense(64),\n",
        "    # 배치정규화 적용\n",
        "    tf.keras.layers.BatchNormalization(),\n",
        "    # 배치정규화 후 활성화 함수 적용\n",
        "    tf.keras.layers.Activation('relu'),\n",
        "\n",
        "    tf.keras.layers.Dense(32),\n",
        "    # 배치정규화 적용\n",
        "    tf.keras.layers.BatchNormalization(),\n",
        "    # 배치정규화 후 활성화 함수 적용\n",
        "    tf.keras.layers.Activation('relu'),\n",
        "\n",
        "    tf.keras.layers.Dense(10, activation='softmax'),\n",
        "])\n",
        "model_b.summary()"
      ],
      "metadata": {
        "colab": {
          "base_uri": "https://localhost:8080/"
        },
        "id": "tH93X7zliEXc",
        "outputId": "c2711b8a-1e59-48bc-bfed-6736afda59ad"
      },
      "execution_count": 48,
      "outputs": [
        {
          "output_type": "stream",
          "name": "stdout",
          "text": [
            "Model: \"sequential_7\"\n",
            "_________________________________________________________________\n",
            " Layer (type)                Output Shape              Param #   \n",
            "=================================================================\n",
            " flatten_4 (Flatten)         (None, 784)               0         \n",
            "                                                                 \n",
            " dense_26 (Dense)            (None, 64)                50240     \n",
            "                                                                 \n",
            " batch_normalization (BatchN  (None, 64)               256       \n",
            " ormalization)                                                   \n",
            "                                                                 \n",
            " activation (Activation)     (None, 64)                0         \n",
            "                                                                 \n",
            " dense_27 (Dense)            (None, 32)                2080      \n",
            "                                                                 \n",
            " batch_normalization_1 (Batc  (None, 32)               128       \n",
            " hNormalization)                                                 \n",
            "                                                                 \n",
            " activation_1 (Activation)   (None, 32)                0         \n",
            "                                                                 \n",
            " dense_28 (Dense)            (None, 10)                330       \n",
            "                                                                 \n",
            "=================================================================\n",
            "Total params: 53,034\n",
            "Trainable params: 52,842\n",
            "Non-trainable params: 192\n",
            "_________________________________________________________________\n"
          ]
        }
      ]
    },
    {
      "cell_type": "markdown",
      "source": [
        "### Activation Functions"
      ],
      "metadata": {
        "id": "Z1-IYbWpiHAL"
      }
    },
    {
      "cell_type": "code",
      "source": [
        "# LeakyReLU 기본 설정\n",
        "tf.keras.layers.LeakyReLU()\n",
        "\n",
        "# LeakyReLU, alpha=0.2 로 변경\n",
        "tf.keras.layers.LeakyReLU(alpha=0.2)"
      ],
      "metadata": {
        "colab": {
          "base_uri": "https://localhost:8080/"
        },
        "id": "r4Roc31JiJh0",
        "outputId": "aaab270a-fd3c-486a-8c83-8fd09a55b868"
      },
      "execution_count": 49,
      "outputs": [
        {
          "output_type": "execute_result",
          "data": {
            "text/plain": [
              "<keras.layers.advanced_activations.LeakyReLU at 0x7f1325a7d310>"
            ]
          },
          "metadata": {},
          "execution_count": 49
        }
      ]
    },
    {
      "cell_type": "code",
      "source": [
        "# Model C: Dense + BatchNorm + LeakyReLU(0.2)\n",
        "model_c = tf.keras.Sequential([\n",
        "    tf.keras.layers.Flatten(input_shape=(28, 28)),\n",
        "    tf.keras.layers.Dense(64),\n",
        "    # 배치정규화 적용\n",
        "    tf.keras.layers.BatchNormalization(),\n",
        "    # LeakyReLU, alpha=0.2 적용\n",
        "    tf.keras.layers.LeakyReLU(alpha=0.2),\n",
        "\n",
        "    tf.keras.layers.Dense(32),\n",
        "    # 배치정규화 적용\n",
        "    tf.keras.layers.BatchNormalization(),\n",
        "    # LeakyReLU, alpha=0.2 적용\n",
        "    tf.keras.layers.LeakyReLU(alpha=0.2),\n",
        "\n",
        "    tf.keras.layers.Dense(10, activation='softmax'),\n",
        "])\n",
        "\n",
        "# 모델 요약\n",
        "model_c.summary()"
      ],
      "metadata": {
        "colab": {
          "base_uri": "https://localhost:8080/"
        },
        "id": "z2SNYoCpiMBe",
        "outputId": "de803f95-6aaf-455a-ca05-28d06e4af072"
      },
      "execution_count": 50,
      "outputs": [
        {
          "output_type": "stream",
          "name": "stdout",
          "text": [
            "Model: \"sequential_8\"\n",
            "_________________________________________________________________\n",
            " Layer (type)                Output Shape              Param #   \n",
            "=================================================================\n",
            " flatten_5 (Flatten)         (None, 784)               0         \n",
            "                                                                 \n",
            " dense_29 (Dense)            (None, 64)                50240     \n",
            "                                                                 \n",
            " batch_normalization_2 (Batc  (None, 64)               256       \n",
            " hNormalization)                                                 \n",
            "                                                                 \n",
            " leaky_re_lu_2 (LeakyReLU)   (None, 64)                0         \n",
            "                                                                 \n",
            " dense_30 (Dense)            (None, 32)                2080      \n",
            "                                                                 \n",
            " batch_normalization_3 (Batc  (None, 32)               128       \n",
            " hNormalization)                                                 \n",
            "                                                                 \n",
            " leaky_re_lu_3 (LeakyReLU)   (None, 32)                0         \n",
            "                                                                 \n",
            " dense_31 (Dense)            (None, 10)                330       \n",
            "                                                                 \n",
            "=================================================================\n",
            "Total params: 53,034\n",
            "Trainable params: 52,842\n",
            "Non-trainable params: 192\n",
            "_________________________________________________________________\n"
          ]
        }
      ]
    },
    {
      "cell_type": "markdown",
      "source": [
        "### 비교"
      ],
      "metadata": {
        "id": "MmwyEsSiiSm3"
      }
    },
    {
      "cell_type": "code",
      "source": [
        "model_a.compile(optimizer='adam', loss='sparse_categorical_crossentropy', metrics=['accuracy'])\n",
        "model_b.compile(optimizer='adam', loss='sparse_categorical_crossentropy', metrics=['accuracy'])\n",
        "model_c.compile(optimizer='adam', loss='sparse_categorical_crossentropy', metrics=['accuracy'])"
      ],
      "metadata": {
        "id": "v-_28yBUiQjG"
      },
      "execution_count": 51,
      "outputs": []
    },
    {
      "cell_type": "code",
      "source": [
        "# Model A: Dense + ReLU\n",
        "history_a = model_a.fit(x_train, y_train, \n",
        "                        validation_data=(x_test, y_test), \n",
        "                        epochs=10)\n",
        "\n",
        "# Model B: Dense + BatchNorm + ReLU\n",
        "history_b = model_b.fit(x_train, y_train, \n",
        "                        validation_data=(x_test, y_test), \n",
        "                        epochs=10)\n",
        "\n",
        "# Model C: Dense + BatchNorm + LeakyReLU(0.2)\n",
        "history_c = model_c.fit(x_train, y_train, \n",
        "                        validation_data=(x_test, y_test), \n",
        "                        epochs=10)"
      ],
      "metadata": {
        "colab": {
          "base_uri": "https://localhost:8080/"
        },
        "id": "VO9BtX0JiXAG",
        "outputId": "247c0d67-830c-461a-ae89-2f2fa4764a37"
      },
      "execution_count": 52,
      "outputs": [
        {
          "output_type": "stream",
          "name": "stdout",
          "text": [
            "Epoch 1/10\n",
            "1875/1875 [==============================] - 5s 2ms/step - loss: 0.2877 - accuracy: 0.9173 - val_loss: 0.1559 - val_accuracy: 0.9535\n",
            "Epoch 2/10\n",
            "1875/1875 [==============================] - 5s 2ms/step - loss: 0.1320 - accuracy: 0.9604 - val_loss: 0.1112 - val_accuracy: 0.9667\n",
            "Epoch 3/10\n",
            "1875/1875 [==============================] - 5s 2ms/step - loss: 0.0937 - accuracy: 0.9718 - val_loss: 0.0930 - val_accuracy: 0.9721\n",
            "Epoch 4/10\n",
            "1875/1875 [==============================] - 5s 2ms/step - loss: 0.0743 - accuracy: 0.9769 - val_loss: 0.0907 - val_accuracy: 0.9714\n",
            "Epoch 5/10\n",
            "1875/1875 [==============================] - 4s 2ms/step - loss: 0.0609 - accuracy: 0.9813 - val_loss: 0.0940 - val_accuracy: 0.9727\n",
            "Epoch 6/10\n",
            "1875/1875 [==============================] - 4s 2ms/step - loss: 0.0525 - accuracy: 0.9833 - val_loss: 0.0856 - val_accuracy: 0.9758\n",
            "Epoch 7/10\n",
            "1875/1875 [==============================] - 5s 3ms/step - loss: 0.0437 - accuracy: 0.9864 - val_loss: 0.0997 - val_accuracy: 0.9706\n",
            "Epoch 8/10\n",
            "1875/1875 [==============================] - 4s 2ms/step - loss: 0.0383 - accuracy: 0.9876 - val_loss: 0.0907 - val_accuracy: 0.9740\n",
            "Epoch 9/10\n",
            "1875/1875 [==============================] - 4s 2ms/step - loss: 0.0336 - accuracy: 0.9890 - val_loss: 0.0961 - val_accuracy: 0.9749\n",
            "Epoch 10/10\n",
            "1875/1875 [==============================] - 4s 2ms/step - loss: 0.0292 - accuracy: 0.9906 - val_loss: 0.0937 - val_accuracy: 0.9749\n",
            "Epoch 1/10\n",
            "1875/1875 [==============================] - 7s 3ms/step - loss: 0.3247 - accuracy: 0.9120 - val_loss: 0.1394 - val_accuracy: 0.9572\n",
            "Epoch 2/10\n",
            "1875/1875 [==============================] - 6s 3ms/step - loss: 0.1411 - accuracy: 0.9578 - val_loss: 0.0922 - val_accuracy: 0.9717\n",
            "Epoch 3/10\n",
            "1875/1875 [==============================] - 6s 3ms/step - loss: 0.1064 - accuracy: 0.9668 - val_loss: 0.0840 - val_accuracy: 0.9731\n",
            "Epoch 4/10\n",
            "1875/1875 [==============================] - 6s 3ms/step - loss: 0.0917 - accuracy: 0.9715 - val_loss: 0.0795 - val_accuracy: 0.9760\n",
            "Epoch 5/10\n",
            "1875/1875 [==============================] - 6s 3ms/step - loss: 0.0819 - accuracy: 0.9737 - val_loss: 0.0820 - val_accuracy: 0.9750\n",
            "Epoch 6/10\n",
            "1875/1875 [==============================] - 6s 3ms/step - loss: 0.0712 - accuracy: 0.9772 - val_loss: 0.0744 - val_accuracy: 0.9776\n",
            "Epoch 7/10\n",
            "1875/1875 [==============================] - 6s 3ms/step - loss: 0.0672 - accuracy: 0.9792 - val_loss: 0.0737 - val_accuracy: 0.9787\n",
            "Epoch 8/10\n",
            "1875/1875 [==============================] - 6s 3ms/step - loss: 0.0596 - accuracy: 0.9808 - val_loss: 0.0741 - val_accuracy: 0.9774\n",
            "Epoch 9/10\n",
            "1875/1875 [==============================] - 6s 3ms/step - loss: 0.0559 - accuracy: 0.9819 - val_loss: 0.0738 - val_accuracy: 0.9786\n",
            "Epoch 10/10\n",
            "1875/1875 [==============================] - 6s 3ms/step - loss: 0.0525 - accuracy: 0.9829 - val_loss: 0.0745 - val_accuracy: 0.9779\n",
            "Epoch 1/10\n",
            "1875/1875 [==============================] - 6s 3ms/step - loss: 0.3213 - accuracy: 0.9101 - val_loss: 0.1386 - val_accuracy: 0.9567\n",
            "Epoch 2/10\n",
            "1875/1875 [==============================] - 6s 3ms/step - loss: 0.1593 - accuracy: 0.9521 - val_loss: 0.1374 - val_accuracy: 0.9562\n",
            "Epoch 3/10\n",
            "1875/1875 [==============================] - 6s 3ms/step - loss: 0.1246 - accuracy: 0.9620 - val_loss: 0.0961 - val_accuracy: 0.9697\n",
            "Epoch 4/10\n",
            "1875/1875 [==============================] - 6s 3ms/step - loss: 0.1052 - accuracy: 0.9674 - val_loss: 0.0964 - val_accuracy: 0.9706\n",
            "Epoch 5/10\n",
            "1875/1875 [==============================] - 6s 3ms/step - loss: 0.0940 - accuracy: 0.9705 - val_loss: 0.0913 - val_accuracy: 0.9725\n",
            "Epoch 6/10\n",
            "1875/1875 [==============================] - 6s 3ms/step - loss: 0.0859 - accuracy: 0.9725 - val_loss: 0.0907 - val_accuracy: 0.9739\n",
            "Epoch 7/10\n",
            "1875/1875 [==============================] - 6s 3ms/step - loss: 0.0776 - accuracy: 0.9753 - val_loss: 0.0919 - val_accuracy: 0.9706\n",
            "Epoch 8/10\n",
            "1875/1875 [==============================] - 6s 3ms/step - loss: 0.0725 - accuracy: 0.9764 - val_loss: 0.0799 - val_accuracy: 0.9753\n",
            "Epoch 9/10\n",
            "1875/1875 [==============================] - 6s 3ms/step - loss: 0.0685 - accuracy: 0.9775 - val_loss: 0.0775 - val_accuracy: 0.9772\n",
            "Epoch 10/10\n",
            "1875/1875 [==============================] - 6s 3ms/step - loss: 0.0632 - accuracy: 0.9798 - val_loss: 0.0807 - val_accuracy: 0.9771\n"
          ]
        }
      ]
    },
    {
      "cell_type": "code",
      "source": [
        "import matplotlib.pyplot as plt\n",
        "import numpy as np\n",
        "\n",
        "plt.figure(figsize=(12, 9))\n",
        "plt.plot(np.arange(1, 11), history_a.history['val_loss'], color='navy', linestyle=':')\n",
        "plt.plot(np.arange(1, 11), history_b.history['val_loss'], color='tomato', linestyle='-.')\n",
        "plt.plot(np.arange(1, 11), history_c.history['val_loss'], color='green', linestyle='-')\n",
        "\n",
        "plt.title('Losses', fontsize=20)\n",
        "plt.xlabel('Epochs')\n",
        "plt.ylabel('Losses')\n",
        "plt.legend(['ReLU', 'BatchNorm + ReLU','batchnorm + LeakyReLU'], fontsize=12)\n",
        "plt.show()"
      ],
      "metadata": {
        "colab": {
          "base_uri": "https://localhost:8080/",
          "height": 572
        },
        "id": "2xpbDYc2iZSo",
        "outputId": "0f65b633-a61a-41b1-f694-8c4d5078ff46"
      },
      "execution_count": 53,
      "outputs": [
        {
          "output_type": "display_data",
          "data": {
            "text/plain": [
              "<Figure size 864x648 with 1 Axes>"
            ],
            "image/png": "[encoded data removed]"
          },
          "metadata": {
            "needs_background": "light"
          }
        }
      ]
    },
    {
      "cell_type": "markdown",
      "source": [
        "### Early Stopping"
      ],
      "metadata": {
        "id": "6t0_Zfesm9sK"
      }
    },
    {
      "cell_type": "code",
      "source": [
        "model = tf.keras.Sequential([\n",
        "    tf.keras.layers.Flatten(input_shape=(28, 28)), \n",
        "    tf.keras.layers.Dense(256, activation='relu'), \n",
        "    tf.keras.layers.Dense(64, activation='relu'), \n",
        "    tf.keras.layers.Dense(32, activation='relu'), \n",
        "    tf.keras.layers.Dense(10, activation='softmax'), # 노드 10개로 생성\n",
        "])\n",
        "\n",
        "model.compile(optimizer='adam', loss='sparse_categorical_crossentropy', metrics=['accuracy'])"
      ],
      "metadata": {
        "id": "q8gVL4fTnAdc"
      },
      "execution_count": 54,
      "outputs": []
    },
    {
      "cell_type": "code",
      "source": [
        "# EarlyStopping 콜백 생성\n",
        "earlystopping = tf.keras.callbacks.EarlyStopping(monitor='val_loss', patience=10)"
      ],
      "metadata": {
        "id": "cxv9bS1SnDcz"
      },
      "execution_count": 55,
      "outputs": []
    },
    {
      "cell_type": "code",
      "source": [
        "hist = model.fit(x_train, y_train, \n",
        "          validation_data=(x_test, y_test), \n",
        "          epochs=50, \n",
        "          callbacks=[earlystopping]\n",
        "          )"
      ],
      "metadata": {
        "colab": {
          "base_uri": "https://localhost:8080/"
        },
        "id": "r7TilVannGBH",
        "outputId": "774fba9e-e9e7-4b74-c32f-860c235fa322"
      },
      "execution_count": 56,
      "outputs": [
        {
          "output_type": "stream",
          "name": "stdout",
          "text": [
            "Epoch 1/30\n",
            "1875/1875 [==============================] - 5s 3ms/step - loss: 0.2263 - accuracy: 0.9331 - val_loss: 0.1112 - val_accuracy: 0.9652\n",
            "Epoch 2/30\n",
            "1875/1875 [==============================] - 5s 3ms/step - loss: 0.0923 - accuracy: 0.9714 - val_loss: 0.0850 - val_accuracy: 0.9730\n",
            "Epoch 3/30\n",
            "1875/1875 [==============================] - 5s 3ms/step - loss: 0.0653 - accuracy: 0.9794 - val_loss: 0.0909 - val_accuracy: 0.9745\n",
            "Epoch 4/30\n",
            "1875/1875 [==============================] - 5s 2ms/step - loss: 0.0501 - accuracy: 0.9841 - val_loss: 0.0831 - val_accuracy: 0.9751\n",
            "Epoch 5/30\n",
            "1875/1875 [==============================] - 5s 2ms/step - loss: 0.0400 - accuracy: 0.9872 - val_loss: 0.0857 - val_accuracy: 0.9743\n",
            "Epoch 6/30\n",
            "1875/1875 [==============================] - 5s 3ms/step - loss: 0.0330 - accuracy: 0.9891 - val_loss: 0.0777 - val_accuracy: 0.9786\n",
            "Epoch 7/30\n",
            "1875/1875 [==============================] - 5s 2ms/step - loss: 0.0281 - accuracy: 0.9908 - val_loss: 0.0845 - val_accuracy: 0.9774\n",
            "Epoch 8/30\n",
            "1875/1875 [==============================] - 5s 3ms/step - loss: 0.0241 - accuracy: 0.9920 - val_loss: 0.0879 - val_accuracy: 0.9783\n",
            "Epoch 9/30\n",
            "1875/1875 [==============================] - 5s 3ms/step - loss: 0.0218 - accuracy: 0.9930 - val_loss: 0.0875 - val_accuracy: 0.9776\n",
            "Epoch 10/30\n",
            "1875/1875 [==============================] - 5s 3ms/step - loss: 0.0187 - accuracy: 0.9937 - val_loss: 0.0820 - val_accuracy: 0.9814\n",
            "Epoch 11/30\n",
            "1875/1875 [==============================] - 5s 2ms/step - loss: 0.0196 - accuracy: 0.9940 - val_loss: 0.0932 - val_accuracy: 0.9800\n",
            "Epoch 12/30\n",
            "1875/1875 [==============================] - 5s 2ms/step - loss: 0.0146 - accuracy: 0.9950 - val_loss: 0.1039 - val_accuracy: 0.9771\n",
            "Epoch 13/30\n",
            "1875/1875 [==============================] - 5s 2ms/step - loss: 0.0135 - accuracy: 0.9955 - val_loss: 0.0969 - val_accuracy: 0.9798\n",
            "Epoch 14/30\n",
            "1875/1875 [==============================] - 5s 3ms/step - loss: 0.0142 - accuracy: 0.9954 - val_loss: 0.1068 - val_accuracy: 0.9778\n",
            "Epoch 15/30\n",
            "1875/1875 [==============================] - 5s 2ms/step - loss: 0.0135 - accuracy: 0.9956 - val_loss: 0.1108 - val_accuracy: 0.9787\n",
            "Epoch 16/30\n",
            "1875/1875 [==============================] - 5s 2ms/step - loss: 0.0120 - accuracy: 0.9963 - val_loss: 0.1092 - val_accuracy: 0.9802\n"
          ]
        }
      ]
    },
    {
      "cell_type": "code",
      "source": [
        "model2 = tf.keras.Sequential([\n",
        "    tf.keras.layers.Flatten(input_shape=(28, 28)), \n",
        "    tf.keras.layers.Dense(256, activation='relu'), \n",
        "    tf.keras.layers.Dense(64, activation='relu'), \n",
        "    tf.keras.layers.Dense(32, activation='relu'), \n",
        "    tf.keras.layers.Dense(10, activation='softmax'), # 노드 10개로 생성\n",
        "])\n",
        "\n",
        "model2.compile(optimizer='adam', loss='sparse_categorical_crossentropy', metrics=['accuracy'])"
      ],
      "metadata": {
        "id": "ytHFow4HqdAn"
      },
      "execution_count": 57,
      "outputs": []
    },
    {
      "cell_type": "code",
      "source": [
        "hist2 = model2.fit(x_train, y_train, \n",
        "          validation_data=(x_test, y_test), \n",
        "          epochs=50\n",
        "          )"
      ],
      "metadata": {
        "colab": {
          "base_uri": "https://localhost:8080/"
        },
        "id": "jaEcaCTaoQ8B",
        "outputId": "43900bb9-8def-46d0-d00f-b1e1ba84b48c"
      },
      "execution_count": 58,
      "outputs": [
        {
          "output_type": "stream",
          "name": "stdout",
          "text": [
            "Epoch 1/50\n",
            "1875/1875 [==============================] - 5s 3ms/step - loss: 0.2282 - accuracy: 0.9329 - val_loss: 0.1079 - val_accuracy: 0.9686\n",
            "Epoch 2/50\n",
            "1875/1875 [==============================] - 5s 2ms/step - loss: 0.0942 - accuracy: 0.9705 - val_loss: 0.1259 - val_accuracy: 0.9593\n",
            "Epoch 3/50\n",
            "1875/1875 [==============================] - 5s 3ms/step - loss: 0.0644 - accuracy: 0.9803 - val_loss: 0.0877 - val_accuracy: 0.9741\n",
            "Epoch 4/50\n",
            "1875/1875 [==============================] - 5s 3ms/step - loss: 0.0501 - accuracy: 0.9837 - val_loss: 0.0805 - val_accuracy: 0.9772\n",
            "Epoch 5/50\n",
            "1875/1875 [==============================] - 5s 3ms/step - loss: 0.0399 - accuracy: 0.9876 - val_loss: 0.0723 - val_accuracy: 0.9780\n",
            "Epoch 6/50\n",
            "1875/1875 [==============================] - 5s 3ms/step - loss: 0.0306 - accuracy: 0.9901 - val_loss: 0.0839 - val_accuracy: 0.9767\n",
            "Epoch 7/50\n",
            "1875/1875 [==============================] - 5s 2ms/step - loss: 0.0267 - accuracy: 0.9912 - val_loss: 0.0846 - val_accuracy: 0.9781\n",
            "Epoch 8/50\n",
            "1875/1875 [==============================] - 5s 3ms/step - loss: 0.0237 - accuracy: 0.9923 - val_loss: 0.0817 - val_accuracy: 0.9807\n",
            "Epoch 9/50\n",
            "1875/1875 [==============================] - 5s 2ms/step - loss: 0.0216 - accuracy: 0.9926 - val_loss: 0.1015 - val_accuracy: 0.9750\n",
            "Epoch 10/50\n",
            "1875/1875 [==============================] - 5s 2ms/step - loss: 0.0188 - accuracy: 0.9939 - val_loss: 0.0971 - val_accuracy: 0.9787\n",
            "Epoch 11/50\n",
            "1875/1875 [==============================] - 5s 3ms/step - loss: 0.0172 - accuracy: 0.9942 - val_loss: 0.1036 - val_accuracy: 0.9786\n",
            "Epoch 12/50\n",
            "1875/1875 [==============================] - 5s 2ms/step - loss: 0.0157 - accuracy: 0.9950 - val_loss: 0.1075 - val_accuracy: 0.9771\n",
            "Epoch 13/50\n",
            "1875/1875 [==============================] - 5s 3ms/step - loss: 0.0129 - accuracy: 0.9959 - val_loss: 0.1130 - val_accuracy: 0.9773\n",
            "Epoch 14/50\n",
            "1875/1875 [==============================] - 5s 3ms/step - loss: 0.0147 - accuracy: 0.9955 - val_loss: 0.1064 - val_accuracy: 0.9797\n",
            "Epoch 15/50\n",
            "1875/1875 [==============================] - 5s 2ms/step - loss: 0.0139 - accuracy: 0.9954 - val_loss: 0.1104 - val_accuracy: 0.9786\n",
            "Epoch 16/50\n",
            "1875/1875 [==============================] - 5s 3ms/step - loss: 0.0123 - accuracy: 0.9957 - val_loss: 0.1094 - val_accuracy: 0.9805\n",
            "Epoch 17/50\n",
            "1875/1875 [==============================] - 8s 4ms/step - loss: 0.0112 - accuracy: 0.9962 - val_loss: 0.1172 - val_accuracy: 0.9783\n",
            "Epoch 18/50\n",
            "1875/1875 [==============================] - 8s 4ms/step - loss: 0.0117 - accuracy: 0.9966 - val_loss: 0.1118 - val_accuracy: 0.9790\n",
            "Epoch 19/50\n",
            "1875/1875 [==============================] - 5s 3ms/step - loss: 0.0108 - accuracy: 0.9967 - val_loss: 0.1067 - val_accuracy: 0.9806\n",
            "Epoch 20/50\n",
            "1875/1875 [==============================] - 5s 2ms/step - loss: 0.0101 - accuracy: 0.9971 - val_loss: 0.1180 - val_accuracy: 0.9808\n",
            "Epoch 21/50\n",
            "1875/1875 [==============================] - 5s 2ms/step - loss: 0.0094 - accuracy: 0.9970 - val_loss: 0.1216 - val_accuracy: 0.9791\n",
            "Epoch 22/50\n",
            "1875/1875 [==============================] - 5s 2ms/step - loss: 0.0087 - accuracy: 0.9973 - val_loss: 0.1168 - val_accuracy: 0.9805\n",
            "Epoch 23/50\n",
            "1875/1875 [==============================] - 5s 2ms/step - loss: 0.0096 - accuracy: 0.9973 - val_loss: 0.1197 - val_accuracy: 0.9805\n",
            "Epoch 24/50\n",
            "1875/1875 [==============================] - 5s 2ms/step - loss: 0.0083 - accuracy: 0.9977 - val_loss: 0.1312 - val_accuracy: 0.9775\n",
            "Epoch 25/50\n",
            "1875/1875 [==============================] - 5s 2ms/step - loss: 0.0082 - accuracy: 0.9976 - val_loss: 0.1551 - val_accuracy: 0.9764\n",
            "Epoch 26/50\n",
            "1875/1875 [==============================] - 5s 3ms/step - loss: 0.0082 - accuracy: 0.9977 - val_loss: 0.1568 - val_accuracy: 0.9780\n",
            "Epoch 27/50\n",
            "1875/1875 [==============================] - 6s 3ms/step - loss: 0.0085 - accuracy: 0.9974 - val_loss: 0.1429 - val_accuracy: 0.9801\n",
            "Epoch 28/50\n",
            "1875/1875 [==============================] - 5s 2ms/step - loss: 0.0077 - accuracy: 0.9980 - val_loss: 0.1089 - val_accuracy: 0.9806\n",
            "Epoch 29/50\n",
            "1875/1875 [==============================] - 5s 2ms/step - loss: 0.0076 - accuracy: 0.9977 - val_loss: 0.1162 - val_accuracy: 0.9828\n",
            "Epoch 30/50\n",
            "1875/1875 [==============================] - 5s 2ms/step - loss: 0.0079 - accuracy: 0.9977 - val_loss: 0.1204 - val_accuracy: 0.9834\n",
            "Epoch 31/50\n",
            "1875/1875 [==============================] - 5s 2ms/step - loss: 0.0075 - accuracy: 0.9976 - val_loss: 0.1378 - val_accuracy: 0.9812\n",
            "Epoch 32/50\n",
            "1875/1875 [==============================] - 5s 3ms/step - loss: 0.0069 - accuracy: 0.9980 - val_loss: 0.1516 - val_accuracy: 0.9792\n",
            "Epoch 33/50\n",
            "1875/1875 [==============================] - 5s 2ms/step - loss: 0.0071 - accuracy: 0.9978 - val_loss: 0.1347 - val_accuracy: 0.9819\n",
            "Epoch 34/50\n",
            "1875/1875 [==============================] - 5s 2ms/step - loss: 0.0087 - accuracy: 0.9975 - val_loss: 0.1366 - val_accuracy: 0.9782\n",
            "Epoch 35/50\n",
            "1875/1875 [==============================] - 5s 3ms/step - loss: 0.0059 - accuracy: 0.9982 - val_loss: 0.1268 - val_accuracy: 0.9826\n",
            "Epoch 36/50\n",
            "1875/1875 [==============================] - 5s 2ms/step - loss: 0.0071 - accuracy: 0.9980 - val_loss: 0.1313 - val_accuracy: 0.9802\n",
            "Epoch 37/50\n",
            "1875/1875 [==============================] - 5s 2ms/step - loss: 0.0066 - accuracy: 0.9981 - val_loss: 0.1240 - val_accuracy: 0.9820\n",
            "Epoch 38/50\n",
            "1875/1875 [==============================] - 5s 3ms/step - loss: 0.0065 - accuracy: 0.9981 - val_loss: 0.1372 - val_accuracy: 0.9804\n",
            "Epoch 39/50\n",
            "1875/1875 [==============================] - 5s 3ms/step - loss: 0.0036 - accuracy: 0.9991 - val_loss: 0.1466 - val_accuracy: 0.9803\n",
            "Epoch 40/50\n",
            "1875/1875 [==============================] - 5s 3ms/step - loss: 0.0071 - accuracy: 0.9982 - val_loss: 0.1474 - val_accuracy: 0.9818\n",
            "Epoch 41/50\n",
            "1875/1875 [==============================] - 5s 3ms/step - loss: 0.0056 - accuracy: 0.9983 - val_loss: 0.1439 - val_accuracy: 0.9815\n",
            "Epoch 42/50\n",
            "1875/1875 [==============================] - 5s 3ms/step - loss: 0.0072 - accuracy: 0.9979 - val_loss: 0.1439 - val_accuracy: 0.9811\n",
            "Epoch 43/50\n",
            "1875/1875 [==============================] - 5s 2ms/step - loss: 0.0071 - accuracy: 0.9979 - val_loss: 0.1343 - val_accuracy: 0.9824\n",
            "Epoch 44/50\n",
            "1875/1875 [==============================] - 5s 2ms/step - loss: 0.0047 - accuracy: 0.9984 - val_loss: 0.1316 - val_accuracy: 0.9816\n",
            "Epoch 45/50\n",
            "1875/1875 [==============================] - 5s 3ms/step - loss: 0.0044 - accuracy: 0.9988 - val_loss: 0.1465 - val_accuracy: 0.9814\n",
            "Epoch 46/50\n",
            "1875/1875 [==============================] - 5s 2ms/step - loss: 0.0062 - accuracy: 0.9983 - val_loss: 0.1572 - val_accuracy: 0.9808\n",
            "Epoch 47/50\n",
            "1875/1875 [==============================] - 5s 2ms/step - loss: 0.0055 - accuracy: 0.9985 - val_loss: 0.1371 - val_accuracy: 0.9807\n",
            "Epoch 48/50\n",
            "1875/1875 [==============================] - 5s 2ms/step - loss: 0.0042 - accuracy: 0.9987 - val_loss: 0.1413 - val_accuracy: 0.9801\n",
            "Epoch 49/50\n",
            "1875/1875 [==============================] - 5s 3ms/step - loss: 0.0056 - accuracy: 0.9985 - val_loss: 0.1920 - val_accuracy: 0.9770\n",
            "Epoch 50/50\n",
            "1875/1875 [==============================] - 5s 3ms/step - loss: 0.0044 - accuracy: 0.9986 - val_loss: 0.1573 - val_accuracy: 0.9818\n"
          ]
        }
      ]
    },
    {
      "cell_type": "code",
      "source": [
        "import matplotlib.pyplot as plt\n",
        "import numpy as np\n",
        "\n",
        "plt.figure(figsize=(12, 9))\n",
        "plt.plot(np.arange(1, len(hist.history['accuracy'])+1), hist.history['loss'])\n",
        "plt.plot(np.arange(1, len(hist2.history['accuracy'])+1), hist2.history['loss'])\n",
        "plt.plot(np.arange(1, len(hist.history['accuracy'])+1), hist.history['val_loss'])\n",
        "plt.plot(np.arange(1, len(hist2.history['accuracy'])+1), hist2.history['val_loss'])\n",
        "\n",
        "plt.title('Losses', fontsize=20)\n",
        "plt.xlabel('Epochs')\n",
        "plt.ylabel('Losses')\n",
        "plt.legend(['Early Stoping(Tr)', 'Normal(Tr)', 'Early Stoping(Val)', 'Normal(Val)'], fontsize=12)\n",
        "plt.show()"
      ],
      "metadata": {
        "colab": {
          "base_uri": "https://localhost:8080/",
          "height": 572
        },
        "id": "hMmX7otDoM58",
        "outputId": "971db56c-08c9-48ea-aae4-bce348b3d541"
      },
      "execution_count": 59,
      "outputs": [
        {
          "output_type": "display_data",
          "data": {
            "text/plain": [
              "<Figure size 864x648 with 1 Axes>"
            ],
            "image/png": "[encoded data removed]"
          },
          "metadata": {
            "needs_background": "light"
          }
        }
      ]
    },
    {
      "cell_type": "markdown",
      "source": [
        "### Learning Rate Scheduler"
      ],
      "metadata": {
        "id": "UTD5DgVRnfrm"
      }
    },
    {
      "cell_type": "code",
      "source": [
        "model = tf.keras.Sequential([\n",
        "    tf.keras.layers.Flatten(input_shape=(28, 28)), \n",
        "    tf.keras.layers.Dense(256, activation='relu'), \n",
        "    tf.keras.layers.Dense(64, activation='relu'), \n",
        "    tf.keras.layers.Dense(32, activation='relu'), \n",
        "    tf.keras.layers.Dense(10, activation='softmax'), # 노드 10개로 생성\n",
        "])"
      ],
      "metadata": {
        "id": "LpuZFlmLnn9S"
      },
      "execution_count": 60,
      "outputs": []
    },
    {
      "cell_type": "code",
      "source": [
        "def scheduler(epoch, lr):\n",
        "    tf.print(f'learning_rate: {lr:.5f}')\n",
        "    # 첫 5 에포크 동안 유지\n",
        "    if epoch < 5:\n",
        "        return lr\n",
        "    else:\n",
        "    # 학습률 감소 적용\n",
        "        return lr * tf.math.exp(-0.1)\n",
        "\n",
        "# 콜백 객체생성 및 scheduler 함수 적용\n",
        "lr_scheduler = tf.keras.callbacks.LearningRateScheduler(scheduler)"
      ],
      "metadata": {
        "id": "-iHqq1bBrasP"
      },
      "execution_count": 61,
      "outputs": []
    },
    {
      "cell_type": "code",
      "source": [
        "model.compile(tf.keras.optimizers.SGD(), loss='sparse_categorical_crossentropy', metrics=['accuracy'])\n",
        "# 초기 학습률 확인(0.01)\n",
        "print(round(model.optimizer.lr.numpy(), 5))"
      ],
      "metadata": {
        "colab": {
          "base_uri": "https://localhost:8080/"
        },
        "id": "P3DJO4utre9z",
        "outputId": "d08a2e7b-2a52-4688-9b70-1ac0c272eb60"
      },
      "execution_count": 62,
      "outputs": [
        {
          "output_type": "stream",
          "name": "stdout",
          "text": [
            "0.01\n"
          ]
        }
      ]
    },
    {
      "cell_type": "code",
      "source": [
        "model.fit(x_train, y_train, \n",
        "          validation_data=(x_test, y_test), \n",
        "          epochs=10,\n",
        "          # 학습률 스케줄러 적용\n",
        "          callbacks=[lr_scheduler]\n",
        "          )\n",
        "# 최종 학습률 스케줄러 확인\n",
        "round(model.optimizer.lr.numpy(), 5)"
      ],
      "metadata": {
        "colab": {
          "base_uri": "https://localhost:8080/"
        },
        "id": "V3j5jXbtrhFo",
        "outputId": "faeda4d6-d311-4a94-cf5a-2642816c22f4"
      },
      "execution_count": 63,
      "outputs": [
        {
          "output_type": "stream",
          "name": "stdout",
          "text": [
            "learning_rate: 0.01000\n",
            "Epoch 1/10\n",
            "1875/1875 [==============================] - 5s 3ms/step - loss: 0.6012 - accuracy: 0.8367 - val_loss: 0.2824 - val_accuracy: 0.9186 - lr: 0.0100\n",
            "learning_rate: 0.01000\n",
            "Epoch 2/10\n",
            "1875/1875 [==============================] - 5s 3ms/step - loss: 0.2625 - accuracy: 0.9252 - val_loss: 0.2173 - val_accuracy: 0.9362 - lr: 0.0100\n",
            "learning_rate: 0.01000\n",
            "Epoch 3/10\n",
            "1875/1875 [==============================] - 5s 2ms/step - loss: 0.2042 - accuracy: 0.9412 - val_loss: 0.1830 - val_accuracy: 0.9466 - lr: 0.0100\n",
            "learning_rate: 0.01000\n",
            "Epoch 4/10\n",
            "1875/1875 [==============================] - 5s 3ms/step - loss: 0.1672 - accuracy: 0.9520 - val_loss: 0.1569 - val_accuracy: 0.9536 - lr: 0.0100\n",
            "learning_rate: 0.01000\n",
            "Epoch 5/10\n",
            "1875/1875 [==============================] - 4s 2ms/step - loss: 0.1421 - accuracy: 0.9591 - val_loss: 0.1440 - val_accuracy: 0.9576 - lr: 0.0100\n",
            "learning_rate: 0.01000\n",
            "Epoch 6/10\n",
            "1875/1875 [==============================] - 4s 2ms/step - loss: 0.1223 - accuracy: 0.9646 - val_loss: 0.1252 - val_accuracy: 0.9619 - lr: 0.0090\n",
            "learning_rate: 0.00905\n",
            "Epoch 7/10\n",
            "1875/1875 [==============================] - 4s 2ms/step - loss: 0.1080 - accuracy: 0.9687 - val_loss: 0.1205 - val_accuracy: 0.9634 - lr: 0.0082\n",
            "learning_rate: 0.00819\n",
            "Epoch 8/10\n",
            "1875/1875 [==============================] - 5s 2ms/step - loss: 0.0971 - accuracy: 0.9717 - val_loss: 0.1097 - val_accuracy: 0.9666 - lr: 0.0074\n",
            "learning_rate: 0.00741\n",
            "Epoch 9/10\n",
            "1875/1875 [==============================] - 5s 2ms/step - loss: 0.0879 - accuracy: 0.9750 - val_loss: 0.1087 - val_accuracy: 0.9669 - lr: 0.0067\n",
            "learning_rate: 0.00670\n",
            "Epoch 10/10\n",
            "1875/1875 [==============================] - 4s 2ms/step - loss: 0.0806 - accuracy: 0.9772 - val_loss: 0.1021 - val_accuracy: 0.9690 - lr: 0.0061\n"
          ]
        },
        {
          "output_type": "execute_result",
          "data": {
            "text/plain": [
              "0.00607"
            ]
          },
          "metadata": {},
          "execution_count": 63
        }
      ]
    }
  ]
}