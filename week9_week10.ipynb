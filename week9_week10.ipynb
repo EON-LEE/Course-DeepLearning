{
  "cells": [
    {
      "cell_type": "markdown",
      "metadata": {
        "colab_type": "text",
        "id": "view-in-github"
      },
      "source": [
        "<a href=\"https://colab.research.google.com/github/EON-LEE/Course-DeepLearning/blob/main/week9_week10.ipynb\" target=\"_parent\"><img src=\"https://colab.research.google.com/assets/colab-badge.svg\" alt=\"Open In Colab\"/></a>"
      ]
    },
    {
      "cell_type": "markdown",
      "metadata": {
        "id": "Nfss5hh_d6J6"
      },
      "source": [
        "# 딥러닝 강의 9주차"
      ]
    },
    {
      "cell_type": "markdown",
      "metadata": {},
      "source": [
        "## 환경 설정"
      ]
    },
    {
      "cell_type": "code",
      "execution_count": null,
      "metadata": {},
      "outputs": [],
      "source": [
        "import tensorflow as tf\n",
        "import subprocess\n",
        "import sys\n",
        "\n",
        "# 현재 텐서플로우 버전 확인\n",
        "current_version = tf.__version__\n",
        "desired_version = \"2.18.0\"  # 원하는 버전 지정\n",
        "\n",
        "print(f\"현재 TensorFlow 버전: {current_version}\")\n",
        "print(f\"원하는 TensorFlow 버전: {desired_version}\")\n",
        "\n",
        "# 버전 비교 및 설치\n",
        "if current_version != desired_version:\n",
        "    print(f\"TensorFlow {desired_version}으로 설치를 시작합니다...\")\n",
        "    subprocess.check_call([sys.executable, \"-m\", \"pip\", \"install\", f\"tensorflow=={desired_version}\"])\n",
        "    print(f\"TensorFlow {desired_version} 설치 완료. 코드를 다시 실행하세요.\")\n",
        "else:\n",
        "    print(\"이미 원하는 버전이 설치되어 있습니다.\")"
      ]
    },
    {
      "cell_type": "markdown",
      "metadata": {
        "id": "vsv-dyQkhIsW"
      },
      "source": [
        "## Simple Linear Regression with Neural Networks"
      ]
    },
    {
      "cell_type": "markdown",
      "metadata": {
        "id": "sh4yxSsIhQGh"
      },
      "source": [
        "### 데이터셋 만들기"
      ]
    },
    {
      "cell_type": "code",
      "execution_count": 1,
      "metadata": {
        "colab": {
          "base_uri": "https://localhost:8080/"
        },
        "id": "ByxVXwoTdpKw",
        "outputId": "c1abe82e-6426-44f6-a889-6181fd0e66c1"
      },
      "outputs": [
        {
          "name": "stdout",
          "output_type": "stream",
          "text": [
            "[1 2 3 4 5]\n",
            "[ 5  8 11 14 17]\n"
          ]
        }
      ],
      "source": [
        "import numpy as np\n",
        "\n",
        "# 샘플 데이터셋 생성\n",
        "x = np.arange(1, 6)\n",
        "\n",
        "# y = 3x + 2\n",
        "y = 3 * x + 2\n",
        "print(x)\n",
        "print(y)"
      ]
    },
    {
      "cell_type": "code",
      "execution_count": 2,
      "metadata": {
        "colab": {
          "base_uri": "https://localhost:8080/",
          "height": 281
        },
        "id": "AIoIg7evhXXc",
        "outputId": "c56d6a82-b489-41be-8486-fd085ba60f68"
      },
      "outputs": [
        {
          "data": {
            "image/png": "[encoded data removed]",
            "text/plain": [
              "<Figure size 432x288 with 1 Axes>"
            ]
          },
          "metadata": {
            "needs_background": "light"
          },
          "output_type": "display_data"
        }
      ],
      "source": [
        "import matplotlib.pyplot as plt\n",
        "\n",
        "# 시각화\n",
        "plt.plot(x, y)\n",
        "plt.title('y = 3x + 2')\n",
        "plt.show()"
      ]
    },
    {
      "cell_type": "markdown",
      "metadata": {
        "id": "C7YvdBbzhbDk"
      },
      "source": [
        "### 모델구조"
      ]
    },
    {
      "cell_type": "code",
      "execution_count": 3,
      "metadata": {
        "id": "nHXZfWc4hfxe"
      },
      "outputs": [],
      "source": [
        "import tensorflow as tf"
      ]
    },
    {
      "cell_type": "code",
      "execution_count": 4,
      "metadata": {
        "id": "qHpvlqsIibPc"
      },
      "outputs": [],
      "source": [
        "# 리스트형\n",
        "model = tf.keras.Sequential([\n",
        "    tf.keras.layers.Dense(10), \n",
        "    tf.keras.layers.Dense(5), \n",
        "    tf.keras.layers.Dense(1), \n",
        "])"
      ]
    },
    {
      "cell_type": "code",
      "execution_count": 5,
      "metadata": {
        "id": "Ip9zZy8EicB7"
      },
      "outputs": [],
      "source": [
        "# add 함수로 레이어 추가\n",
        "model = tf.keras.Sequential()\n",
        "model.add(tf.keras.layers.Dense(10))\n",
        "model.add(tf.keras.layers.Dense(5))\n",
        "model.add(tf.keras.layers.Dense(1))"
      ]
    },
    {
      "cell_type": "code",
      "execution_count": 6,
      "metadata": {
        "id": "sK4qnBhvj2J8"
      },
      "outputs": [],
      "source": [
        "import tensorflow as tf"
      ]
    },
    {
      "cell_type": "code",
      "execution_count": 7,
      "metadata": {
        "id": "YFMFkls-j3nd"
      },
      "outputs": [],
      "source": [
        "model = tf.keras.Sequential([\n",
        "    # 입력 데이터의 shape = (150, 4) 인 경우 input_shape 지정 \n",
        "    tf.keras.layers.Dense(10, input_shape=[4]), \n",
        "    tf.keras.layers.Dense(5), \n",
        "    tf.keras.layers.Dense(1), \n",
        "])"
      ]
    },
    {
      "cell_type": "markdown",
      "metadata": {
        "id": "jE0p0Jp0j8Wu"
      },
      "source": [
        "### 선형회귀모형 생성"
      ]
    },
    {
      "cell_type": "code",
      "execution_count": 8,
      "metadata": {
        "id": "tZF2-IvQj-aC"
      },
      "outputs": [],
      "source": [
        "# 단순선형회귀 모델 생성\n",
        "model = tf.keras.Sequential([\n",
        "    tf.keras.layers.Dense(1, input_shape=[1])                    \n",
        "])"
      ]
    },
    {
      "cell_type": "code",
      "execution_count": 9,
      "metadata": {
        "colab": {
          "base_uri": "https://localhost:8080/"
        },
        "id": "EecQLCw1kG5x",
        "outputId": "ef39eea5-69af-406d-c280-9425f9211777"
      },
      "outputs": [
        {
          "name": "stdout",
          "output_type": "stream",
          "text": [
            "Model: \"sequential_3\"\n",
            "_________________________________________________________________\n",
            " Layer (type)                Output Shape              Param #   \n",
            "=================================================================\n",
            " dense_9 (Dense)             (None, 1)                 2         \n",
            "                                                                 \n",
            "=================================================================\n",
            "Total params: 2\n",
            "Trainable params: 2\n",
            "Non-trainable params: 0\n",
            "_________________________________________________________________\n"
          ]
        }
      ],
      "source": [
        "# 모델 요약\n",
        "model.summary()"
      ]
    },
    {
      "cell_type": "code",
      "execution_count": 10,
      "metadata": {
        "colab": {
          "base_uri": "https://localhost:8080/",
          "height": 201
        },
        "id": "GR7ehG_BkIDP",
        "outputId": "fb767347-c304-4e8b-ad5c-3fbdf176a997"
      },
      "outputs": [
        {
          "data": {
            "image/png": "[encoded data removed]",
            "text/plain": [
              "<IPython.core.display.Image object>"
            ]
          },
          "execution_count": 10,
          "metadata": {},
          "output_type": "execute_result"
        }
      ],
      "source": [
        "tf.keras.utils.plot_model(model, show_shapes=True)"
      ]
    },
    {
      "cell_type": "code",
      "execution_count": 11,
      "metadata": {
        "id": "fbTtPteVkjK9"
      },
      "outputs": [],
      "source": [
        "# 클래스 인스턴스 지정\n",
        "model.compile(optimizer=tf.keras.optimizers.SGD(learning_rate=0.005), \n",
        "              loss=tf.keras.losses.MeanAbsoluteError(), \n",
        "              metrics=[tf.keras.metrics.MeanAbsoluteError(), \n",
        "                       tf.keras.metrics.MeanSquaredError()\n",
        "                       ])"
      ]
    },
    {
      "cell_type": "code",
      "execution_count": 12,
      "metadata": {
        "id": "kkDsIAZ-kpPk"
      },
      "outputs": [],
      "source": [
        "# 컴파일\n",
        "model.compile(optimizer='sgd', loss='mse', metrics=['mae'])\n",
        "\n"
      ]
    },
    {
      "cell_type": "code",
      "execution_count": 13,
      "metadata": {
        "colab": {
          "base_uri": "https://localhost:8080/"
        },
        "id": "QypX1QWaRQ83",
        "outputId": "7fdac199-f69b-4188-9dd5-f6eeb4127ea3"
      },
      "outputs": [
        {
          "name": "stdout",
          "output_type": "stream",
          "text": [
            "Epoch 1/100\n",
            "1/1 [==============================] - 1s 1s/step - loss: 134.5472 - mae: 10.8273\n",
            "Epoch 2/100\n",
            "1/1 [==============================] - 0s 13ms/step - loss: 78.4980 - mae: 8.3088\n",
            "Epoch 3/100\n",
            "1/1 [==============================] - 0s 18ms/step - loss: 45.8346 - mae: 6.3860\n",
            "Epoch 4/100\n",
            "1/1 [==============================] - 0s 14ms/step - loss: 26.7994 - mae: 4.9181\n",
            "Epoch 5/100\n",
            "1/1 [==============================] - 0s 11ms/step - loss: 15.7061 - mae: 3.7973\n",
            "Epoch 6/100\n",
            "1/1 [==============================] - 0s 10ms/step - loss: 9.2408 - mae: 2.9416\n",
            "Epoch 7/100\n",
            "1/1 [==============================] - 0s 12ms/step - loss: 5.4726 - mae: 2.2882\n",
            "Epoch 8/100\n",
            "1/1 [==============================] - 0s 17ms/step - loss: 3.2760 - mae: 1.7893\n",
            "Epoch 9/100\n",
            "1/1 [==============================] - 0s 19ms/step - loss: 1.9954 - mae: 1.4083\n",
            "Epoch 10/100\n",
            "1/1 [==============================] - 0s 14ms/step - loss: 1.2486 - mae: 1.1173\n",
            "Epoch 11/100\n",
            "1/1 [==============================] - 0s 19ms/step - loss: 0.8127 - mae: 0.8950\n",
            "Epoch 12/100\n",
            "1/1 [==============================] - 0s 27ms/step - loss: 0.5582 - mae: 0.7252\n",
            "Epoch 13/100\n",
            "1/1 [==============================] - 0s 32ms/step - loss: 0.4093 - mae: 0.5954\n",
            "Epoch 14/100\n",
            "1/1 [==============================] - 0s 14ms/step - loss: 0.3220 - mae: 0.4962\n",
            "Epoch 15/100\n",
            "1/1 [==============================] - 0s 23ms/step - loss: 0.2705 - mae: 0.4255\n",
            "Epoch 16/100\n",
            "1/1 [==============================] - 0s 21ms/step - loss: 0.2399 - mae: 0.4039\n",
            "Epoch 17/100\n",
            "1/1 [==============================] - 0s 50ms/step - loss: 0.2216 - mae: 0.3871\n",
            "Epoch 18/100\n",
            "1/1 [==============================] - 0s 15ms/step - loss: 0.2103 - mae: 0.3741\n",
            "Epoch 19/100\n",
            "1/1 [==============================] - 0s 16ms/step - loss: 0.2032 - mae: 0.3655\n",
            "Epoch 20/100\n",
            "1/1 [==============================] - 0s 14ms/step - loss: 0.1985 - mae: 0.3674\n",
            "Epoch 21/100\n",
            "1/1 [==============================] - 0s 11ms/step - loss: 0.1953 - mae: 0.3686\n",
            "Epoch 22/100\n",
            "1/1 [==============================] - 0s 11ms/step - loss: 0.1928 - mae: 0.3692\n",
            "Epoch 23/100\n",
            "1/1 [==============================] - 0s 44ms/step - loss: 0.1909 - mae: 0.3694\n",
            "Epoch 24/100\n",
            "1/1 [==============================] - 0s 14ms/step - loss: 0.1892 - mae: 0.3693\n",
            "Epoch 25/100\n",
            "1/1 [==============================] - 0s 16ms/step - loss: 0.1877 - mae: 0.3688\n",
            "Epoch 26/100\n",
            "1/1 [==============================] - 0s 15ms/step - loss: 0.1863 - mae: 0.3682\n",
            "Epoch 27/100\n",
            "1/1 [==============================] - 0s 15ms/step - loss: 0.1850 - mae: 0.3675\n",
            "Epoch 28/100\n",
            "1/1 [==============================] - 0s 13ms/step - loss: 0.1837 - mae: 0.3666\n",
            "Epoch 29/100\n",
            "1/1 [==============================] - 0s 9ms/step - loss: 0.1824 - mae: 0.3656\n",
            "Epoch 30/100\n",
            "1/1 [==============================] - 0s 10ms/step - loss: 0.1812 - mae: 0.3646\n",
            "Epoch 31/100\n",
            "1/1 [==============================] - 0s 14ms/step - loss: 0.1799 - mae: 0.3635\n",
            "Epoch 32/100\n",
            "1/1 [==============================] - 0s 11ms/step - loss: 0.1787 - mae: 0.3624\n",
            "Epoch 33/100\n",
            "1/1 [==============================] - 0s 13ms/step - loss: 0.1775 - mae: 0.3613\n",
            "Epoch 34/100\n",
            "1/1 [==============================] - 0s 16ms/step - loss: 0.1763 - mae: 0.3602\n",
            "Epoch 35/100\n",
            "1/1 [==============================] - 0s 17ms/step - loss: 0.1751 - mae: 0.3590\n",
            "Epoch 36/100\n",
            "1/1 [==============================] - 0s 12ms/step - loss: 0.1739 - mae: 0.3578\n",
            "Epoch 37/100\n",
            "1/1 [==============================] - 0s 15ms/step - loss: 0.1728 - mae: 0.3566\n",
            "Epoch 38/100\n",
            "1/1 [==============================] - 0s 15ms/step - loss: 0.1716 - mae: 0.3555\n",
            "Epoch 39/100\n",
            "1/1 [==============================] - 0s 67ms/step - loss: 0.1704 - mae: 0.3543\n",
            "Epoch 40/100\n",
            "1/1 [==============================] - 0s 49ms/step - loss: 0.1693 - mae: 0.3531\n",
            "Epoch 41/100\n",
            "1/1 [==============================] - 0s 17ms/step - loss: 0.1681 - mae: 0.3519\n",
            "Epoch 42/100\n",
            "1/1 [==============================] - 0s 24ms/step - loss: 0.1670 - mae: 0.3507\n",
            "Epoch 43/100\n",
            "1/1 [==============================] - 0s 18ms/step - loss: 0.1659 - mae: 0.3496\n",
            "Epoch 44/100\n",
            "1/1 [==============================] - 0s 18ms/step - loss: 0.1648 - mae: 0.3484\n",
            "Epoch 45/100\n",
            "1/1 [==============================] - 0s 16ms/step - loss: 0.1636 - mae: 0.3472\n",
            "Epoch 46/100\n",
            "1/1 [==============================] - 0s 14ms/step - loss: 0.1625 - mae: 0.3460\n",
            "Epoch 47/100\n",
            "1/1 [==============================] - 0s 14ms/step - loss: 0.1614 - mae: 0.3449\n",
            "Epoch 48/100\n",
            "1/1 [==============================] - 0s 13ms/step - loss: 0.1604 - mae: 0.3437\n",
            "Epoch 49/100\n",
            "1/1 [==============================] - 0s 25ms/step - loss: 0.1593 - mae: 0.3425\n",
            "Epoch 50/100\n",
            "1/1 [==============================] - 0s 19ms/step - loss: 0.1582 - mae: 0.3414\n",
            "Epoch 51/100\n",
            "1/1 [==============================] - 0s 13ms/step - loss: 0.1571 - mae: 0.3402\n",
            "Epoch 52/100\n",
            "1/1 [==============================] - 0s 9ms/step - loss: 0.1561 - mae: 0.3391\n",
            "Epoch 53/100\n",
            "1/1 [==============================] - 0s 10ms/step - loss: 0.1550 - mae: 0.3379\n",
            "Epoch 54/100\n",
            "1/1 [==============================] - 0s 13ms/step - loss: 0.1540 - mae: 0.3368\n",
            "Epoch 55/100\n",
            "1/1 [==============================] - 0s 9ms/step - loss: 0.1529 - mae: 0.3357\n",
            "Epoch 56/100\n",
            "1/1 [==============================] - 0s 9ms/step - loss: 0.1519 - mae: 0.3345\n",
            "Epoch 57/100\n",
            "1/1 [==============================] - 0s 9ms/step - loss: 0.1509 - mae: 0.3334\n",
            "Epoch 58/100\n",
            "1/1 [==============================] - 0s 9ms/step - loss: 0.1499 - mae: 0.3323\n",
            "Epoch 59/100\n",
            "1/1 [==============================] - 0s 8ms/step - loss: 0.1488 - mae: 0.3311\n",
            "Epoch 60/100\n",
            "1/1 [==============================] - 0s 13ms/step - loss: 0.1478 - mae: 0.3300\n",
            "Epoch 61/100\n",
            "1/1 [==============================] - 0s 16ms/step - loss: 0.1468 - mae: 0.3289\n",
            "Epoch 62/100\n",
            "1/1 [==============================] - 0s 23ms/step - loss: 0.1458 - mae: 0.3278\n",
            "Epoch 63/100\n",
            "1/1 [==============================] - 0s 16ms/step - loss: 0.1449 - mae: 0.3267\n",
            "Epoch 64/100\n",
            "1/1 [==============================] - 0s 10ms/step - loss: 0.1439 - mae: 0.3256\n",
            "Epoch 65/100\n",
            "1/1 [==============================] - 0s 20ms/step - loss: 0.1429 - mae: 0.3245\n",
            "Epoch 66/100\n",
            "1/1 [==============================] - 0s 33ms/step - loss: 0.1419 - mae: 0.3234\n",
            "Epoch 67/100\n",
            "1/1 [==============================] - 0s 21ms/step - loss: 0.1410 - mae: 0.3223\n",
            "Epoch 68/100\n",
            "1/1 [==============================] - 0s 18ms/step - loss: 0.1400 - mae: 0.3212\n",
            "Epoch 69/100\n",
            "1/1 [==============================] - 0s 29ms/step - loss: 0.1391 - mae: 0.3201\n",
            "Epoch 70/100\n",
            "1/1 [==============================] - 0s 39ms/step - loss: 0.1382 - mae: 0.3190\n",
            "Epoch 71/100\n",
            "1/1 [==============================] - 0s 14ms/step - loss: 0.1372 - mae: 0.3180\n",
            "Epoch 72/100\n",
            "1/1 [==============================] - 0s 16ms/step - loss: 0.1363 - mae: 0.3169\n",
            "Epoch 73/100\n",
            "1/1 [==============================] - 0s 16ms/step - loss: 0.1354 - mae: 0.3158\n",
            "Epoch 74/100\n",
            "1/1 [==============================] - 0s 14ms/step - loss: 0.1345 - mae: 0.3147\n",
            "Epoch 75/100\n",
            "1/1 [==============================] - 0s 18ms/step - loss: 0.1336 - mae: 0.3137\n",
            "Epoch 76/100\n",
            "1/1 [==============================] - 0s 17ms/step - loss: 0.1327 - mae: 0.3126\n",
            "Epoch 77/100\n",
            "1/1 [==============================] - 0s 11ms/step - loss: 0.1318 - mae: 0.3116\n",
            "Epoch 78/100\n",
            "1/1 [==============================] - 0s 11ms/step - loss: 0.1309 - mae: 0.3105\n",
            "Epoch 79/100\n",
            "1/1 [==============================] - 0s 13ms/step - loss: 0.1300 - mae: 0.3095\n",
            "Epoch 80/100\n",
            "1/1 [==============================] - 0s 14ms/step - loss: 0.1291 - mae: 0.3084\n",
            "Epoch 81/100\n",
            "1/1 [==============================] - 0s 22ms/step - loss: 0.1282 - mae: 0.3074\n",
            "Epoch 82/100\n",
            "1/1 [==============================] - 0s 14ms/step - loss: 0.1274 - mae: 0.3063\n",
            "Epoch 83/100\n",
            "1/1 [==============================] - 0s 10ms/step - loss: 0.1265 - mae: 0.3053\n",
            "Epoch 84/100\n",
            "1/1 [==============================] - 0s 9ms/step - loss: 0.1257 - mae: 0.3043\n",
            "Epoch 85/100\n",
            "1/1 [==============================] - 0s 10ms/step - loss: 0.1248 - mae: 0.3032\n",
            "Epoch 86/100\n",
            "1/1 [==============================] - 0s 9ms/step - loss: 0.1240 - mae: 0.3022\n",
            "Epoch 87/100\n",
            "1/1 [==============================] - 0s 8ms/step - loss: 0.1231 - mae: 0.3012\n",
            "Epoch 88/100\n",
            "1/1 [==============================] - 0s 14ms/step - loss: 0.1223 - mae: 0.3002\n",
            "Epoch 89/100\n",
            "1/1 [==============================] - 0s 26ms/step - loss: 0.1215 - mae: 0.2991\n",
            "Epoch 90/100\n",
            "1/1 [==============================] - 0s 33ms/step - loss: 0.1207 - mae: 0.2981\n",
            "Epoch 91/100\n",
            "1/1 [==============================] - 0s 26ms/step - loss: 0.1198 - mae: 0.2971\n",
            "Epoch 92/100\n",
            "1/1 [==============================] - 0s 22ms/step - loss: 0.1190 - mae: 0.2961\n",
            "Epoch 93/100\n",
            "1/1 [==============================] - 0s 21ms/step - loss: 0.1182 - mae: 0.2951\n",
            "Epoch 94/100\n",
            "1/1 [==============================] - 0s 16ms/step - loss: 0.1174 - mae: 0.2941\n",
            "Epoch 95/100\n",
            "1/1 [==============================] - 0s 16ms/step - loss: 0.1166 - mae: 0.2931\n",
            "Epoch 96/100\n",
            "1/1 [==============================] - 0s 13ms/step - loss: 0.1158 - mae: 0.2921\n",
            "Epoch 97/100\n",
            "1/1 [==============================] - 0s 25ms/step - loss: 0.1151 - mae: 0.2912\n",
            "Epoch 98/100\n",
            "1/1 [==============================] - 0s 22ms/step - loss: 0.1143 - mae: 0.2902\n",
            "Epoch 99/100\n",
            "1/1 [==============================] - 0s 22ms/step - loss: 0.1135 - mae: 0.2892\n",
            "Epoch 100/100\n",
            "1/1 [==============================] - 0s 28ms/step - loss: 0.1127 - mae: 0.2882\n"
          ]
        }
      ],
      "source": [
        "\n",
        "# 훈련\n",
        "history = model.fit(x, y, epochs=100)"
      ]
    },
    {
      "cell_type": "code",
      "execution_count": 14,
      "metadata": {
        "colab": {
          "base_uri": "https://localhost:8080/",
          "height": 281
        },
        "id": "cQmJC12Tk3zw",
        "outputId": "932e3371-d3e0-4395-a245-9ee5eb634da8"
      },
      "outputs": [
        {
          "data": {
            "image/png": "[encoded data removed]",
            "text/plain": [
              "<Figure size 432x288 with 1 Axes>"
            ]
          },
          "metadata": {
            "needs_background": "light"
          },
          "output_type": "display_data"
        }
      ],
      "source": [
        "import matplotlib.pyplot as plt\n",
        "\n",
        "# 20 에포크까지 Loss 수렴에 대한 시각화\n",
        "plt.plot(history.history['loss'], label='loss')\n",
        "plt.plot(history.history['mae'], label='mae')\n",
        "plt.xlim(-1, 20)\n",
        "plt.title('Loss')\n",
        "plt.legend()\n",
        "plt.show()"
      ]
    },
    {
      "cell_type": "code",
      "execution_count": 15,
      "metadata": {
        "colab": {
          "base_uri": "https://localhost:8080/"
        },
        "id": "Ew7xdeXFk5a3",
        "outputId": "b929eb65-949b-4e43-9b95-dafccbc474d1"
      },
      "outputs": [
        {
          "name": "stdout",
          "output_type": "stream",
          "text": [
            "1/1 [==============================] - 0s 477ms/step - loss: 0.1120 - mae: 0.2872\n"
          ]
        },
        {
          "data": {
            "text/plain": [
              "[0.11198824644088745, 0.28723448514938354]"
            ]
          },
          "execution_count": 15,
          "metadata": {},
          "output_type": "execute_result"
        }
      ],
      "source": [
        "# 검증\n",
        "model.evaluate(x, y)"
      ]
    },
    {
      "cell_type": "code",
      "execution_count": 16,
      "metadata": {
        "colab": {
          "base_uri": "https://localhost:8080/"
        },
        "id": "AI_C6Rx2k7hz",
        "outputId": "674964dc-1795-41ef-8dba-8b078354813f"
      },
      "outputs": [
        {
          "data": {
            "text/plain": [
              "array([[33.388237]], dtype=float32)"
            ]
          },
          "execution_count": 16,
          "metadata": {},
          "output_type": "execute_result"
        }
      ],
      "source": [
        "# 수정\n",
        "\n",
        "# 예측\n",
        "# Convert the list to a NumPy array before passing it to predict()\n",
        "model.predict(np.array([[10]]))  \n",
        "# 3 * 10 + 2 = 32"
      ]
    },
    {
      "cell_type": "markdown",
      "metadata": {
        "id": "JPfrgd_MlRbW"
      },
      "source": [
        "## mnist classification with Neural Networks"
      ]
    },
    {
      "cell_type": "markdown",
      "metadata": {
        "id": "oZjtyPRulalr"
      },
      "source": [
        "### 데이터셋 만들기"
      ]
    },
    {
      "cell_type": "code",
      "execution_count": 17,
      "metadata": {
        "id": "gsuk46tPlWNi"
      },
      "outputs": [],
      "source": [
        "import tensorflow as tf\n",
        "\n",
        "# 케라스의 내장 데이터셋에서 mnist 데이터셋을 로드\n",
        "mnist = tf.keras.datasets.mnist"
      ]
    },
    {
      "cell_type": "code",
      "execution_count": 18,
      "metadata": {
        "colab": {
          "base_uri": "https://localhost:8080/"
        },
        "id": "bH0Ct_fFlZHc",
        "outputId": "4ab15236-9101-417b-c6dd-6fbab4af6c1c"
      },
      "outputs": [
        {
          "name": "stdout",
          "output_type": "stream",
          "text": [
            "Downloading data from https://storage.googleapis.com/tensorflow/tf-keras-datasets/mnist.npz\n",
            "11493376/11490434 [==============================] - 0s 0us/step\n",
            "11501568/11490434 [==============================] - 0s 0us/step\n"
          ]
        }
      ],
      "source": [
        "# load_data()로 데이터셋을 로드 합니다.\n",
        "(x_train, y_train), (x_test, y_test) = mnist.load_data()"
      ]
    },
    {
      "cell_type": "code",
      "execution_count": 19,
      "metadata": {
        "colab": {
          "base_uri": "https://localhost:8080/"
        },
        "id": "gIoxclHTl_Wy",
        "outputId": "fa7d6cad-757c-43aa-a9fc-37c5a3d33599"
      },
      "outputs": [
        {
          "name": "stdout",
          "output_type": "stream",
          "text": [
            "train set:  (60000, 28, 28) (60000,)\n",
            "test  set:  (10000, 28, 28) (10000,)\n"
          ]
        }
      ],
      "source": [
        "# 로드된 데이터셋 확인\n",
        "print('train set: ', x_train.shape, y_train.shape)\n",
        "print('test  set: ', x_test.shape, y_test.shape)"
      ]
    },
    {
      "cell_type": "code",
      "execution_count": 20,
      "metadata": {
        "colab": {
          "base_uri": "https://localhost:8080/",
          "height": 371
        },
        "id": "mLwUfsBKoYwG",
        "outputId": "5c90fd79-94dd-459d-993e-93ed6e17fe7c"
      },
      "outputs": [
        {
          "data": {
            "image/png": "[encoded data removed]",
            "text/plain": [
              "<Figure size 576x360 with 15 Axes>"
            ]
          },
          "metadata": {
            "needs_background": "light"
          },
          "output_type": "display_data"
        }
      ],
      "source": [
        "# 데이터 시각화\n",
        "import matplotlib.pyplot as plt\n",
        "\n",
        "# canvas 생성\n",
        "fig, axes = plt.subplots(3, 5)\n",
        "fig.set_size_inches(8, 5)\n",
        "\n",
        "for i in range(15):\n",
        "    ax = axes[i//5, i%5]\n",
        "    # imshow로 이미지 시각화\n",
        "    ax.imshow(x_train[i], cmap='gray')\n",
        "    ax.axis('off')\n",
        "    ax.set_title(str(y_train[i]))\n",
        "\n",
        "plt.tight_layout()\n",
        "plt.show()"
      ]
    },
    {
      "cell_type": "markdown",
      "metadata": {
        "id": "eCpmX2_ppL8e"
      },
      "source": [
        "### 데이터 전처리"
      ]
    },
    {
      "cell_type": "code",
      "execution_count": 21,
      "metadata": {
        "colab": {
          "base_uri": "https://localhost:8080/"
        },
        "id": "XAf_aNUPoajR",
        "outputId": "2a210915-9671-44da-8f4b-22dc1158bd96"
      },
      "outputs": [
        {
          "data": {
            "text/plain": [
              "array([[  1, 154, 253,  90,   0],\n",
              "       [  0, 139, 253, 190,   2],\n",
              "       [  0,  11, 190, 253,  70],\n",
              "       [  0,   0,  35, 241, 225],\n",
              "       [  0,   0,   0,  81, 240]], dtype=uint8)"
            ]
          },
          "execution_count": 21,
          "metadata": {},
          "output_type": "execute_result"
        }
      ],
      "source": [
        "# x_train 배열의 데이터 확인\n",
        "x_train[0, 10:15, 10:15]"
      ]
    },
    {
      "cell_type": "code",
      "execution_count": 22,
      "metadata": {
        "colab": {
          "base_uri": "https://localhost:8080/"
        },
        "id": "ye_caP3Ipo0r",
        "outputId": "cfa5e8d9-aa7c-4189-dd1a-8d4fb8e18e4c"
      },
      "outputs": [
        {
          "name": "stdout",
          "output_type": "stream",
          "text": [
            "정규화 전] 최소값: 0, 최대값: 255\n",
            "정규화 후] 최소값: 0.0, 최대값: 1.0\n"
          ]
        }
      ],
      "source": [
        "# 픽셀 값의 최소/최대 값 확인\n",
        "print(f'정규화 전] 최소값: {x_train.min()}, 최대값: {x_train.max()}')\n",
        "\n",
        "# 데이터 정규화\n",
        "x_train = x_train / x_train.max()\n",
        "\n",
        "# 정규화 후 최소/최대 값 확인\n",
        "print(f'정규화 후] 최소값: {x_train.min()}, 최대값: {x_train.max()}')"
      ]
    },
    {
      "cell_type": "code",
      "execution_count": 23,
      "metadata": {
        "colab": {
          "base_uri": "https://localhost:8080/"
        },
        "id": "OpCg6Ga3ptG8",
        "outputId": "3be0d889-4ece-4ad3-b34c-7f6ebf4b015f"
      },
      "outputs": [
        {
          "data": {
            "text/plain": [
              "array([[0.00392157, 0.60392157, 0.99215686, 0.35294118, 0.        ],\n",
              "       [0.        , 0.54509804, 0.99215686, 0.74509804, 0.00784314],\n",
              "       [0.        , 0.04313725, 0.74509804, 0.99215686, 0.2745098 ],\n",
              "       [0.        , 0.        , 0.1372549 , 0.94509804, 0.88235294],\n",
              "       [0.        , 0.        , 0.        , 0.31764706, 0.94117647]])"
            ]
          },
          "execution_count": 23,
          "metadata": {},
          "output_type": "execute_result"
        }
      ],
      "source": [
        "# x_train 배열의 데이터 확인\n",
        "x_train[0, 10:15, 10:15]"
      ]
    },
    {
      "cell_type": "code",
      "execution_count": 24,
      "metadata": {
        "id": "K-6OfGpypwWK"
      },
      "outputs": [],
      "source": [
        "# test 셋에도 정규화 동일 적용\n",
        "x_test = x_test / x_test.max()"
      ]
    },
    {
      "cell_type": "markdown",
      "metadata": {
        "id": "LyfO2eQosJvo"
      },
      "source": [
        "### Input 의 2가지 방법"
      ]
    },
    {
      "cell_type": "code",
      "execution_count": 25,
      "metadata": {
        "colab": {
          "base_uri": "https://localhost:8080/"
        },
        "id": "N7-gI308sEcH",
        "outputId": "01c7804e-014c-4e36-c191-d594aee6d553"
      },
      "outputs": [
        {
          "name": "stdout",
          "output_type": "stream",
          "text": [
            "변경전 shape: (60000, 28, 28)\n",
            "1D으로 shape 변경 후: (60000, 784)\n"
          ]
        }
      ],
      "source": [
        "print(f'변경전 shape: {x_train.shape}')\n",
        "print(f'1D으로 shape 변경 후: {x_train.reshape(60000, -1).shape}')"
      ]
    },
    {
      "cell_type": "code",
      "execution_count": 26,
      "metadata": {
        "colab": {
          "base_uri": "https://localhost:8080/"
        },
        "id": "d26obdJEsHaq",
        "outputId": "a161f858-263e-4697-d7e2-ffaa37f754dd"
      },
      "outputs": [
        {
          "name": "stdout",
          "output_type": "stream",
          "text": [
            "변경전 shape: (60000, 28, 28)\n",
            "Flatten 적용 후: (60000, 784)\n"
          ]
        }
      ],
      "source": [
        "print(f'변경전 shape: {x_train.shape}')\n",
        "\n",
        "# Flatten 레이어 적용 후 shape 확인\n",
        "print(f'Flatten 적용 후: {tf.keras.layers.Flatten()(x_train).shape}')"
      ]
    },
    {
      "cell_type": "markdown",
      "metadata": {
        "id": "6IFTXoIus9d-"
      },
      "source": [
        "### 모델 설계"
      ]
    },
    {
      "cell_type": "markdown",
      "metadata": {
        "id": "eedSLczzQQmM"
      },
      "source": [
        "#### 출력 층이 1개 node 인 경우"
      ]
    },
    {
      "cell_type": "code",
      "execution_count": 27,
      "metadata": {
        "id": "FPPoKwois96n"
      },
      "outputs": [],
      "source": [
        "# # 출력층 노드 = 1인 경우, sigmoid\n",
        "model = tf.keras.Sequential([\n",
        "    tf.keras.layers.Flatten(input_shape=(28, 28)), \n",
        "    tf.keras.layers.Dense(256, activation='relu'), \n",
        "    tf.keras.layers.Dense(64, activation='relu'), \n",
        "    tf.keras.layers.Dense(32, activation='relu'), \n",
        "    # 노드=10개 (클래스 개수와 동일)\n",
        "    tf.keras.layers.Dense(1, activation='sigmoid'), \n",
        "])"
      ]
    },
    {
      "cell_type": "code",
      "execution_count": 28,
      "metadata": {
        "id": "JlQnavm7QKkl"
      },
      "outputs": [],
      "source": [
        "\n",
        "# tf.keras.layers.Dense(1, activation='sigmoid')\n",
        "\n",
        "# # 출력층 노드 = 2개 이상인 경우, softmax\n",
        "# tf.keras.layers.Dense(10, activation='softmax')"
      ]
    },
    {
      "cell_type": "code",
      "execution_count": 29,
      "metadata": {
        "id": "51no7G8EQMFu"
      },
      "outputs": [],
      "source": [
        "# 이진 분류 (출력 노드 개수 = 1, sigmoid 인 경우)\n",
        "model.compile(loss='binary_crossentropy')"
      ]
    },
    {
      "cell_type": "markdown",
      "metadata": {
        "id": "PQ_UX_foQX1H"
      },
      "source": [
        "#### 출력 층이 10개 node인 경우"
      ]
    },
    {
      "cell_type": "code",
      "execution_count": 30,
      "metadata": {
        "id": "Fr8mBd6BQYe6"
      },
      "outputs": [],
      "source": [
        "# # 출력층 노드 = 1인 경우, sigmoid\n",
        "model = tf.keras.Sequential([\n",
        "    tf.keras.layers.Flatten(input_shape=(28, 28)), \n",
        "    tf.keras.layers.Dense(256, activation='relu'), \n",
        "    tf.keras.layers.Dense(64, activation='relu'), \n",
        "    tf.keras.layers.Dense(32, activation='relu'), \n",
        "    # 노드=10개 (클래스 개수와 동일)\n",
        "    tf.keras.layers.Dense(10, activation='softmax'), \n",
        "])"
      ]
    },
    {
      "cell_type": "code",
      "execution_count": 31,
      "metadata": {
        "id": "DWuZvOZcQf3-"
      },
      "outputs": [],
      "source": [
        "# y가 원 핫 벡터인 경우\n",
        "# [0., 0., 0., 0., 0., 1., 0., 0., 0., 0.]\n",
        "model.compile(loss='categorical_crossentropy')\n",
        "\n",
        "# # y가 원 핫 벡터가 아닌경우\n",
        "# # [5]\n",
        "# model.compile(loss='sparse_categorical_crossentropy')"
      ]
    },
    {
      "cell_type": "code",
      "execution_count": 32,
      "metadata": {
        "colab": {
          "base_uri": "https://localhost:8080/"
        },
        "id": "PUsxT85gdqI9",
        "outputId": "746db7b5-3c21-4969-b976-c0da06e7e453"
      },
      "outputs": [
        {
          "name": "stdout",
          "output_type": "stream",
          "text": [
            "Model: \"sequential_5\"\n",
            "_________________________________________________________________\n",
            " Layer (type)                Output Shape              Param #   \n",
            "=================================================================\n",
            " flatten_2 (Flatten)         (None, 784)               0         \n",
            "                                                                 \n",
            " dense_14 (Dense)            (None, 256)               200960    \n",
            "                                                                 \n",
            " dense_15 (Dense)            (None, 64)                16448     \n",
            "                                                                 \n",
            " dense_16 (Dense)            (None, 32)                2080      \n",
            "                                                                 \n",
            " dense_17 (Dense)            (None, 10)                330       \n",
            "                                                                 \n",
            "=================================================================\n",
            "Total params: 219,818\n",
            "Trainable params: 219,818\n",
            "Non-trainable params: 0\n",
            "_________________________________________________________________\n"
          ]
        }
      ],
      "source": [
        "model.summary()"
      ]
    },
    {
      "cell_type": "markdown",
      "metadata": {
        "id": "qLx94T0pQogb"
      },
      "source": [
        "#### 옵티마이져"
      ]
    },
    {
      "cell_type": "code",
      "execution_count": null,
      "metadata": {
        "colab": {
          "base_uri": "https://localhost:8080/"
        },
        "id": "AmxZy6MAQqek",
        "outputId": "a2c3114b-101c-404b-9ad4-6e2d2d8f4ed1"
      },
      "outputs": [
        {
          "ename": "",
          "evalue": "",
          "output_type": "error",
          "traceback": [
            "\u001b[1;31mRunning cells with 'Python 3.9.6' requires the ipykernel package.\n",
            "\u001b[1;31mRun the following command to install 'ipykernel' into the Python environment. \n",
            "\u001b[1;31mCommand: '/usr/bin/python3 -m pip install ipykernel -U --user --force-reinstall'"
          ]
        }
      ],
      "source": [
        "# 수정\n",
        "\n",
        "# 클래스 인스턴스로 지정\n",
        "adam = tf.keras.optimizers.Adam(learning_rate=0.001)\n",
        "model.compile(optimizer=adam)\n",
        "\n",
        "# 문자열로 지정\n",
        "# model.compile(optimizer='adam')"
      ]
    },
    {
      "cell_type": "markdown",
      "metadata": {
        "id": "d2HNPBv7RE0N"
      },
      "source": [
        "#### 평가 지표"
      ]
    },
    {
      "cell_type": "code",
      "execution_count": 34,
      "metadata": {
        "id": "lRCSbyPMRGF6"
      },
      "outputs": [],
      "source": [
        "# 클래스 인스턴스로 지정\n",
        "acc = tf.keras.metrics.SparseCategoricalAccuracy()\n",
        "\n",
        "model.compile(optimizer='adam', \n",
        "              loss='sparse_categorical_crossentropy', \n",
        "              metrics=[acc])"
      ]
    },
    {
      "cell_type": "markdown",
      "metadata": {
        "id": "gDmCV1V7RLOY"
      },
      "source": [
        "### 훈련"
      ]
    },
    {
      "cell_type": "code",
      "execution_count": 35,
      "metadata": {
        "colab": {
          "base_uri": "https://localhost:8080/"
        },
        "id": "0HhDI8oyRM5s",
        "outputId": "b05c4e53-efee-4ecc-d769-a223e15da603"
      },
      "outputs": [
        {
          "name": "stdout",
          "output_type": "stream",
          "text": [
            "Epoch 1/10\n",
            "1875/1875 [==============================] - 14s 7ms/step - loss: 0.2277 - sparse_categorical_accuracy: 0.9323\n",
            "Epoch 2/10\n",
            "1875/1875 [==============================] - 10s 5ms/step - loss: 0.0943 - sparse_categorical_accuracy: 0.9710\n",
            "Epoch 3/10\n",
            "1875/1875 [==============================] - 10s 5ms/step - loss: 0.0665 - sparse_categorical_accuracy: 0.9794\n",
            "Epoch 4/10\n",
            "1875/1875 [==============================] - 10s 5ms/step - loss: 0.0504 - sparse_categorical_accuracy: 0.9842\n",
            "Epoch 5/10\n",
            "1875/1875 [==============================] - 10s 5ms/step - loss: 0.0393 - sparse_categorical_accuracy: 0.9873\n",
            "Epoch 6/10\n",
            "1875/1875 [==============================] - 9s 5ms/step - loss: 0.0329 - sparse_categorical_accuracy: 0.9895\n",
            "Epoch 7/10\n",
            "1875/1875 [==============================] - 10s 5ms/step - loss: 0.0275 - sparse_categorical_accuracy: 0.9912\n",
            "Epoch 8/10\n",
            "1875/1875 [==============================] - 9s 5ms/step - loss: 0.0255 - sparse_categorical_accuracy: 0.9917\n",
            "Epoch 9/10\n",
            "1875/1875 [==============================] - 9s 5ms/step - loss: 0.0227 - sparse_categorical_accuracy: 0.9927\n",
            "Epoch 10/10\n",
            "1875/1875 [==============================] - 10s 5ms/step - loss: 0.0195 - sparse_categorical_accuracy: 0.9937\n"
          ]
        },
        {
          "data": {
            "text/plain": [
              "<keras.callbacks.History at 0x7fedb05e8290>"
            ]
          },
          "execution_count": 35,
          "metadata": {},
          "output_type": "execute_result"
        }
      ],
      "source": [
        "# 훈련\n",
        "model.fit(x_train, y_train, \n",
        "          epochs=10, \n",
        "          )"
      ]
    },
    {
      "cell_type": "markdown",
      "metadata": {
        "id": "AbEHTn83RffW"
      },
      "source": [
        "### 테스트"
      ]
    },
    {
      "cell_type": "code",
      "execution_count": 36,
      "metadata": {
        "colab": {
          "base_uri": "https://localhost:8080/"
        },
        "id": "S_en5rjiRg3c",
        "outputId": "73c423c9-4fd4-4a82-d2ff-c407c5c117d8"
      },
      "outputs": [
        {
          "name": "stdout",
          "output_type": "stream",
          "text": [
            "313/313 [==============================] - 1s 3ms/step - loss: 0.0868 - sparse_categorical_accuracy: 0.9789\n",
            "검증셋 정확도: 0.9789000153541565\n"
          ]
        }
      ],
      "source": [
        "# 검증\n",
        "test_loss, test_acc = model.evaluate(x_test,  y_test)\n",
        "\n",
        "print('검증셋 정확도:', test_acc)"
      ]
    },
    {
      "cell_type": "markdown",
      "metadata": {
        "id": "dU8I2VpARi14"
      },
      "source": [
        "### 예측"
      ]
    },
    {
      "cell_type": "code",
      "execution_count": 37,
      "metadata": {
        "id": "kK0gP8VWRkJ0"
      },
      "outputs": [],
      "source": [
        "# 예측\n",
        "predictions = model.predict(x_test)"
      ]
    },
    {
      "cell_type": "code",
      "execution_count": 38,
      "metadata": {
        "colab": {
          "base_uri": "https://localhost:8080/"
        },
        "id": "jwMRowrsRlp_",
        "outputId": "f14a4d30-cb71-41d4-b6b0-8ee616b0063e"
      },
      "outputs": [
        {
          "data": {
            "text/plain": [
              "array([1.14611876e-08, 9.49558920e-09, 3.54599308e-07, 3.09359734e-06,\n",
              "       4.19941095e-08, 1.42357194e-07, 1.26290969e-14, 9.99981284e-01,\n",
              "       3.20161031e-09, 1.51657714e-05], dtype=float32)"
            ]
          },
          "execution_count": 38,
          "metadata": {},
          "output_type": "execute_result"
        }
      ],
      "source": [
        "# 예측 결과 출력\n",
        "predictions[0]"
      ]
    },
    {
      "cell_type": "code",
      "execution_count": 39,
      "metadata": {
        "colab": {
          "base_uri": "https://localhost:8080/"
        },
        "id": "hskhHpOcRnQF",
        "outputId": "6604939e-305f-4a1a-e59d-bc3d96749a41"
      },
      "outputs": [
        {
          "name": "stdout",
          "output_type": "stream",
          "text": [
            "7\n"
          ]
        }
      ],
      "source": [
        "import numpy as np\n",
        "\n",
        "# 0번 index에 대한 예측 클래스 출력\n",
        "print(np.argmax(predictions[0]))"
      ]
    },
    {
      "cell_type": "code",
      "execution_count": 40,
      "metadata": {
        "colab": {
          "base_uri": "https://localhost:8080/"
        },
        "id": "gOTH2fxvRpaC",
        "outputId": "442a1fb0-a67b-4a37-c0d1-8a8c21e3dca2"
      },
      "outputs": [
        {
          "name": "stdout",
          "output_type": "stream",
          "text": [
            "7\n",
            "[7 2 1 0 4 1 4 9 5 9]\n"
          ]
        }
      ],
      "source": [
        "import numpy as np\n",
        "\n",
        "# 0번 index에 대한 예측 클래스 출력\n",
        "print(np.argmax(predictions[0]))\n",
        "\n",
        "# 첫 10개 index에 대한 예측 클래스 출력\n",
        "print(np.argmax(predictions[:10], axis=1))"
      ]
    },
    {
      "cell_type": "code",
      "execution_count": 41,
      "metadata": {
        "colab": {
          "base_uri": "https://localhost:8080/",
          "height": 516
        },
        "id": "wLy2fpVIRrrA",
        "outputId": "f4e9dc83-1be6-4c4b-ae1b-396db19fdf63"
      },
      "outputs": [
        {
          "data": {
            "image/png": "[encoded data removed]",
            "text/plain": [
              "<Figure size 864x720 with 15 Axes>"
            ]
          },
          "metadata": {},
          "output_type": "display_data"
        }
      ],
      "source": [
        "# 데이터 시각화\n",
        "import matplotlib.pyplot as plt\n",
        "\n",
        "def get_one_result(idx):\n",
        "    img, y_true, y_pred, confidence = x_test[idx], y_test[idx], np.argmax(predictions[idx]), 100*np.max(predictions[idx])\n",
        "    return img, y_true, y_pred, confidence\n",
        "    \n",
        "# canvas 생성\n",
        "fig, axes = plt.subplots(3, 5)\n",
        "fig.set_size_inches(12, 10)\n",
        "\n",
        "for i in range(15):\n",
        "    ax = axes[i//5, i%5]\n",
        "\n",
        "    img, y_true, y_pred, confidence = get_one_result(i)\n",
        "\n",
        "    # imshow로 이미지 시각화\n",
        "    ax.imshow(img, cmap='gray')\n",
        "    ax.set_xticks([])\n",
        "    ax.set_yticks([])\n",
        "    ax.set_title(f'True: {y_true}')\n",
        "    ax.set_xlabel(f'Prediction: {y_pred}\\nConfidence: ({confidence:.2f} %)')\n",
        "\n",
        "plt.tight_layout()\n",
        "plt.show()"
      ]
    },
    {
      "cell_type": "markdown",
      "metadata": {
        "id": "4b5EVSCsLyk1"
      },
      "source": [
        "# 딥러닝 강의 10주차"
      ]
    },
    {
      "cell_type": "code",
      "execution_count": 42,
      "metadata": {
        "colab": {
          "base_uri": "https://localhost:8080/"
        },
        "id": "J-s678gsR9yN",
        "outputId": "3e72fe09-1a88-451d-df4b-6fc547ef7cfd"
      },
      "outputs": [
        {
          "name": "stdout",
          "output_type": "stream",
          "text": [
            "train set:  (60000, 28, 28) (60000,)\n",
            "test  set:  (10000, 28, 28) (10000,)\n"
          ]
        }
      ],
      "source": [
        "import tensorflow as tf\n",
        "\n",
        "# 케라스의 내장 데이터셋에서 mnist 데이터셋을 로드\n",
        "mnist = tf.keras.datasets.mnist\n",
        "\n",
        "# load_data()로 데이터셋을 로드 합니다.\n",
        "(x_train, y_train), (x_test, y_test) = mnist.load_data()\n",
        "\n",
        "# 로드된 데이터셋 확인\n",
        "print('train set: ', x_train.shape, y_train.shape)\n",
        "print('test  set: ', x_test.shape, y_test.shape)\n",
        "\n",
        "# 데이터 정규화\n",
        "x_train = x_train / x_train.max() # max: 255\n",
        "x_test = x_test / x_test.max() # max: 255"
      ]
    },
    {
      "cell_type": "markdown",
      "metadata": {
        "id": "ugpAzNWDRxnB"
      },
      "source": [
        "## Deep Learning Optimization Techniques"
      ]
    },
    {
      "cell_type": "markdown",
      "metadata": {
        "id": "xm2k8u3CfG3L"
      },
      "source": [
        "#### weight initialization"
      ]
    },
    {
      "cell_type": "code",
      "execution_count": 43,
      "metadata": {
        "colab": {
          "base_uri": "https://localhost:8080/"
        },
        "id": "DecYLfNFe_Td",
        "outputId": "0a3d66f4-61eb-4d9f-c3e0-b7bc6c3a682f"
      },
      "outputs": [
        {
          "data": {
            "text/plain": [
              "{'class_name': 'GlorotUniform', 'config': {'seed': None}}"
            ]
          },
          "execution_count": 43,
          "metadata": {},
          "output_type": "execute_result"
        }
      ],
      "source": [
        "dense = tf.keras.layers.Dense(256, activation='relu')\n",
        "dense.get_config()['kernel_initializer']"
      ]
    },
    {
      "cell_type": "code",
      "execution_count": 44,
      "metadata": {
        "colab": {
          "base_uri": "https://localhost:8080/"
        },
        "id": "cmhOFl_4fC6f",
        "outputId": "0046b1eb-3d63-4076-9ea8-661ea9fa6108"
      },
      "outputs": [
        {
          "data": {
            "text/plain": [
              "{'class_name': 'HeNormal', 'config': {'seed': None}}"
            ]
          },
          "execution_count": 44,
          "metadata": {},
          "output_type": "execute_result"
        }
      ],
      "source": [
        "\n",
        "# he normal 초기화\n",
        "dense = tf.keras.layers.Dense(256, kernel_initializer='he_normal', activation='relu')\n",
        "dense.get_config()['kernel_initializer']"
      ]
    },
    {
      "cell_type": "markdown",
      "metadata": {
        "id": "rXBBabo7hh5J"
      },
      "source": [
        "#### Weight Penalty"
      ]
    },
    {
      "cell_type": "code",
      "execution_count": 45,
      "metadata": {
        "colab": {
          "base_uri": "https://localhost:8080/"
        },
        "id": "32A0OFUlhkoU",
        "outputId": "bccf2bae-8740-4868-9275-0524d040b71d"
      },
      "outputs": [
        {
          "data": {
            "text/plain": [
              "{'activation': 'relu',\n",
              " 'activity_regularizer': None,\n",
              " 'bias_constraint': None,\n",
              " 'bias_initializer': {'class_name': 'Zeros', 'config': {}},\n",
              " 'bias_regularizer': None,\n",
              " 'dtype': 'float32',\n",
              " 'kernel_constraint': None,\n",
              " 'kernel_initializer': {'class_name': 'GlorotUniform',\n",
              "  'config': {'seed': None}},\n",
              " 'kernel_regularizer': None,\n",
              " 'name': 'dense_20',\n",
              " 'trainable': True,\n",
              " 'units': 256,\n",
              " 'use_bias': True}"
            ]
          },
          "execution_count": 45,
          "metadata": {},
          "output_type": "execute_result"
        }
      ],
      "source": [
        "# 기본 값\n",
        "dense = tf.keras.layers.Dense(256, activation='relu')\n",
        "dense.get_config()"
      ]
    },
    {
      "cell_type": "code",
      "execution_count": 46,
      "metadata": {
        "colab": {
          "base_uri": "https://localhost:8080/"
        },
        "id": "4QGC37akhncm",
        "outputId": "18d0f644-0ff1-4177-b3c7-eadde3adc2c6"
      },
      "outputs": [
        {
          "name": "stdout",
          "output_type": "stream",
          "text": [
            "{'class_name': 'L1', 'config': {'l1': 0.10000000149011612}}\n"
          ]
        }
      ],
      "source": [
        "# 클래스 인스턴스 적용, alpha 값 변경\n",
        "regularizer = tf.keras.regularizers.l1(l1=0.1)\n",
        "dense = tf.keras.layers.Dense(256, kernel_regularizer=regularizer, activation='relu')\n",
        "print(dense.get_config()['kernel_regularizer'])"
      ]
    },
    {
      "cell_type": "code",
      "execution_count": 47,
      "metadata": {
        "colab": {
          "base_uri": "https://localhost:8080/"
        },
        "id": "Pyf-R1AZhqAs",
        "outputId": "376c879e-d6fb-46e1-8d04-1e19a5be8b63"
      },
      "outputs": [
        {
          "name": "stdout",
          "output_type": "stream",
          "text": [
            "{'class_name': 'L2', 'config': {'l2': 0.10000000149011612}}\n"
          ]
        }
      ],
      "source": [
        "# 클래스 인스턴스 적용, alpha 값 변경\n",
        "regularizer = tf.keras.regularizers.l2(l2=0.1)\n",
        "dense = tf.keras.layers.Dense(256, kernel_regularizer=regularizer, activation='relu')\n",
        "print(dense.get_config()['kernel_regularizer'])"
      ]
    },
    {
      "cell_type": "code",
      "execution_count": 48,
      "metadata": {
        "colab": {
          "base_uri": "https://localhost:8080/"
        },
        "id": "E6MagI3ipQ6z",
        "outputId": "fecfe4e8-606c-4ef4-e78d-66cea2badbab"
      },
      "outputs": [
        {
          "data": {
            "text/plain": [
              "<keras.regularizers.L1L2 at 0x7fedae3e6990>"
            ]
          },
          "execution_count": 48,
          "metadata": {},
          "output_type": "execute_result"
        }
      ],
      "source": [
        "tf.keras.regularizers.L1(0.3)  # L1 Regularization Penalty\n",
        "tf.keras.regularizers.L2(0.1)  # L2 Regularization Penalty\n",
        "tf.keras.regularizers.L1L2(l1=0.01, l2=0.01)  # L1 + L2 penalties"
      ]
    },
    {
      "cell_type": "markdown",
      "metadata": {
        "id": "FplTX3D5p1Rt"
      },
      "source": [
        "##### 비교"
      ]
    },
    {
      "cell_type": "code",
      "execution_count": 49,
      "metadata": {
        "id": "k7pnVGI8p7JN"
      },
      "outputs": [],
      "source": [
        "import tensorflow as tf\n",
        "from tensorflow import keras\n",
        "\n",
        "import numpy as np\n",
        "import matplotlib.pyplot as plt"
      ]
    },
    {
      "cell_type": "code",
      "execution_count": 50,
      "metadata": {
        "colab": {
          "base_uri": "https://localhost:8080/"
        },
        "id": "2P-ao6TkpkEx",
        "outputId": "a2cc9728-72a9-444c-839f-96a1a62c316b"
      },
      "outputs": [
        {
          "name": "stdout",
          "output_type": "stream",
          "text": [
            "Downloading data from https://storage.googleapis.com/tensorflow/tf-keras-datasets/imdb.npz\n",
            "17465344/17464789 [==============================] - 0s 0us/step\n",
            "17473536/17464789 [==============================] - 0s 0us/step\n"
          ]
        }
      ],
      "source": [
        "NUM_WORDS = 1000\n",
        "\n",
        "(train_data, train_labels), (test_data, test_labels) = keras.datasets.imdb.load_data(num_words=NUM_WORDS)\n"
      ]
    },
    {
      "cell_type": "code",
      "execution_count": 51,
      "metadata": {
        "colab": {
          "base_uri": "https://localhost:8080/"
        },
        "id": "a3hys_hctTWo",
        "outputId": "a91687d1-28ba-4a21-b8f5-1ef8cfd98529"
      },
      "outputs": [
        {
          "data": {
            "text/plain": [
              "(25000,)"
            ]
          },
          "execution_count": 51,
          "metadata": {},
          "output_type": "execute_result"
        }
      ],
      "source": [
        "train_data.shape"
      ]
    },
    {
      "cell_type": "code",
      "execution_count": 52,
      "metadata": {
        "colab": {
          "base_uri": "https://localhost:8080/"
        },
        "id": "kR15k4Iatags",
        "outputId": "e6fbce03-02d1-45b2-f791-d9e4868ab309"
      },
      "outputs": [
        {
          "data": {
            "text/plain": [
              "[1,\n",
              " 14,\n",
              " 22,\n",
              " 16,\n",
              " 43,\n",
              " 530,\n",
              " 973,\n",
              " 2,\n",
              " 2,\n",
              " 65,\n",
              " 458,\n",
              " 2,\n",
              " 66,\n",
              " 2,\n",
              " 4,\n",
              " 173,\n",
              " 36,\n",
              " 256,\n",
              " 5,\n",
              " 25,\n",
              " 100,\n",
              " 43,\n",
              " 838,\n",
              " 112,\n",
              " 50,\n",
              " 670,\n",
              " 2,\n",
              " 9,\n",
              " 35,\n",
              " 480,\n",
              " 284,\n",
              " 5,\n",
              " 150,\n",
              " 4,\n",
              " 172,\n",
              " 112,\n",
              " 167,\n",
              " 2,\n",
              " 336,\n",
              " 385,\n",
              " 39,\n",
              " 4,\n",
              " 172,\n",
              " 2,\n",
              " 2,\n",
              " 17,\n",
              " 546,\n",
              " 38,\n",
              " 13,\n",
              " 447,\n",
              " 4,\n",
              " 192,\n",
              " 50,\n",
              " 16,\n",
              " 6,\n",
              " 147,\n",
              " 2,\n",
              " 19,\n",
              " 14,\n",
              " 22,\n",
              " 4,\n",
              " 2,\n",
              " 2,\n",
              " 469,\n",
              " 4,\n",
              " 22,\n",
              " 71,\n",
              " 87,\n",
              " 12,\n",
              " 16,\n",
              " 43,\n",
              " 530,\n",
              " 38,\n",
              " 76,\n",
              " 15,\n",
              " 13,\n",
              " 2,\n",
              " 4,\n",
              " 22,\n",
              " 17,\n",
              " 515,\n",
              " 17,\n",
              " 12,\n",
              " 16,\n",
              " 626,\n",
              " 18,\n",
              " 2,\n",
              " 5,\n",
              " 62,\n",
              " 386,\n",
              " 12,\n",
              " 8,\n",
              " 316,\n",
              " 8,\n",
              " 106,\n",
              " 5,\n",
              " 4,\n",
              " 2,\n",
              " 2,\n",
              " 16,\n",
              " 480,\n",
              " 66,\n",
              " 2,\n",
              " 33,\n",
              " 4,\n",
              " 130,\n",
              " 12,\n",
              " 16,\n",
              " 38,\n",
              " 619,\n",
              " 5,\n",
              " 25,\n",
              " 124,\n",
              " 51,\n",
              " 36,\n",
              " 135,\n",
              " 48,\n",
              " 25,\n",
              " 2,\n",
              " 33,\n",
              " 6,\n",
              " 22,\n",
              " 12,\n",
              " 215,\n",
              " 28,\n",
              " 77,\n",
              " 52,\n",
              " 5,\n",
              " 14,\n",
              " 407,\n",
              " 16,\n",
              " 82,\n",
              " 2,\n",
              " 8,\n",
              " 4,\n",
              " 107,\n",
              " 117,\n",
              " 2,\n",
              " 15,\n",
              " 256,\n",
              " 4,\n",
              " 2,\n",
              " 7,\n",
              " 2,\n",
              " 5,\n",
              " 723,\n",
              " 36,\n",
              " 71,\n",
              " 43,\n",
              " 530,\n",
              " 476,\n",
              " 26,\n",
              " 400,\n",
              " 317,\n",
              " 46,\n",
              " 7,\n",
              " 4,\n",
              " 2,\n",
              " 2,\n",
              " 13,\n",
              " 104,\n",
              " 88,\n",
              " 4,\n",
              " 381,\n",
              " 15,\n",
              " 297,\n",
              " 98,\n",
              " 32,\n",
              " 2,\n",
              " 56,\n",
              " 26,\n",
              " 141,\n",
              " 6,\n",
              " 194,\n",
              " 2,\n",
              " 18,\n",
              " 4,\n",
              " 226,\n",
              " 22,\n",
              " 21,\n",
              " 134,\n",
              " 476,\n",
              " 26,\n",
              " 480,\n",
              " 5,\n",
              " 144,\n",
              " 30,\n",
              " 2,\n",
              " 18,\n",
              " 51,\n",
              " 36,\n",
              " 28,\n",
              " 224,\n",
              " 92,\n",
              " 25,\n",
              " 104,\n",
              " 4,\n",
              " 226,\n",
              " 65,\n",
              " 16,\n",
              " 38,\n",
              " 2,\n",
              " 88,\n",
              " 12,\n",
              " 16,\n",
              " 283,\n",
              " 5,\n",
              " 16,\n",
              " 2,\n",
              " 113,\n",
              " 103,\n",
              " 32,\n",
              " 15,\n",
              " 16,\n",
              " 2,\n",
              " 19,\n",
              " 178,\n",
              " 32]"
            ]
          },
          "execution_count": 52,
          "metadata": {},
          "output_type": "execute_result"
        }
      ],
      "source": [
        "train_data[0]"
      ]
    },
    {
      "cell_type": "code",
      "execution_count": 53,
      "metadata": {
        "id": "cZC37PUwtReA"
      },
      "outputs": [],
      "source": [
        "def multi_hot_sequences(sequences, dimension):\n",
        "    # 0으로 채워진 (len(sequences), dimension) 크기의 행렬을 만듭니다\n",
        "    results = np.zeros((len(sequences), dimension))\n",
        "    for i, word_indices in enumerate(sequences):\n",
        "        results[i, word_indices] = 1.0  # results[i]의 특정 인덱스만 1로 설정합니다\n",
        "    return results\n",
        "\n",
        "\n",
        "train_data = multi_hot_sequences(train_data, dimension=NUM_WORDS)\n",
        "test_data = multi_hot_sequences(test_data, dimension=NUM_WORDS)"
      ]
    },
    {
      "cell_type": "code",
      "execution_count": 54,
      "metadata": {
        "colab": {
          "base_uri": "https://localhost:8080/"
        },
        "id": "GwHFI7oTtWSR",
        "outputId": "0bb366a2-0606-48ab-d6f1-d5498ddddc6f"
      },
      "outputs": [
        {
          "data": {
            "text/plain": [
              "(25000, 1000)"
            ]
          },
          "execution_count": 54,
          "metadata": {},
          "output_type": "execute_result"
        }
      ],
      "source": [
        "train_data.shape"
      ]
    },
    {
      "cell_type": "code",
      "execution_count": 55,
      "metadata": {
        "colab": {
          "base_uri": "https://localhost:8080/"
        },
        "id": "T7GKSm5Rti62",
        "outputId": "8dae2f0a-7ed2-40da-89b8-fcce116b7c85"
      },
      "outputs": [
        {
          "data": {
            "text/plain": [
              "array([0., 1., 1., 0., 1., 1., 1., 1., 1., 1., 0., 0., 1., 1., 1., 1., 1.,\n",
              "       1., 1., 1., 0., 1., 1., 0., 0., 1., 1., 0., 1., 0., 1., 0., 1., 1.,\n",
              "       0., 1., 1., 0., 1., 1., 0., 0., 0., 1., 0., 0., 1., 0., 1., 0., 1.,\n",
              "       1., 1., 0., 0., 0., 1., 0., 0., 0., 0., 0., 1., 0., 0., 1., 1., 0.,\n",
              "       0., 0., 0., 1., 0., 0., 0., 0., 1., 1., 0., 0., 0., 0., 1., 0., 0.,\n",
              "       0., 0., 1., 1., 0., 0., 0., 1., 0., 0., 0., 0., 0., 1., 0., 1., 0.,\n",
              "       0., 1., 1., 0., 1., 1., 0., 0., 0., 0., 1., 1., 0., 0., 0., 1., 0.,\n",
              "       0., 0., 0., 0., 0., 1., 0., 0., 0., 0., 0., 1., 0., 0., 0., 1., 1.,\n",
              "       0., 0., 0., 0., 0., 1., 0., 0., 1., 0., 0., 1., 0., 0., 1., 0., 0.,\n",
              "       0., 0., 0., 0., 0., 0., 0., 0., 0., 0., 0., 0., 0., 0., 1., 0., 0.,\n",
              "       0., 0., 1., 1., 0., 0., 0., 0., 1., 0., 0., 0., 0., 0., 0., 0., 0.,\n",
              "       0., 0., 0., 0., 0., 1., 0., 1., 0., 0., 0., 0., 0., 0., 0., 0., 0.,\n",
              "       0., 0., 0., 0., 0., 0., 0., 0., 0., 0., 0., 1., 0., 0., 0., 0., 0.,\n",
              "       0., 0., 0., 1., 0., 1., 0., 0., 0., 0., 0., 0., 0., 0., 0., 0., 0.,\n",
              "       0., 0., 0., 0., 0., 0., 0., 0., 0., 0., 0., 0., 0., 0., 0., 0., 0.,\n",
              "       0., 1., 0., 0., 0., 0., 0., 0., 0., 0., 0., 0., 0., 0., 0., 0., 0.,\n",
              "       0., 0., 0., 0., 0., 0., 0., 0., 0., 0., 0., 1., 1., 0., 0., 0., 0.,\n",
              "       0., 0., 0., 0., 0., 0., 0., 0., 1., 0., 0., 0., 0., 0., 0., 0., 0.,\n",
              "       0., 0., 0., 0., 0., 0., 0., 0., 0., 0., 1., 1., 0., 0., 0., 0., 0.,\n",
              "       0., 0., 0., 0., 0., 0., 0., 0., 0., 0., 0., 0., 0., 1., 0., 0., 0.,\n",
              "       0., 0., 0., 0., 0., 0., 0., 0., 0., 0., 0., 0., 0., 0., 0., 0., 0.,\n",
              "       0., 0., 0., 0., 0., 0., 0., 0., 0., 0., 0., 0., 0., 0., 0., 0., 0.,\n",
              "       0., 0., 0., 0., 0., 0., 0., 1., 0., 0., 0., 1., 1., 0., 0., 0., 0.,\n",
              "       0., 0., 0., 0., 0., 0., 0., 0., 0., 1., 0., 0., 0., 0., 0., 0., 1.,\n",
              "       0., 0., 0., 0., 0., 0., 0., 0., 0., 0., 0., 0., 0., 0., 0., 0., 0.,\n",
              "       0., 0., 0., 0., 0., 0., 0., 0., 0., 0., 0., 0., 0., 0., 0., 0., 0.,\n",
              "       0., 0., 0., 0., 0., 1., 0., 0., 0., 0., 0., 0., 0., 0., 0., 0., 1.,\n",
              "       0., 0., 0., 0., 0., 0., 0., 0., 0., 0., 1., 0., 0., 0., 0., 0., 0.,\n",
              "       1., 0., 0., 0., 1., 0., 0., 0., 0., 0., 0., 0., 0., 0., 0., 0., 0.,\n",
              "       0., 0., 0., 0., 0., 0., 0., 0., 0., 0., 0., 0., 0., 0., 0., 0., 0.,\n",
              "       0., 0., 0., 0., 0., 1., 0., 0., 0., 0., 0., 0., 0., 0., 0., 0., 0.,\n",
              "       0., 0., 0., 1., 0., 0., 0., 0., 0., 0., 0., 0., 0., 0., 0., 0., 0.,\n",
              "       0., 0., 1., 0., 0., 0., 0., 0., 0., 0., 0., 0., 0., 0., 0., 0., 0.,\n",
              "       0., 0., 0., 0., 0., 0., 0., 0., 0., 0., 0., 0., 0., 0., 0., 0., 0.,\n",
              "       0., 0., 0., 0., 0., 0., 0., 0., 0., 0., 0., 0., 0., 0., 0., 0., 0.,\n",
              "       0., 0., 0., 0., 0., 0., 0., 0., 0., 0., 0., 0., 0., 0., 0., 0., 0.,\n",
              "       0., 0., 0., 0., 0., 0., 0., 1., 0., 0., 0., 0., 0., 0., 1., 0., 0.,\n",
              "       0., 0., 0., 0., 0., 0., 0., 0., 0., 0., 0., 0., 0., 0., 0., 0., 0.,\n",
              "       0., 0., 0., 0., 0., 0., 0., 0., 0., 0., 0., 0., 0., 0., 0., 0., 0.,\n",
              "       0., 0., 0., 0., 0., 0., 0., 1., 0., 0., 0., 0., 0., 0., 0., 0., 0.,\n",
              "       0., 0., 0., 0., 0., 0., 0., 0., 0., 0., 0., 0., 0., 0., 0., 0., 0.,\n",
              "       0., 0., 0., 0., 0., 0., 0., 0., 0., 0., 0., 0., 0., 0., 0., 0., 0.,\n",
              "       0., 0., 0., 0., 0., 0., 0., 0., 0., 1., 0., 0., 0., 0., 0., 0., 0.,\n",
              "       0., 0., 0., 0., 0., 0., 0., 0., 0., 0., 0., 0., 0., 0., 0., 0., 0.,\n",
              "       0., 0., 0., 0., 0., 0., 0., 0., 0., 0., 0., 0., 0., 0., 0., 0., 0.,\n",
              "       0., 0., 0., 0., 0., 0., 0., 0., 0., 0., 0., 0., 0., 0., 0., 0., 0.,\n",
              "       0., 0., 0., 0., 0., 0., 0., 0., 0., 0., 0., 0., 0., 0., 0., 0., 0.,\n",
              "       0., 0., 0., 0., 0., 0., 0., 0., 0., 0., 0., 0., 0., 0., 0., 0., 0.,\n",
              "       0., 0., 0., 0., 0., 0., 0., 0., 0., 0., 0., 0., 0., 0., 0., 0., 0.,\n",
              "       0., 0., 0., 0., 0., 1., 0., 0., 0., 0., 0., 0., 0., 0., 0., 0., 0.,\n",
              "       0., 0., 0., 0., 0., 0., 0., 0., 0., 0., 0., 0., 0., 0., 0., 0., 0.,\n",
              "       0., 0., 0., 0., 0., 0., 0., 0., 0., 0., 0., 0., 0., 0., 0., 0., 0.,\n",
              "       0., 0., 0., 0., 0., 0., 0., 0., 0., 0., 0., 0., 0., 0., 0., 0., 0.,\n",
              "       0., 0., 0., 0., 0., 0., 0., 0., 0., 0., 0., 0., 0., 0., 0., 0., 0.,\n",
              "       0., 0., 0., 0., 0., 0., 0., 0., 0., 0., 0., 0., 0., 0., 0., 0., 0.,\n",
              "       0., 0., 0., 0., 0., 0., 0., 0., 0., 0., 0., 0., 0., 0., 0., 0., 0.,\n",
              "       0., 0., 0., 0., 0., 0., 0., 0., 0., 0., 0., 0., 0., 0., 0., 0., 0.,\n",
              "       0., 0., 0., 0., 1., 0., 0., 0., 0., 0., 0., 0., 0., 0., 0., 0., 0.,\n",
              "       0., 0., 0., 0., 0., 0., 0., 0., 0., 0., 0., 0., 0., 0.])"
            ]
          },
          "execution_count": 55,
          "metadata": {},
          "output_type": "execute_result"
        }
      ],
      "source": [
        "train_data[0]"
      ]
    },
    {
      "cell_type": "code",
      "execution_count": 56,
      "metadata": {
        "colab": {
          "base_uri": "https://localhost:8080/",
          "height": 283
        },
        "id": "aQ1JvljSse0T",
        "outputId": "126bfb5b-9335-4ddc-9551-869067683378"
      },
      "outputs": [
        {
          "data": {
            "text/plain": [
              "[<matplotlib.lines.Line2D at 0x7fedae434510>]"
            ]
          },
          "execution_count": 56,
          "metadata": {},
          "output_type": "execute_result"
        },
        {
          "data": {
            "image/png": "[encoded data removed]",
            "text/plain": [
              "<Figure size 432x288 with 1 Axes>"
            ]
          },
          "metadata": {
            "needs_background": "light"
          },
          "output_type": "display_data"
        }
      ],
      "source": [
        "plt.plot(train_data[0])"
      ]
    },
    {
      "cell_type": "code",
      "execution_count": 57,
      "metadata": {
        "colab": {
          "base_uri": "https://localhost:8080/"
        },
        "id": "dhyPKb5MsrJI",
        "outputId": "8160df8e-9de8-4cd9-c9ff-c2f3c1d74b26"
      },
      "outputs": [
        {
          "name": "stdout",
          "output_type": "stream",
          "text": [
            "Model: \"sequential_6\"\n",
            "_________________________________________________________________\n",
            " Layer (type)                Output Shape              Param #   \n",
            "=================================================================\n",
            " dense_23 (Dense)            (None, 16)                16016     \n",
            "                                                                 \n",
            " dense_24 (Dense)            (None, 16)                272       \n",
            "                                                                 \n",
            " dense_25 (Dense)            (None, 1)                 17        \n",
            "                                                                 \n",
            "=================================================================\n",
            "Total params: 16,305\n",
            "Trainable params: 16,305\n",
            "Non-trainable params: 0\n",
            "_________________________________________________________________\n"
          ]
        }
      ],
      "source": [
        "baseline_model = keras.Sequential([\n",
        "    # `.summary` 메서드 때문에 `input_shape`가 필요합니다\n",
        "    keras.layers.Dense(16, activation='relu', input_shape=(NUM_WORDS,)),\n",
        "    keras.layers.Dense(16, activation='relu'),\n",
        "    keras.layers.Dense(1, activation='sigmoid')\n",
        "])\n",
        "\n",
        "baseline_model.compile(optimizer='adam',\n",
        "                       loss='binary_crossentropy',\n",
        "                       metrics=['accuracy', 'binary_crossentropy'])\n",
        "\n",
        "baseline_model.summary()"
      ]
    },
    {
      "cell_type": "code",
      "execution_count": null,
      "metadata": {},
      "outputs": [],
      "source": [
        "# shape check\n",
        "train_labels.reshape(-1, 1).shape, train_labels.shape"
      ]
    },
    {
      "cell_type": "code",
      "execution_count": 58,
      "metadata": {
        "colab": {
          "base_uri": "https://localhost:8080/"
        },
        "id": "NH7_XzHstxrH",
        "outputId": "6ab4e84f-d1de-452c-bdfd-57e1a69dc99a"
      },
      "outputs": [
        {
          "name": "stdout",
          "output_type": "stream",
          "text": [
            "Epoch 1/20\n",
            "49/49 - 1s - loss: 0.5817 - accuracy: 0.7028 - binary_crossentropy: 0.5817 - val_loss: 0.4370 - val_accuracy: 0.8205 - val_binary_crossentropy: 0.4370 - 1s/epoch - 30ms/step\n",
            "Epoch 2/20\n",
            "49/49 - 0s - loss: 0.3663 - accuracy: 0.8475 - binary_crossentropy: 0.3663 - val_loss: 0.3423 - val_accuracy: 0.8555 - val_binary_crossentropy: 0.3423 - 462ms/epoch - 9ms/step\n",
            "Epoch 3/20\n",
            "49/49 - 0s - loss: 0.3205 - accuracy: 0.8671 - binary_crossentropy: 0.3205 - val_loss: 0.3331 - val_accuracy: 0.8586 - val_binary_crossentropy: 0.3331 - 500ms/epoch - 10ms/step\n",
            "Epoch 4/20\n",
            "49/49 - 0s - loss: 0.3073 - accuracy: 0.8735 - binary_crossentropy: 0.3073 - val_loss: 0.3293 - val_accuracy: 0.8603 - val_binary_crossentropy: 0.3293 - 473ms/epoch - 10ms/step\n",
            "Epoch 5/20\n",
            "49/49 - 1s - loss: 0.3013 - accuracy: 0.8759 - binary_crossentropy: 0.3013 - val_loss: 0.3296 - val_accuracy: 0.8577 - val_binary_crossentropy: 0.3296 - 644ms/epoch - 13ms/step\n",
            "Epoch 6/20\n",
            "49/49 - 0s - loss: 0.2985 - accuracy: 0.8769 - binary_crossentropy: 0.2985 - val_loss: 0.3311 - val_accuracy: 0.8602 - val_binary_crossentropy: 0.3311 - 453ms/epoch - 9ms/step\n",
            "Epoch 7/20\n",
            "49/49 - 0s - loss: 0.2938 - accuracy: 0.8796 - binary_crossentropy: 0.2938 - val_loss: 0.3285 - val_accuracy: 0.8600 - val_binary_crossentropy: 0.3285 - 467ms/epoch - 10ms/step\n",
            "Epoch 8/20\n",
            "49/49 - 1s - loss: 0.2901 - accuracy: 0.8806 - binary_crossentropy: 0.2901 - val_loss: 0.3311 - val_accuracy: 0.8578 - val_binary_crossentropy: 0.3311 - 654ms/epoch - 13ms/step\n",
            "Epoch 9/20\n",
            "49/49 - 0s - loss: 0.2878 - accuracy: 0.8818 - binary_crossentropy: 0.2878 - val_loss: 0.3296 - val_accuracy: 0.8585 - val_binary_crossentropy: 0.3296 - 460ms/epoch - 9ms/step\n",
            "Epoch 10/20\n",
            "49/49 - 0s - loss: 0.2835 - accuracy: 0.8835 - binary_crossentropy: 0.2835 - val_loss: 0.3316 - val_accuracy: 0.8590 - val_binary_crossentropy: 0.3316 - 475ms/epoch - 10ms/step\n",
            "Epoch 11/20\n",
            "49/49 - 0s - loss: 0.2790 - accuracy: 0.8841 - binary_crossentropy: 0.2790 - val_loss: 0.3340 - val_accuracy: 0.8566 - val_binary_crossentropy: 0.3340 - 487ms/epoch - 10ms/step\n",
            "Epoch 12/20\n",
            "49/49 - 1s - loss: 0.2765 - accuracy: 0.8869 - binary_crossentropy: 0.2765 - val_loss: 0.3339 - val_accuracy: 0.8576 - val_binary_crossentropy: 0.3339 - 622ms/epoch - 13ms/step\n",
            "Epoch 13/20\n",
            "49/49 - 0s - loss: 0.2732 - accuracy: 0.8869 - binary_crossentropy: 0.2732 - val_loss: 0.3345 - val_accuracy: 0.8575 - val_binary_crossentropy: 0.3345 - 477ms/epoch - 10ms/step\n",
            "Epoch 14/20\n",
            "49/49 - 0s - loss: 0.2696 - accuracy: 0.8880 - binary_crossentropy: 0.2696 - val_loss: 0.3371 - val_accuracy: 0.8559 - val_binary_crossentropy: 0.3371 - 486ms/epoch - 10ms/step\n",
            "Epoch 15/20\n",
            "49/49 - 0s - loss: 0.2660 - accuracy: 0.8900 - binary_crossentropy: 0.2660 - val_loss: 0.3381 - val_accuracy: 0.8561 - val_binary_crossentropy: 0.3381 - 492ms/epoch - 10ms/step\n",
            "Epoch 16/20\n",
            "49/49 - 1s - loss: 0.2637 - accuracy: 0.8915 - binary_crossentropy: 0.2637 - val_loss: 0.3389 - val_accuracy: 0.8554 - val_binary_crossentropy: 0.3389 - 507ms/epoch - 10ms/step\n",
            "Epoch 17/20\n",
            "49/49 - 1s - loss: 0.2600 - accuracy: 0.8924 - binary_crossentropy: 0.2600 - val_loss: 0.3418 - val_accuracy: 0.8536 - val_binary_crossentropy: 0.3418 - 539ms/epoch - 11ms/step\n",
            "Epoch 18/20\n",
            "49/49 - 1s - loss: 0.2563 - accuracy: 0.8949 - binary_crossentropy: 0.2563 - val_loss: 0.3460 - val_accuracy: 0.8534 - val_binary_crossentropy: 0.3460 - 507ms/epoch - 10ms/step\n",
            "Epoch 19/20\n",
            "49/49 - 1s - loss: 0.2527 - accuracy: 0.8954 - binary_crossentropy: 0.2527 - val_loss: 0.3459 - val_accuracy: 0.8531 - val_binary_crossentropy: 0.3459 - 631ms/epoch - 13ms/step\n",
            "Epoch 20/20\n",
            "49/49 - 1s - loss: 0.2469 - accuracy: 0.8982 - binary_crossentropy: 0.2469 - val_loss: 0.3497 - val_accuracy: 0.8520 - val_binary_crossentropy: 0.3497 - 678ms/epoch - 14ms/step\n"
          ]
        }
      ],
      "source": [
        "# 수정\n",
        "\n",
        "baseline_history = baseline_model.fit(train_data,\n",
        "                                      train_labels.reshape(-1, 1),\n",
        "                                      epochs=20,\n",
        "                                      batch_size=512,\n",
        "                                      validation_data=(test_data, test_labels.reshape(-1, 1)),\n",
        "                                      verbose=2)"
      ]
    },
    {
      "cell_type": "code",
      "execution_count": 59,
      "metadata": {
        "colab": {
          "base_uri": "https://localhost:8080/"
        },
        "id": "pdA81Trbt3w6",
        "outputId": "ce5478d3-934c-40c4-b868-556049c5f7ff"
      },
      "outputs": [
        {
          "name": "stdout",
          "output_type": "stream",
          "text": [
            "Model: \"sequential_7\"\n",
            "_________________________________________________________________\n",
            " Layer (type)                Output Shape              Param #   \n",
            "=================================================================\n",
            " dense_26 (Dense)            (None, 4)                 4004      \n",
            "                                                                 \n",
            " dense_27 (Dense)            (None, 4)                 20        \n",
            "                                                                 \n",
            " dense_28 (Dense)            (None, 1)                 5         \n",
            "                                                                 \n",
            "=================================================================\n",
            "Total params: 4,029\n",
            "Trainable params: 4,029\n",
            "Non-trainable params: 0\n",
            "_________________________________________________________________\n"
          ]
        }
      ],
      "source": [
        "smaller_model = keras.Sequential([\n",
        "    keras.layers.Dense(4, activation='relu', input_shape=(NUM_WORDS,)),\n",
        "    keras.layers.Dense(4, activation='relu'),\n",
        "    keras.layers.Dense(1, activation='sigmoid')\n",
        "])\n",
        "\n",
        "smaller_model.compile(optimizer='adam',\n",
        "                      loss='binary_crossentropy',\n",
        "                      metrics=['accuracy', 'binary_crossentropy'])\n",
        "\n",
        "smaller_model.summary()"
      ]
    },
    {
      "cell_type": "code",
      "execution_count": 60,
      "metadata": {
        "colab": {
          "base_uri": "https://localhost:8080/"
        },
        "id": "-WTdqPvjt8w3",
        "outputId": "0abc7a1d-fcb4-4b34-d273-b2c17a10600f"
      },
      "outputs": [
        {
          "name": "stdout",
          "output_type": "stream",
          "text": [
            "Epoch 1/20\n",
            "49/49 - 1s - loss: 0.6643 - accuracy: 0.5993 - binary_crossentropy: 0.6643 - val_loss: 0.6161 - val_accuracy: 0.7240 - val_binary_crossentropy: 0.6161 - 1s/epoch - 26ms/step\n",
            "Epoch 2/20\n",
            "49/49 - 0s - loss: 0.5593 - accuracy: 0.7817 - binary_crossentropy: 0.5593 - val_loss: 0.5063 - val_accuracy: 0.8180 - val_binary_crossentropy: 0.5063 - 390ms/epoch - 8ms/step\n",
            "Epoch 3/20\n",
            "49/49 - 0s - loss: 0.4556 - accuracy: 0.8390 - binary_crossentropy: 0.4556 - val_loss: 0.4228 - val_accuracy: 0.8388 - val_binary_crossentropy: 0.4228 - 399ms/epoch - 8ms/step\n",
            "Epoch 4/20\n",
            "49/49 - 0s - loss: 0.3881 - accuracy: 0.8538 - binary_crossentropy: 0.3881 - val_loss: 0.3758 - val_accuracy: 0.8518 - val_binary_crossentropy: 0.3758 - 411ms/epoch - 8ms/step\n",
            "Epoch 5/20\n",
            "49/49 - 0s - loss: 0.3506 - accuracy: 0.8617 - binary_crossentropy: 0.3506 - val_loss: 0.3505 - val_accuracy: 0.8556 - val_binary_crossentropy: 0.3505 - 408ms/epoch - 8ms/step\n",
            "Epoch 6/20\n",
            "49/49 - 0s - loss: 0.3275 - accuracy: 0.8677 - binary_crossentropy: 0.3275 - val_loss: 0.3379 - val_accuracy: 0.8579 - val_binary_crossentropy: 0.3379 - 404ms/epoch - 8ms/step\n",
            "Epoch 7/20\n",
            "49/49 - 0s - loss: 0.3144 - accuracy: 0.8726 - binary_crossentropy: 0.3144 - val_loss: 0.3315 - val_accuracy: 0.8590 - val_binary_crossentropy: 0.3315 - 392ms/epoch - 8ms/step\n",
            "Epoch 8/20\n",
            "49/49 - 0s - loss: 0.3065 - accuracy: 0.8740 - binary_crossentropy: 0.3065 - val_loss: 0.3287 - val_accuracy: 0.8601 - val_binary_crossentropy: 0.3287 - 438ms/epoch - 9ms/step\n",
            "Epoch 9/20\n",
            "49/49 - 0s - loss: 0.3008 - accuracy: 0.8763 - binary_crossentropy: 0.3008 - val_loss: 0.3273 - val_accuracy: 0.8602 - val_binary_crossentropy: 0.3273 - 404ms/epoch - 8ms/step\n",
            "Epoch 10/20\n",
            "49/49 - 0s - loss: 0.2968 - accuracy: 0.8788 - binary_crossentropy: 0.2968 - val_loss: 0.3277 - val_accuracy: 0.8598 - val_binary_crossentropy: 0.3277 - 424ms/epoch - 9ms/step\n",
            "Epoch 11/20\n",
            "49/49 - 0s - loss: 0.2942 - accuracy: 0.8805 - binary_crossentropy: 0.2942 - val_loss: 0.3270 - val_accuracy: 0.8602 - val_binary_crossentropy: 0.3270 - 416ms/epoch - 8ms/step\n",
            "Epoch 12/20\n",
            "49/49 - 0s - loss: 0.2925 - accuracy: 0.8806 - binary_crossentropy: 0.2925 - val_loss: 0.3272 - val_accuracy: 0.8606 - val_binary_crossentropy: 0.3272 - 406ms/epoch - 8ms/step\n",
            "Epoch 13/20\n",
            "49/49 - 0s - loss: 0.2898 - accuracy: 0.8813 - binary_crossentropy: 0.2898 - val_loss: 0.3277 - val_accuracy: 0.8596 - val_binary_crossentropy: 0.3277 - 402ms/epoch - 8ms/step\n",
            "Epoch 14/20\n",
            "49/49 - 0s - loss: 0.2881 - accuracy: 0.8822 - binary_crossentropy: 0.2881 - val_loss: 0.3325 - val_accuracy: 0.8573 - val_binary_crossentropy: 0.3325 - 429ms/epoch - 9ms/step\n",
            "Epoch 15/20\n",
            "49/49 - 0s - loss: 0.2865 - accuracy: 0.8824 - binary_crossentropy: 0.2865 - val_loss: 0.3299 - val_accuracy: 0.8588 - val_binary_crossentropy: 0.3299 - 373ms/epoch - 8ms/step\n",
            "Epoch 16/20\n",
            "49/49 - 0s - loss: 0.2867 - accuracy: 0.8825 - binary_crossentropy: 0.2867 - val_loss: 0.3303 - val_accuracy: 0.8590 - val_binary_crossentropy: 0.3303 - 397ms/epoch - 8ms/step\n",
            "Epoch 17/20\n",
            "49/49 - 0s - loss: 0.2845 - accuracy: 0.8837 - binary_crossentropy: 0.2845 - val_loss: 0.3298 - val_accuracy: 0.8586 - val_binary_crossentropy: 0.3298 - 383ms/epoch - 8ms/step\n",
            "Epoch 18/20\n",
            "49/49 - 0s - loss: 0.2833 - accuracy: 0.8842 - binary_crossentropy: 0.2833 - val_loss: 0.3335 - val_accuracy: 0.8580 - val_binary_crossentropy: 0.3335 - 397ms/epoch - 8ms/step\n",
            "Epoch 19/20\n",
            "49/49 - 0s - loss: 0.2818 - accuracy: 0.8854 - binary_crossentropy: 0.2818 - val_loss: 0.3317 - val_accuracy: 0.8581 - val_binary_crossentropy: 0.3317 - 408ms/epoch - 8ms/step\n",
            "Epoch 20/20\n",
            "49/49 - 0s - loss: 0.2816 - accuracy: 0.8850 - binary_crossentropy: 0.2816 - val_loss: 0.3339 - val_accuracy: 0.8572 - val_binary_crossentropy: 0.3339 - 408ms/epoch - 8ms/step\n"
          ]
        }
      ],
      "source": [
        "# 수정\n",
        "\n",
        "smaller_history = smaller_model.fit(train_data,\n",
        "                                    train_labels.reshape(-1, 1),\n",
        "                                    epochs=20,\n",
        "                                    batch_size=512,\n",
        "                                    validation_data=(test_data, test_labels.reshape(-1, 1)),\n",
        "                                    verbose=2)"
      ]
    },
    {
      "cell_type": "code",
      "execution_count": 61,
      "metadata": {
        "colab": {
          "base_uri": "https://localhost:8080/"
        },
        "id": "f3CrYLQMt_-v",
        "outputId": "47f319b2-7fb2-4846-ba22-e9aa84fc848b"
      },
      "outputs": [
        {
          "name": "stdout",
          "output_type": "stream",
          "text": [
            "Model: \"sequential_8\"\n",
            "_________________________________________________________________\n",
            " Layer (type)                Output Shape              Param #   \n",
            "=================================================================\n",
            " dense_29 (Dense)            (None, 512)               512512    \n",
            "                                                                 \n",
            " dense_30 (Dense)            (None, 512)               262656    \n",
            "                                                                 \n",
            " dense_31 (Dense)            (None, 1)                 513       \n",
            "                                                                 \n",
            "=================================================================\n",
            "Total params: 775,681\n",
            "Trainable params: 775,681\n",
            "Non-trainable params: 0\n",
            "_________________________________________________________________\n"
          ]
        }
      ],
      "source": [
        "bigger_model = keras.models.Sequential([\n",
        "    keras.layers.Dense(512, activation='relu', input_shape=(NUM_WORDS,)),\n",
        "    keras.layers.Dense(512, activation='relu'),\n",
        "    keras.layers.Dense(1, activation='sigmoid')\n",
        "])\n",
        "\n",
        "bigger_model.compile(optimizer='adam',\n",
        "                     loss='binary_crossentropy',\n",
        "                     metrics=['accuracy','binary_crossentropy'])\n",
        "\n",
        "bigger_model.summary()"
      ]
    },
    {
      "cell_type": "code",
      "execution_count": 62,
      "metadata": {
        "colab": {
          "base_uri": "https://localhost:8080/"
        },
        "id": "B7ird-6VuDRI",
        "outputId": "789d5547-1114-49d0-d56e-a0a4d11fe669"
      },
      "outputs": [
        {
          "name": "stdout",
          "output_type": "stream",
          "text": [
            "Epoch 1/20\n",
            "49/49 - 4s - loss: 0.4164 - accuracy: 0.8071 - binary_crossentropy: 0.4164 - val_loss: 0.3290 - val_accuracy: 0.8581 - val_binary_crossentropy: 0.3290 - 4s/epoch - 77ms/step\n",
            "Epoch 2/20\n",
            "49/49 - 3s - loss: 0.2896 - accuracy: 0.8818 - binary_crossentropy: 0.2896 - val_loss: 0.3265 - val_accuracy: 0.8579 - val_binary_crossentropy: 0.3265 - 3s/epoch - 57ms/step\n",
            "Epoch 3/20\n",
            "49/49 - 3s - loss: 0.2237 - accuracy: 0.9110 - binary_crossentropy: 0.2237 - val_loss: 0.3450 - val_accuracy: 0.8542 - val_binary_crossentropy: 0.3450 - 3s/epoch - 57ms/step\n",
            "Epoch 4/20\n",
            "49/49 - 3s - loss: 0.1081 - accuracy: 0.9662 - binary_crossentropy: 0.1081 - val_loss: 0.4286 - val_accuracy: 0.8474 - val_binary_crossentropy: 0.4286 - 3s/epoch - 57ms/step\n",
            "Epoch 5/20\n",
            "49/49 - 3s - loss: 0.0250 - accuracy: 0.9961 - binary_crossentropy: 0.0250 - val_loss: 0.5358 - val_accuracy: 0.8480 - val_binary_crossentropy: 0.5358 - 3s/epoch - 57ms/step\n",
            "Epoch 6/20\n",
            "49/49 - 3s - loss: 0.0049 - accuracy: 0.9999 - binary_crossentropy: 0.0049 - val_loss: 0.6208 - val_accuracy: 0.8518 - val_binary_crossentropy: 0.6208 - 3s/epoch - 58ms/step\n",
            "Epoch 7/20\n",
            "49/49 - 3s - loss: 0.0013 - accuracy: 1.0000 - binary_crossentropy: 0.0013 - val_loss: 0.6658 - val_accuracy: 0.8536 - val_binary_crossentropy: 0.6658 - 3s/epoch - 58ms/step\n",
            "Epoch 8/20\n",
            "49/49 - 3s - loss: 6.4214e-04 - accuracy: 1.0000 - binary_crossentropy: 6.4214e-04 - val_loss: 0.6947 - val_accuracy: 0.8534 - val_binary_crossentropy: 0.6947 - 3s/epoch - 57ms/step\n",
            "Epoch 9/20\n",
            "49/49 - 3s - loss: 4.5115e-04 - accuracy: 1.0000 - binary_crossentropy: 4.5115e-04 - val_loss: 0.7155 - val_accuracy: 0.8538 - val_binary_crossentropy: 0.7155 - 3s/epoch - 58ms/step\n",
            "Epoch 10/20\n",
            "49/49 - 3s - loss: 3.4545e-04 - accuracy: 1.0000 - binary_crossentropy: 3.4545e-04 - val_loss: 0.7327 - val_accuracy: 0.8537 - val_binary_crossentropy: 0.7327 - 3s/epoch - 59ms/step\n",
            "Epoch 11/20\n",
            "49/49 - 3s - loss: 2.7585e-04 - accuracy: 1.0000 - binary_crossentropy: 2.7585e-04 - val_loss: 0.7475 - val_accuracy: 0.8541 - val_binary_crossentropy: 0.7475 - 3s/epoch - 58ms/step\n",
            "Epoch 12/20\n",
            "49/49 - 3s - loss: 2.2635e-04 - accuracy: 1.0000 - binary_crossentropy: 2.2635e-04 - val_loss: 0.7608 - val_accuracy: 0.8540 - val_binary_crossentropy: 0.7608 - 3s/epoch - 58ms/step\n",
            "Epoch 13/20\n",
            "49/49 - 3s - loss: 1.8899e-04 - accuracy: 1.0000 - binary_crossentropy: 1.8899e-04 - val_loss: 0.7729 - val_accuracy: 0.8539 - val_binary_crossentropy: 0.7729 - 3s/epoch - 61ms/step\n",
            "Epoch 14/20\n",
            "49/49 - 3s - loss: 1.6038e-04 - accuracy: 1.0000 - binary_crossentropy: 1.6038e-04 - val_loss: 0.7838 - val_accuracy: 0.8539 - val_binary_crossentropy: 0.7838 - 3s/epoch - 59ms/step\n",
            "Epoch 15/20\n",
            "49/49 - 3s - loss: 1.3764e-04 - accuracy: 1.0000 - binary_crossentropy: 1.3764e-04 - val_loss: 0.7938 - val_accuracy: 0.8540 - val_binary_crossentropy: 0.7938 - 3s/epoch - 59ms/step\n",
            "Epoch 16/20\n",
            "49/49 - 3s - loss: 1.1955e-04 - accuracy: 1.0000 - binary_crossentropy: 1.1955e-04 - val_loss: 0.8038 - val_accuracy: 0.8538 - val_binary_crossentropy: 0.8038 - 3s/epoch - 59ms/step\n",
            "Epoch 17/20\n",
            "49/49 - 3s - loss: 1.0464e-04 - accuracy: 1.0000 - binary_crossentropy: 1.0464e-04 - val_loss: 0.8129 - val_accuracy: 0.8539 - val_binary_crossentropy: 0.8129 - 3s/epoch - 59ms/step\n",
            "Epoch 18/20\n",
            "49/49 - 3s - loss: 9.2363e-05 - accuracy: 1.0000 - binary_crossentropy: 9.2363e-05 - val_loss: 0.8217 - val_accuracy: 0.8540 - val_binary_crossentropy: 0.8217 - 3s/epoch - 58ms/step\n",
            "Epoch 19/20\n",
            "49/49 - 3s - loss: 8.1903e-05 - accuracy: 1.0000 - binary_crossentropy: 8.1903e-05 - val_loss: 0.8305 - val_accuracy: 0.8544 - val_binary_crossentropy: 0.8305 - 3s/epoch - 58ms/step\n",
            "Epoch 20/20\n",
            "49/49 - 3s - loss: 7.3106e-05 - accuracy: 1.0000 - binary_crossentropy: 7.3106e-05 - val_loss: 0.8380 - val_accuracy: 0.8542 - val_binary_crossentropy: 0.8380 - 3s/epoch - 60ms/step\n"
          ]
        }
      ],
      "source": [
        "# 수정\n",
        "\n",
        "bigger_history = bigger_model.fit(train_data, train_labels.reshape(-1, 1),\n",
        "                                  epochs=20,\n",
        "                                  batch_size=512,\n",
        "                                  validation_data=(test_data, test_labels.reshape(-1, 1)),\n",
        "                                  verbose=2)"
      ]
    },
    {
      "cell_type": "code",
      "execution_count": 63,
      "metadata": {
        "colab": {
          "base_uri": "https://localhost:8080/",
          "height": 409
        },
        "id": "Buc7nqlsuFpx",
        "outputId": "858ae0e4-5043-4897-bb40-de7b16878710"
      },
      "outputs": [
        {
          "data": {
            "image/png": "[encoded data removed]",
            "text/plain": [
              "<Figure size 1152x720 with 1 Axes>"
            ]
          },
          "metadata": {
            "needs_background": "light"
          },
          "output_type": "display_data"
        }
      ],
      "source": [
        "def plot_history(histories, key='binary_crossentropy'):\n",
        "  plt.figure(figsize=(16,10))\n",
        "\n",
        "  for name, history in histories:\n",
        "    val = plt.plot(history.epoch, history.history['val_'+key],\n",
        "                   '--', label=name.title()+' Val')\n",
        "    plt.plot(history.epoch, history.history[key], color=val[0].get_color(),\n",
        "             label=name.title()+' Train')\n",
        "\n",
        "  plt.xlabel('Epochs')\n",
        "  plt.ylabel(key.replace('_',' ').title())\n",
        "  plt.legend()\n",
        "\n",
        "  plt.xlim([0,max(history.epoch)])\n",
        "\n",
        "\n",
        "plot_history([('baseline', baseline_history),\n",
        "              ('smaller', smaller_history),\n",
        "              ('bigger', bigger_history)])"
      ]
    },
    {
      "cell_type": "code",
      "execution_count": 64,
      "metadata": {
        "colab": {
          "base_uri": "https://localhost:8080/"
        },
        "id": "b5YusF89uKk8",
        "outputId": "897a8c94-3be3-4bbf-f984-886a0c8a568e"
      },
      "outputs": [
        {
          "name": "stdout",
          "output_type": "stream",
          "text": [
            "Epoch 1/20\n",
            "49/49 - 2s - loss: 0.6233 - accuracy: 0.7080 - binary_crossentropy: 0.5784 - val_loss: 0.4782 - val_accuracy: 0.8175 - val_binary_crossentropy: 0.4347 - 2s/epoch - 35ms/step\n",
            "Epoch 2/20\n",
            "49/49 - 0s - loss: 0.4145 - accuracy: 0.8482 - binary_crossentropy: 0.3716 - val_loss: 0.3876 - val_accuracy: 0.8544 - val_binary_crossentropy: 0.3456 - 475ms/epoch - 10ms/step\n",
            "Epoch 3/20\n",
            "49/49 - 0s - loss: 0.3639 - accuracy: 0.8672 - binary_crossentropy: 0.3228 - val_loss: 0.3716 - val_accuracy: 0.8606 - val_binary_crossentropy: 0.3315 - 482ms/epoch - 10ms/step\n",
            "Epoch 4/20\n",
            "49/49 - 1s - loss: 0.3485 - accuracy: 0.8730 - binary_crossentropy: 0.3092 - val_loss: 0.3664 - val_accuracy: 0.8609 - val_binary_crossentropy: 0.3281 - 519ms/epoch - 11ms/step\n",
            "Epoch 5/20\n",
            "49/49 - 1s - loss: 0.3415 - accuracy: 0.8738 - binary_crossentropy: 0.3040 - val_loss: 0.3655 - val_accuracy: 0.8599 - val_binary_crossentropy: 0.3288 - 505ms/epoch - 10ms/step\n",
            "Epoch 6/20\n",
            "49/49 - 1s - loss: 0.3358 - accuracy: 0.8779 - binary_crossentropy: 0.2996 - val_loss: 0.3627 - val_accuracy: 0.8602 - val_binary_crossentropy: 0.3271 - 637ms/epoch - 13ms/step\n",
            "Epoch 7/20\n",
            "49/49 - 0s - loss: 0.3319 - accuracy: 0.8778 - binary_crossentropy: 0.2968 - val_loss: 0.3613 - val_accuracy: 0.8605 - val_binary_crossentropy: 0.3268 - 485ms/epoch - 10ms/step\n",
            "Epoch 8/20\n",
            "49/49 - 1s - loss: 0.3290 - accuracy: 0.8785 - binary_crossentropy: 0.2948 - val_loss: 0.3657 - val_accuracy: 0.8588 - val_binary_crossentropy: 0.3318 - 696ms/epoch - 14ms/step\n",
            "Epoch 9/20\n",
            "49/49 - 1s - loss: 0.3223 - accuracy: 0.8818 - binary_crossentropy: 0.2885 - val_loss: 0.3587 - val_accuracy: 0.8602 - val_binary_crossentropy: 0.3253 - 519ms/epoch - 11ms/step\n",
            "Epoch 10/20\n",
            "49/49 - 1s - loss: 0.3187 - accuracy: 0.8817 - binary_crossentropy: 0.2854 - val_loss: 0.3577 - val_accuracy: 0.8601 - val_binary_crossentropy: 0.3247 - 519ms/epoch - 11ms/step\n",
            "Epoch 11/20\n",
            "49/49 - 1s - loss: 0.3141 - accuracy: 0.8834 - binary_crossentropy: 0.2812 - val_loss: 0.3578 - val_accuracy: 0.8603 - val_binary_crossentropy: 0.3249 - 510ms/epoch - 10ms/step\n",
            "Epoch 12/20\n",
            "49/49 - 1s - loss: 0.3111 - accuracy: 0.8848 - binary_crossentropy: 0.2782 - val_loss: 0.3593 - val_accuracy: 0.8586 - val_binary_crossentropy: 0.3265 - 529ms/epoch - 11ms/step\n",
            "Epoch 13/20\n",
            "49/49 - 0s - loss: 0.3077 - accuracy: 0.8868 - binary_crossentropy: 0.2749 - val_loss: 0.3597 - val_accuracy: 0.8590 - val_binary_crossentropy: 0.3268 - 480ms/epoch - 10ms/step\n",
            "Epoch 14/20\n",
            "49/49 - 1s - loss: 0.3039 - accuracy: 0.8865 - binary_crossentropy: 0.2710 - val_loss: 0.3596 - val_accuracy: 0.8584 - val_binary_crossentropy: 0.3265 - 637ms/epoch - 13ms/step\n",
            "Epoch 15/20\n",
            "49/49 - 1s - loss: 0.3008 - accuracy: 0.8901 - binary_crossentropy: 0.2676 - val_loss: 0.3601 - val_accuracy: 0.8583 - val_binary_crossentropy: 0.3269 - 641ms/epoch - 13ms/step\n",
            "Epoch 16/20\n",
            "49/49 - 1s - loss: 0.2962 - accuracy: 0.8925 - binary_crossentropy: 0.2630 - val_loss: 0.3637 - val_accuracy: 0.8557 - val_binary_crossentropy: 0.3303 - 501ms/epoch - 10ms/step\n",
            "Epoch 17/20\n",
            "49/49 - 0s - loss: 0.2939 - accuracy: 0.8937 - binary_crossentropy: 0.2603 - val_loss: 0.3637 - val_accuracy: 0.8561 - val_binary_crossentropy: 0.3300 - 493ms/epoch - 10ms/step\n",
            "Epoch 18/20\n",
            "49/49 - 0s - loss: 0.2902 - accuracy: 0.8938 - binary_crossentropy: 0.2564 - val_loss: 0.3685 - val_accuracy: 0.8535 - val_binary_crossentropy: 0.3345 - 477ms/epoch - 10ms/step\n",
            "Epoch 19/20\n",
            "49/49 - 1s - loss: 0.2873 - accuracy: 0.8953 - binary_crossentropy: 0.2531 - val_loss: 0.3668 - val_accuracy: 0.8558 - val_binary_crossentropy: 0.3325 - 543ms/epoch - 11ms/step\n",
            "Epoch 20/20\n",
            "49/49 - 1s - loss: 0.2841 - accuracy: 0.8980 - binary_crossentropy: 0.2496 - val_loss: 0.3707 - val_accuracy: 0.8559 - val_binary_crossentropy: 0.3359 - 635ms/epoch - 13ms/step\n"
          ]
        }
      ],
      "source": [
        "l2_model = keras.models.Sequential([\n",
        "    keras.layers.Dense(16, kernel_regularizer=keras.regularizers.l2(0.001),\n",
        "                       activation='relu', input_shape=(NUM_WORDS,)),\n",
        "    keras.layers.Dense(16, kernel_regularizer=keras.regularizers.l2(0.001),\n",
        "                       activation='relu'),\n",
        "    keras.layers.Dense(1, activation='sigmoid')\n",
        "])\n",
        "\n",
        "l2_model.compile(optimizer='adam',\n",
        "                 loss='binary_crossentropy',\n",
        "                 metrics=['accuracy', 'binary_crossentropy'])\n",
        "\n",
        "l2_model_history = l2_model.fit(train_data, train_labels.reshape(-1, 1),\n",
        "                                epochs=20,\n",
        "                                batch_size=512,\n",
        "                                validation_data=(test_data, test_labels.reshape(-1, 1)),\n",
        "                                verbose=2)"
      ]
    },
    {
      "cell_type": "code",
      "execution_count": 65,
      "metadata": {
        "colab": {
          "base_uri": "https://localhost:8080/",
          "height": 406
        },
        "id": "FBCZIg-JuO8e",
        "outputId": "b1060dba-960b-4a91-cc6e-0a244da622b1"
      },
      "outputs": [
        {
          "data": {
            "image/png": "[encoded data removed]",
            "text/plain": [
              "<Figure size 1152x720 with 1 Axes>"
            ]
          },
          "metadata": {
            "needs_background": "light"
          },
          "output_type": "display_data"
        }
      ],
      "source": [
        "plot_history([('baseline', baseline_history),\n",
        "              ('l2', l2_model_history)])"
      ]
    },
    {
      "cell_type": "code",
      "execution_count": 66,
      "metadata": {
        "colab": {
          "base_uri": "https://localhost:8080/"
        },
        "id": "ATlRbqzg50mT",
        "outputId": "e1deeb3c-0ce0-46bd-cb52-e6faabaf5004"
      },
      "outputs": [
        {
          "name": "stdout",
          "output_type": "stream",
          "text": [
            "Epoch 1/20\n",
            "49/49 - 4s - loss: 5.2843 - accuracy: 0.7776 - binary_crossentropy: 0.4770 - val_loss: 1.4238 - val_accuracy: 0.8497 - val_binary_crossentropy: 0.3565 - 4s/epoch - 86ms/step\n",
            "Epoch 2/20\n",
            "49/49 - 3s - loss: 0.7943 - accuracy: 0.8538 - binary_crossentropy: 0.3500 - val_loss: 0.5181 - val_accuracy: 0.8557 - val_binary_crossentropy: 0.3481 - 3s/epoch - 67ms/step\n",
            "Epoch 3/20\n",
            "49/49 - 3s - loss: 0.4713 - accuracy: 0.8552 - binary_crossentropy: 0.3453 - val_loss: 0.4404 - val_accuracy: 0.8578 - val_binary_crossentropy: 0.3418 - 3s/epoch - 64ms/step\n",
            "Epoch 4/20\n",
            "49/49 - 3s - loss: 0.4328 - accuracy: 0.8541 - binary_crossentropy: 0.3431 - val_loss: 0.4327 - val_accuracy: 0.8494 - val_binary_crossentropy: 0.3518 - 3s/epoch - 66ms/step\n",
            "Epoch 5/20\n",
            "49/49 - 3s - loss: 0.4215 - accuracy: 0.8538 - binary_crossentropy: 0.3435 - val_loss: 0.4117 - val_accuracy: 0.8595 - val_binary_crossentropy: 0.3382 - 3s/epoch - 68ms/step\n",
            "Epoch 6/20\n",
            "49/49 - 3s - loss: 0.3999 - accuracy: 0.8629 - binary_crossentropy: 0.3287 - val_loss: 0.4032 - val_accuracy: 0.8574 - val_binary_crossentropy: 0.3362 - 3s/epoch - 65ms/step\n",
            "Epoch 7/20\n",
            "49/49 - 3s - loss: 0.3936 - accuracy: 0.8618 - binary_crossentropy: 0.3280 - val_loss: 0.3979 - val_accuracy: 0.8591 - val_binary_crossentropy: 0.3374 - 3s/epoch - 65ms/step\n",
            "Epoch 8/20\n",
            "49/49 - 3s - loss: 0.3884 - accuracy: 0.8632 - binary_crossentropy: 0.3269 - val_loss: 0.3917 - val_accuracy: 0.8608 - val_binary_crossentropy: 0.3334 - 3s/epoch - 68ms/step\n",
            "Epoch 9/20\n",
            "49/49 - 3s - loss: 0.3842 - accuracy: 0.8620 - binary_crossentropy: 0.3253 - val_loss: 0.3953 - val_accuracy: 0.8562 - val_binary_crossentropy: 0.3394 - 3s/epoch - 66ms/step\n",
            "Epoch 10/20\n",
            "49/49 - 3s - loss: 0.3801 - accuracy: 0.8659 - binary_crossentropy: 0.3228 - val_loss: 0.3856 - val_accuracy: 0.8594 - val_binary_crossentropy: 0.3305 - 3s/epoch - 64ms/step\n",
            "Epoch 11/20\n",
            "49/49 - 3s - loss: 0.3756 - accuracy: 0.8658 - binary_crossentropy: 0.3199 - val_loss: 0.3876 - val_accuracy: 0.8570 - val_binary_crossentropy: 0.3344 - 3s/epoch - 64ms/step\n",
            "Epoch 12/20\n",
            "49/49 - 3s - loss: 0.3677 - accuracy: 0.8690 - binary_crossentropy: 0.3127 - val_loss: 0.3806 - val_accuracy: 0.8582 - val_binary_crossentropy: 0.3293 - 3s/epoch - 68ms/step\n",
            "Epoch 13/20\n",
            "49/49 - 3s - loss: 0.3638 - accuracy: 0.8714 - binary_crossentropy: 0.3102 - val_loss: 0.3834 - val_accuracy: 0.8568 - val_binary_crossentropy: 0.3319 - 3s/epoch - 66ms/step\n",
            "Epoch 14/20\n",
            "49/49 - 3s - loss: 0.3610 - accuracy: 0.8709 - binary_crossentropy: 0.3081 - val_loss: 0.3764 - val_accuracy: 0.8605 - val_binary_crossentropy: 0.3248 - 3s/epoch - 65ms/step\n",
            "Epoch 15/20\n",
            "49/49 - 3s - loss: 0.3589 - accuracy: 0.8703 - binary_crossentropy: 0.3064 - val_loss: 0.3802 - val_accuracy: 0.8590 - val_binary_crossentropy: 0.3290 - 3s/epoch - 62ms/step\n",
            "Epoch 16/20\n",
            "49/49 - 3s - loss: 0.3543 - accuracy: 0.8733 - binary_crossentropy: 0.3019 - val_loss: 0.3736 - val_accuracy: 0.8610 - val_binary_crossentropy: 0.3226 - 3s/epoch - 63ms/step\n",
            "Epoch 17/20\n",
            "49/49 - 3s - loss: 0.3502 - accuracy: 0.8750 - binary_crossentropy: 0.2976 - val_loss: 0.3745 - val_accuracy: 0.8607 - val_binary_crossentropy: 0.3237 - 3s/epoch - 64ms/step\n",
            "Epoch 18/20\n",
            "49/49 - 3s - loss: 0.3469 - accuracy: 0.8739 - binary_crossentropy: 0.2941 - val_loss: 0.3734 - val_accuracy: 0.8604 - val_binary_crossentropy: 0.3230 - 3s/epoch - 68ms/step\n",
            "Epoch 19/20\n",
            "49/49 - 3s - loss: 0.3440 - accuracy: 0.8756 - binary_crossentropy: 0.2911 - val_loss: 0.3732 - val_accuracy: 0.8602 - val_binary_crossentropy: 0.3213 - 3s/epoch - 64ms/step\n",
            "Epoch 20/20\n",
            "49/49 - 3s - loss: 0.3453 - accuracy: 0.8754 - binary_crossentropy: 0.2925 - val_loss: 0.3745 - val_accuracy: 0.8606 - val_binary_crossentropy: 0.3238 - 3s/epoch - 63ms/step\n"
          ]
        }
      ],
      "source": [
        "l2_model = keras.models.Sequential([\n",
        "    keras.layers.Dense(512, kernel_regularizer=keras.regularizers.l2(0.01),\n",
        "                       activation='relu', input_shape=(NUM_WORDS,)),\n",
        "    keras.layers.Dense(512, kernel_regularizer=keras.regularizers.l2(0.01),\n",
        "                       activation='relu'),\n",
        "    keras.layers.Dense(1, activation='sigmoid')\n",
        "])\n",
        "\n",
        "l2_model.compile(optimizer='adam',\n",
        "                 loss='binary_crossentropy',\n",
        "                 metrics=['accuracy', 'binary_crossentropy'])\n",
        "\n",
        "l2_model_history = l2_model.fit(train_data, train_labels.reshape(-1, 1),\n",
        "                                epochs=20,\n",
        "                                batch_size=512,\n",
        "                                validation_data=(test_data, test_labels.reshape(-1, 1)),\n",
        "                                verbose=2)"
      ]
    },
    {
      "cell_type": "code",
      "execution_count": 67,
      "metadata": {
        "colab": {
          "base_uri": "https://localhost:8080/",
          "height": 409
        },
        "id": "LDM6QaYy57HB",
        "outputId": "0cd9c6ba-a060-4fff-9a42-f66351f22b79"
      },
      "outputs": [
        {
          "data": {
            "image/png": "[encoded data removed]",
            "text/plain": [
              "<Figure size 1152x720 with 1 Axes>"
            ]
          },
          "metadata": {
            "needs_background": "light"
          },
          "output_type": "display_data"
        }
      ],
      "source": [
        "plot_history([('baseline', baseline_history),\n",
        "              ('bigger', bigger_history),\n",
        "              ('l2 bigger', l2_model_history)])"
      ]
    },
    {
      "cell_type": "markdown",
      "metadata": {
        "id": "rJaB1kZ_h2Nt"
      },
      "source": [
        "### batch normalization"
      ]
    },
    {
      "cell_type": "code",
      "execution_count": 68,
      "metadata": {
        "colab": {
          "base_uri": "https://localhost:8080/"
        },
        "id": "yz7T0dTvh1Lt",
        "outputId": "0181b834-5f71-49dd-b859-71d85b013dca"
      },
      "outputs": [
        {
          "name": "stdout",
          "output_type": "stream",
          "text": [
            "Model: \"sequential_11\"\n",
            "_________________________________________________________________\n",
            " Layer (type)                Output Shape              Param #   \n",
            "=================================================================\n",
            " flatten_3 (Flatten)         (None, 784)               0         \n",
            "                                                                 \n",
            " dense_38 (Dense)            (None, 64)                50240     \n",
            "                                                                 \n",
            " dense_39 (Dense)            (None, 32)                2080      \n",
            "                                                                 \n",
            " dense_40 (Dense)            (None, 10)                330       \n",
            "                                                                 \n",
            "=================================================================\n",
            "Total params: 52,650\n",
            "Trainable params: 52,650\n",
            "Non-trainable params: 0\n",
            "_________________________________________________________________\n"
          ]
        }
      ],
      "source": [
        "# Model A: Dense + ReLU\n",
        "model_a = tf.keras.Sequential([\n",
        "    tf.keras.layers.Flatten(input_shape=(28, 28)),\n",
        "    tf.keras.layers.Dense(64, activation='relu'),\n",
        "    tf.keras.layers.Dense(32, activation='relu'),\n",
        "    tf.keras.layers.Dense(10, activation='softmax'),\n",
        "])\n",
        "model_a.summary()"
      ]
    },
    {
      "cell_type": "code",
      "execution_count": 69,
      "metadata": {
        "colab": {
          "base_uri": "https://localhost:8080/"
        },
        "id": "tH93X7zliEXc",
        "outputId": "fc5e92d7-22c9-4264-e9c3-53bf9e048646"
      },
      "outputs": [
        {
          "name": "stdout",
          "output_type": "stream",
          "text": [
            "Model: \"sequential_12\"\n",
            "_________________________________________________________________\n",
            " Layer (type)                Output Shape              Param #   \n",
            "=================================================================\n",
            " flatten_4 (Flatten)         (None, 784)               0         \n",
            "                                                                 \n",
            " dense_41 (Dense)            (None, 64)                50240     \n",
            "                                                                 \n",
            " batch_normalization (BatchN  (None, 64)               256       \n",
            " ormalization)                                                   \n",
            "                                                                 \n",
            " activation (Activation)     (None, 64)                0         \n",
            "                                                                 \n",
            " dense_42 (Dense)            (None, 32)                2080      \n",
            "                                                                 \n",
            " batch_normalization_1 (Batc  (None, 32)               128       \n",
            " hNormalization)                                                 \n",
            "                                                                 \n",
            " activation_1 (Activation)   (None, 32)                0         \n",
            "                                                                 \n",
            " dense_43 (Dense)            (None, 10)                330       \n",
            "                                                                 \n",
            "=================================================================\n",
            "Total params: 53,034\n",
            "Trainable params: 52,842\n",
            "Non-trainable params: 192\n",
            "_________________________________________________________________\n"
          ]
        }
      ],
      "source": [
        "# Model B: Dense + BatchNorm + ReLU\n",
        "model_b = tf.keras.Sequential([\n",
        "    tf.keras.layers.Flatten(input_shape=(28, 28)),\n",
        "    tf.keras.layers.Dense(64),\n",
        "    # 배치정규화 적용\n",
        "    tf.keras.layers.BatchNormalization(),\n",
        "    # 배치정규화 후 활성화 함수 적용\n",
        "    tf.keras.layers.Activation('relu'),\n",
        "\n",
        "    tf.keras.layers.Dense(32),\n",
        "    # 배치정규화 적용\n",
        "    tf.keras.layers.BatchNormalization(),\n",
        "    # 배치정규화 후 활성화 함수 적용\n",
        "    tf.keras.layers.Activation('relu'),\n",
        "\n",
        "    tf.keras.layers.Dense(10, activation='softmax'),\n",
        "])\n",
        "model_b.summary()"
      ]
    },
    {
      "cell_type": "markdown",
      "metadata": {
        "id": "Z1-IYbWpiHAL"
      },
      "source": [
        "### Activation Functions"
      ]
    },
    {
      "cell_type": "code",
      "execution_count": 70,
      "metadata": {
        "colab": {
          "base_uri": "https://localhost:8080/"
        },
        "id": "cXyhNnyAj1rv",
        "outputId": "f582c55e-5158-4557-fd1b-0f3cd6f5668c"
      },
      "outputs": [
        {
          "data": {
            "text/plain": [
              "<keras.layers.advanced_activations.PReLU at 0x7fed9e73a1d0>"
            ]
          },
          "execution_count": 70,
          "metadata": {},
          "output_type": "execute_result"
        }
      ],
      "source": [
        "tf.keras.layers.Softmax()\n",
        "tf.keras.layers.ReLU()\n",
        "tf.keras.layers.LeakyReLU()\n",
        "tf.keras.layers.PReLU()"
      ]
    },
    {
      "cell_type": "code",
      "execution_count": 71,
      "metadata": {
        "colab": {
          "base_uri": "https://localhost:8080/"
        },
        "id": "r4Roc31JiJh0",
        "outputId": "41ade963-68c9-4b5f-e260-79b30d8a0465"
      },
      "outputs": [
        {
          "data": {
            "text/plain": [
              "<keras.layers.advanced_activations.LeakyReLU at 0x7fed9e7c4a10>"
            ]
          },
          "execution_count": 71,
          "metadata": {},
          "output_type": "execute_result"
        }
      ],
      "source": [
        "# LeakyReLU 기본 설정\n",
        "tf.keras.layers.LeakyReLU()\n",
        "\n",
        "# LeakyReLU, alpha=0.2 로 변경\n",
        "tf.keras.layers.LeakyReLU(alpha=0.2)"
      ]
    },
    {
      "cell_type": "code",
      "execution_count": 72,
      "metadata": {
        "colab": {
          "base_uri": "https://localhost:8080/"
        },
        "id": "z2SNYoCpiMBe",
        "outputId": "20476740-edd7-4e85-819b-4145ffe455c0"
      },
      "outputs": [
        {
          "name": "stdout",
          "output_type": "stream",
          "text": [
            "Model: \"sequential_13\"\n",
            "_________________________________________________________________\n",
            " Layer (type)                Output Shape              Param #   \n",
            "=================================================================\n",
            " flatten_5 (Flatten)         (None, 784)               0         \n",
            "                                                                 \n",
            " dense_44 (Dense)            (None, 64)                50240     \n",
            "                                                                 \n",
            " batch_normalization_2 (Batc  (None, 64)               256       \n",
            " hNormalization)                                                 \n",
            "                                                                 \n",
            " leaky_re_lu_3 (LeakyReLU)   (None, 64)                0         \n",
            "                                                                 \n",
            " dense_45 (Dense)            (None, 32)                2080      \n",
            "                                                                 \n",
            " batch_normalization_3 (Batc  (None, 32)               128       \n",
            " hNormalization)                                                 \n",
            "                                                                 \n",
            " leaky_re_lu_4 (LeakyReLU)   (None, 32)                0         \n",
            "                                                                 \n",
            " dense_46 (Dense)            (None, 10)                330       \n",
            "                                                                 \n",
            "=================================================================\n",
            "Total params: 53,034\n",
            "Trainable params: 52,842\n",
            "Non-trainable params: 192\n",
            "_________________________________________________________________\n"
          ]
        }
      ],
      "source": [
        "# Model C: Dense + BatchNorm + LeakyReLU(0.2)\n",
        "model_c = tf.keras.Sequential([\n",
        "    tf.keras.layers.Flatten(input_shape=(28, 28)),\n",
        "    tf.keras.layers.Dense(64),\n",
        "    # 배치정규화 적용\n",
        "    tf.keras.layers.BatchNormalization(),\n",
        "    # LeakyReLU, alpha=0.2 적용\n",
        "    tf.keras.layers.LeakyReLU(alpha=0.2),\n",
        "\n",
        "    tf.keras.layers.Dense(32),\n",
        "    # 배치정규화 적용\n",
        "    tf.keras.layers.BatchNormalization(),\n",
        "    # LeakyReLU, alpha=0.2 적용\n",
        "    tf.keras.layers.LeakyReLU(alpha=0.2),\n",
        "\n",
        "    tf.keras.layers.Dense(10, activation='softmax'),\n",
        "])\n",
        "\n",
        "# 모델 요약\n",
        "model_c.summary()"
      ]
    },
    {
      "cell_type": "markdown",
      "metadata": {
        "id": "MmwyEsSiiSm3"
      },
      "source": [
        "#### 비교"
      ]
    },
    {
      "cell_type": "code",
      "execution_count": 73,
      "metadata": {
        "id": "v-_28yBUiQjG"
      },
      "outputs": [],
      "source": [
        "model_a.compile(optimizer='adam', loss='sparse_categorical_crossentropy', metrics=['accuracy'])\n",
        "model_b.compile(optimizer='adam', loss='sparse_categorical_crossentropy', metrics=['accuracy'])\n",
        "model_c.compile(optimizer='adam', loss='sparse_categorical_crossentropy', metrics=['accuracy'])"
      ]
    },
    {
      "cell_type": "code",
      "execution_count": 74,
      "metadata": {
        "colab": {
          "base_uri": "https://localhost:8080/"
        },
        "id": "VO9BtX0JiXAG",
        "outputId": "5c70ea3f-4512-4d14-ac6e-a5f4afe94fb2"
      },
      "outputs": [
        {
          "name": "stdout",
          "output_type": "stream",
          "text": [
            "Epoch 1/10\n",
            "1875/1875 [==============================] - 8s 4ms/step - loss: 0.2901 - accuracy: 0.9162 - val_loss: 0.1516 - val_accuracy: 0.9567\n",
            "Epoch 2/10\n",
            "1875/1875 [==============================] - 6s 3ms/step - loss: 0.1305 - accuracy: 0.9615 - val_loss: 0.1155 - val_accuracy: 0.9659\n",
            "Epoch 3/10\n",
            "1875/1875 [==============================] - 6s 3ms/step - loss: 0.0967 - accuracy: 0.9711 - val_loss: 0.0973 - val_accuracy: 0.9689\n",
            "Epoch 4/10\n",
            "1875/1875 [==============================] - 6s 3ms/step - loss: 0.0763 - accuracy: 0.9770 - val_loss: 0.1019 - val_accuracy: 0.9687\n",
            "Epoch 5/10\n",
            "1875/1875 [==============================] - 6s 3ms/step - loss: 0.0647 - accuracy: 0.9795 - val_loss: 0.0903 - val_accuracy: 0.9709\n",
            "Epoch 6/10\n",
            "1875/1875 [==============================] - 6s 3ms/step - loss: 0.0547 - accuracy: 0.9829 - val_loss: 0.0943 - val_accuracy: 0.9710\n",
            "Epoch 7/10\n",
            "1875/1875 [==============================] - 6s 3ms/step - loss: 0.0463 - accuracy: 0.9857 - val_loss: 0.0903 - val_accuracy: 0.9735\n",
            "Epoch 8/10\n",
            "1875/1875 [==============================] - 6s 3ms/step - loss: 0.0409 - accuracy: 0.9866 - val_loss: 0.0907 - val_accuracy: 0.9736\n",
            "Epoch 9/10\n",
            "1875/1875 [==============================] - 6s 3ms/step - loss: 0.0361 - accuracy: 0.9882 - val_loss: 0.1012 - val_accuracy: 0.9720\n",
            "Epoch 10/10\n",
            "1875/1875 [==============================] - 6s 3ms/step - loss: 0.0312 - accuracy: 0.9901 - val_loss: 0.1139 - val_accuracy: 0.9724\n",
            "Epoch 1/10\n",
            "1875/1875 [==============================] - 8s 4ms/step - loss: 0.3098 - accuracy: 0.9141 - val_loss: 0.1368 - val_accuracy: 0.9585\n",
            "Epoch 2/10\n",
            "1875/1875 [==============================] - 8s 4ms/step - loss: 0.1379 - accuracy: 0.9586 - val_loss: 0.0925 - val_accuracy: 0.9698\n",
            "Epoch 3/10\n",
            "1875/1875 [==============================] - 8s 4ms/step - loss: 0.1092 - accuracy: 0.9660 - val_loss: 0.0966 - val_accuracy: 0.9704\n",
            "Epoch 4/10\n",
            "1875/1875 [==============================] - 8s 4ms/step - loss: 0.0932 - accuracy: 0.9705 - val_loss: 0.0827 - val_accuracy: 0.9752\n",
            "Epoch 5/10\n",
            "1875/1875 [==============================] - 8s 4ms/step - loss: 0.0812 - accuracy: 0.9739 - val_loss: 0.0774 - val_accuracy: 0.9748\n",
            "Epoch 6/10\n",
            "1875/1875 [==============================] - 7s 4ms/step - loss: 0.0738 - accuracy: 0.9759 - val_loss: 0.0760 - val_accuracy: 0.9753\n",
            "Epoch 7/10\n",
            "1875/1875 [==============================] - 8s 4ms/step - loss: 0.0667 - accuracy: 0.9784 - val_loss: 0.0749 - val_accuracy: 0.9773\n",
            "Epoch 8/10\n",
            "1875/1875 [==============================] - 7s 4ms/step - loss: 0.0605 - accuracy: 0.9805 - val_loss: 0.0771 - val_accuracy: 0.9752\n",
            "Epoch 9/10\n",
            "1875/1875 [==============================] - 7s 4ms/step - loss: 0.0580 - accuracy: 0.9807 - val_loss: 0.0740 - val_accuracy: 0.9770\n",
            "Epoch 10/10\n",
            "1875/1875 [==============================] - 7s 4ms/step - loss: 0.0548 - accuracy: 0.9819 - val_loss: 0.0706 - val_accuracy: 0.9776\n",
            "Epoch 1/10\n",
            "1875/1875 [==============================] - 8s 4ms/step - loss: 0.3235 - accuracy: 0.9116 - val_loss: 0.1434 - val_accuracy: 0.9581\n",
            "Epoch 2/10\n",
            "1875/1875 [==============================] - 7s 4ms/step - loss: 0.1582 - accuracy: 0.9522 - val_loss: 0.1188 - val_accuracy: 0.9632\n",
            "Epoch 3/10\n",
            "1875/1875 [==============================] - 7s 4ms/step - loss: 0.1255 - accuracy: 0.9609 - val_loss: 0.0969 - val_accuracy: 0.9683\n",
            "Epoch 4/10\n",
            "1875/1875 [==============================] - 7s 4ms/step - loss: 0.1060 - accuracy: 0.9662 - val_loss: 0.0903 - val_accuracy: 0.9720\n",
            "Epoch 5/10\n",
            "1875/1875 [==============================] - 7s 4ms/step - loss: 0.0941 - accuracy: 0.9704 - val_loss: 0.0816 - val_accuracy: 0.9733\n",
            "Epoch 6/10\n",
            "1875/1875 [==============================] - 7s 4ms/step - loss: 0.0845 - accuracy: 0.9728 - val_loss: 0.0887 - val_accuracy: 0.9722\n",
            "Epoch 7/10\n",
            "1875/1875 [==============================] - 7s 4ms/step - loss: 0.0785 - accuracy: 0.9745 - val_loss: 0.0922 - val_accuracy: 0.9718\n",
            "Epoch 8/10\n",
            "1875/1875 [==============================] - 7s 4ms/step - loss: 0.0741 - accuracy: 0.9760 - val_loss: 0.0895 - val_accuracy: 0.9727\n",
            "Epoch 9/10\n",
            "1875/1875 [==============================] - 7s 4ms/step - loss: 0.0669 - accuracy: 0.9787 - val_loss: 0.0811 - val_accuracy: 0.9748\n",
            "Epoch 10/10\n",
            "1875/1875 [==============================] - 7s 4ms/step - loss: 0.0643 - accuracy: 0.9790 - val_loss: 0.0798 - val_accuracy: 0.9760\n"
          ]
        }
      ],
      "source": [
        "# Model A: Dense + ReLU\n",
        "history_a = model_a.fit(x_train, y_train, \n",
        "                        validation_data=(x_test, y_test), \n",
        "                        epochs=10)\n",
        "\n",
        "# Model B: Dense + BatchNorm + ReLU\n",
        "history_b = model_b.fit(x_train, y_train, \n",
        "                        validation_data=(x_test, y_test), \n",
        "                        epochs=10)\n",
        "\n",
        "# Model C: Dense + BatchNorm + LeakyReLU(0.2)\n",
        "history_c = model_c.fit(x_train, y_train, \n",
        "                        validation_data=(x_test, y_test), \n",
        "                        epochs=10)"
      ]
    },
    {
      "cell_type": "code",
      "execution_count": 75,
      "metadata": {
        "colab": {
          "base_uri": "https://localhost:8080/",
          "height": 496
        },
        "id": "2xpbDYc2iZSo",
        "outputId": "42549f71-51b4-493a-8a4f-b20eb3b66ec3"
      },
      "outputs": [
        {
          "data": {
            "image/png": "[encoded data removed]",
            "text/plain": [
              "<Figure size 864x648 with 1 Axes>"
            ]
          },
          "metadata": {
            "needs_background": "light"
          },
          "output_type": "display_data"
        }
      ],
      "source": [
        "import matplotlib.pyplot as plt\n",
        "import numpy as np\n",
        "\n",
        "plt.figure(figsize=(12, 9))\n",
        "plt.plot(np.arange(1, 11), history_a.history['val_loss'], color='navy', linestyle=':')\n",
        "plt.plot(np.arange(1, 11), history_b.history['val_loss'], color='tomato', linestyle='-.')\n",
        "plt.plot(np.arange(1, 11), history_c.history['val_loss'], color='green', linestyle='-')\n",
        "\n",
        "plt.title('Losses', fontsize=20)\n",
        "plt.xlabel('Epochs')\n",
        "plt.ylabel('Losses')\n",
        "plt.legend(['ReLU', 'BatchNorm + ReLU','batchnorm + LeakyReLU'], fontsize=12)\n",
        "plt.show()"
      ]
    },
    {
      "cell_type": "markdown",
      "metadata": {
        "id": "6t0_Zfesm9sK"
      },
      "source": [
        "### Early Stopping"
      ]
    },
    {
      "cell_type": "code",
      "execution_count": 76,
      "metadata": {
        "id": "q8gVL4fTnAdc"
      },
      "outputs": [],
      "source": [
        "model = tf.keras.Sequential([\n",
        "    tf.keras.layers.Flatten(input_shape=(28, 28)), \n",
        "    tf.keras.layers.Dense(256, activation='relu'), \n",
        "    tf.keras.layers.Dense(64, activation='relu'), \n",
        "    tf.keras.layers.Dense(32, activation='relu'), \n",
        "    tf.keras.layers.Dense(10, activation='softmax'), # 노드 10개로 생성\n",
        "])\n",
        "\n",
        "model.compile(optimizer='adam', loss='sparse_categorical_crossentropy', metrics=['accuracy'])"
      ]
    },
    {
      "cell_type": "code",
      "execution_count": 77,
      "metadata": {
        "id": "cxv9bS1SnDcz"
      },
      "outputs": [],
      "source": [
        "# EarlyStopping 콜백 생성\n",
        "earlystopping = tf.keras.callbacks.EarlyStopping(monitor='val_loss', patience=10)"
      ]
    },
    {
      "cell_type": "code",
      "execution_count": 78,
      "metadata": {
        "colab": {
          "base_uri": "https://localhost:8080/"
        },
        "id": "r7TilVannGBH",
        "outputId": "104225b5-ec9f-4f71-9230-054b8de95139"
      },
      "outputs": [
        {
          "name": "stdout",
          "output_type": "stream",
          "text": [
            "Epoch 1/50\n",
            "1875/1875 [==============================] - 10s 5ms/step - loss: 0.2276 - accuracy: 0.9329 - val_loss: 0.1239 - val_accuracy: 0.9611\n",
            "Epoch 2/50\n",
            "1875/1875 [==============================] - 9s 5ms/step - loss: 0.0937 - accuracy: 0.9711 - val_loss: 0.0875 - val_accuracy: 0.9731\n",
            "Epoch 3/50\n",
            "1875/1875 [==============================] - 9s 5ms/step - loss: 0.0655 - accuracy: 0.9795 - val_loss: 0.0825 - val_accuracy: 0.9749\n",
            "Epoch 4/50\n",
            "1875/1875 [==============================] - 9s 5ms/step - loss: 0.0492 - accuracy: 0.9846 - val_loss: 0.0686 - val_accuracy: 0.9789\n",
            "Epoch 5/50\n",
            "1875/1875 [==============================] - 9s 5ms/step - loss: 0.0388 - accuracy: 0.9879 - val_loss: 0.0776 - val_accuracy: 0.9782\n",
            "Epoch 6/50\n",
            "1875/1875 [==============================] - 10s 5ms/step - loss: 0.0328 - accuracy: 0.9895 - val_loss: 0.0792 - val_accuracy: 0.9772\n",
            "Epoch 7/50\n",
            "1875/1875 [==============================] - 10s 6ms/step - loss: 0.0273 - accuracy: 0.9909 - val_loss: 0.1052 - val_accuracy: 0.9733\n",
            "Epoch 8/50\n",
            "1875/1875 [==============================] - 9s 5ms/step - loss: 0.0258 - accuracy: 0.9911 - val_loss: 0.0891 - val_accuracy: 0.9782\n",
            "Epoch 9/50\n",
            "1875/1875 [==============================] - 9s 5ms/step - loss: 0.0211 - accuracy: 0.9934 - val_loss: 0.0991 - val_accuracy: 0.9780\n",
            "Epoch 10/50\n",
            "1875/1875 [==============================] - 9s 5ms/step - loss: 0.0178 - accuracy: 0.9942 - val_loss: 0.1066 - val_accuracy: 0.9764\n",
            "Epoch 11/50\n",
            "1875/1875 [==============================] - 9s 5ms/step - loss: 0.0177 - accuracy: 0.9944 - val_loss: 0.1005 - val_accuracy: 0.9784\n",
            "Epoch 12/50\n",
            "1875/1875 [==============================] - 9s 5ms/step - loss: 0.0152 - accuracy: 0.9949 - val_loss: 0.0939 - val_accuracy: 0.9811\n",
            "Epoch 13/50\n",
            "1875/1875 [==============================] - 9s 5ms/step - loss: 0.0160 - accuracy: 0.9948 - val_loss: 0.0915 - val_accuracy: 0.9804\n",
            "Epoch 14/50\n",
            "1875/1875 [==============================] - 10s 5ms/step - loss: 0.0137 - accuracy: 0.9956 - val_loss: 0.0972 - val_accuracy: 0.9822\n"
          ]
        }
      ],
      "source": [
        "hist = model.fit(x_train, y_train, \n",
        "          validation_data=(x_test, y_test), \n",
        "          epochs=50, \n",
        "          callbacks=[earlystopping]\n",
        "          )"
      ]
    },
    {
      "cell_type": "code",
      "execution_count": 79,
      "metadata": {
        "id": "ytHFow4HqdAn"
      },
      "outputs": [],
      "source": [
        "model2 = tf.keras.Sequential([\n",
        "    tf.keras.layers.Flatten(input_shape=(28, 28)), \n",
        "    tf.keras.layers.Dense(256, activation='relu'), \n",
        "    tf.keras.layers.Dense(64, activation='relu'), \n",
        "    tf.keras.layers.Dense(32, activation='relu'), \n",
        "    tf.keras.layers.Dense(10, activation='softmax'), # 노드 10개로 생성\n",
        "])\n",
        "\n",
        "model2.compile(optimizer='adam', loss='sparse_categorical_crossentropy', metrics=['accuracy'])"
      ]
    },
    {
      "cell_type": "code",
      "execution_count": 80,
      "metadata": {
        "colab": {
          "base_uri": "https://localhost:8080/"
        },
        "id": "jaEcaCTaoQ8B",
        "outputId": "5836c8f3-46af-4329-da8d-2b9352ddbdfa"
      },
      "outputs": [
        {
          "name": "stdout",
          "output_type": "stream",
          "text": [
            "Epoch 1/50\n",
            "1875/1875 [==============================] - 10s 5ms/step - loss: 0.2234 - accuracy: 0.9333 - val_loss: 0.1185 - val_accuracy: 0.9637\n",
            "Epoch 2/50\n",
            "1875/1875 [==============================] - 9s 5ms/step - loss: 0.0946 - accuracy: 0.9707 - val_loss: 0.0966 - val_accuracy: 0.9699\n",
            "Epoch 3/50\n",
            "1875/1875 [==============================] - 10s 5ms/step - loss: 0.0639 - accuracy: 0.9800 - val_loss: 0.0759 - val_accuracy: 0.9765\n",
            "Epoch 4/50\n",
            "1875/1875 [==============================] - 9s 5ms/step - loss: 0.0500 - accuracy: 0.9841 - val_loss: 0.0908 - val_accuracy: 0.9747\n",
            "Epoch 5/50\n",
            "1875/1875 [==============================] - 10s 5ms/step - loss: 0.0395 - accuracy: 0.9873 - val_loss: 0.0845 - val_accuracy: 0.9762\n",
            "Epoch 6/50\n",
            "1875/1875 [==============================] - 9s 5ms/step - loss: 0.0320 - accuracy: 0.9897 - val_loss: 0.0850 - val_accuracy: 0.9776\n",
            "Epoch 7/50\n",
            "1875/1875 [==============================] - 10s 5ms/step - loss: 0.0274 - accuracy: 0.9912 - val_loss: 0.0809 - val_accuracy: 0.9802\n",
            "Epoch 8/50\n",
            "1875/1875 [==============================] - 9s 5ms/step - loss: 0.0250 - accuracy: 0.9918 - val_loss: 0.0934 - val_accuracy: 0.9788\n",
            "Epoch 9/50\n",
            "1875/1875 [==============================] - 9s 5ms/step - loss: 0.0218 - accuracy: 0.9926 - val_loss: 0.0915 - val_accuracy: 0.9793\n",
            "Epoch 10/50\n",
            "1875/1875 [==============================] - 9s 5ms/step - loss: 0.0205 - accuracy: 0.9933 - val_loss: 0.0891 - val_accuracy: 0.9800\n",
            "Epoch 11/50\n",
            "1875/1875 [==============================] - 10s 5ms/step - loss: 0.0179 - accuracy: 0.9942 - val_loss: 0.1087 - val_accuracy: 0.9772\n",
            "Epoch 12/50\n",
            "1875/1875 [==============================] - 10s 5ms/step - loss: 0.0175 - accuracy: 0.9943 - val_loss: 0.0817 - val_accuracy: 0.9808\n",
            "Epoch 13/50\n",
            "1875/1875 [==============================] - 10s 5ms/step - loss: 0.0154 - accuracy: 0.9951 - val_loss: 0.0898 - val_accuracy: 0.9801\n",
            "Epoch 14/50\n",
            "1875/1875 [==============================] - 10s 6ms/step - loss: 0.0134 - accuracy: 0.9960 - val_loss: 0.0955 - val_accuracy: 0.9790\n",
            "Epoch 15/50\n",
            "1875/1875 [==============================] - 10s 5ms/step - loss: 0.0108 - accuracy: 0.9963 - val_loss: 0.1062 - val_accuracy: 0.9806\n",
            "Epoch 16/50\n",
            "1875/1875 [==============================] - 9s 5ms/step - loss: 0.0136 - accuracy: 0.9956 - val_loss: 0.1072 - val_accuracy: 0.9816\n",
            "Epoch 17/50\n",
            "1875/1875 [==============================] - 10s 5ms/step - loss: 0.0126 - accuracy: 0.9962 - val_loss: 0.0947 - val_accuracy: 0.9819\n",
            "Epoch 18/50\n",
            "1875/1875 [==============================] - 9s 5ms/step - loss: 0.0121 - accuracy: 0.9963 - val_loss: 0.1173 - val_accuracy: 0.9781\n",
            "Epoch 19/50\n",
            "1875/1875 [==============================] - 11s 6ms/step - loss: 0.0100 - accuracy: 0.9969 - val_loss: 0.1072 - val_accuracy: 0.9802\n",
            "Epoch 20/50\n",
            "1875/1875 [==============================] - 10s 5ms/step - loss: 0.0114 - accuracy: 0.9966 - val_loss: 0.1155 - val_accuracy: 0.9784\n",
            "Epoch 21/50\n",
            "1875/1875 [==============================] - 9s 5ms/step - loss: 0.0114 - accuracy: 0.9964 - val_loss: 0.1243 - val_accuracy: 0.9781\n",
            "Epoch 22/50\n",
            "1875/1875 [==============================] - 9s 5ms/step - loss: 0.0101 - accuracy: 0.9968 - val_loss: 0.1230 - val_accuracy: 0.9805\n",
            "Epoch 23/50\n",
            "1875/1875 [==============================] - 9s 5ms/step - loss: 0.0090 - accuracy: 0.9971 - val_loss: 0.1179 - val_accuracy: 0.9804\n",
            "Epoch 24/50\n",
            "1875/1875 [==============================] - 9s 5ms/step - loss: 0.0090 - accuracy: 0.9975 - val_loss: 0.1213 - val_accuracy: 0.9813\n",
            "Epoch 25/50\n",
            "1875/1875 [==============================] - 9s 5ms/step - loss: 0.0088 - accuracy: 0.9976 - val_loss: 0.1058 - val_accuracy: 0.9834\n",
            "Epoch 26/50\n",
            "1875/1875 [==============================] - 9s 5ms/step - loss: 0.0094 - accuracy: 0.9977 - val_loss: 0.1310 - val_accuracy: 0.9775\n",
            "Epoch 27/50\n",
            "1875/1875 [==============================] - 9s 5ms/step - loss: 0.0063 - accuracy: 0.9978 - val_loss: 0.1451 - val_accuracy: 0.9790\n",
            "Epoch 28/50\n",
            "1875/1875 [==============================] - 9s 5ms/step - loss: 0.0093 - accuracy: 0.9973 - val_loss: 0.1218 - val_accuracy: 0.9812\n",
            "Epoch 29/50\n",
            "1875/1875 [==============================] - 9s 5ms/step - loss: 0.0084 - accuracy: 0.9976 - val_loss: 0.1386 - val_accuracy: 0.9796\n",
            "Epoch 30/50\n",
            "1875/1875 [==============================] - 9s 5ms/step - loss: 0.0071 - accuracy: 0.9979 - val_loss: 0.1119 - val_accuracy: 0.9834\n",
            "Epoch 31/50\n",
            "1875/1875 [==============================] - 9s 5ms/step - loss: 0.0097 - accuracy: 0.9973 - val_loss: 0.1257 - val_accuracy: 0.9797\n",
            "Epoch 32/50\n",
            "1875/1875 [==============================] - 9s 5ms/step - loss: 0.0063 - accuracy: 0.9981 - val_loss: 0.1168 - val_accuracy: 0.9826\n",
            "Epoch 33/50\n",
            "1875/1875 [==============================] - 9s 5ms/step - loss: 0.0104 - accuracy: 0.9967 - val_loss: 0.1431 - val_accuracy: 0.9784\n",
            "Epoch 34/50\n",
            "1875/1875 [==============================] - 10s 5ms/step - loss: 0.0051 - accuracy: 0.9984 - val_loss: 0.1362 - val_accuracy: 0.9804\n",
            "Epoch 35/50\n",
            "1875/1875 [==============================] - 10s 5ms/step - loss: 0.0067 - accuracy: 0.9984 - val_loss: 0.1335 - val_accuracy: 0.9825\n",
            "Epoch 36/50\n",
            "1875/1875 [==============================] - 10s 5ms/step - loss: 0.0059 - accuracy: 0.9985 - val_loss: 0.1602 - val_accuracy: 0.9798\n",
            "Epoch 37/50\n",
            "1875/1875 [==============================] - 10s 5ms/step - loss: 0.0064 - accuracy: 0.9982 - val_loss: 0.1454 - val_accuracy: 0.9809\n",
            "Epoch 38/50\n",
            "1875/1875 [==============================] - 10s 5ms/step - loss: 0.0073 - accuracy: 0.9976 - val_loss: 0.1535 - val_accuracy: 0.9809\n",
            "Epoch 39/50\n",
            "1875/1875 [==============================] - 10s 5ms/step - loss: 0.0059 - accuracy: 0.9983 - val_loss: 0.1496 - val_accuracy: 0.9825\n",
            "Epoch 40/50\n",
            "1875/1875 [==============================] - 9s 5ms/step - loss: 0.0063 - accuracy: 0.9983 - val_loss: 0.1590 - val_accuracy: 0.9807\n",
            "Epoch 41/50\n",
            "1875/1875 [==============================] - 9s 5ms/step - loss: 0.0066 - accuracy: 0.9981 - val_loss: 0.1485 - val_accuracy: 0.9805\n",
            "Epoch 42/50\n",
            "1875/1875 [==============================] - 10s 5ms/step - loss: 0.0066 - accuracy: 0.9982 - val_loss: 0.1952 - val_accuracy: 0.9784\n",
            "Epoch 43/50\n",
            "1875/1875 [==============================] - 9s 5ms/step - loss: 0.0068 - accuracy: 0.9980 - val_loss: 0.1641 - val_accuracy: 0.9793\n",
            "Epoch 44/50\n",
            "1875/1875 [==============================] - 9s 5ms/step - loss: 0.0039 - accuracy: 0.9989 - val_loss: 0.1459 - val_accuracy: 0.9816\n",
            "Epoch 45/50\n",
            "1875/1875 [==============================] - 9s 5ms/step - loss: 0.0072 - accuracy: 0.9979 - val_loss: 0.1514 - val_accuracy: 0.9810\n",
            "Epoch 46/50\n",
            "1875/1875 [==============================] - 9s 5ms/step - loss: 0.0053 - accuracy: 0.9987 - val_loss: 0.1671 - val_accuracy: 0.9806\n",
            "Epoch 47/50\n",
            "1875/1875 [==============================] - 10s 5ms/step - loss: 0.0051 - accuracy: 0.9985 - val_loss: 0.1533 - val_accuracy: 0.9838\n",
            "Epoch 48/50\n",
            "1875/1875 [==============================] - 10s 5ms/step - loss: 0.0064 - accuracy: 0.9985 - val_loss: 0.1452 - val_accuracy: 0.9819\n",
            "Epoch 49/50\n",
            "1875/1875 [==============================] - 10s 5ms/step - loss: 0.0051 - accuracy: 0.9987 - val_loss: 0.1622 - val_accuracy: 0.9806\n",
            "Epoch 50/50\n",
            "1875/1875 [==============================] - 10s 5ms/step - loss: 0.0063 - accuracy: 0.9981 - val_loss: 0.1367 - val_accuracy: 0.9814\n"
          ]
        }
      ],
      "source": [
        "hist2 = model2.fit(x_train, y_train, \n",
        "          validation_data=(x_test, y_test), \n",
        "          epochs=50\n",
        "          )"
      ]
    },
    {
      "cell_type": "markdown",
      "metadata": {
        "id": "ACdR7KR2NAmX"
      },
      "source": [
        "#### 비교"
      ]
    },
    {
      "cell_type": "code",
      "execution_count": 81,
      "metadata": {
        "colab": {
          "base_uri": "https://localhost:8080/",
          "height": 496
        },
        "id": "hMmX7otDoM58",
        "outputId": "bac6ecfe-cf61-46d1-d144-380b21c66f78"
      },
      "outputs": [
        {
          "data": {
            "image/png": "[encoded data removed]",
            "text/plain": [
              "<Figure size 864x648 with 1 Axes>"
            ]
          },
          "metadata": {
            "needs_background": "light"
          },
          "output_type": "display_data"
        }
      ],
      "source": [
        "import matplotlib.pyplot as plt\n",
        "import numpy as np\n",
        "\n",
        "plt.figure(figsize=(12, 9))\n",
        "plt.plot(np.arange(1, len(hist.history['accuracy'])+1), hist.history['loss'])\n",
        "plt.plot(np.arange(1, len(hist2.history['accuracy'])+1), hist2.history['loss'])\n",
        "plt.plot(np.arange(1, len(hist.history['accuracy'])+1), hist.history['val_loss'])\n",
        "plt.plot(np.arange(1, len(hist2.history['accuracy'])+1), hist2.history['val_loss'])\n",
        "\n",
        "plt.title('Losses', fontsize=20)\n",
        "plt.xlabel('Epochs')\n",
        "plt.ylabel('Losses')\n",
        "plt.legend(['Early Stoping(Tr)', 'Normal(Tr)', 'Early Stoping(Val)', 'Normal(Val)'], fontsize=12)\n",
        "plt.show()"
      ]
    },
    {
      "cell_type": "markdown",
      "metadata": {
        "id": "6GctQsgfhMgc"
      },
      "source": [
        "#### Optimizer"
      ]
    },
    {
      "cell_type": "code",
      "execution_count": 82,
      "metadata": {
        "id": "ZFe4Iy3ehUCf"
      },
      "outputs": [],
      "source": [
        "import tensorflow as tf"
      ]
    },
    {
      "cell_type": "code",
      "execution_count": 83,
      "metadata": {
        "colab": {
          "base_uri": "https://localhost:8080/"
        },
        "id": "AZgDBYIShOO0",
        "outputId": "3d369828-a43f-46e0-d86c-4fc8ae3896bc"
      },
      "outputs": [
        {
          "data": {
            "text/plain": [
              "<keras.optimizer_v2.adam.Adam at 0x7feda723df90>"
            ]
          },
          "execution_count": 83,
          "metadata": {},
          "output_type": "execute_result"
        }
      ],
      "source": [
        "tf.keras.optimizers.SGD()\n",
        "tf.keras.optimizers.Adagrad()\n",
        "tf.keras.optimizers.RMSprop()\n",
        "tf.keras.optimizers.Adam()"
      ]
    },
    {
      "cell_type": "code",
      "execution_count": 84,
      "metadata": {
        "id": "XYpawPDpArNg"
      },
      "outputs": [],
      "source": [
        "model.compile(tf.keras.optimizers.SGD(), loss='sparse_categorical_crossentropy', metrics=['accuracy'])"
      ]
    },
    {
      "cell_type": "markdown",
      "metadata": {
        "id": "UTD5DgVRnfrm"
      },
      "source": [
        "### Learning Rate Scheduler"
      ]
    },
    {
      "cell_type": "code",
      "execution_count": 85,
      "metadata": {
        "id": "LpuZFlmLnn9S"
      },
      "outputs": [],
      "source": [
        "model = tf.keras.Sequential([\n",
        "    tf.keras.layers.Flatten(input_shape=(28, 28)), \n",
        "    tf.keras.layers.Dense(256, activation='relu'), \n",
        "    tf.keras.layers.Dense(64, activation='relu'), \n",
        "    tf.keras.layers.Dense(32, activation='relu'), \n",
        "    tf.keras.layers.Dense(10, activation='softmax'), # 노드 10개로 생성\n",
        "])"
      ]
    },
    {
      "cell_type": "code",
      "execution_count": 86,
      "metadata": {
        "id": "-iHqq1bBrasP"
      },
      "outputs": [],
      "source": [
        "# 수정 - tensorflow 2.18.0 버전에서는 학습률 스케줄러 적용시 numpy() 메서드 사용 필요\n",
        "\n",
        "def scheduler(epoch, lr):\n",
        "    # 현재 학습률을 출력하여 모니터링\n",
        "    tf.print(f'learning_rate: {lr:.5f}')\n",
        "    \n",
        "    # 첫 5 에포크 동안은 초기 학습률 유지\n",
        "    if epoch < 5:\n",
        "        return lr\n",
        "    else:\n",
        "        # 5 에포크 이후부터는 지수적으로 학습률 감소\n",
        "        # exp(-0.1)은 약 0.9의 값을 가져 매 에포크마다 학습률이 10% 감소\n",
        "        # numpy()를 호출하여 텐서를 파이썬 스칼라 값으로 변환\n",
        "        return lr * tf.math.exp(-0.1).numpy()\n",
        "\n",
        "# 콜백 객체생성 및 scheduler 함수 적용\n",
        "lr_scheduler = tf.keras.callbacks.LearningRateScheduler(scheduler)"
      ]
    },
    {
      "cell_type": "code",
      "execution_count": 87,
      "metadata": {
        "colab": {
          "base_uri": "https://localhost:8080/"
        },
        "id": "P3DJO4utre9z",
        "outputId": "417ac68d-ea8b-4a13-d60e-681baab5da96"
      },
      "outputs": [
        {
          "name": "stdout",
          "output_type": "stream",
          "text": [
            "0.01\n"
          ]
        }
      ],
      "source": [
        "model.compile(tf.keras.optimizers.SGD(), loss='sparse_categorical_crossentropy', metrics=['accuracy'])\n",
        "# 초기 학습률 확인(0.01)\n",
        "print(round(model.optimizer.learning_rate.numpy(), 5))"
      ]
    },
    {
      "cell_type": "code",
      "execution_count": 88,
      "metadata": {
        "colab": {
          "base_uri": "https://localhost:8080/"
        },
        "id": "V3j5jXbtrhFo",
        "outputId": "15dfbb54-5155-4b8f-87f2-d803d2bffe5f"
      },
      "outputs": [
        {
          "name": "stdout",
          "output_type": "stream",
          "text": [
            "learning_rate: 0.01000\n",
            "Epoch 1/10\n",
            "1875/1875 [==============================] - 9s 4ms/step - loss: 0.6354 - accuracy: 0.8212 - val_loss: 0.2893 - val_accuracy: 0.9168 - lr: 0.0100\n",
            "learning_rate: 0.01000\n",
            "Epoch 2/10\n",
            "1875/1875 [==============================] - 8s 4ms/step - loss: 0.2619 - accuracy: 0.9238 - val_loss: 0.2160 - val_accuracy: 0.9361 - lr: 0.0100\n",
            "learning_rate: 0.01000\n",
            "Epoch 3/10\n",
            "1875/1875 [==============================] - 8s 4ms/step - loss: 0.2030 - accuracy: 0.9411 - val_loss: 0.1756 - val_accuracy: 0.9477 - lr: 0.0100\n",
            "learning_rate: 0.01000\n",
            "Epoch 4/10\n",
            "1875/1875 [==============================] - 8s 4ms/step - loss: 0.1662 - accuracy: 0.9518 - val_loss: 0.1506 - val_accuracy: 0.9565 - lr: 0.0100\n",
            "learning_rate: 0.01000\n",
            "Epoch 5/10\n",
            "1875/1875 [==============================] - 8s 4ms/step - loss: 0.1398 - accuracy: 0.9590 - val_loss: 0.1372 - val_accuracy: 0.9592 - lr: 0.0100\n",
            "learning_rate: 0.01000\n",
            "Epoch 6/10\n",
            "1875/1875 [==============================] - 8s 4ms/step - loss: 0.1196 - accuracy: 0.9649 - val_loss: 0.1194 - val_accuracy: 0.9658 - lr: 0.0090\n",
            "learning_rate: 0.00905\n",
            "Epoch 7/10\n",
            "1875/1875 [==============================] - 8s 4ms/step - loss: 0.1049 - accuracy: 0.9691 - val_loss: 0.1135 - val_accuracy: 0.9657 - lr: 0.0082\n",
            "learning_rate: 0.00819\n",
            "Epoch 8/10\n",
            "1875/1875 [==============================] - 8s 4ms/step - loss: 0.0937 - accuracy: 0.9726 - val_loss: 0.1069 - val_accuracy: 0.9683 - lr: 0.0074\n",
            "learning_rate: 0.00741\n",
            "Epoch 9/10\n",
            "1875/1875 [==============================] - 8s 4ms/step - loss: 0.0843 - accuracy: 0.9757 - val_loss: 0.0986 - val_accuracy: 0.9689 - lr: 0.0067\n",
            "learning_rate: 0.00670\n",
            "Epoch 10/10\n",
            "1875/1875 [==============================] - 8s 4ms/step - loss: 0.0770 - accuracy: 0.9778 - val_loss: 0.0994 - val_accuracy: 0.9701 - lr: 0.0061\n"
          ]
        },
        {
          "data": {
            "text/plain": [
              "0.00607"
            ]
          },
          "execution_count": 88,
          "metadata": {},
          "output_type": "execute_result"
        }
      ],
      "source": [
        "model.fit(x_train, y_train, \n",
        "          validation_data=(x_test, y_test), \n",
        "          epochs=10,\n",
        "          # 학습률 스케줄러 적용\n",
        "          callbacks=[lr_scheduler]\n",
        "          )\n",
        "# 최종 학습률 스케줄러 확인\n",
        "round(model.optimizer.lr.numpy(), 5)"
      ]
    },
    {
      "cell_type": "code",
      "execution_count": 89,
      "metadata": {
        "colab": {
          "base_uri": "https://localhost:8080/"
        },
        "id": "lidRlVNdYjGo",
        "outputId": "7f5f2b4f-2521-448a-be04-8f5880263874"
      },
      "outputs": [
        {
          "data": {
            "text/plain": [
              "<keras.callbacks.ReduceLROnPlateau at 0x7feda7222e10>"
            ]
          },
          "execution_count": 89,
          "metadata": {},
          "output_type": "execute_result"
        }
      ],
      "source": [
        "tf.keras.callbacks.ReduceLROnPlateau()"
      ]
    },
    {
      "cell_type": "markdown",
      "metadata": {
        "id": "eyg18mJcMGDy"
      },
      "source": [
        "### Model Checkpoint"
      ]
    },
    {
      "cell_type": "code",
      "execution_count": 90,
      "metadata": {
        "id": "ewtcb1VIMZe2"
      },
      "outputs": [],
      "source": [
        "model = tf.keras.Sequential([\n",
        "    tf.keras.layers.Flatten(input_shape=(28, 28)), \n",
        "    tf.keras.layers.Dense(256, activation='relu'), \n",
        "    tf.keras.layers.Dense(64, activation='relu'), \n",
        "    tf.keras.layers.Dense(32, activation='relu'), \n",
        "    tf.keras.layers.Dense(10, activation='softmax'), # 노드 10개로 생성\n",
        "])"
      ]
    },
    {
      "cell_type": "code",
      "execution_count": 91,
      "metadata": {
        "id": "Z2ayrxBfMbM4"
      },
      "outputs": [],
      "source": [
        "model.compile(optimizer='adam', loss='sparse_categorical_crossentropy', metrics=['accuracy'])"
      ]
    },
    {
      "cell_type": "code",
      "execution_count": 92,
      "metadata": {
        "id": "xosPfMk5MedE"
      },
      "outputs": [],
      "source": [
        "# 2025/05/05 수정 - tensorflow 2.18.0 버전에서는 모델 체크포인트 설정 방법이 변경됨\n",
        "\n",
        "# 체크포인트 설정\n",
        "checkpoint = tf.keras.callbacks.ModelCheckpoint(filepath='tmp_checkpoint.ckpt.weights.h5', \n",
        "                                                save_weights_only=True, \n",
        "                                                save_best_only=True, \n",
        "                                                monitor='val_loss', \n",
        "                                                verbose=1)"
      ]
    },
    {
      "cell_type": "code",
      "execution_count": 93,
      "metadata": {
        "colab": {
          "base_uri": "https://localhost:8080/"
        },
        "id": "sndyB3QSMfco",
        "outputId": "05358747-2209-496a-ea0c-47719d85e890"
      },
      "outputs": [
        {
          "name": "stdout",
          "output_type": "stream",
          "text": [
            "Epoch 1/10\n",
            "1868/1875 [============================>.] - ETA: 0s - loss: 0.2265 - accuracy: 0.9325\n",
            "Epoch 1: val_loss improved from inf to 0.11132, saving model to tmp_checkpoint.ckpt\n",
            "1875/1875 [==============================] - 10s 5ms/step - loss: 0.2262 - accuracy: 0.9326 - val_loss: 0.1113 - val_accuracy: 0.9633\n",
            "Epoch 2/10\n",
            "1867/1875 [============================>.] - ETA: 0s - loss: 0.0947 - accuracy: 0.9714\n",
            "Epoch 2: val_loss improved from 0.11132 to 0.08570, saving model to tmp_checkpoint.ckpt\n",
            "1875/1875 [==============================] - 10s 5ms/step - loss: 0.0947 - accuracy: 0.9714 - val_loss: 0.0857 - val_accuracy: 0.9735\n",
            "Epoch 3/10\n",
            "1873/1875 [============================>.] - ETA: 0s - loss: 0.0669 - accuracy: 0.9800\n",
            "Epoch 3: val_loss improved from 0.08570 to 0.07539, saving model to tmp_checkpoint.ckpt\n",
            "1875/1875 [==============================] - 10s 5ms/step - loss: 0.0671 - accuracy: 0.9799 - val_loss: 0.0754 - val_accuracy: 0.9770\n",
            "Epoch 4/10\n",
            "1869/1875 [============================>.] - ETA: 0s - loss: 0.0502 - accuracy: 0.9841\n",
            "Epoch 4: val_loss improved from 0.07539 to 0.07088, saving model to tmp_checkpoint.ckpt\n",
            "1875/1875 [==============================] - 10s 5ms/step - loss: 0.0503 - accuracy: 0.9841 - val_loss: 0.0709 - val_accuracy: 0.9802\n",
            "Epoch 5/10\n",
            "1868/1875 [============================>.] - ETA: 0s - loss: 0.0419 - accuracy: 0.9864\n",
            "Epoch 5: val_loss improved from 0.07088 to 0.06787, saving model to tmp_checkpoint.ckpt\n",
            "1875/1875 [==============================] - 10s 6ms/step - loss: 0.0419 - accuracy: 0.9864 - val_loss: 0.0679 - val_accuracy: 0.9809\n",
            "Epoch 6/10\n",
            "1869/1875 [============================>.] - ETA: 0s - loss: 0.0347 - accuracy: 0.9886\n",
            "Epoch 6: val_loss did not improve from 0.06787\n",
            "1875/1875 [==============================] - 10s 5ms/step - loss: 0.0346 - accuracy: 0.9887 - val_loss: 0.0793 - val_accuracy: 0.9782\n",
            "Epoch 7/10\n",
            "1874/1875 [============================>.] - ETA: 0s - loss: 0.0293 - accuracy: 0.9907\n",
            "Epoch 7: val_loss did not improve from 0.06787\n",
            "1875/1875 [==============================] - 9s 5ms/step - loss: 0.0293 - accuracy: 0.9907 - val_loss: 0.0771 - val_accuracy: 0.9813\n",
            "Epoch 8/10\n",
            "1869/1875 [============================>.] - ETA: 0s - loss: 0.0246 - accuracy: 0.9922\n",
            "Epoch 8: val_loss did not improve from 0.06787\n",
            "1875/1875 [==============================] - 9s 5ms/step - loss: 0.0247 - accuracy: 0.9922 - val_loss: 0.0835 - val_accuracy: 0.9787\n",
            "Epoch 9/10\n",
            "1874/1875 [============================>.] - ETA: 0s - loss: 0.0229 - accuracy: 0.9923\n",
            "Epoch 9: val_loss did not improve from 0.06787\n",
            "1875/1875 [==============================] - 9s 5ms/step - loss: 0.0229 - accuracy: 0.9923 - val_loss: 0.0895 - val_accuracy: 0.9776\n",
            "Epoch 10/10\n",
            "1870/1875 [============================>.] - ETA: 0s - loss: 0.0196 - accuracy: 0.9935\n",
            "Epoch 10: val_loss did not improve from 0.06787\n",
            "1875/1875 [==============================] - 9s 5ms/step - loss: 0.0197 - accuracy: 0.9935 - val_loss: 0.0830 - val_accuracy: 0.9795\n"
          ]
        },
        {
          "data": {
            "text/plain": [
              "<keras.callbacks.History at 0x7feda674f690>"
            ]
          },
          "execution_count": 93,
          "metadata": {},
          "output_type": "execute_result"
        }
      ],
      "source": [
        "model.fit(x_train, y_train, \n",
        "          validation_data=(x_test, y_test), \n",
        "          epochs=10, \n",
        "          callbacks=[checkpoint]\n",
        "          )"
      ]
    },
    {
      "cell_type": "code",
      "execution_count": 94,
      "metadata": {
        "colab": {
          "base_uri": "https://localhost:8080/"
        },
        "id": "-VHW_N6YMo28",
        "outputId": "c5268416-f725-4cce-eed6-300aef98d022"
      },
      "outputs": [
        {
          "name": "stdout",
          "output_type": "stream",
          "text": [
            "checkpoint  sample_data\t\t\t\t     tmp_checkpoint.ckpt.index\n",
            "model.png   tmp_checkpoint.ckpt.data-00000-of-00001\n"
          ]
        }
      ],
      "source": [
        "!ls"
      ]
    },
    {
      "cell_type": "code",
      "execution_count": 95,
      "metadata": {
        "colab": {
          "base_uri": "https://localhost:8080/"
        },
        "id": "w_N9m6CaMmsL",
        "outputId": "5fb9e3b6-9191-4177-e094-944cde38e116"
      },
      "outputs": [
        {
          "name": "stdout",
          "output_type": "stream",
          "text": [
            "313/313 [==============================] - 1s 3ms/step - loss: 0.0830 - accuracy: 0.9795\n",
            "체크포인트 로드 전: loss: 0.0830, acc: 0.9795\n"
          ]
        }
      ],
      "source": [
        "# 모델 체크포인트 로드 전\n",
        "loss, acc = model.evaluate(x_test, y_test)\n",
        "print(f'체크포인트 로드 전: loss: {loss:.4f}, acc: {acc:.4f}')\n"
      ]
    },
    {
      "cell_type": "code",
      "execution_count": 96,
      "metadata": {
        "colab": {
          "base_uri": "https://localhost:8080/"
        },
        "id": "HCq7xHC8NKC6",
        "outputId": "029016cf-4e90-4a20-a85a-c015505d135a"
      },
      "outputs": [
        {
          "name": "stdout",
          "output_type": "stream",
          "text": [
            "313/313 [==============================] - 1s 3ms/step - loss: 0.0679 - accuracy: 0.9809\n",
            "체크포인트 로드 후: loss: 0.0679, acc: 0.9809\n"
          ]
        }
      ],
      "source": [
        "# 수정 - tensorflow 2.18.0 버전에서는 모델 체크포인트 설정 방법이 변경됨\n",
        "\n",
        "# 체크포인트 파일을 모델에 로드\n",
        "model.load_weights('tmp_checkpoint.ckpt.weights.h5')\n",
        "loss, acc = model.evaluate(x_test, y_test)\n",
        "print(f'체크포인트 로드 후: loss: {loss:.4f}, acc: {acc:.4f}')"
      ]
    },
    {
      "cell_type": "markdown",
      "metadata": {
        "id": "MQIsVsaTTWcz"
      },
      "source": [
        "### Model Save & Load"
      ]
    },
    {
      "cell_type": "code",
      "execution_count": 97,
      "metadata": {
        "colab": {
          "base_uri": "https://localhost:8080/"
        },
        "id": "_VAb4JG4TdgR",
        "outputId": "e1bc5f9b-c0cb-499f-b262-5fbb50a03f22"
      },
      "outputs": [
        {
          "name": "stdout",
          "output_type": "stream",
          "text": [
            "Epoch 1/10\n",
            "1875/1875 [==============================] - 10s 5ms/step - loss: 0.2239 - accuracy: 0.9331 - val_loss: 0.1498 - val_accuracy: 0.9523\n",
            "Epoch 2/10\n",
            "1875/1875 [==============================] - 9s 5ms/step - loss: 0.0943 - accuracy: 0.9707 - val_loss: 0.1031 - val_accuracy: 0.9663\n",
            "Epoch 3/10\n",
            "1875/1875 [==============================] - 10s 6ms/step - loss: 0.0649 - accuracy: 0.9800 - val_loss: 0.0965 - val_accuracy: 0.9699\n",
            "Epoch 4/10\n",
            "1875/1875 [==============================] - 9s 5ms/step - loss: 0.0504 - accuracy: 0.9842 - val_loss: 0.0942 - val_accuracy: 0.9723\n",
            "Epoch 5/10\n",
            "1875/1875 [==============================] - 9s 5ms/step - loss: 0.0401 - accuracy: 0.9869 - val_loss: 0.0992 - val_accuracy: 0.9728\n",
            "Epoch 6/10\n",
            "1875/1875 [==============================] - 10s 5ms/step - loss: 0.0323 - accuracy: 0.9891 - val_loss: 0.0761 - val_accuracy: 0.9793\n",
            "Epoch 7/10\n",
            "1875/1875 [==============================] - 10s 5ms/step - loss: 0.0276 - accuracy: 0.9910 - val_loss: 0.1172 - val_accuracy: 0.9713\n",
            "Epoch 8/10\n",
            "1875/1875 [==============================] - 10s 5ms/step - loss: 0.0262 - accuracy: 0.9918 - val_loss: 0.0754 - val_accuracy: 0.9802\n",
            "Epoch 9/10\n",
            "1875/1875 [==============================] - 10s 5ms/step - loss: 0.0217 - accuracy: 0.9928 - val_loss: 0.1098 - val_accuracy: 0.9741\n",
            "Epoch 10/10\n",
            "1875/1875 [==============================] - 9s 5ms/step - loss: 0.0190 - accuracy: 0.9938 - val_loss: 0.0802 - val_accuracy: 0.9805\n"
          ]
        },
        {
          "data": {
            "text/plain": [
              "<keras.callbacks.History at 0x7fedace26450>"
            ]
          },
          "execution_count": 97,
          "metadata": {},
          "output_type": "execute_result"
        }
      ],
      "source": [
        "model = tf.keras.Sequential([\n",
        "    tf.keras.layers.Flatten(input_shape=(28, 28)), \n",
        "    tf.keras.layers.Dense(256, activation='relu'), \n",
        "    tf.keras.layers.Dense(64, activation='relu'), \n",
        "    tf.keras.layers.Dense(32, activation='relu'), \n",
        "    tf.keras.layers.Dense(10, activation='softmax'), # 노드는 10개가 되어야 한다.\n",
        "])\n",
        "\n",
        "model.compile(optimizer='adam', loss='sparse_categorical_crossentropy', metrics=['accuracy'])\n",
        "\n",
        "model.fit(x_train, y_train,\n",
        "            validation_data=(x_test, y_test), \n",
        "            epochs=10, \n",
        "            )"
      ]
    },
    {
      "cell_type": "code",
      "execution_count": 98,
      "metadata": {
        "colab": {
          "base_uri": "https://localhost:8080/"
        },
        "id": "2h5muFQ5TfI9",
        "outputId": "dcf54584-875d-4607-adde-d39296f542f9"
      },
      "outputs": [
        {
          "name": "stdout",
          "output_type": "stream",
          "text": [
            "Model: \"sequential_18\"\n",
            "_________________________________________________________________\n",
            " Layer (type)                Output Shape              Param #   \n",
            "=================================================================\n",
            " flatten_10 (Flatten)        (None, 784)               0         \n",
            "                                                                 \n",
            " dense_63 (Dense)            (None, 256)               200960    \n",
            "                                                                 \n",
            " dense_64 (Dense)            (None, 64)                16448     \n",
            "                                                                 \n",
            " dense_65 (Dense)            (None, 32)                2080      \n",
            "                                                                 \n",
            " dense_66 (Dense)            (None, 10)                330       \n",
            "                                                                 \n",
            "=================================================================\n",
            "Total params: 219,818\n",
            "Trainable params: 219,818\n",
            "Non-trainable params: 0\n",
            "_________________________________________________________________\n"
          ]
        }
      ],
      "source": [
        "model.summary()"
      ]
    },
    {
      "cell_type": "code",
      "execution_count": 99,
      "metadata": {
        "colab": {
          "base_uri": "https://localhost:8080/"
        },
        "id": "KK4lEyU8Thhp",
        "outputId": "82c6bcf2-c42e-47f4-986d-6a94090cd378"
      },
      "outputs": [
        {
          "name": "stdout",
          "output_type": "stream",
          "text": [
            "h5 model] loss: 0.08015, acc: 0.98050\n"
          ]
        }
      ],
      "source": [
        "# 모델 검증\n",
        "loss, acc = model.evaluate(x_test, y_test, verbose=0)\n",
        "print(f'h5 model] loss: {loss:.5f}, acc: {acc:.5f}')"
      ]
    },
    {
      "cell_type": "markdown",
      "metadata": {
        "id": "azpHM7iqTiPK"
      },
      "source": [
        "#### h5 format 저장"
      ]
    },
    {
      "cell_type": "code",
      "execution_count": 100,
      "metadata": {
        "id": "ESkEK_ywTkJV"
      },
      "outputs": [],
      "source": [
        "# 모델을 h5 포맷으로 저장\n",
        "model.save('h5-model.h5')"
      ]
    },
    {
      "cell_type": "code",
      "execution_count": 101,
      "metadata": {
        "colab": {
          "base_uri": "https://localhost:8080/"
        },
        "id": "-t2dYp0pTl_x",
        "outputId": "07c072fa-27f6-4f1f-caa6-dacfc9d8ff59"
      },
      "outputs": [
        {
          "name": "stdout",
          "output_type": "stream",
          "text": [
            "checkpoint   model.png\t  tmp_checkpoint.ckpt.data-00000-of-00001\n",
            "h5-model.h5  sample_data  tmp_checkpoint.ckpt.index\n"
          ]
        }
      ],
      "source": [
        "!ls"
      ]
    },
    {
      "cell_type": "code",
      "execution_count": 102,
      "metadata": {
        "colab": {
          "base_uri": "https://localhost:8080/"
        },
        "id": "Qpn4822vTnko",
        "outputId": "769d9f1a-6c3b-43ab-c528-e594813301ef"
      },
      "outputs": [
        {
          "name": "stdout",
          "output_type": "stream",
          "text": [
            "Model: \"sequential_18\"\n",
            "_________________________________________________________________\n",
            " Layer (type)                Output Shape              Param #   \n",
            "=================================================================\n",
            " flatten_10 (Flatten)        (None, 784)               0         \n",
            "                                                                 \n",
            " dense_63 (Dense)            (None, 256)               200960    \n",
            "                                                                 \n",
            " dense_64 (Dense)            (None, 64)                16448     \n",
            "                                                                 \n",
            " dense_65 (Dense)            (None, 32)                2080      \n",
            "                                                                 \n",
            " dense_66 (Dense)            (None, 10)                330       \n",
            "                                                                 \n",
            "=================================================================\n",
            "Total params: 219,818\n",
            "Trainable params: 219,818\n",
            "Non-trainable params: 0\n",
            "_________________________________________________________________\n"
          ]
        }
      ],
      "source": [
        "# 모델 복원\n",
        "h5_model = tf.keras.models.load_model('h5-model.h5')\n",
        "h5_model.summary()"
      ]
    },
    {
      "cell_type": "code",
      "execution_count": 103,
      "metadata": {
        "colab": {
          "base_uri": "https://localhost:8080/"
        },
        "id": "Z7_o4nLOTol0",
        "outputId": "aefb68fc-7c98-45e7-f23d-e28c838e3f5c"
      },
      "outputs": [
        {
          "name": "stdout",
          "output_type": "stream",
          "text": [
            "h5 model] loss: 0.08015, acc: 0.98050\n"
          ]
        }
      ],
      "source": [
        "# 모델 검증\n",
        "loss, acc = h5_model.evaluate(x_test, y_test, verbose=0)\n",
        "print(f'h5 model] loss: {loss:.5f}, acc: {acc:.5f}')"
      ]
    },
    {
      "cell_type": "markdown",
      "metadata": {
        "id": "ZAi2-N-XTpuA"
      },
      "source": [
        "#### SavedModel format 저장\n",
        "\n",
        "- 2025/05/05 수정 내용\n",
        "- Tensorflow > 2.18 버전에서는 새로운 model 저장 format 지원\n",
        "- .keras 사용\n",
        "- TensorFlow 2.18/Keras 3에서는 .keras 확장자가 새로운 권장 저장 형식으로, 이름 기반 저장 방식을 통해 정확성과 디버깅 용이성을 제공합니다. 파일 확장자 없이 저장하면 오류가 발생합니다."
      ]
    },
    {
      "cell_type": "code",
      "execution_count": 104,
      "metadata": {
        "colab": {
          "base_uri": "https://localhost:8080/"
        },
        "id": "jk8nsieUTsz_",
        "outputId": "87676d42-937b-4180-8f40-cfbabfb8c061"
      },
      "outputs": [
        {
          "name": "stdout",
          "output_type": "stream",
          "text": [
            "INFO:tensorflow:Assets written to: saved-model/assets\n"
          ]
        }
      ],
      "source": [
        "# 2025/05/05 수정 내용\n",
        "# TensorFlow 2.18/Keras 3에서는 .keras 확장자가 새로운 권장 저장 형식으로, 이름 기반 저장 방식을 통해 정확성과 디버깅 용이성을 제공합니다. 파일 확장자 없이 저장하면 오류가 발생합니다. \n",
        "\n",
        "# 모델을 SavedModel 포맷으로 저장\n",
        "model.save('saved-model.keras ')"
      ]
    },
    {
      "cell_type": "code",
      "execution_count": 105,
      "metadata": {
        "colab": {
          "base_uri": "https://localhost:8080/"
        },
        "id": "Zmzf2ZunTt9G",
        "outputId": "cbf7887e-cec1-4527-d01b-db40d0e5db3e"
      },
      "outputs": [
        {
          "name": "stdout",
          "output_type": "stream",
          "text": [
            "checkpoint   sample_data\t\t\t      tmp_checkpoint.ckpt.index\n",
            "h5-model.h5  saved-model\n",
            "model.png    tmp_checkpoint.ckpt.data-00000-of-00001\n"
          ]
        }
      ],
      "source": [
        "!ls"
      ]
    },
    {
      "cell_type": "code",
      "execution_count": 106,
      "metadata": {
        "colab": {
          "base_uri": "https://localhost:8080/"
        },
        "id": "_cLBEeBhTvkT",
        "outputId": "7070b06f-a813-49cb-fd9c-5fc1ea8cc81b"
      },
      "outputs": [
        {
          "name": "stdout",
          "output_type": "stream",
          "text": [
            "assets\tkeras_metadata.pb  saved_model.pb  variables\n"
          ]
        }
      ],
      "source": [
        "!ls ./saved-model.keras "
      ]
    },
    {
      "cell_type": "code",
      "execution_count": null,
      "metadata": {
        "colab": {
          "base_uri": "https://localhost:8080/"
        },
        "id": "k5F5iFSMTwjk",
        "outputId": "d258ce9f-c5dd-454f-c234-4d5b17ed2905"
      },
      "outputs": [
        {
          "ename": "",
          "evalue": "",
          "output_type": "error",
          "traceback": [
            "\u001b[1;31mRunning cells with 'Python 3.9.6' requires the ipykernel package.\n",
            "\u001b[1;31mRun the following command to install 'ipykernel' into the Python environment. \n",
            "\u001b[1;31mCommand: '/usr/bin/python3 -m pip install ipykernel -U --user --force-reinstall'"
          ]
        }
      ],
      "source": [
        "# 2025/05/05 수정 내용\n",
        "# TensorFlow 2.18/Keras 3에서는 .keras 확장자가 새로운 권장 저장 형식으로, 이름 기반 저장 방식을 통해 정확성과 디버깅 용이성을 제공합니다. 파일 확장자 없이 저장하면 오류가 발생합니다.\n",
        "# 모델 복원\n",
        "saved_model = tf.keras.models.load_model('saved-model.keras ')\n",
        "saved_model.summary()"
      ]
    },
    {
      "cell_type": "code",
      "execution_count": 108,
      "metadata": {
        "colab": {
          "base_uri": "https://localhost:8080/"
        },
        "id": "6paqf_PVTx31",
        "outputId": "707a9499-f281-46f0-98eb-387bfce5c090"
      },
      "outputs": [
        {
          "name": "stdout",
          "output_type": "stream",
          "text": [
            "[h5 model] loss: 0.08015, acc: 0.98050\n",
            "[saved_model] loss: 0.08015, acc: 0.98050\n"
          ]
        }
      ],
      "source": [
        "# 모델 검증 (HDF5 포맷)\n",
        "loss, acc = h5_model.evaluate(x_test, y_test, verbose=0)\n",
        "print(f'[h5 model] loss: {loss:.5f}, acc: {acc:.5f}')\n",
        "\n",
        "# 모델 검증 (SavedModel 포맷)\n",
        "loss, acc = saved_model.evaluate(x_test, y_test, verbose=0)\n",
        "print(f'[saved_model] loss: {loss:.5f}, acc: {acc:.5f}')"
      ]
    }
  ],
  "metadata": {
    "accelerator": "GPU",
    "colab": {
      "authorship_tag": "ABX9TyPOZ35n5juMblsHZVhKXK4m",
      "collapsed_sections": [],
      "include_colab_link": true,
      "name": "week9.ipynb",
      "provenance": [],
      "toc_visible": true
    },
    "gpuClass": "standard",
    "kernelspec": {
      "display_name": "Python 3",
      "name": "python3"
    },
    "language_info": {
      "name": "python",
      "version": "3.9.6"
    }
  },
  "nbformat": 4,
  "nbformat_minor": 0
}
